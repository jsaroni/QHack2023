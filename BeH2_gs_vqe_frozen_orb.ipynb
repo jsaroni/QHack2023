{
  "nbformat": 4,
  "nbformat_minor": 0,
  "metadata": {
    "colab": {
      "provenance": [],
      "authorship_tag": "ABX9TyMvVh/hAtHcZu7OCnFpQ9bs",
      "include_colab_link": true
    },
    "kernelspec": {
      "name": "python3",
      "display_name": "Python 3"
    },
    "language_info": {
      "name": "python"
    }
  },
  "cells": [
    {
      "cell_type": "markdown",
      "metadata": {
        "id": "view-in-github",
        "colab_type": "text"
      },
      "source": [
        "<a href=\"https://colab.research.google.com/github/jsaroni/QHack2023_Feynmanprodigies/blob/main/BeH2_gs_vqe_frozen_orb.ipynb\" target=\"_parent\"><img src=\"https://colab.research.google.com/assets/colab-badge.svg\" alt=\"Open In Colab\"/></a>"
      ]
    },
    {
      "cell_type": "code",
      "source": [
        "!pip install qiskit"
      ],
      "metadata": {
        "colab": {
          "base_uri": "https://localhost:8080/"
        },
        "id": "93l4rf1iYMJb",
        "outputId": "9b2db02a-eb18-46a6-c051-88546dd730fb"
      },
      "execution_count": 3,
      "outputs": [
        {
          "output_type": "stream",
          "name": "stdout",
          "text": [
            "Looking in indexes: https://pypi.org/simple, https://us-python.pkg.dev/colab-wheels/public/simple/\n",
            "Collecting qiskit\n",
            "  Downloading qiskit-0.41.1.tar.gz (14 kB)\n",
            "  Preparing metadata (setup.py) ... \u001b[?25l\u001b[?25hdone\n",
            "Collecting qiskit-terra==0.23.2\n",
            "  Downloading qiskit_terra-0.23.2-cp38-cp38-manylinux_2_17_x86_64.manylinux2014_x86_64.whl (5.1 MB)\n",
            "\u001b[2K     \u001b[90m━━━━━━━━━━━━━━━━━━━━━━━━━━━━━━━━━━━━━━━━\u001b[0m \u001b[32m5.1/5.1 MB\u001b[0m \u001b[31m46.1 MB/s\u001b[0m eta \u001b[36m0:00:00\u001b[0m\n",
            "\u001b[?25hCollecting qiskit-aer==0.11.2\n",
            "  Downloading qiskit_aer-0.11.2-cp38-cp38-manylinux_2_17_x86_64.manylinux2014_x86_64.whl (12.8 MB)\n",
            "\u001b[2K     \u001b[90m━━━━━━━━━━━━━━━━━━━━━━━━━━━━━━━━━━━━━━━━\u001b[0m \u001b[32m12.8/12.8 MB\u001b[0m \u001b[31m54.3 MB/s\u001b[0m eta \u001b[36m0:00:00\u001b[0m\n",
            "\u001b[?25hCollecting qiskit-ibmq-provider==0.20.1\n",
            "  Downloading qiskit_ibmq_provider-0.20.1-py3-none-any.whl (241 kB)\n",
            "\u001b[2K     \u001b[90m━━━━━━━━━━━━━━━━━━━━━━━━━━━━━━━━━━━━━━\u001b[0m \u001b[32m241.3/241.3 KB\u001b[0m \u001b[31m21.1 MB/s\u001b[0m eta \u001b[36m0:00:00\u001b[0m\n",
            "\u001b[?25hRequirement already satisfied: numpy>=1.16.3 in /usr/local/lib/python3.8/dist-packages (from qiskit-aer==0.11.2->qiskit) (1.22.4)\n",
            "Requirement already satisfied: scipy>=1.0 in /usr/local/lib/python3.8/dist-packages (from qiskit-aer==0.11.2->qiskit) (1.7.3)\n",
            "Collecting requests-ntlm~=1.1.0\n",
            "  Downloading requests_ntlm-1.1.0-py2.py3-none-any.whl (5.7 kB)\n",
            "Collecting urllib3~=1.26.0\n",
            "  Downloading urllib3-1.26.14-py2.py3-none-any.whl (140 kB)\n",
            "\u001b[2K     \u001b[90m━━━━━━━━━━━━━━━━━━━━━━━━━━━━━━━━━━━━━━\u001b[0m \u001b[32m140.6/140.6 KB\u001b[0m \u001b[31m11.4 MB/s\u001b[0m eta \u001b[36m0:00:00\u001b[0m\n",
            "\u001b[?25hCollecting websockets~=10.0\n",
            "  Downloading websockets-10.4-cp38-cp38-manylinux_2_5_x86_64.manylinux1_x86_64.manylinux_2_17_x86_64.manylinux2014_x86_64.whl (106 kB)\n",
            "\u001b[2K     \u001b[90m━━━━━━━━━━━━━━━━━━━━━━━━━━━━━━━━━━━━━━\u001b[0m \u001b[32m107.0/107.0 KB\u001b[0m \u001b[31m10.7 MB/s\u001b[0m eta \u001b[36m0:00:00\u001b[0m\n",
            "\u001b[?25hCollecting requests~=2.28.0\n",
            "  Downloading requests-2.28.2-py3-none-any.whl (62 kB)\n",
            "\u001b[2K     \u001b[90m━━━━━━━━━━━━━━━━━━━━━━━━━━━━━━━━━━━━━━━━\u001b[0m \u001b[32m62.8/62.8 KB\u001b[0m \u001b[31m6.4 MB/s\u001b[0m eta \u001b[36m0:00:00\u001b[0m\n",
            "\u001b[?25hRequirement already satisfied: python-dateutil~=2.8.0 in /usr/local/lib/python3.8/dist-packages (from qiskit-ibmq-provider==0.20.1->qiskit) (2.8.2)\n",
            "Collecting websocket-client~=1.5.1\n",
            "  Downloading websocket_client-1.5.1-py3-none-any.whl (55 kB)\n",
            "\u001b[2K     \u001b[90m━━━━━━━━━━━━━━━━━━━━━━━━━━━━━━━━━━━━━━━━\u001b[0m \u001b[32m55.9/55.9 KB\u001b[0m \u001b[31m5.5 MB/s\u001b[0m eta \u001b[36m0:00:00\u001b[0m\n",
            "\u001b[?25hCollecting symengine>=0.9\n",
            "  Downloading symengine-0.9.2-cp38-cp38-manylinux2010_x86_64.whl (37.5 MB)\n",
            "\u001b[2K     \u001b[90m━━━━━━━━━━━━━━━━━━━━━━━━━━━━━━━━━━━━━━━━\u001b[0m \u001b[32m37.5/37.5 MB\u001b[0m \u001b[31m13.4 MB/s\u001b[0m eta \u001b[36m0:00:00\u001b[0m\n",
            "\u001b[?25hCollecting ply>=3.10\n",
            "  Downloading ply-3.11-py2.py3-none-any.whl (49 kB)\n",
            "\u001b[2K     \u001b[90m━━━━━━━━━━━━━━━━━━━━━━━━━━━━━━━━━━━━━━━━\u001b[0m \u001b[32m49.6/49.6 KB\u001b[0m \u001b[31m6.2 MB/s\u001b[0m eta \u001b[36m0:00:00\u001b[0m\n",
            "\u001b[?25hRequirement already satisfied: psutil>=5 in /usr/local/lib/python3.8/dist-packages (from qiskit-terra==0.23.2->qiskit) (5.4.8)\n",
            "Requirement already satisfied: sympy>=1.3 in /usr/local/lib/python3.8/dist-packages (from qiskit-terra==0.23.2->qiskit) (1.7.1)\n",
            "Requirement already satisfied: dill>=0.3 in /usr/local/lib/python3.8/dist-packages (from qiskit-terra==0.23.2->qiskit) (0.3.6)\n",
            "Collecting rustworkx>=0.12.0\n",
            "  Downloading rustworkx-0.12.1-cp38-cp38-manylinux_2_17_x86_64.manylinux2014_x86_64.whl (1.9 MB)\n",
            "\u001b[2K     \u001b[90m━━━━━━━━━━━━━━━━━━━━━━━━━━━━━━━━━━━━━━━━\u001b[0m \u001b[32m1.9/1.9 MB\u001b[0m \u001b[31m59.3 MB/s\u001b[0m eta \u001b[36m0:00:00\u001b[0m\n",
            "\u001b[?25hCollecting stevedore>=3.0.0\n",
            "  Downloading stevedore-5.0.0-py3-none-any.whl (49 kB)\n",
            "\u001b[2K     \u001b[90m━━━━━━━━━━━━━━━━━━━━━━━━━━━━━━━━━━━━━━━━\u001b[0m \u001b[32m49.6/49.6 KB\u001b[0m \u001b[31m6.1 MB/s\u001b[0m eta \u001b[36m0:00:00\u001b[0m\n",
            "\u001b[?25hRequirement already satisfied: six>=1.5 in /usr/local/lib/python3.8/dist-packages (from python-dateutil~=2.8.0->qiskit-ibmq-provider==0.20.1->qiskit) (1.15.0)\n",
            "Requirement already satisfied: idna<4,>=2.5 in /usr/local/lib/python3.8/dist-packages (from requests~=2.28.0->qiskit-ibmq-provider==0.20.1->qiskit) (2.10)\n",
            "Requirement already satisfied: certifi>=2017.4.17 in /usr/local/lib/python3.8/dist-packages (from requests~=2.28.0->qiskit-ibmq-provider==0.20.1->qiskit) (2022.12.7)\n",
            "Requirement already satisfied: charset-normalizer<4,>=2 in /usr/local/lib/python3.8/dist-packages (from requests~=2.28.0->qiskit-ibmq-provider==0.20.1->qiskit) (3.0.1)\n",
            "Collecting ntlm-auth>=1.0.2\n",
            "  Downloading ntlm_auth-1.5.0-py2.py3-none-any.whl (29 kB)\n",
            "Collecting cryptography>=1.3\n",
            "  Downloading cryptography-39.0.1-cp36-abi3-manylinux_2_28_x86_64.whl (4.2 MB)\n",
            "\u001b[2K     \u001b[90m━━━━━━━━━━━━━━━━━━━━━━━━━━━━━━━━━━━━━━━━\u001b[0m \u001b[32m4.2/4.2 MB\u001b[0m \u001b[31m63.0 MB/s\u001b[0m eta \u001b[36m0:00:00\u001b[0m\n",
            "\u001b[?25hCollecting pbr!=2.1.0,>=2.0.0\n",
            "  Downloading pbr-5.11.1-py2.py3-none-any.whl (112 kB)\n",
            "\u001b[2K     \u001b[90m━━━━━━━━━━━━━━━━━━━━━━━━━━━━━━━━━━━━━━\u001b[0m \u001b[32m112.7/112.7 KB\u001b[0m \u001b[31m10.6 MB/s\u001b[0m eta \u001b[36m0:00:00\u001b[0m\n",
            "\u001b[?25hRequirement already satisfied: mpmath>=0.19 in /usr/local/lib/python3.8/dist-packages (from sympy>=1.3->qiskit-terra==0.23.2->qiskit) (1.2.1)\n",
            "Requirement already satisfied: cffi>=1.12 in /usr/local/lib/python3.8/dist-packages (from cryptography>=1.3->requests-ntlm~=1.1.0->qiskit-ibmq-provider==0.20.1->qiskit) (1.15.1)\n",
            "Requirement already satisfied: pycparser in /usr/local/lib/python3.8/dist-packages (from cffi>=1.12->cryptography>=1.3->requests-ntlm~=1.1.0->qiskit-ibmq-provider==0.20.1->qiskit) (2.21)\n",
            "Building wheels for collected packages: qiskit\n",
            "  Building wheel for qiskit (setup.py) ... \u001b[?25l\u001b[?25hdone\n",
            "  Created wheel for qiskit: filename=qiskit-0.41.1-py3-none-any.whl size=12918 sha256=ace9a03e532d99bdb631281075cc2e1fff20b530edc2bd9d4569c7f1eaa1ea0a\n",
            "  Stored in directory: /root/.cache/pip/wheels/03/93/d3/9c1ca2a27a41ea528d1cfd431bf5354745239d7a794d2070a6\n",
            "Successfully built qiskit\n",
            "Installing collected packages: ply, websockets, websocket-client, urllib3, symengine, rustworkx, pbr, ntlm-auth, stevedore, requests, cryptography, requests-ntlm, qiskit-terra, qiskit-ibmq-provider, qiskit-aer, qiskit\n",
            "  Attempting uninstall: urllib3\n",
            "    Found existing installation: urllib3 1.24.3\n",
            "    Uninstalling urllib3-1.24.3:\n",
            "      Successfully uninstalled urllib3-1.24.3\n",
            "  Attempting uninstall: requests\n",
            "    Found existing installation: requests 2.25.1\n",
            "    Uninstalling requests-2.25.1:\n",
            "      Successfully uninstalled requests-2.25.1\n",
            "Successfully installed cryptography-39.0.1 ntlm-auth-1.5.0 pbr-5.11.1 ply-3.11 qiskit-0.41.1 qiskit-aer-0.11.2 qiskit-ibmq-provider-0.20.1 qiskit-terra-0.23.2 requests-2.28.2 requests-ntlm-1.1.0 rustworkx-0.12.1 stevedore-5.0.0 symengine-0.9.2 urllib3-1.26.14 websocket-client-1.5.1 websockets-10.4\n"
          ]
        }
      ]
    },
    {
      "cell_type": "code",
      "source": [
        "!pip install qiskit_nature"
      ],
      "metadata": {
        "colab": {
          "base_uri": "https://localhost:8080/"
        },
        "id": "o8YUa75hYrl9",
        "outputId": "61aa8931-f52a-430b-d4bb-76ac3cefa583"
      },
      "execution_count": 9,
      "outputs": [
        {
          "output_type": "stream",
          "name": "stdout",
          "text": [
            "Looking in indexes: https://pypi.org/simple, https://us-python.pkg.dev/colab-wheels/public/simple/\n",
            "Collecting qiskit_nature\n",
            "  Downloading qiskit_nature-0.5.2-py3-none-any.whl (3.8 MB)\n",
            "\u001b[2K     \u001b[90m━━━━━━━━━━━━━━━━━━━━━━━━━━━━━━━━━━━━━━━━\u001b[0m \u001b[32m3.8/3.8 MB\u001b[0m \u001b[31m34.6 MB/s\u001b[0m eta \u001b[36m0:00:00\u001b[0m\n",
            "\u001b[?25hRequirement already satisfied: qiskit-terra>=0.22.* in /usr/local/lib/python3.8/dist-packages (from qiskit_nature) (0.23.2)\n",
            "Requirement already satisfied: typing-extensions in /usr/local/lib/python3.8/dist-packages (from qiskit_nature) (4.5.0)\n",
            "Requirement already satisfied: scikit-learn>=0.20.0 in /usr/local/lib/python3.8/dist-packages (from qiskit_nature) (1.0.2)\n",
            "Requirement already satisfied: setuptools>=40.1.0 in /usr/local/lib/python3.8/dist-packages (from qiskit_nature) (57.4.0)\n",
            "Requirement already satisfied: numpy>=1.17 in /usr/local/lib/python3.8/dist-packages (from qiskit_nature) (1.22.4)\n",
            "Requirement already satisfied: scipy>=1.4 in /usr/local/lib/python3.8/dist-packages (from qiskit_nature) (1.7.3)\n",
            "Requirement already satisfied: h5py in /usr/local/lib/python3.8/dist-packages (from qiskit_nature) (3.1.0)\n",
            "Requirement already satisfied: rustworkx in /usr/local/lib/python3.8/dist-packages (from qiskit_nature) (0.12.1)\n",
            "Requirement already satisfied: psutil>=5 in /usr/local/lib/python3.8/dist-packages (from qiskit_nature) (5.4.8)\n",
            "Requirement already satisfied: symengine>=0.9 in /usr/local/lib/python3.8/dist-packages (from qiskit-terra>=0.22.*->qiskit_nature) (0.9.2)\n",
            "Requirement already satisfied: ply>=3.10 in /usr/local/lib/python3.8/dist-packages (from qiskit-terra>=0.22.*->qiskit_nature) (3.11)\n",
            "Requirement already satisfied: python-dateutil>=2.8.0 in /usr/local/lib/python3.8/dist-packages (from qiskit-terra>=0.22.*->qiskit_nature) (2.8.2)\n",
            "Requirement already satisfied: dill>=0.3 in /usr/local/lib/python3.8/dist-packages (from qiskit-terra>=0.22.*->qiskit_nature) (0.3.6)\n",
            "Requirement already satisfied: sympy>=1.3 in /usr/local/lib/python3.8/dist-packages (from qiskit-terra>=0.22.*->qiskit_nature) (1.7.1)\n",
            "Requirement already satisfied: stevedore>=3.0.0 in /usr/local/lib/python3.8/dist-packages (from qiskit-terra>=0.22.*->qiskit_nature) (5.0.0)\n",
            "Requirement already satisfied: threadpoolctl>=2.0.0 in /usr/local/lib/python3.8/dist-packages (from scikit-learn>=0.20.0->qiskit_nature) (3.1.0)\n",
            "Requirement already satisfied: joblib>=0.11 in /usr/local/lib/python3.8/dist-packages (from scikit-learn>=0.20.0->qiskit_nature) (1.2.0)\n",
            "Requirement already satisfied: six>=1.5 in /usr/local/lib/python3.8/dist-packages (from python-dateutil>=2.8.0->qiskit-terra>=0.22.*->qiskit_nature) (1.15.0)\n",
            "Requirement already satisfied: pbr!=2.1.0,>=2.0.0 in /usr/local/lib/python3.8/dist-packages (from stevedore>=3.0.0->qiskit-terra>=0.22.*->qiskit_nature) (5.11.1)\n",
            "Requirement already satisfied: mpmath>=0.19 in /usr/local/lib/python3.8/dist-packages (from sympy>=1.3->qiskit-terra>=0.22.*->qiskit_nature) (1.2.1)\n",
            "Installing collected packages: qiskit_nature\n",
            "Successfully installed qiskit_nature-0.5.2\n"
          ]
        }
      ]
    },
    {
      "cell_type": "code",
      "source": [
        "!pip install pyscf"
      ],
      "metadata": {
        "colab": {
          "base_uri": "https://localhost:8080/"
        },
        "id": "j8tZwXCwZC4C",
        "outputId": "5b74f6ed-7b9f-442a-b25f-46b6452cfcfe"
      },
      "execution_count": 17,
      "outputs": [
        {
          "output_type": "stream",
          "name": "stdout",
          "text": [
            "Looking in indexes: https://pypi.org/simple, https://us-python.pkg.dev/colab-wheels/public/simple/\n",
            "Requirement already satisfied: pyscf in /usr/local/lib/python3.8/dist-packages (2.1.1)\n",
            "Requirement already satisfied: scipy!=1.5.0,!=1.5.1 in /usr/local/lib/python3.8/dist-packages (from pyscf) (1.7.3)\n",
            "Requirement already satisfied: h5py>=2.7 in /usr/local/lib/python3.8/dist-packages (from pyscf) (3.1.0)\n",
            "Requirement already satisfied: numpy!=1.16,!=1.17,>=1.13 in /usr/local/lib/python3.8/dist-packages (from pyscf) (1.22.4)\n"
          ]
        }
      ]
    },
    {
      "cell_type": "code",
      "source": [
        "!pip install git+https://github.com/pyscf/pyscf"
      ],
      "metadata": {
        "colab": {
          "base_uri": "https://localhost:8080/"
        },
        "id": "YiZu0JgQZbQa",
        "outputId": "7f3aa342-78fe-4574-8929-961cdbb60a29"
      },
      "execution_count": 18,
      "outputs": [
        {
          "output_type": "stream",
          "name": "stdout",
          "text": [
            "Looking in indexes: https://pypi.org/simple, https://us-python.pkg.dev/colab-wheels/public/simple/\n",
            "Collecting git+https://github.com/pyscf/pyscf\n",
            "  Cloning https://github.com/pyscf/pyscf to /tmp/pip-req-build-hb_lugad\n",
            "  Running command git clone --filter=blob:none --quiet https://github.com/pyscf/pyscf /tmp/pip-req-build-hb_lugad\n",
            "  Resolved https://github.com/pyscf/pyscf to commit 8b3fef8cf18f10d430261d4a8bea21fadf19bb1f\n",
            "  Running command git submodule update --init --recursive -q\n",
            "  Preparing metadata (setup.py) ... \u001b[?25l\u001b[?25hdone\n",
            "Requirement already satisfied: numpy!=1.16,!=1.17,>=1.13 in /usr/local/lib/python3.8/dist-packages (from pyscf==2.1.1) (1.22.4)\n",
            "Requirement already satisfied: scipy!=1.5.0,!=1.5.1 in /usr/local/lib/python3.8/dist-packages (from pyscf==2.1.1) (1.7.3)\n",
            "Requirement already satisfied: h5py>=2.7 in /usr/local/lib/python3.8/dist-packages (from pyscf==2.1.1) (3.1.0)\n"
          ]
        }
      ]
    },
    {
      "cell_type": "code",
      "execution_count": 1,
      "metadata": {
        "id": "3EahR5cYWNM0"
      },
      "outputs": [],
      "source": [
        "# pylint: disable=missing-function-docstring\n",
        "import numpy as np\n",
        "np.random.seed(999999)\n",
        "p0 = np.random.random()\n",
        "target_distr = {0: p0, 1: 1-p0}"
      ]
    },
    {
      "cell_type": "code",
      "source": [
        "from qiskit import QuantumCircuit, ClassicalRegister, QuantumRegister\n",
        "def get_var_form(params):\n",
        "    qr = QuantumRegister(1, name=\"q\")\n",
        "    cr = ClassicalRegister(1, name='c')\n",
        "    qc = QuantumCircuit(qr, cr)\n",
        "    qc.u(params[0], params[1], params[2], qr[0])\n",
        "    qc.measure(qr, cr[0])\n",
        "    return qc"
      ],
      "metadata": {
        "id": "e8k91WMFYKXS"
      },
      "execution_count": 2,
      "outputs": []
    },
    {
      "cell_type": "code",
      "source": [
        "from qiskit import Aer\n",
        "backend = Aer.get_backend(\"aer_simulator\")\n",
        "\n",
        "def counts_to_distr(counts):\n",
        "    \"\"\"Convert Qiskit result counts to dict with integers as\n",
        "    keys, and pseudo-probabilities as values.\"\"\"\n",
        "    n_shots = sum(counts.values())\n",
        "    return {int(k, 2): v/n_shots for k, v in counts.items()}\n",
        "\n",
        "def objective_function(params):\n",
        "    \"\"\"Compares the output distribution of our circuit with\n",
        "    parameters `params` to the target distribution.\"\"\"\n",
        "    # Create circuit instance with paramters and simulate it\n",
        "    qc = get_var_form(params)\n",
        "    result = backend.run(qc).result()\n",
        "    # Get the counts for each measured state, and convert\n",
        "    # those counts into a probability dict\n",
        "    output_distr = counts_to_distr(result.get_counts())\n",
        "    # Calculate the cost as the distance between the output\n",
        "    # distribution and the target distribution\n",
        "    cost = sum(\n",
        "        abs(target_distr.get(i, 0) - output_distr.get(i, 0))\n",
        "        for i in range(2**qc.num_qubits)\n",
        "    )\n",
        "    return cost"
      ],
      "metadata": {
        "id": "Ik2Hx7PqYYH8"
      },
      "execution_count": 3,
      "outputs": []
    },
    {
      "cell_type": "code",
      "source": [
        "from qiskit.algorithms.optimizers import COBYLA\n",
        "optimizer = COBYLA(maxiter=500, tol=0.0001)\n",
        "\n",
        "# Create the initial parameters (noting that our\n",
        "# single qubit variational form has 3 parameters)\n",
        "params = np.random.rand(3)\n",
        "result = optimizer.minimize(\n",
        "    fun=objective_function,\n",
        "    x0=params)\n",
        "\n",
        "# Obtain the output distribution using the final parameters\n",
        "qc = get_var_form(result.x)\n",
        "counts = backend.run(qc, shots=10000).result().get_counts()\n",
        "output_distr = counts_to_distr(counts)\n",
        "\n",
        "print(\"Parameters Found:\", result.x)\n",
        "print(\"Target Distribution:\", target_distr)\n",
        "print(\"Obtained Distribution:\", output_distr)\n",
        "print(\"Cost:\", objective_function(result.x))"
      ],
      "metadata": {
        "colab": {
          "base_uri": "https://localhost:8080/"
        },
        "id": "S-UaMC4yYapa",
        "outputId": "58af909f-98be-479b-a4e5-ea6e4fd96283"
      },
      "execution_count": 4,
      "outputs": [
        {
          "output_type": "stream",
          "name": "stdout",
          "text": [
            "Parameters Found: [ 1.9420242   0.2252642  -0.27603228]\n",
            "Target Distribution: {0: 0.308979188922057, 1: 0.691020811077943}\n",
            "Obtained Distribution: {1: 0.6773, 0: 0.3227}\n",
            "Cost: 0.030479122155885996\n"
          ]
        }
      ]
    },
    {
      "cell_type": "code",
      "source": [
        "from qiskit.circuit.library import EfficientSU2\n",
        "entanglements = [\"linear\", \"full\"]\n",
        "for entanglement in entanglements:\n",
        "    form = EfficientSU2(num_qubits=4, entanglement=entanglement)\n",
        "    print(f\"{entanglement} entanglement:\")\n",
        "    # We initialize all parameters to 0 for this demonstration\n",
        "    display(form.decompose().draw(fold=-1))"
      ],
      "metadata": {
        "colab": {
          "base_uri": "https://localhost:8080/",
          "height": 349
        },
        "id": "aTZzd8-yYhvB",
        "outputId": "2748175e-6c97-42be-ae29-a57ac6f4056d"
      },
      "execution_count": 5,
      "outputs": [
        {
          "output_type": "stream",
          "name": "stdout",
          "text": [
            "linear entanglement:\n"
          ]
        },
        {
          "output_type": "display_data",
          "data": {
            "text/plain": [
              "     ┌──────────┐┌──────────┐     ┌──────────┐┌───────────┐                          ┌───────────┐┌───────────┐                          ┌───────────┐┌───────────┐                          \n",
              "q_0: ┤ Ry(θ[0]) ├┤ Rz(θ[4]) ├──■──┤ Ry(θ[8]) ├┤ Rz(θ[12]) ├───────────────────■──────┤ Ry(θ[16]) ├┤ Rz(θ[20]) ├───────────────────■──────┤ Ry(θ[24]) ├┤ Rz(θ[28]) ├──────────────────────────\n",
              "     ├──────────┤├──────────┤┌─┴─┐└──────────┘└┬──────────┤┌───────────┐    ┌─┴─┐    └───────────┘├───────────┤┌───────────┐    ┌─┴─┐    └───────────┘├───────────┤┌───────────┐             \n",
              "q_1: ┤ Ry(θ[1]) ├┤ Rz(θ[5]) ├┤ X ├─────■───────┤ Ry(θ[9]) ├┤ Rz(θ[13]) ├────┤ X ├──────────■──────┤ Ry(θ[17]) ├┤ Rz(θ[21]) ├────┤ X ├──────────■──────┤ Ry(θ[25]) ├┤ Rz(θ[29]) ├─────────────\n",
              "     ├──────────┤├──────────┤└───┘   ┌─┴─┐     └──────────┘├───────────┤┌───┴───┴───┐    ┌─┴─┐    └───────────┘├───────────┤┌───┴───┴───┐    ┌─┴─┐    └───────────┘├───────────┤┌───────────┐\n",
              "q_2: ┤ Ry(θ[2]) ├┤ Rz(θ[6]) ├────────┤ X ├──────────■──────┤ Ry(θ[10]) ├┤ Rz(θ[14]) ├────┤ X ├──────────■──────┤ Ry(θ[18]) ├┤ Rz(θ[22]) ├────┤ X ├──────────■──────┤ Ry(θ[26]) ├┤ Rz(θ[30]) ├\n",
              "     ├──────────┤├──────────┤        └───┘        ┌─┴─┐    ├───────────┤├───────────┤    └───┘        ┌─┴─┐    ├───────────┤├───────────┤    └───┘        ┌─┴─┐    ├───────────┤├───────────┤\n",
              "q_3: ┤ Ry(θ[3]) ├┤ Rz(θ[7]) ├─────────────────────┤ X ├────┤ Ry(θ[11]) ├┤ Rz(θ[15]) ├─────────────────┤ X ├────┤ Ry(θ[19]) ├┤ Rz(θ[23]) ├─────────────────┤ X ├────┤ Ry(θ[27]) ├┤ Rz(θ[31]) ├\n",
              "     └──────────┘└──────────┘                     └───┘    └───────────┘└───────────┘                 └───┘    └───────────┘└───────────┘                 └───┘    └───────────┘└───────────┘"
            ],
            "text/html": [
              "<pre style=\"word-wrap: normal;white-space: pre;background: #fff0;line-height: 1.1;font-family: &quot;Courier New&quot;,Courier,monospace\">     ┌──────────┐┌──────────┐     ┌──────────┐┌───────────┐                          ┌───────────┐┌───────────┐                          ┌───────────┐┌───────────┐                          \n",
              "q_0: ┤ Ry(θ[0]) ├┤ Rz(θ[4]) ├──■──┤ Ry(θ[8]) ├┤ Rz(θ[12]) ├───────────────────■──────┤ Ry(θ[16]) ├┤ Rz(θ[20]) ├───────────────────■──────┤ Ry(θ[24]) ├┤ Rz(θ[28]) ├──────────────────────────\n",
              "     ├──────────┤├──────────┤┌─┴─┐└──────────┘└┬──────────┤┌───────────┐    ┌─┴─┐    └───────────┘├───────────┤┌───────────┐    ┌─┴─┐    └───────────┘├───────────┤┌───────────┐             \n",
              "q_1: ┤ Ry(θ[1]) ├┤ Rz(θ[5]) ├┤ X ├─────■───────┤ Ry(θ[9]) ├┤ Rz(θ[13]) ├────┤ X ├──────────■──────┤ Ry(θ[17]) ├┤ Rz(θ[21]) ├────┤ X ├──────────■──────┤ Ry(θ[25]) ├┤ Rz(θ[29]) ├─────────────\n",
              "     ├──────────┤├──────────┤└───┘   ┌─┴─┐     └──────────┘├───────────┤┌───┴───┴───┐    ┌─┴─┐    └───────────┘├───────────┤┌───┴───┴───┐    ┌─┴─┐    └───────────┘├───────────┤┌───────────┐\n",
              "q_2: ┤ Ry(θ[2]) ├┤ Rz(θ[6]) ├────────┤ X ├──────────■──────┤ Ry(θ[10]) ├┤ Rz(θ[14]) ├────┤ X ├──────────■──────┤ Ry(θ[18]) ├┤ Rz(θ[22]) ├────┤ X ├──────────■──────┤ Ry(θ[26]) ├┤ Rz(θ[30]) ├\n",
              "     ├──────────┤├──────────┤        └───┘        ┌─┴─┐    ├───────────┤├───────────┤    └───┘        ┌─┴─┐    ├───────────┤├───────────┤    └───┘        ┌─┴─┐    ├───────────┤├───────────┤\n",
              "q_3: ┤ Ry(θ[3]) ├┤ Rz(θ[7]) ├─────────────────────┤ X ├────┤ Ry(θ[11]) ├┤ Rz(θ[15]) ├─────────────────┤ X ├────┤ Ry(θ[19]) ├┤ Rz(θ[23]) ├─────────────────┤ X ├────┤ Ry(θ[27]) ├┤ Rz(θ[31]) ├\n",
              "     └──────────┘└──────────┘                     └───┘    └───────────┘└───────────┘                 └───┘    └───────────┘└───────────┘                 └───┘    └───────────┘└───────────┘</pre>"
            ]
          },
          "metadata": {}
        },
        {
          "output_type": "stream",
          "name": "stdout",
          "text": [
            "full entanglement:\n"
          ]
        },
        {
          "output_type": "display_data",
          "data": {
            "text/plain": [
              "     ┌──────────┐┌──────────┐                    ┌──────────┐┌───────────┐                                         ┌───────────┐┌───────────┐                                         ┌───────────┐┌───────────┐                          \n",
              "q_0: ┤ Ry(θ[0]) ├┤ Rz(θ[4]) ├──■────■─────────■──┤ Ry(θ[8]) ├┤ Rz(θ[12]) ├───────────────────■────────■─────────■──┤ Ry(θ[16]) ├┤ Rz(θ[20]) ├───────────────────■────────■─────────■──┤ Ry(θ[24]) ├┤ Rz(θ[28]) ├──────────────────────────\n",
              "     ├──────────┤├──────────┤┌─┴─┐  │         │  └──────────┘└┬──────────┤┌───────────┐    ┌─┴─┐      │         │  └───────────┘├───────────┤┌───────────┐    ┌─┴─┐      │         │  └───────────┘├───────────┤┌───────────┐             \n",
              "q_1: ┤ Ry(θ[1]) ├┤ Rz(θ[5]) ├┤ X ├──┼────■────┼───────■───────┤ Ry(θ[9]) ├┤ Rz(θ[13]) ├────┤ X ├──────┼────■────┼────────■──────┤ Ry(θ[17]) ├┤ Rz(θ[21]) ├────┤ X ├──────┼────■────┼────────■──────┤ Ry(θ[25]) ├┤ Rz(θ[29]) ├─────────────\n",
              "     ├──────────┤├──────────┤└───┘┌─┴─┐┌─┴─┐  │       │       └──────────┘├───────────┤┌───┴───┴───┐┌─┴─┐┌─┴─┐  │        │      └───────────┘├───────────┤┌───┴───┴───┐┌─┴─┐┌─┴─┐  │        │      └───────────┘├───────────┤┌───────────┐\n",
              "q_2: ┤ Ry(θ[2]) ├┤ Rz(θ[6]) ├─────┤ X ├┤ X ├──┼───────┼────────────■──────┤ Ry(θ[10]) ├┤ Rz(θ[14]) ├┤ X ├┤ X ├──┼────────┼────────────■──────┤ Ry(θ[18]) ├┤ Rz(θ[22]) ├┤ X ├┤ X ├──┼────────┼────────────■──────┤ Ry(θ[26]) ├┤ Rz(θ[30]) ├\n",
              "     ├──────────┤├──────────┤     └───┘└───┘┌─┴─┐   ┌─┴─┐        ┌─┴─┐    ├───────────┤├───────────┤└───┘└───┘┌─┴─┐    ┌─┴─┐        ┌─┴─┐    ├───────────┤├───────────┤└───┘└───┘┌─┴─┐    ┌─┴─┐        ┌─┴─┐    ├───────────┤├───────────┤\n",
              "q_3: ┤ Ry(θ[3]) ├┤ Rz(θ[7]) ├───────────────┤ X ├───┤ X ├────────┤ X ├────┤ Ry(θ[11]) ├┤ Rz(θ[15]) ├──────────┤ X ├────┤ X ├────────┤ X ├────┤ Ry(θ[19]) ├┤ Rz(θ[23]) ├──────────┤ X ├────┤ X ├────────┤ X ├────┤ Ry(θ[27]) ├┤ Rz(θ[31]) ├\n",
              "     └──────────┘└──────────┘               └───┘   └───┘        └───┘    └───────────┘└───────────┘          └───┘    └───┘        └───┘    └───────────┘└───────────┘          └───┘    └───┘        └───┘    └───────────┘└───────────┘"
            ],
            "text/html": [
              "<pre style=\"word-wrap: normal;white-space: pre;background: #fff0;line-height: 1.1;font-family: &quot;Courier New&quot;,Courier,monospace\">     ┌──────────┐┌──────────┐                    ┌──────────┐┌───────────┐                                         ┌───────────┐┌───────────┐                                         ┌───────────┐┌───────────┐                          \n",
              "q_0: ┤ Ry(θ[0]) ├┤ Rz(θ[4]) ├──■────■─────────■──┤ Ry(θ[8]) ├┤ Rz(θ[12]) ├───────────────────■────────■─────────■──┤ Ry(θ[16]) ├┤ Rz(θ[20]) ├───────────────────■────────■─────────■──┤ Ry(θ[24]) ├┤ Rz(θ[28]) ├──────────────────────────\n",
              "     ├──────────┤├──────────┤┌─┴─┐  │         │  └──────────┘└┬──────────┤┌───────────┐    ┌─┴─┐      │         │  └───────────┘├───────────┤┌───────────┐    ┌─┴─┐      │         │  └───────────┘├───────────┤┌───────────┐             \n",
              "q_1: ┤ Ry(θ[1]) ├┤ Rz(θ[5]) ├┤ X ├──┼────■────┼───────■───────┤ Ry(θ[9]) ├┤ Rz(θ[13]) ├────┤ X ├──────┼────■────┼────────■──────┤ Ry(θ[17]) ├┤ Rz(θ[21]) ├────┤ X ├──────┼────■────┼────────■──────┤ Ry(θ[25]) ├┤ Rz(θ[29]) ├─────────────\n",
              "     ├──────────┤├──────────┤└───┘┌─┴─┐┌─┴─┐  │       │       └──────────┘├───────────┤┌───┴───┴───┐┌─┴─┐┌─┴─┐  │        │      └───────────┘├───────────┤┌───┴───┴───┐┌─┴─┐┌─┴─┐  │        │      └───────────┘├───────────┤┌───────────┐\n",
              "q_2: ┤ Ry(θ[2]) ├┤ Rz(θ[6]) ├─────┤ X ├┤ X ├──┼───────┼────────────■──────┤ Ry(θ[10]) ├┤ Rz(θ[14]) ├┤ X ├┤ X ├──┼────────┼────────────■──────┤ Ry(θ[18]) ├┤ Rz(θ[22]) ├┤ X ├┤ X ├──┼────────┼────────────■──────┤ Ry(θ[26]) ├┤ Rz(θ[30]) ├\n",
              "     ├──────────┤├──────────┤     └───┘└───┘┌─┴─┐   ┌─┴─┐        ┌─┴─┐    ├───────────┤├───────────┤└───┘└───┘┌─┴─┐    ┌─┴─┐        ┌─┴─┐    ├───────────┤├───────────┤└───┘└───┘┌─┴─┐    ┌─┴─┐        ┌─┴─┐    ├───────────┤├───────────┤\n",
              "q_3: ┤ Ry(θ[3]) ├┤ Rz(θ[7]) ├───────────────┤ X ├───┤ X ├────────┤ X ├────┤ Ry(θ[11]) ├┤ Rz(θ[15]) ├──────────┤ X ├────┤ X ├────────┤ X ├────┤ Ry(θ[19]) ├┤ Rz(θ[23]) ├──────────┤ X ├────┤ X ├────────┤ X ├────┤ Ry(θ[27]) ├┤ Rz(θ[31]) ├\n",
              "     └──────────┘└──────────┘               └───┘   └───┘        └───┘    └───────────┘└───────────┘          └───┘    └───┘        └───┘    └───────────┘└───────────┘          └───┘    └───┘        └───┘    └───────────┘└───────────┘</pre>"
            ]
          },
          "metadata": {}
        }
      ]
    },
    {
      "cell_type": "code",
      "source": [
        "# pylint: disable=line-too-long\n",
        "from qiskit.algorithms import VQE\n",
        "from qiskit_nature.algorithms import (GroundStateEigensolver,\n",
        "                                      NumPyMinimumEigensolverFactory)\n",
        "from qiskit_nature.drivers import Molecule\n",
        "from qiskit_nature.drivers.second_quantization import (\n",
        "    ElectronicStructureMoleculeDriver, ElectronicStructureDriverType)\n",
        "from qiskit_nature.transformers.second_quantization.electronic import FreezeCoreTransformer\n",
        "from qiskit_nature.problems.second_quantization import ElectronicStructureProblem\n",
        "from qiskit_nature.converters.second_quantization import QubitConverter\n",
        "from qiskit_nature.mappers.second_quantization import ParityMapper\n",
        "# pylint: enable=line-too-long\n",
        "\n",
        "import matplotlib.pyplot as plt\n",
        "import numpy as np\n",
        "from qiskit_nature.circuit.library import UCCSD, HartreeFock\n",
        "from qiskit.circuit.library import EfficientSU2\n",
        "from qiskit.algorithms.optimizers import COBYLA, SPSA, SLSQP\n",
        "from qiskit.opflow import TwoQubitReduction\n",
        "from qiskit import BasicAer, Aer\n",
        "from qiskit.utils import QuantumInstance\n",
        "from qiskit.utils.mitigation import CompleteMeasFitter\n",
        "from qiskit.providers.aer.noise import NoiseModel"
      ],
      "metadata": {
        "colab": {
          "base_uri": "https://localhost:8080/"
        },
        "id": "KEDL11BEYoXw",
        "outputId": "bd0e1301-1f26-4b29-afbf-79ba37ce9906"
      },
      "execution_count": 6,
      "outputs": [
        {
          "output_type": "stream",
          "name": "stderr",
          "text": [
            "<ipython-input-6-2969ff79605f>:3: NatureDeprecationWarning: The qiskit_nature.algorithms.excited_state_solvers package is deprecated as of version 0.5.0 and will be removed no sooner than 3 months after the release. Instead use the qiskit_nature.second_q.algorithms.excited_state_solvers package.\n",
            "  from qiskit_nature.algorithms import (GroundStateEigensolver,\n",
            "<ipython-input-6-2969ff79605f>:3: NatureDeprecationWarning: The qiskit_nature.algorithms.pes_sampler package is deprecated as of version 0.5.0 and will be removed no sooner than 3 months after the release . Please refer to 'https://github.com/Qiskit/qiskit-nature/issues/750' for additional information regarding 'extrapolators'.\n",
            "  from qiskit_nature.algorithms import (GroundStateEigensolver,\n"
          ]
        }
      ]
    },
    {
      "cell_type": "code",
      "source": [
        "from qiskit_nature.settings import settings\n",
        "settings.dict_aux_operators = False"
      ],
      "metadata": {
        "colab": {
          "base_uri": "https://localhost:8080/"
        },
        "id": "SSpjFZx0Y4Jv",
        "outputId": "74c74c73-1398-442e-d8a1-37ad4da298b8"
      },
      "execution_count": 7,
      "outputs": [
        {
          "output_type": "stream",
          "name": "stderr",
          "text": [
            "/usr/local/lib/python3.8/dist-packages/IPython/core/interactiveshell.py:3326: ListAuxOpsDeprecationWarning: List-based `aux_operators` are deprecated as of version 0.3.0 and support for them will be removed no sooner than 3 months after the release. Instead, use dict-based `aux_operators`. You can switch to the dict-based interface immediately, by setting `qiskit_nature.settings.dict_aux_operators` to `True`.\n",
            "  exec(code_obj, self.user_global_ns, self.user_ns)\n"
          ]
        }
      ]
    },
    {
      "cell_type": "code",
      "source": [
        "def get_qubit_op(dist):\n",
        "    # Define Molecule\n",
        "    molecule = Molecule(\n",
        "        # Coordinates in Angstrom\n",
        "        geometry=[\n",
        "            [\"Be\", [0.0, 0.0, 0.0]],\n",
        "            [\"H\", [-dist, 0.0, 0.0]],\n",
        "            [\"H\", [dist, 0.0, 0.0]]\n",
        "        ],\n",
        "        multiplicity=1,  # = 2*spin + 1\n",
        "        charge=0,\n",
        "    )\n",
        "\n",
        "    driver = ElectronicStructureMoleculeDriver(\n",
        "        molecule=molecule,\n",
        "        basis=\"sto3g\",\n",
        "        driver_type=ElectronicStructureDriverType.PYSCF)\n",
        "    \n",
        "\n",
        "    driver = ElectronicStructureMoleculeDriver(\n",
        "         molecule=molecule,\n",
        "         basis=\"sto3g\",\n",
        "        driver_type=ElectronicStructureDriverType.PYSCF)\n",
        "\n",
        "    # Define Problem, Use freeze core approximation, remove orbitals.\n",
        "    from qiskit_nature.problems.second_quantization import ElectronicStructureProblem\n",
        "    from qiskit_nature.transformers.second_quantization.electronic import FreezeCoreTransformer\n",
        "    problem = ElectronicStructureProblem(\n",
        "        driver,\n",
        "        [FreezeCoreTransformer(freeze_core=True)])#, remove_orbitals=[-3,-2,-1,0])])\n",
        "\n",
        "\n",
        "\n",
        "    # Get properties\n",
        "    properties = driver.run()\n",
        "    num_particles = (properties\n",
        "                        .get_property(\"ParticleNumber\")\n",
        "                        .num_particles)\n",
        "    num_spin_orbitals = int(properties\n",
        "                            .get_property(\"ParticleNumber\")\n",
        "                            .num_spin_orbitals)\n",
        "\n",
        "    # Define Problem, Use freeze core approximation, remove orbitals.\n",
        "    problem = ElectronicStructureProblem(\n",
        "        driver,\n",
        "        [FreezeCoreTransformer(freeze_core=True,\n",
        "                               remove_orbitals=[-3,-2])])\n",
        "\n",
        "    second_q_ops = problem.second_q_ops()  # Get 2nd Quant OP\n",
        "    num_spin_orbitals = problem.num_spin_orbitals\n",
        "    num_particles = problem.num_particles\n",
        "\n",
        "    mapper = ParityMapper()  # Set Mapper\n",
        "    hamiltonian = second_q_ops[0]  # Set Hamiltonian\n",
        "    # Do two qubit reduction\n",
        "    converter = QubitConverter(mapper,two_qubit_reduction=True)\n",
        "    reducer = TwoQubitReduction(num_particles)\n",
        "    qubit_op = converter.convert(hamiltonian)\n",
        "    qubit_op = reducer.convert(qubit_op)\n",
        "\n",
        "    return qubit_op, num_particles, num_spin_orbitals, problem, converter"
      ],
      "metadata": {
        "id": "LEV0n-zrY0Hc"
      },
      "execution_count": 8,
      "outputs": []
    },
    {
      "cell_type": "code",
      "source": [
        "def exact_solver(problem, converter):\n",
        "    solver = NumPyMinimumEigensolverFactory()\n",
        "    calc = GroundStateEigensolver(converter, solver)\n",
        "    result = calc.solve(problem)\n",
        "    return result\n",
        "\n",
        "backend = BasicAer.get_backend(\"statevector_simulator\")\n",
        "distances = np.arange(0.5, 4.0, 0.2)\n",
        "exact_energies = []\n",
        "vqe_energies = []\n",
        "optimizer = SLSQP(maxiter=5)\n",
        "\n",
        "# pylint: disable=undefined-loop-variable\n",
        "\n",
        "\n",
        "dist = 1.3\n",
        "(qubit_op, num_particles, num_spin_orbitals,\n",
        "                            problem, converter) = get_qubit_op(dist)\n",
        "result = exact_solver(problem,converter)\n",
        "exact_energies.append(result.total_energies[0].real)\n",
        "init_state = HartreeFock(num_spin_orbitals, num_particles, converter)\n",
        "var_form = UCCSD(converter,\n",
        "                    num_particles,\n",
        "                    num_spin_orbitals,\n",
        "                    initial_state=init_state)\n",
        "vqe = VQE(var_form, optimizer, quantum_instance=backend)\n",
        "vqe_calc = vqe.compute_minimum_eigenvalue(qubit_op)\n",
        "vqe_result = problem.interpret(vqe_calc).total_energies[0].real\n",
        "vqe_energies.append(vqe_result)\n",
        "print(f\"Interatomic Distance: {np.round(dist, 2)}\",\n",
        "        f\"VQE Result: {vqe_result:.5f}\",\n",
        "        f\"Exact Energy: {exact_energies[-1]:.5f}\")\n",
        "\n",
        "print(\"All energies have been calculated\")"
      ],
      "metadata": {
        "colab": {
          "base_uri": "https://localhost:8080/"
        },
        "id": "AXgqoH8dY9VD",
        "outputId": "7fbac6fb-be16-41ad-bdd0-8f82dc9c99ca"
      },
      "execution_count": 9,
      "outputs": [
        {
          "output_type": "stream",
          "name": "stderr",
          "text": [
            "<ipython-input-9-1e71ef5baea6>:18: NatureDeprecationWarning: The qiskit_nature.drivers.Molecule class is deprecated as of version 0.5.0 and will be removed no sooner than 3 months after the release. Instead use the qiskit_nature.second_q.drivers.Molecule class.\n",
            "  problem, converter) = get_qubit_op(dist)\n",
            "<ipython-input-9-1e71ef5baea6>:18: NatureDeprecationWarning: The qiskit_nature.problems.second_quantization.electronic.ElectronicStructureProblem class is deprecated as of version 0.5.0 and will be removed no sooner than 3 months after the release. Instead use the qiskit_nature.second_q.problems.ElectronicStructureProblem class.\n",
            "  problem, converter) = get_qubit_op(dist)\n",
            "<ipython-input-9-1e71ef5baea6>:3: NatureDeprecationWarning: The qiskit_nature.algorithms.ground_state_solvers.GroundStateEigensolver class is deprecated as of version 0.5.0 and will be removed no sooner than 3 months after the release. Instead use the qiskit_nature.second_q.algorithms.ground_state_solvers.GroundStateEigensolver class.\n",
            "  calc = GroundStateEigensolver(converter, solver)\n"
          ]
        },
        {
          "output_type": "stream",
          "name": "stdout",
          "text": [
            "Interatomic Distance: 1.3 VQE Result: -15.59436 Exact Energy: -15.59471\n",
            "All energies have been calculated\n"
          ]
        }
      ]
    }
  ]
}