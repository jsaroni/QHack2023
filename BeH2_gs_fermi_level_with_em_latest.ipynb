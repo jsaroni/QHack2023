{
  "nbformat": 4,
  "nbformat_minor": 0,
  "metadata": {
    "colab": {
      "provenance": []
    },
    "kernelspec": {
      "name": "python3",
      "display_name": "Python 3"
    },
    "language_info": {
      "name": "python"
    }
  },
  "cells": [
    {
      "cell_type": "code",
      "execution_count": 1,
      "metadata": {
        "id": "ExG_XkTuXRuu"
      },
      "outputs": [],
      "source": [
        "# Installing packages\n",
        "!pip install qiskit qiskit_nature --quiet\n",
        "!pip install pyscf qiskit_ibm_runtime --quiet\n",
        "!pip install prototype-zne --quiet"
      ]
    },
    {
      "cell_type": "code",
      "source": [
        "# Import necessary libraries and packages\n",
        "import math\n",
        "import matplotlib.pyplot as plt\n",
        "import numpy as np\n",
        "\n",
        "import warnings\n",
        "warnings.filterwarnings('ignore')\n",
        "from qiskit_ibm_runtime import QiskitRuntimeService, Session, Options, Sampler, Estimator\n",
        "from qiskit_nature.second_q.circuit.library import UCC, UCCSD, HartreeFock\n",
        "from qiskit_nature.second_q.mappers import JordanWignerMapper, ParityMapper, QubitMapper\n",
        "\n",
        "from qiskit_nature.units import DistanceUnit\n",
        "from qiskit_nature.second_q.drivers import PySCFDriver\n",
        "\n",
        "from qiskit_nature.settings import settings\n",
        "from qiskit.circuit import QuantumCircuit\n",
        "from qiskit.transpiler.preset_passmanagers import generate_preset_pass_manager\n",
        "from qiskit_ibm_runtime import SamplerV2 as Sampler\n",
        "from qiskit_ibm_runtime.fake_provider import FakeManilaV2\n",
        "from qiskit_algorithms.optimizers import SLSQP\n",
        "\n",
        "from qiskit_algorithms import NumPyMinimumEigensolver, VQE\n",
        "from qiskit_nature.second_q.algorithms import GroundStateEigensolver\n",
        "from qiskit_nature.second_q.transformers.active_space_transformer import ActiveSpaceTransformer\n",
        "from qiskit_nature.second_q.problems.electronic_structure_problem import ElectronicStructureProblem\n",
        "settings.dict_aux_operators = True"
      ],
      "metadata": {
        "id": "49xYYGg-XxRR"
      },
      "execution_count": 2,
      "outputs": []
    },
    {
      "cell_type": "code",
      "source": [
        "# Create an instance of the PySCFDriver with the specified molecular configuration\n",
        "driver = PySCFDriver(\n",
        "    atom=\"Be 0 0 0; H -1.291 0 0; H 1.291 0 0\",  # Defines the positions of the atoms\n",
        "    basis=\"sto3g\",                             # Specifies the basis set for the calculation\n",
        "    charge=0,                                  # The total charge of the molecule\n",
        "    spin=0,                                    # The total spin of the molecule\n",
        "    unit=DistanceUnit.ANGSTROM,                # The unit of measurement for atomic positions\n",
        ")\n",
        "\n",
        "# Execute the driver to compute the molecular properties\n",
        "properties = driver.run()"
      ],
      "metadata": {
        "id": "Ju2OVTIm74OX"
      },
      "execution_count": 3,
      "outputs": []
    },
    {
      "cell_type": "code",
      "source": [
        "# Retrieve the number of alpha electrons from the molecular properties\n",
        "num_alpha_electrons = properties.num_alpha\n",
        "# Retrieve the number of beta electrons from the molecular properties\n",
        "num_beta_electrons = properties.num_beta\n",
        "# Convert the number of spin orbitals to an integer for further calculations\n",
        "num_spin_orbitals = int(properties.num_spin_orbitals)\n",
        "\n",
        "# Get the nuclear repulsion energy from the molecular properties\n",
        "nuclear_rep_energy = properties.nuclear_repulsion_energy\n",
        "\n",
        "# Print the number of alpha electrons to the console\n",
        "print(\"number of alpha electrons: \", num_alpha_electrons)\n",
        "# Print the number of beta electrons to the console\n",
        "print(\"number of beta electrons: \", num_beta_electrons)\n",
        "# Print the number of spin orbitals to the console\n",
        "print(\"number of spin orbitals: \", num_spin_orbitals)"
      ],
      "metadata": {
        "id": "yzS_QFBHX0is",
        "colab": {
          "base_uri": "https://localhost:8080/"
        },
        "outputId": "08c6cb8d-1cba-40b4-9df3-480f3e33e468"
      },
      "execution_count": 4,
      "outputs": [
        {
          "output_type": "stream",
          "name": "stdout",
          "text": [
            "number of alpha electrons:  3\n",
            "number of beta electrons:  3\n",
            "number of spin orbitals:  14\n"
          ]
        }
      ]
    },
    {
      "cell_type": "code",
      "source": [
        "# Define the active space around the Fermi level (selected automatically around the HOMO and LUMO, ordered by energy)\n",
        "transformer = ActiveSpaceTransformer(\n",
        "    num_electrons=4, #Number of electrons in our active space\n",
        "    num_spatial_orbitals = 6, #Numer of orbitals in our active space\n",
        ")\n",
        "\n",
        "# Define the reduced problem using this transformer\n",
        "problem = transformer.transform(properties)\n",
        "\n",
        "# The second quantized Hamiltonian of the reduce problem\n",
        "second_q_ops_reduced = problem.second_q_ops()"
      ],
      "metadata": {
        "id": "S6zE696Tf4i1"
      },
      "execution_count": 5,
      "outputs": []
    },
    {
      "cell_type": "code",
      "source": [
        "# Setup the mapper and qubit converter\n",
        "mapper_type = 'ParityMapper'\n",
        "\n",
        "if mapper_type == 'ParityMapper':\n",
        "    mapper = ParityMapper()\n",
        "elif mapper_type == 'JordanWignerMapper':\n",
        "    mapper = JordanWignerMapper()"
      ],
      "metadata": {
        "id": "r_2Jf7RR_nCC"
      },
      "execution_count": 6,
      "outputs": []
    },
    {
      "cell_type": "code",
      "source": [
        "# Use Parity mapper to map the problem\n",
        "qubit_op_parity = mapper.map(problem.hamiltonian.second_q_op())\n",
        "print(qubit_op_parity)"
      ],
      "metadata": {
        "colab": {
          "base_uri": "https://localhost:8080/"
        },
        "id": "TNjhP0e3mA9m",
        "outputId": "409d086b-6169-46a8-9a64-1027f6377b2e"
      },
      "execution_count": 7,
      "outputs": [
        {
          "output_type": "stream",
          "name": "stdout",
          "text": [
            "SparsePauliOp(['IIIIIIIIIIII', 'IIIIIIIIIIIZ', 'IIIIIIIIIIZZ', 'IIIIIIIIIIZI', 'IIIIIIZXXXXZ', 'IIIIIIZXXXXI', 'IIIIIIIYXXYI', 'IIIIIIIYXXYZ', 'IIIIIIIIIZZI', 'IIIIIIIIIZZZ', 'IIIIIIIIZZII', 'IIIIIIIIZZIZ', 'IIIIIIIZZIII', 'IIIIIIIZZIIZ', 'IIIIIIZZIIII', 'IIIIIIZZIIIZ', 'IIIIIZZIIIII', 'IIIIIZZIIIIZ', 'IZXXXXZIIIII', 'IZXXXXZIIIIZ', 'IIYXXYIIIIII', 'IIYXXYIIIIIZ', 'IIIIZZIIIIII', 'IIIIZZIIIIIZ', 'ZXXXXZIIIIII', 'ZXXXXZIIIIIZ', 'IYXXYIIIIIII', 'IYXXYIIIIIIZ', 'IIIZZIIIIIII', 'IIIZZIIIIIIZ', 'IIZZIIIIIIII', 'IIZZIIIIIIIZ', 'IZZIIIIIIIII', 'IZZIIIIIIIIZ', 'ZZIIIIIIIIII', 'ZZIIIIIIIIIZ', 'IIIIIIIZXXXX', 'IIIIIIIZXXYY', 'IIIIIIIIYXXY', 'IIIIIIIIYXYX', 'IIIIIIZXZIZX', 'IIIIIIIXIIZX', 'IIIIIIZYIIIY', 'IIIIIIIYZIZY', 'IIIIIIZXZIIX', 'IIIIIIIXIIIX', 'IIIIZXZIIIZX', 'IIIIIXIIIIZX', 'IIIIZXZIIIIX', 'IIIIIXIIIIIX', 'ZXXXXXZIIIZX', 'IYXXXYIIIIZX', 'ZXXXXXZIIIIX', 'IYXXXYIIIIIX', 'IZXXXZIIIIZX', 'IIYXYIIIIIZX', 'IZXXXZIIIIIX', 'IIYXYIIIIIIX', 'ZXZIIIIIIIZX', 'IXIIIIIIIIZX', 'ZXZIIIIIIIIX', 'IXIIIIIIIIIX', 'IIIIIIIZXYYX', 'IIIIIIIIYYYY', 'IIIZXXZIIZXX', 'IIIIYYIIIZXX', 'IIIZXXZIIIYY', 'IIIIYYIIIIYY', 'IZXXZIIIIZXX', 'IIYYIIIIIZXX', 'IZXXZIIIIIYY', 'IIYYIIIIIIYY', 'IIIIIIIZYYXX', 'IIIIIIIIXYXY', 'IIZXXXZIZXXX', 'IIIYXYIIZXXX', 'IIZXXXZIIYXY', 'IIIYXYIIIYXY', 'IZXZIIIIZXXX', 'IIXIIIIIZXXX', 'IZXZIIIIIYXY', 'IIXIIIIIIYXY', 'IIIIIIZIXXXX', 'IIIIIIZZYXXY', 'IIIIIZZZXXXX', 'IIIIIZZIYXXY', 'IZXXXXZZXXXX', 'IIYXXYIZXXXX', 'IZXXXXZIYXXY', 'IIYXXYIIYXXY', 'IIIIZZIZXXXX', 'IIIIZZIIYXXY', 'ZXXXXZIZXXXX', 'IYXXYIIZXXXX', 'ZXXXXZIIYXXY', 'IYXXYIIIYXXY', 'IIIZZIIZXXXX', 'IIIZZIIIYXXY', 'IIZZIIIZXXXX', 'IIZZIIIIYXXY', 'IZZIIIIZXXXX', 'IZZIIIIIYXXY', 'ZZIIIIIZXXXX', 'ZZIIIIIIYXXY', 'IIIIZXIXXXXX', 'IIIIIXZXXXXX', 'IIIIZXZYXXXY', 'IIIIIXIYXXXY', 'ZXXXXXIXXXXX', 'IYXXXYZXXXXX', 'ZXXXXXZYXXXY', 'IYXXXYIYXXXY', 'IZXXXZZXXXXX', 'IIYXYIZXXXXX', 'IZXXXZIYXXXY', 'IIYXYIIYXXXY', 'ZXZIIIZXXXXX', 'IXIIIIZXXXXX', 'ZXZIIIIYXXXY', 'IXIIIIIYXXXY', 'IIIIIIIIIZIZ', 'IIIIIIIIZZZZ', 'IIIIIIIZZIZZ', 'IIIIIIZZIIZZ', 'IIIIIZZIIIZZ', 'IZXXXXZIIIZZ', 'IIYXXYIIIIZZ', 'IIIIZZIIIIZZ', 'ZXXXXZIIIIZZ', 'IYXXYIIIIIZZ', 'IIIZZIIIIIZZ', 'IIZZIIIIIIZZ', 'IZZIIIIIIIZZ', 'ZZIIIIIIIIZZ', 'IIIIIIZXXYYZ', 'IIIIIIIYXYXI', 'IIIZXZIIIZXZ', 'IIIIXIIIIZXZ', 'IIIZXZIIIIXI', 'IIIIXIIIIIXI', 'ZXXXZIIIIZXZ', 'IYXYIIIIIZXZ', 'ZXXXZIIIIIXI', 'IYXYIIIIIIXI', 'IIIIIIZXYYXZ', 'IIIIIIIYYYYI', 'IIZXXZIIZXXZ', 'IIIYYIIIZXXZ', 'IIZXXZIIIYYI', 'IIIYYIIIIYYI', 'ZXXZIIIIZXXZ', 'IYYIIIIIZXXZ', 'ZXXZIIIIIYYI', 'IYYIIIIIIYYI', 'IIIIIIZYYXXZ', 'IIIIIIIXYXYI', 'IIIIZXZZXXXZ', 'IIIIIXIZXXXZ', 'IIIIZXZIYXYI', 'IIIIIXIIYXYI', 'ZXXXXXZZXXXZ', 'IYXXXYIZXXXZ', 'ZXXXXXZIYXYI', 'IYXXXYIIYXYI', 'IZXXXZIZXXXZ', 'IIYXYIIZXXXZ', 'IZXXXZIIYXYI', 'IIYXYIIIYXYI', 'ZXZIIIIZXXXZ', 'IXIIIIIZXXXZ', 'ZXZIIIIIYXYI', 'IXIIIIIIYXYI', 'IIIIIZIXXXXZ', 'IIIIIZZYXXYI', 'IZXXXXIXXXXZ', 'IIYXXYZXXXXZ', 'IZXXXXZYXXYI', 'IIYXXYIYXXYI', 'IIIIZZZXXXXZ', 'IIIIZZIYXXYI', 'ZXXXXZZXXXXZ', 'IYXXYIZXXXXZ', 'ZXXXXZIYXXYI', 'IYXXYIIYXXYI', 'IIIZZIZXXXXZ', 'IIIZZIIYXXYI', 'IIZZIIZXXXXZ', 'IIZZIIIYXXYI', 'IZZIIIZXXXXZ', 'IZZIIIIYXXYI', 'ZZIIIIZXXXXZ', 'ZZIIIIIYXXYI', 'IIIIIIIIZIZI', 'IIIIIIIZZZZI', 'IIIIIIZZIZZI', 'IIIIIZZIIZZI', 'IZXXXXZIIZZI', 'IIYXXYIIIZZI', 'IIIIZZIIIZZI', 'ZXXXXZIIIZZI', 'IYXXYIIIIZZI', 'IIIZZIIIIZZI', 'IIZZIIIIIZZI', 'IZZIIIIIIZZI', 'ZZIIIIIIIZZI', 'IIZXZIIIZXZI', 'IIIXIIIIZXZI', 'IIZXZIIIIXII', 'IIIXIIIIIXII', 'IIIZXXZZXXZI', 'IIIIYYIZXXZI', 'IIIZXXZIYYII', 'IIIIYYIIYYII', 'IZXXZIIZXXZI', 'IIYYIIIZXXZI', 'IZXXZIIIYYII', 'IIYYIIIIYYII', 'IIIZXZZXXXZI', 'IIIIXIZXXXZI', 'IIIZXZIYXYII', 'IIIIXIIYXYII', 'ZXXXZIZXXXZI', 'IYXYIIZXXXZI', 'ZXXXZIIYXYII', 'IYXYIIIYXYII', 'IIIIIIIZIZII', 'IIIIIIZZZZII', 'IIIIIZZIZZII', 'IZXXXXZIZZII', 'IIYXXYIIZZII', 'IIIIZZIIZZII', 'ZXXXXZIIZZII', 'IYXXYIIIZZII', 'IIIZZIIIZZII', 'IIZZIIIIZZII', 'IZZIIIIIZZII', 'ZZIIIIIIZZII', 'IIZXXXZZXZII', 'IIIYXYIZXZII', 'IIZXXXZIXIII', 'IIIYXYIIXIII', 'IZXZIIIZXZII', 'IIXIIIIZXZII', 'IZXZIIIIXIII', 'IIXIIIIIXIII', 'IIZXXZZXXZII', 'IIIYYIZXXZII', 'IIZXXZIYYIII', 'IIIYYIIYYIII', 'ZXXZIIZXXZII', 'IYYIIIZXXZII', 'ZXXZIIIYYIII', 'IYYIIIIYYIII', 'IIIIIIZIZIII', 'IIIIIZZZZIII', 'IZXXXXZZZIII', 'IIYXXYIZZIII', 'IIIIZZIZZIII', 'ZXXXXZIZZIII', 'IYXXYIIZZIII', 'IIIZZIIZZIII', 'IIZZIIIZZIII', 'IZZIIIIZZIII', 'ZZIIIIIZZIII', 'IIIIZXIXZIII', 'IIIIIXZXZIII', 'IIIIZXZXIIII', 'IIIIIXIXIIII', 'ZXXXXXIXZIII', 'IYXXXYZXZIII', 'ZXXXXXZXIIII', 'IYXXXYIXIIII', 'IZXXXZZXZIII', 'IIYXYIZXZIII', 'IZXXXZIXIIII', 'IIYXYIIXIIII', 'ZXZIIIZXZIII', 'IXIIIIZXZIII', 'ZXZIIIIXIIII', 'IXIIIIIXIIII', 'IIIIIZIZIIII', 'IZXXXXIZIIII', 'IIYXXYZZIIII', 'IIIIZZZZIIII', 'ZXXXXZZZIIII', 'IYXXYIZZIIII', 'IIIZZIZZIIII', 'IIZZIIZZIIII', 'IZZIIIZZIIII', 'ZZIIIIZZIIII', 'IIIIZIZIIIII', 'ZXXXXIZIIIII', 'IYXXYZZIIIII', 'IIIZZZZIIIII', 'IIZZIZZIIIII', 'IZZIIZZIIIII', 'ZZIIIZZIIIII', 'IZXXYYZIIIII', 'IIYXYXIIIIII', 'ZXZIZXZIIIII', 'IXIIZXZIIIII', 'ZYIIIYZIIIII', 'IYZIZYIIIIII', 'ZXZIIXIIIIII', 'IXIIIXIIIIII', 'IZXYYXZIIIII', 'IIYYYYIIIIII', 'IZYYXXZIIIII', 'IIXYXYIIIIII', 'ZIXXXXZIIIII', 'ZZYXXYIIIIII', 'IIIZIZIIIIII', 'IIZZZZIIIIII', 'IZZIZZIIIIII', 'ZZIIZZIIIIII', 'ZXXYYZIIIIII', 'IYXYXIIIIIII', 'ZXYYXZIIIIII', 'IYYYYIIIIIII', 'ZYYXXZIIIIII', 'IXYXYIIIIIII', 'IIZIZIIIIIII', 'IZZZZIIIIIII', 'ZZIZZIIIIIII', 'IZIZIIIIIIII', 'ZZZZIIIIIIII', 'ZIZIIIIIIIII'],\n",
            "              coeffs=[-9.07239108e-01+0.j, -2.30901642e-01+0.j, -2.51849340e-01+0.j,\n",
            "  6.28202291e-02+0.j, -5.44227918e-02+0.j,  9.48854680e-03+0.j,\n",
            " -5.44227918e-02+0.j,  9.48854680e-03+0.j, -4.27228941e-01+0.j,\n",
            "  8.05654306e-02+0.j, -4.27228941e-01+0.j,  8.05654306e-02+0.j,\n",
            " -5.06788863e-01+0.j,  8.09430161e-02+0.j, -7.84140038e-01+0.j,\n",
            "  9.42006317e-02+0.j, -2.30901642e-01+0.j,  1.00757704e-01+0.j,\n",
            " -1.80196892e-02+0.j, -6.67939302e-03+0.j, -1.80196892e-02+0.j,\n",
            " -6.67939302e-03+0.j, -2.51849340e-01+0.j,  1.04118712e-01+0.j,\n",
            " -5.44227918e-02+0.j, -1.85596875e-03+0.j, -5.44227918e-02+0.j,\n",
            " -1.85596875e-03+0.j, -4.27228941e-01+0.j,  9.30443319e-02+0.j,\n",
            " -4.27228941e-01+0.j,  9.30443319e-02+0.j, -5.06788863e-01+0.j,\n",
            "  1.00156597e-01+0.j, -7.84140038e-01+0.j,  1.08334887e-01+0.j,\n",
            " -1.80196892e-02+0.j, -1.15270484e-02+0.j, -1.80196892e-02+0.j,\n",
            "  1.15270484e-02+0.j,  2.05368789e-02+0.j, -1.77961614e-02+0.j,\n",
            "  2.74071754e-03+0.j,  2.74071754e-03+0.j, -1.77961614e-02+0.j,\n",
            "  2.05368789e-02+0.j,  4.12984831e-02+0.j, -4.12984831e-02+0.j,\n",
            " -4.12984831e-02+0.j,  4.12984831e-02+0.j, -1.13445156e-02+0.j,\n",
            " -1.13445156e-02+0.j,  1.13445156e-02+0.j,  1.13445156e-02+0.j,\n",
            " -2.38709174e-02+0.j, -2.38709174e-02+0.j,  2.38709174e-02+0.j,\n",
            "  2.38709174e-02+0.j,  3.58172747e-02+0.j, -3.58172747e-02+0.j,\n",
            " -3.58172747e-02+0.j,  3.58172747e-02+0.j, -4.40322854e-04+0.j,\n",
            " -4.40322854e-04+0.j,  1.24789013e-02+0.j,  1.24789013e-02+0.j,\n",
            "  1.24789013e-02+0.j,  1.24789013e-02+0.j,  1.18846517e-02+0.j,\n",
            "  1.18846517e-02+0.j,  1.18846517e-02+0.j,  1.18846517e-02+0.j,\n",
            " -4.40322854e-04+0.j,  4.40322854e-04+0.j,  1.24789013e-02+0.j,\n",
            "  1.24789013e-02+0.j,  1.24789013e-02+0.j,  1.24789013e-02+0.j,\n",
            "  1.18846517e-02+0.j, -1.18846517e-02+0.j,  1.18846517e-02+0.j,\n",
            " -1.18846517e-02+0.j,  4.24353966e-03+0.j,  4.24353966e-03+0.j,\n",
            " -6.67939302e-03+0.j, -6.67939302e-03+0.j,  1.92135809e-02+0.j,\n",
            "  1.92135809e-02+0.j,  1.92135809e-02+0.j,  1.92135809e-02+0.j,\n",
            " -1.23438690e-02+0.j, -1.23438690e-02+0.j,  1.80211133e-02+0.j,\n",
            "  1.80211133e-02+0.j,  1.80211133e-02+0.j,  1.80211133e-02+0.j,\n",
            "  1.23249745e-02+0.j,  1.23249745e-02+0.j,  1.23249745e-02+0.j,\n",
            "  1.23249745e-02+0.j, -9.15801322e-03+0.j, -9.15801322e-03+0.j,\n",
            " -1.00925613e-02+0.j, -1.00925613e-02+0.j, -1.13445156e-02+0.j,\n",
            "  1.13445156e-02+0.j, -1.13445156e-02+0.j,  1.13445156e-02+0.j,\n",
            "  1.41342551e-02+0.j,  1.41342551e-02+0.j,  1.41342551e-02+0.j,\n",
            "  1.41342551e-02+0.j,  1.52803958e-02+0.j,  1.52803958e-02+0.j,\n",
            "  1.52803958e-02+0.j,  1.52803958e-02+0.j, -1.43361010e-02+0.j,\n",
            "  1.43361010e-02+0.j, -1.43361010e-02+0.j,  1.43361010e-02+0.j,\n",
            "  8.62916558e-02+0.j,  8.62916558e-02+0.j,  8.21012011e-02+0.j,\n",
            "  9.27110681e-02+0.j,  1.04118712e-01+0.j, -1.23438690e-02+0.j,\n",
            " -1.23438690e-02+0.j,  1.09889220e-01+0.j, -5.59829189e-03+0.j,\n",
            " -5.59829189e-03+0.j,  9.00569277e-02+0.j,  9.00569277e-02+0.j,\n",
            "  1.02906304e-01+0.j,  1.13110732e-01+0.j, -1.07701191e-02+0.j,\n",
            "  1.07701191e-02+0.j,  3.76527189e-03+0.j, -3.76527189e-03+0.j,\n",
            " -3.76527189e-03+0.j,  3.76527189e-03+0.j,  3.45882864e-03+0.j,\n",
            "  3.45882864e-03+0.j, -3.45882864e-03+0.j, -3.45882864e-03+0.j,\n",
            " -1.07701191e-02+0.j, -1.07701191e-02+0.j,  3.76527189e-03+0.j,\n",
            "  3.76527189e-03+0.j,  3.76527189e-03+0.j,  3.76527189e-03+0.j,\n",
            "  3.45882864e-03+0.j,  3.45882864e-03+0.j,  3.45882864e-03+0.j,\n",
            "  3.45882864e-03+0.j, -1.70795064e-02+0.j,  1.70795064e-02+0.j,\n",
            " -2.38709174e-02+0.j,  2.38709174e-02+0.j, -2.38709174e-02+0.j,\n",
            "  2.38709174e-02+0.j,  1.52803958e-02+0.j,  1.52803958e-02+0.j,\n",
            "  1.52803958e-02+0.j,  1.52803958e-02+0.j,  2.08051029e-02+0.j,\n",
            "  2.08051029e-02+0.j,  2.08051029e-02+0.j,  2.08051029e-02+0.j,\n",
            " -2.40849928e-02+0.j,  2.40849928e-02+0.j, -2.40849928e-02+0.j,\n",
            "  2.40849928e-02+0.j, -1.85596875e-03+0.j, -1.85596875e-03+0.j,\n",
            "  1.80211133e-02+0.j,  1.80211133e-02+0.j,  1.80211133e-02+0.j,\n",
            "  1.80211133e-02+0.j, -5.59829189e-03+0.j, -5.59829189e-03+0.j,\n",
            "  2.03996636e-02+0.j,  2.03996636e-02+0.j,  2.03996636e-02+0.j,\n",
            "  2.03996636e-02+0.j,  1.42289477e-02+0.j,  1.42289477e-02+0.j,\n",
            "  1.42289477e-02+0.j,  1.42289477e-02+0.j, -7.00548636e-03+0.j,\n",
            " -7.00548636e-03+0.j, -3.61514725e-03+0.j, -3.61514725e-03+0.j,\n",
            "  9.42777259e-02+0.j,  7.96719958e-02+0.j,  9.42484566e-02+0.j,\n",
            "  9.30443319e-02+0.j,  1.23249745e-02+0.j,  1.23249745e-02+0.j,\n",
            "  9.00569277e-02+0.j,  1.42289477e-02+0.j,  1.42289477e-02+0.j,\n",
            "  1.12464760e-01+0.j,  1.00340071e-01+0.j,  9.24328880e-02+0.j,\n",
            "  9.83561505e-02+0.j,  6.06234481e-03+0.j, -6.06234481e-03+0.j,\n",
            " -6.06234481e-03+0.j,  6.06234481e-03+0.j,  1.18846517e-02+0.j,\n",
            "  1.18846517e-02+0.j,  1.18846517e-02+0.j,  1.18846517e-02+0.j,\n",
            "  1.27608922e-02+0.j,  1.27608922e-02+0.j,  1.27608922e-02+0.j,\n",
            "  1.27608922e-02+0.j,  3.45882864e-03+0.j, -3.45882864e-03+0.j,\n",
            "  3.45882864e-03+0.j, -3.45882864e-03+0.j,  4.10769391e-03+0.j,\n",
            "  4.10769391e-03+0.j,  4.10769391e-03+0.j,  4.10769391e-03+0.j,\n",
            "  7.96719958e-02+0.j,  9.42484566e-02+0.j,  9.30443319e-02+0.j,\n",
            "  1.23249745e-02+0.j,  1.23249745e-02+0.j,  9.00569277e-02+0.j,\n",
            "  1.42289477e-02+0.j,  1.42289477e-02+0.j,  1.00340071e-01+0.j,\n",
            "  1.12464760e-01+0.j,  9.24328880e-02+0.j,  9.83561505e-02+0.j,\n",
            "  1.18846517e-02+0.j,  1.18846517e-02+0.j, -1.18846517e-02+0.j,\n",
            " -1.18846517e-02+0.j,  1.27608922e-02+0.j, -1.27608922e-02+0.j,\n",
            " -1.27608922e-02+0.j,  1.27608922e-02+0.j,  3.45882864e-03+0.j,\n",
            "  3.45882864e-03+0.j,  3.45882864e-03+0.j,  3.45882864e-03+0.j,\n",
            "  4.10769391e-03+0.j,  4.10769391e-03+0.j,  4.10769391e-03+0.j,\n",
            "  4.10769391e-03+0.j,  7.47368488e-02+0.j,  1.00156597e-01+0.j,\n",
            " -9.15801322e-03+0.j, -9.15801322e-03+0.j,  1.02906304e-01+0.j,\n",
            " -7.00548636e-03+0.j, -7.00548636e-03+0.j,  9.24328880e-02+0.j,\n",
            "  9.24328880e-02+0.j,  1.03716191e-01+0.j,  1.10113825e-01+0.j,\n",
            "  3.58172747e-02+0.j, -3.58172747e-02+0.j, -3.58172747e-02+0.j,\n",
            "  3.58172747e-02+0.j, -1.43361010e-02+0.j, -1.43361010e-02+0.j,\n",
            "  1.43361010e-02+0.j,  1.43361010e-02+0.j, -2.40849928e-02+0.j,\n",
            " -2.40849928e-02+0.j,  2.40849928e-02+0.j,  2.40849928e-02+0.j,\n",
            "  3.53769758e-02+0.j, -3.53769758e-02+0.j, -3.53769758e-02+0.j,\n",
            "  3.53769758e-02+0.j,  1.08334887e-01+0.j, -1.00925613e-02+0.j,\n",
            " -1.00925613e-02+0.j,  1.13110732e-01+0.j, -3.61514725e-03+0.j,\n",
            " -3.61514725e-03+0.j,  9.83561505e-02+0.j,  9.83561505e-02+0.j,\n",
            "  1.10113825e-01+0.j,  1.23806959e-01+0.j,  6.28202291e-02+0.j,\n",
            "  9.48854680e-03+0.j,  9.48854680e-03+0.j,  8.05654306e-02+0.j,\n",
            "  8.05654306e-02+0.j,  8.09430161e-02+0.j,  9.42006317e-02+0.j,\n",
            " -1.15270484e-02+0.j,  1.15270484e-02+0.j,  2.05368789e-02+0.j,\n",
            " -1.77961614e-02+0.j,  2.74071754e-03+0.j,  2.74071754e-03+0.j,\n",
            " -1.77961614e-02+0.j,  2.05368789e-02+0.j, -4.40322854e-04+0.j,\n",
            " -4.40322854e-04+0.j, -4.40322854e-04+0.j,  4.40322854e-04+0.j,\n",
            "  4.24353966e-03+0.j,  4.24353966e-03+0.j,  8.62916558e-02+0.j,\n",
            "  8.62916558e-02+0.j,  8.21012011e-02+0.j,  9.27110681e-02+0.j,\n",
            " -1.07701191e-02+0.j,  1.07701191e-02+0.j, -1.07701191e-02+0.j,\n",
            " -1.07701191e-02+0.j, -1.70795064e-02+0.j,  1.70795064e-02+0.j,\n",
            "  9.42777259e-02+0.j,  7.96719958e-02+0.j,  9.42484566e-02+0.j,\n",
            "  7.96719958e-02+0.j,  9.42484566e-02+0.j,  7.47368488e-02+0.j])\n"
          ]
        }
      ]
    },
    {
      "cell_type": "code",
      "source": [
        "# Run the sampler job locally using FakeManilaV2\n",
        "fake_manila = FakeManilaV2()\n",
        "\n",
        "# Define options for the simulator\n",
        "options = {\"simulator\": {\"seed_simulator\": 42}}\n",
        "\n",
        "# Create a Sampler object with the fake backend and the defined options\n",
        "sampler = Sampler(backend=fake_manila, options=options)\n",
        "\n",
        "# Create an Estimator object with the fake backend and the defined options\n",
        "estimator = Estimator(backend=fake_manila, options=options)\n",
        "\n",
        "# Define the ansatz (trial wavefunction) using the UCCSD (Unitary Coupled Cluster Singles and Doubles) method\n",
        "ansatz = UCCSD(\n",
        "    problem.num_spatial_orbitals,  # Number of spatial orbitals in the molecule\n",
        "    problem.num_particles,         # Number of particles (electrons) in the molecule\n",
        "    mapper,                        # Object that maps fermionic operators to qubit operators\n",
        "    initial_state=HartreeFock(     # The initial state is set to the Hartree-Fock state\n",
        "        problem.num_spatial_orbitals,  # Number of spatial orbitals\n",
        "        problem.num_particles,         # Number of particles (electrons)\n",
        "        mapper,                        # Mapper for fermionic to qubit operator conversion\n",
        "    ),\n",
        ")\n"
      ],
      "metadata": {
        "id": "V3OU25rbnN_6"
      },
      "execution_count": 8,
      "outputs": []
    },
    {
      "cell_type": "code",
      "source": [
        "# Number of particles after parity reduction (Z_2 symmetry reduction)\n",
        "problem.num_particles"
      ],
      "metadata": {
        "colab": {
          "base_uri": "https://localhost:8080/"
        },
        "id": "V8W7uzm5rEEY",
        "outputId": "3e8b5607-99d9-4505-e8ff-063e346da94b"
      },
      "execution_count": 9,
      "outputs": [
        {
          "output_type": "execute_result",
          "data": {
            "text/plain": [
              "(2, 2)"
            ]
          },
          "metadata": {},
          "execution_count": 9
        }
      ]
    },
    {
      "cell_type": "code",
      "source": [
        "# Set up the VQE solver with the estimator, ansatz, and SLSQP optimizer.\n",
        "vqe_solver = VQE(estimator, ansatz, SLSQP(maxiter=6,ftol = 1e-4))\n",
        "\n",
        "# Initialize the parameters for the VQE solver to zeros.\n",
        "vqe_solver.initial_point = [1.0] * ansatz.num_parameters\n",
        "\n",
        "# Create a ground state eigensolver using the given mapper and VQE solver.\n",
        "solver = GroundStateEigensolver(mapper, vqe_solver)\n",
        "\n",
        "# Solve the problem to find the ground state energy of the molecule.\n",
        "res = solver.solve(problem)\n",
        "\n",
        "# Output the computed total energy of the molecule's ground state.\n",
        "print(res.total_energies[0])"
      ],
      "metadata": {
        "colab": {
          "base_uri": "https://localhost:8080/",
          "height": 408
        },
        "id": "ElghR6YgrC_t",
        "outputId": "c5f290a6-147a-4490-efee-42b4daea5dae"
      },
      "execution_count": 15,
      "outputs": [
        {
          "output_type": "error",
          "ename": "AlgorithmError",
          "evalue": "'The primitive job to evaluate the energy failed!'",
          "traceback": [
            "\u001b[0;31m---------------------------------------------------------------------------\u001b[0m",
            "\u001b[0;31mCircuitTooWideForTarget\u001b[0m                   Traceback (most recent call last)",
            "\u001b[0;32m/usr/local/lib/python3.10/dist-packages/qiskit_algorithms/minimum_eigensolvers/vqe.py\u001b[0m in \u001b[0;36mevaluate_energy\u001b[0;34m(parameters)\u001b[0m\n\u001b[1;32m    265\u001b[0m                 \u001b[0mjob\u001b[0m \u001b[0;34m=\u001b[0m \u001b[0mself\u001b[0m\u001b[0;34m.\u001b[0m\u001b[0mestimator\u001b[0m\u001b[0;34m.\u001b[0m\u001b[0mrun\u001b[0m\u001b[0;34m(\u001b[0m\u001b[0mbatch_size\u001b[0m \u001b[0;34m*\u001b[0m \u001b[0;34m[\u001b[0m\u001b[0mansatz\u001b[0m\u001b[0;34m]\u001b[0m\u001b[0;34m,\u001b[0m \u001b[0mbatch_size\u001b[0m \u001b[0;34m*\u001b[0m \u001b[0;34m[\u001b[0m\u001b[0moperator\u001b[0m\u001b[0;34m]\u001b[0m\u001b[0;34m,\u001b[0m \u001b[0mparameters\u001b[0m\u001b[0;34m)\u001b[0m\u001b[0;34m\u001b[0m\u001b[0;34m\u001b[0m\u001b[0m\n\u001b[0;32m--> 266\u001b[0;31m                 \u001b[0mestimator_result\u001b[0m \u001b[0;34m=\u001b[0m \u001b[0mjob\u001b[0m\u001b[0;34m.\u001b[0m\u001b[0mresult\u001b[0m\u001b[0;34m(\u001b[0m\u001b[0;34m)\u001b[0m\u001b[0;34m\u001b[0m\u001b[0;34m\u001b[0m\u001b[0m\n\u001b[0m\u001b[1;32m    267\u001b[0m             \u001b[0;32mexcept\u001b[0m \u001b[0mException\u001b[0m \u001b[0;32mas\u001b[0m \u001b[0mexc\u001b[0m\u001b[0;34m:\u001b[0m\u001b[0;34m\u001b[0m\u001b[0;34m\u001b[0m\u001b[0m\n",
            "\u001b[0;32m/usr/local/lib/python3.10/dist-packages/qiskit/primitives/primitive_job.py\u001b[0m in \u001b[0;36mresult\u001b[0;34m(self)\u001b[0m\n\u001b[1;32m     50\u001b[0m         \u001b[0mself\u001b[0m\u001b[0;34m.\u001b[0m\u001b[0m_check_submitted\u001b[0m\u001b[0;34m(\u001b[0m\u001b[0;34m)\u001b[0m\u001b[0;34m\u001b[0m\u001b[0;34m\u001b[0m\u001b[0m\n\u001b[0;32m---> 51\u001b[0;31m         \u001b[0;32mreturn\u001b[0m \u001b[0mself\u001b[0m\u001b[0;34m.\u001b[0m\u001b[0m_future\u001b[0m\u001b[0;34m.\u001b[0m\u001b[0mresult\u001b[0m\u001b[0;34m(\u001b[0m\u001b[0;34m)\u001b[0m\u001b[0;34m\u001b[0m\u001b[0;34m\u001b[0m\u001b[0m\n\u001b[0m\u001b[1;32m     52\u001b[0m \u001b[0;34m\u001b[0m\u001b[0m\n",
            "\u001b[0;32m/usr/lib/python3.10/concurrent/futures/_base.py\u001b[0m in \u001b[0;36mresult\u001b[0;34m(self, timeout)\u001b[0m\n\u001b[1;32m    457\u001b[0m                 \u001b[0;32melif\u001b[0m \u001b[0mself\u001b[0m\u001b[0;34m.\u001b[0m\u001b[0m_state\u001b[0m \u001b[0;34m==\u001b[0m \u001b[0mFINISHED\u001b[0m\u001b[0;34m:\u001b[0m\u001b[0;34m\u001b[0m\u001b[0;34m\u001b[0m\u001b[0m\n\u001b[0;32m--> 458\u001b[0;31m                     \u001b[0;32mreturn\u001b[0m \u001b[0mself\u001b[0m\u001b[0;34m.\u001b[0m\u001b[0m__get_result\u001b[0m\u001b[0;34m(\u001b[0m\u001b[0;34m)\u001b[0m\u001b[0;34m\u001b[0m\u001b[0;34m\u001b[0m\u001b[0m\n\u001b[0m\u001b[1;32m    459\u001b[0m                 \u001b[0;32melse\u001b[0m\u001b[0;34m:\u001b[0m\u001b[0;34m\u001b[0m\u001b[0;34m\u001b[0m\u001b[0m\n",
            "\u001b[0;32m/usr/lib/python3.10/concurrent/futures/_base.py\u001b[0m in \u001b[0;36m__get_result\u001b[0;34m(self)\u001b[0m\n\u001b[1;32m    402\u001b[0m             \u001b[0;32mtry\u001b[0m\u001b[0;34m:\u001b[0m\u001b[0;34m\u001b[0m\u001b[0;34m\u001b[0m\u001b[0m\n\u001b[0;32m--> 403\u001b[0;31m                 \u001b[0;32mraise\u001b[0m \u001b[0mself\u001b[0m\u001b[0;34m.\u001b[0m\u001b[0m_exception\u001b[0m\u001b[0;34m\u001b[0m\u001b[0;34m\u001b[0m\u001b[0m\n\u001b[0m\u001b[1;32m    404\u001b[0m             \u001b[0;32mfinally\u001b[0m\u001b[0;34m:\u001b[0m\u001b[0;34m\u001b[0m\u001b[0;34m\u001b[0m\u001b[0m\n",
            "\u001b[0;32m/usr/lib/python3.10/concurrent/futures/thread.py\u001b[0m in \u001b[0;36mrun\u001b[0;34m(self)\u001b[0m\n\u001b[1;32m     57\u001b[0m         \u001b[0;32mtry\u001b[0m\u001b[0;34m:\u001b[0m\u001b[0;34m\u001b[0m\u001b[0;34m\u001b[0m\u001b[0m\n\u001b[0;32m---> 58\u001b[0;31m             \u001b[0mresult\u001b[0m \u001b[0;34m=\u001b[0m \u001b[0mself\u001b[0m\u001b[0;34m.\u001b[0m\u001b[0mfn\u001b[0m\u001b[0;34m(\u001b[0m\u001b[0;34m*\u001b[0m\u001b[0mself\u001b[0m\u001b[0;34m.\u001b[0m\u001b[0margs\u001b[0m\u001b[0;34m,\u001b[0m \u001b[0;34m**\u001b[0m\u001b[0mself\u001b[0m\u001b[0;34m.\u001b[0m\u001b[0mkwargs\u001b[0m\u001b[0;34m)\u001b[0m\u001b[0;34m\u001b[0m\u001b[0;34m\u001b[0m\u001b[0m\n\u001b[0m\u001b[1;32m     59\u001b[0m         \u001b[0;32mexcept\u001b[0m \u001b[0mBaseException\u001b[0m \u001b[0;32mas\u001b[0m \u001b[0mexc\u001b[0m\u001b[0;34m:\u001b[0m\u001b[0;34m\u001b[0m\u001b[0;34m\u001b[0m\u001b[0m\n",
            "\u001b[0;32m/usr/local/lib/python3.10/dist-packages/qiskit/primitives/backend_estimator.py\u001b[0m in \u001b[0;36m_call\u001b[0;34m(self, circuits, observables, parameter_values, **run_options)\u001b[0m\n\u001b[1;32m    241\u001b[0m         \u001b[0mself\u001b[0m\u001b[0;34m.\u001b[0m\u001b[0m_grouping\u001b[0m \u001b[0;34m=\u001b[0m \u001b[0mlist\u001b[0m\u001b[0;34m(\u001b[0m\u001b[0mzip\u001b[0m\u001b[0;34m(\u001b[0m\u001b[0mcircuits\u001b[0m\u001b[0;34m,\u001b[0m \u001b[0mobservables\u001b[0m\u001b[0;34m)\u001b[0m\u001b[0;34m)\u001b[0m\u001b[0;34m\u001b[0m\u001b[0;34m\u001b[0m\u001b[0m\n\u001b[0;32m--> 242\u001b[0;31m         \u001b[0mtranspiled_circuits\u001b[0m \u001b[0;34m=\u001b[0m \u001b[0mself\u001b[0m\u001b[0;34m.\u001b[0m\u001b[0mtranspiled_circuits\u001b[0m\u001b[0;34m\u001b[0m\u001b[0;34m\u001b[0m\u001b[0m\n\u001b[0m\u001b[1;32m    243\u001b[0m         \u001b[0mnum_observables\u001b[0m \u001b[0;34m=\u001b[0m \u001b[0;34m[\u001b[0m\u001b[0mlen\u001b[0m\u001b[0;34m(\u001b[0m\u001b[0mm\u001b[0m\u001b[0;34m)\u001b[0m \u001b[0;32mfor\u001b[0m \u001b[0;34m(\u001b[0m\u001b[0m_\u001b[0m\u001b[0;34m,\u001b[0m \u001b[0mm\u001b[0m\u001b[0;34m)\u001b[0m \u001b[0;32min\u001b[0m \u001b[0mself\u001b[0m\u001b[0;34m.\u001b[0m\u001b[0mpreprocessed_circuits\u001b[0m\u001b[0;34m]\u001b[0m\u001b[0;34m\u001b[0m\u001b[0;34m\u001b[0m\u001b[0m\n",
            "\u001b[0;32m/usr/local/lib/python3.10/dist-packages/qiskit/primitives/backend_estimator.py\u001b[0m in \u001b[0;36mtranspiled_circuits\u001b[0;34m(self)\u001b[0m\n\u001b[1;32m    180\u001b[0m         \"\"\"\n\u001b[0;32m--> 181\u001b[0;31m         \u001b[0mself\u001b[0m\u001b[0;34m.\u001b[0m\u001b[0m_transpile\u001b[0m\u001b[0;34m(\u001b[0m\u001b[0;34m)\u001b[0m\u001b[0;34m\u001b[0m\u001b[0;34m\u001b[0m\u001b[0m\n\u001b[0m\u001b[1;32m    182\u001b[0m         \u001b[0;32mreturn\u001b[0m \u001b[0mself\u001b[0m\u001b[0;34m.\u001b[0m\u001b[0m_transpiled_circuits\u001b[0m\u001b[0;34m\u001b[0m\u001b[0;34m\u001b[0m\u001b[0m\n",
            "\u001b[0;32m/usr/local/lib/python3.10/dist-packages/qiskit/primitives/backend_estimator.py\u001b[0m in \u001b[0;36m_transpile\u001b[0;34m(self)\u001b[0m\n\u001b[1;32m    200\u001b[0m             \u001b[0;32melse\u001b[0m\u001b[0;34m:\u001b[0m\u001b[0;34m\u001b[0m\u001b[0;34m\u001b[0m\u001b[0m\n\u001b[0;32m--> 201\u001b[0;31m                 transpiled_circuit = transpile(\n\u001b[0m\u001b[1;32m    202\u001b[0m                     \u001b[0mcommon_circuit\u001b[0m\u001b[0;34m,\u001b[0m \u001b[0mself\u001b[0m\u001b[0;34m.\u001b[0m\u001b[0mbackend\u001b[0m\u001b[0;34m,\u001b[0m \u001b[0;34m**\u001b[0m\u001b[0mself\u001b[0m\u001b[0;34m.\u001b[0m\u001b[0mtranspile_options\u001b[0m\u001b[0;34m.\u001b[0m\u001b[0m__dict__\u001b[0m\u001b[0;34m\u001b[0m\u001b[0;34m\u001b[0m\u001b[0m\n",
            "\u001b[0;32m/usr/local/lib/python3.10/dist-packages/qiskit/compiler/transpiler.py\u001b[0m in \u001b[0;36mtranspile\u001b[0;34m(circuits, backend, basis_gates, inst_map, coupling_map, backend_properties, initial_layout, layout_method, routing_method, translation_method, scheduling_method, instruction_durations, dt, approximation_degree, timing_constraints, seed_transpiler, optimization_level, callback, output_name, unitary_synthesis_method, unitary_synthesis_plugin_config, target, hls_config, init_method, optimization_method, ignore_backend_supplied_default_methods, num_processes)\u001b[0m\n\u001b[1;32m    378\u001b[0m \u001b[0;34m\u001b[0m\u001b[0m\n\u001b[0;32m--> 379\u001b[0;31m     \u001b[0m_check_circuits_coupling_map\u001b[0m\u001b[0;34m(\u001b[0m\u001b[0mcircuits\u001b[0m\u001b[0;34m,\u001b[0m \u001b[0mcoupling_map\u001b[0m\u001b[0;34m,\u001b[0m \u001b[0mbackend\u001b[0m\u001b[0;34m)\u001b[0m\u001b[0;34m\u001b[0m\u001b[0;34m\u001b[0m\u001b[0m\n\u001b[0m\u001b[1;32m    380\u001b[0m \u001b[0;34m\u001b[0m\u001b[0m\n",
            "\u001b[0;32m/usr/local/lib/python3.10/dist-packages/qiskit/compiler/transpiler.py\u001b[0m in \u001b[0;36m_check_circuits_coupling_map\u001b[0;34m(circuits, cmap, backend)\u001b[0m\n\u001b[1;32m    442\u001b[0m         \u001b[0;32mif\u001b[0m \u001b[0mmax_qubits\u001b[0m \u001b[0;32mis\u001b[0m \u001b[0;32mnot\u001b[0m \u001b[0;32mNone\u001b[0m \u001b[0;32mand\u001b[0m \u001b[0;34m(\u001b[0m\u001b[0mnum_qubits\u001b[0m \u001b[0;34m>\u001b[0m \u001b[0mmax_qubits\u001b[0m\u001b[0;34m)\u001b[0m\u001b[0;34m:\u001b[0m\u001b[0;34m\u001b[0m\u001b[0;34m\u001b[0m\u001b[0m\n\u001b[0;32m--> 443\u001b[0;31m             raise CircuitTooWideForTarget(\n\u001b[0m\u001b[1;32m    444\u001b[0m                 \u001b[0;34mf\"Number of qubits ({num_qubits}) in {circuit.name} \"\u001b[0m\u001b[0;34m\u001b[0m\u001b[0;34m\u001b[0m\u001b[0m\n",
            "\u001b[0;31mCircuitTooWideForTarget\u001b[0m: 'Number of qubits (12) in EvolvedOps is greater than maximum (5) in the coupling_map'",
            "\nThe above exception was the direct cause of the following exception:\n",
            "\u001b[0;31mAlgorithmError\u001b[0m                            Traceback (most recent call last)",
            "\u001b[0;32m<ipython-input-15-ce5020cc5d70>\u001b[0m in \u001b[0;36m<cell line: 11>\u001b[0;34m()\u001b[0m\n\u001b[1;32m      9\u001b[0m \u001b[0;34m\u001b[0m\u001b[0m\n\u001b[1;32m     10\u001b[0m \u001b[0;31m# Solve the problem to find the ground state energy of the molecule.\u001b[0m\u001b[0;34m\u001b[0m\u001b[0;34m\u001b[0m\u001b[0m\n\u001b[0;32m---> 11\u001b[0;31m \u001b[0mres\u001b[0m \u001b[0;34m=\u001b[0m \u001b[0msolver\u001b[0m\u001b[0;34m.\u001b[0m\u001b[0msolve\u001b[0m\u001b[0;34m(\u001b[0m\u001b[0mproblem\u001b[0m\u001b[0;34m)\u001b[0m\u001b[0;34m\u001b[0m\u001b[0;34m\u001b[0m\u001b[0m\n\u001b[0m\u001b[1;32m     12\u001b[0m \u001b[0;34m\u001b[0m\u001b[0m\n\u001b[1;32m     13\u001b[0m \u001b[0;31m# Output the computed total energy of the molecule's ground state.\u001b[0m\u001b[0;34m\u001b[0m\u001b[0;34m\u001b[0m\u001b[0m\n",
            "\u001b[0;32m/usr/local/lib/python3.10/dist-packages/qiskit_nature/second_q/algorithms/ground_state_solvers/ground_state_eigensolver.py\u001b[0m in \u001b[0;36msolve\u001b[0;34m(self, problem, aux_operators)\u001b[0m\n\u001b[1;32m     71\u001b[0m         \"\"\"\n\u001b[1;32m     72\u001b[0m         \u001b[0mmain_operator\u001b[0m\u001b[0;34m,\u001b[0m \u001b[0maux_ops\u001b[0m \u001b[0;34m=\u001b[0m \u001b[0mself\u001b[0m\u001b[0;34m.\u001b[0m\u001b[0mget_qubit_operators\u001b[0m\u001b[0;34m(\u001b[0m\u001b[0mproblem\u001b[0m\u001b[0;34m,\u001b[0m \u001b[0maux_operators\u001b[0m\u001b[0;34m)\u001b[0m\u001b[0;34m\u001b[0m\u001b[0;34m\u001b[0m\u001b[0m\n\u001b[0;32m---> 73\u001b[0;31m         \u001b[0mraw_mes_result\u001b[0m \u001b[0;34m=\u001b[0m \u001b[0mself\u001b[0m\u001b[0;34m.\u001b[0m\u001b[0msolver\u001b[0m\u001b[0;34m.\u001b[0m\u001b[0mcompute_minimum_eigenvalue\u001b[0m\u001b[0;34m(\u001b[0m\u001b[0mmain_operator\u001b[0m\u001b[0;34m,\u001b[0m \u001b[0maux_ops\u001b[0m\u001b[0;34m)\u001b[0m\u001b[0;34m\u001b[0m\u001b[0;34m\u001b[0m\u001b[0m\n\u001b[0m\u001b[1;32m     74\u001b[0m \u001b[0;34m\u001b[0m\u001b[0m\n\u001b[1;32m     75\u001b[0m         \u001b[0meigenstate_result\u001b[0m \u001b[0;34m=\u001b[0m \u001b[0mEigenstateResult\u001b[0m\u001b[0;34m.\u001b[0m\u001b[0mfrom_result\u001b[0m\u001b[0;34m(\u001b[0m\u001b[0mraw_mes_result\u001b[0m\u001b[0;34m)\u001b[0m\u001b[0;34m\u001b[0m\u001b[0;34m\u001b[0m\u001b[0m\n",
            "\u001b[0;32m/usr/local/lib/python3.10/dist-packages/qiskit_algorithms/minimum_eigensolvers/vqe.py\u001b[0m in \u001b[0;36mcompute_minimum_eigenvalue\u001b[0;34m(self, operator, aux_operators)\u001b[0m\n\u001b[1;32m    192\u001b[0m             \u001b[0mwas_updated\u001b[0m \u001b[0;34m=\u001b[0m \u001b[0m_set_default_batchsize\u001b[0m\u001b[0;34m(\u001b[0m\u001b[0mself\u001b[0m\u001b[0;34m.\u001b[0m\u001b[0moptimizer\u001b[0m\u001b[0;34m)\u001b[0m\u001b[0;34m\u001b[0m\u001b[0;34m\u001b[0m\u001b[0m\n\u001b[1;32m    193\u001b[0m \u001b[0;34m\u001b[0m\u001b[0m\n\u001b[0;32m--> 194\u001b[0;31m             optimizer_result = self.optimizer.minimize(\n\u001b[0m\u001b[1;32m    195\u001b[0m                 \u001b[0mfun\u001b[0m\u001b[0;34m=\u001b[0m\u001b[0mevaluate_energy\u001b[0m\u001b[0;34m,\u001b[0m  \u001b[0;31m# type: ignore[arg-type]\u001b[0m\u001b[0;34m\u001b[0m\u001b[0;34m\u001b[0m\u001b[0m\n\u001b[1;32m    196\u001b[0m                 \u001b[0mx0\u001b[0m\u001b[0;34m=\u001b[0m\u001b[0minitial_point\u001b[0m\u001b[0;34m,\u001b[0m\u001b[0;34m\u001b[0m\u001b[0;34m\u001b[0m\u001b[0m\n",
            "\u001b[0;32m/usr/local/lib/python3.10/dist-packages/qiskit_algorithms/optimizers/scipy_optimizer.py\u001b[0m in \u001b[0;36mminimize\u001b[0;34m(self, fun, x0, jac, bounds)\u001b[0m\n\u001b[1;32m    146\u001b[0m             \u001b[0mself\u001b[0m\u001b[0;34m.\u001b[0m\u001b[0m_options\u001b[0m\u001b[0;34m[\u001b[0m\u001b[0;34m\"maxfun\"\u001b[0m\u001b[0;34m]\u001b[0m \u001b[0;34m=\u001b[0m \u001b[0mself\u001b[0m\u001b[0;34m.\u001b[0m\u001b[0m_options\u001b[0m\u001b[0;34m.\u001b[0m\u001b[0mpop\u001b[0m\u001b[0;34m(\u001b[0m\u001b[0;34m\"maxiter\"\u001b[0m\u001b[0;34m)\u001b[0m\u001b[0;34m\u001b[0m\u001b[0;34m\u001b[0m\u001b[0m\n\u001b[1;32m    147\u001b[0m \u001b[0;34m\u001b[0m\u001b[0m\n\u001b[0;32m--> 148\u001b[0;31m         raw_result = minimize(\n\u001b[0m\u001b[1;32m    149\u001b[0m             \u001b[0mfun\u001b[0m\u001b[0;34m=\u001b[0m\u001b[0mfun\u001b[0m\u001b[0;34m,\u001b[0m\u001b[0;34m\u001b[0m\u001b[0;34m\u001b[0m\u001b[0m\n\u001b[1;32m    150\u001b[0m             \u001b[0mx0\u001b[0m\u001b[0;34m=\u001b[0m\u001b[0mx0\u001b[0m\u001b[0;34m,\u001b[0m\u001b[0;34m\u001b[0m\u001b[0;34m\u001b[0m\u001b[0m\n",
            "\u001b[0;32m/usr/local/lib/python3.10/dist-packages/scipy/optimize/_minimize.py\u001b[0m in \u001b[0;36mminimize\u001b[0;34m(fun, x0, args, method, jac, hess, hessp, bounds, constraints, tol, callback, options)\u001b[0m\n\u001b[1;32m    717\u001b[0m                                bounds=bounds, **options)\n\u001b[1;32m    718\u001b[0m     \u001b[0;32melif\u001b[0m \u001b[0mmeth\u001b[0m \u001b[0;34m==\u001b[0m \u001b[0;34m'slsqp'\u001b[0m\u001b[0;34m:\u001b[0m\u001b[0;34m\u001b[0m\u001b[0;34m\u001b[0m\u001b[0m\n\u001b[0;32m--> 719\u001b[0;31m         res = _minimize_slsqp(fun, x0, args, jac, bounds,\n\u001b[0m\u001b[1;32m    720\u001b[0m                               constraints, callback=callback, **options)\n\u001b[1;32m    721\u001b[0m     \u001b[0;32melif\u001b[0m \u001b[0mmeth\u001b[0m \u001b[0;34m==\u001b[0m \u001b[0;34m'trust-constr'\u001b[0m\u001b[0;34m:\u001b[0m\u001b[0;34m\u001b[0m\u001b[0;34m\u001b[0m\u001b[0m\n",
            "\u001b[0;32m/usr/local/lib/python3.10/dist-packages/scipy/optimize/_slsqp_py.py\u001b[0m in \u001b[0;36m_minimize_slsqp\u001b[0;34m(func, x0, args, jac, bounds, constraints, maxiter, ftol, iprint, disp, eps, callback, finite_diff_rel_step, **unknown_options)\u001b[0m\n\u001b[1;32m    372\u001b[0m \u001b[0;34m\u001b[0m\u001b[0m\n\u001b[1;32m    373\u001b[0m     \u001b[0;31m# ScalarFunction provides function and gradient evaluation\u001b[0m\u001b[0;34m\u001b[0m\u001b[0;34m\u001b[0m\u001b[0m\n\u001b[0;32m--> 374\u001b[0;31m     sf = _prepare_scalar_function(func, x, jac=jac, args=args, epsilon=eps,\n\u001b[0m\u001b[1;32m    375\u001b[0m                                   \u001b[0mfinite_diff_rel_step\u001b[0m\u001b[0;34m=\u001b[0m\u001b[0mfinite_diff_rel_step\u001b[0m\u001b[0;34m,\u001b[0m\u001b[0;34m\u001b[0m\u001b[0;34m\u001b[0m\u001b[0m\n\u001b[1;32m    376\u001b[0m                                   bounds=new_bounds)\n",
            "\u001b[0;32m/usr/local/lib/python3.10/dist-packages/scipy/optimize/_optimize.py\u001b[0m in \u001b[0;36m_prepare_scalar_function\u001b[0;34m(fun, x0, jac, args, bounds, epsilon, finite_diff_rel_step, hess)\u001b[0m\n\u001b[1;32m    381\u001b[0m     \u001b[0;31m# ScalarFunction caches. Reuse of fun(x) during grad\u001b[0m\u001b[0;34m\u001b[0m\u001b[0;34m\u001b[0m\u001b[0m\n\u001b[1;32m    382\u001b[0m     \u001b[0;31m# calculation reduces overall function evaluations.\u001b[0m\u001b[0;34m\u001b[0m\u001b[0;34m\u001b[0m\u001b[0m\n\u001b[0;32m--> 383\u001b[0;31m     sf = ScalarFunction(fun, x0, args, grad, hess,\n\u001b[0m\u001b[1;32m    384\u001b[0m                         finite_diff_rel_step, bounds, epsilon=epsilon)\n\u001b[1;32m    385\u001b[0m \u001b[0;34m\u001b[0m\u001b[0m\n",
            "\u001b[0;32m/usr/local/lib/python3.10/dist-packages/scipy/optimize/_differentiable_functions.py\u001b[0m in \u001b[0;36m__init__\u001b[0;34m(self, fun, x0, args, grad, hess, finite_diff_rel_step, finite_diff_bounds, epsilon)\u001b[0m\n\u001b[1;32m    156\u001b[0m \u001b[0;34m\u001b[0m\u001b[0m\n\u001b[1;32m    157\u001b[0m         \u001b[0mself\u001b[0m\u001b[0;34m.\u001b[0m\u001b[0m_update_fun_impl\u001b[0m \u001b[0;34m=\u001b[0m \u001b[0mupdate_fun\u001b[0m\u001b[0;34m\u001b[0m\u001b[0;34m\u001b[0m\u001b[0m\n\u001b[0;32m--> 158\u001b[0;31m         \u001b[0mself\u001b[0m\u001b[0;34m.\u001b[0m\u001b[0m_update_fun\u001b[0m\u001b[0;34m(\u001b[0m\u001b[0;34m)\u001b[0m\u001b[0;34m\u001b[0m\u001b[0;34m\u001b[0m\u001b[0m\n\u001b[0m\u001b[1;32m    159\u001b[0m \u001b[0;34m\u001b[0m\u001b[0m\n\u001b[1;32m    160\u001b[0m         \u001b[0;31m# Gradient evaluation\u001b[0m\u001b[0;34m\u001b[0m\u001b[0;34m\u001b[0m\u001b[0m\n",
            "\u001b[0;32m/usr/local/lib/python3.10/dist-packages/scipy/optimize/_differentiable_functions.py\u001b[0m in \u001b[0;36m_update_fun\u001b[0;34m(self)\u001b[0m\n\u001b[1;32m    249\u001b[0m     \u001b[0;32mdef\u001b[0m \u001b[0m_update_fun\u001b[0m\u001b[0;34m(\u001b[0m\u001b[0mself\u001b[0m\u001b[0;34m)\u001b[0m\u001b[0;34m:\u001b[0m\u001b[0;34m\u001b[0m\u001b[0;34m\u001b[0m\u001b[0m\n\u001b[1;32m    250\u001b[0m         \u001b[0;32mif\u001b[0m \u001b[0;32mnot\u001b[0m \u001b[0mself\u001b[0m\u001b[0;34m.\u001b[0m\u001b[0mf_updated\u001b[0m\u001b[0;34m:\u001b[0m\u001b[0;34m\u001b[0m\u001b[0;34m\u001b[0m\u001b[0m\n\u001b[0;32m--> 251\u001b[0;31m             \u001b[0mself\u001b[0m\u001b[0;34m.\u001b[0m\u001b[0m_update_fun_impl\u001b[0m\u001b[0;34m(\u001b[0m\u001b[0;34m)\u001b[0m\u001b[0;34m\u001b[0m\u001b[0;34m\u001b[0m\u001b[0m\n\u001b[0m\u001b[1;32m    252\u001b[0m             \u001b[0mself\u001b[0m\u001b[0;34m.\u001b[0m\u001b[0mf_updated\u001b[0m \u001b[0;34m=\u001b[0m \u001b[0;32mTrue\u001b[0m\u001b[0;34m\u001b[0m\u001b[0;34m\u001b[0m\u001b[0m\n\u001b[1;32m    253\u001b[0m \u001b[0;34m\u001b[0m\u001b[0m\n",
            "\u001b[0;32m/usr/local/lib/python3.10/dist-packages/scipy/optimize/_differentiable_functions.py\u001b[0m in \u001b[0;36mupdate_fun\u001b[0;34m()\u001b[0m\n\u001b[1;32m    153\u001b[0m \u001b[0;34m\u001b[0m\u001b[0m\n\u001b[1;32m    154\u001b[0m         \u001b[0;32mdef\u001b[0m \u001b[0mupdate_fun\u001b[0m\u001b[0;34m(\u001b[0m\u001b[0;34m)\u001b[0m\u001b[0;34m:\u001b[0m\u001b[0;34m\u001b[0m\u001b[0;34m\u001b[0m\u001b[0m\n\u001b[0;32m--> 155\u001b[0;31m             \u001b[0mself\u001b[0m\u001b[0;34m.\u001b[0m\u001b[0mf\u001b[0m \u001b[0;34m=\u001b[0m \u001b[0mfun_wrapped\u001b[0m\u001b[0;34m(\u001b[0m\u001b[0mself\u001b[0m\u001b[0;34m.\u001b[0m\u001b[0mx\u001b[0m\u001b[0;34m)\u001b[0m\u001b[0;34m\u001b[0m\u001b[0;34m\u001b[0m\u001b[0m\n\u001b[0m\u001b[1;32m    156\u001b[0m \u001b[0;34m\u001b[0m\u001b[0m\n\u001b[1;32m    157\u001b[0m         \u001b[0mself\u001b[0m\u001b[0;34m.\u001b[0m\u001b[0m_update_fun_impl\u001b[0m \u001b[0;34m=\u001b[0m \u001b[0mupdate_fun\u001b[0m\u001b[0;34m\u001b[0m\u001b[0;34m\u001b[0m\u001b[0m\n",
            "\u001b[0;32m/usr/local/lib/python3.10/dist-packages/scipy/optimize/_differentiable_functions.py\u001b[0m in \u001b[0;36mfun_wrapped\u001b[0;34m(x)\u001b[0m\n\u001b[1;32m    135\u001b[0m             \u001b[0;31m# Overwriting results in undefined behaviour because\u001b[0m\u001b[0;34m\u001b[0m\u001b[0;34m\u001b[0m\u001b[0m\n\u001b[1;32m    136\u001b[0m             \u001b[0;31m# fun(self.x) will change self.x, with the two no longer linked.\u001b[0m\u001b[0;34m\u001b[0m\u001b[0;34m\u001b[0m\u001b[0m\n\u001b[0;32m--> 137\u001b[0;31m             \u001b[0mfx\u001b[0m \u001b[0;34m=\u001b[0m \u001b[0mfun\u001b[0m\u001b[0;34m(\u001b[0m\u001b[0mnp\u001b[0m\u001b[0;34m.\u001b[0m\u001b[0mcopy\u001b[0m\u001b[0;34m(\u001b[0m\u001b[0mx\u001b[0m\u001b[0;34m)\u001b[0m\u001b[0;34m,\u001b[0m \u001b[0;34m*\u001b[0m\u001b[0margs\u001b[0m\u001b[0;34m)\u001b[0m\u001b[0;34m\u001b[0m\u001b[0;34m\u001b[0m\u001b[0m\n\u001b[0m\u001b[1;32m    138\u001b[0m             \u001b[0;31m# Make sure the function returns a true scalar\u001b[0m\u001b[0;34m\u001b[0m\u001b[0;34m\u001b[0m\u001b[0m\n\u001b[1;32m    139\u001b[0m             \u001b[0;32mif\u001b[0m \u001b[0;32mnot\u001b[0m \u001b[0mnp\u001b[0m\u001b[0;34m.\u001b[0m\u001b[0misscalar\u001b[0m\u001b[0;34m(\u001b[0m\u001b[0mfx\u001b[0m\u001b[0;34m)\u001b[0m\u001b[0;34m:\u001b[0m\u001b[0;34m\u001b[0m\u001b[0;34m\u001b[0m\u001b[0m\n",
            "\u001b[0;32m/usr/local/lib/python3.10/dist-packages/qiskit_algorithms/minimum_eigensolvers/vqe.py\u001b[0m in \u001b[0;36mevaluate_energy\u001b[0;34m(parameters)\u001b[0m\n\u001b[1;32m    266\u001b[0m                 \u001b[0mestimator_result\u001b[0m \u001b[0;34m=\u001b[0m \u001b[0mjob\u001b[0m\u001b[0;34m.\u001b[0m\u001b[0mresult\u001b[0m\u001b[0;34m(\u001b[0m\u001b[0;34m)\u001b[0m\u001b[0;34m\u001b[0m\u001b[0;34m\u001b[0m\u001b[0m\n\u001b[1;32m    267\u001b[0m             \u001b[0;32mexcept\u001b[0m \u001b[0mException\u001b[0m \u001b[0;32mas\u001b[0m \u001b[0mexc\u001b[0m\u001b[0;34m:\u001b[0m\u001b[0;34m\u001b[0m\u001b[0;34m\u001b[0m\u001b[0m\n\u001b[0;32m--> 268\u001b[0;31m                 \u001b[0;32mraise\u001b[0m \u001b[0mAlgorithmError\u001b[0m\u001b[0;34m(\u001b[0m\u001b[0;34m\"The primitive job to evaluate the energy failed!\"\u001b[0m\u001b[0;34m)\u001b[0m \u001b[0;32mfrom\u001b[0m \u001b[0mexc\u001b[0m\u001b[0;34m\u001b[0m\u001b[0;34m\u001b[0m\u001b[0m\n\u001b[0m\u001b[1;32m    269\u001b[0m \u001b[0;34m\u001b[0m\u001b[0m\n\u001b[1;32m    270\u001b[0m             \u001b[0mvalues\u001b[0m \u001b[0;34m=\u001b[0m \u001b[0mestimator_result\u001b[0m\u001b[0;34m.\u001b[0m\u001b[0mvalues\u001b[0m\u001b[0;34m\u001b[0m\u001b[0;34m\u001b[0m\u001b[0m\n",
            "\u001b[0;31mAlgorithmError\u001b[0m: 'The primitive job to evaluate the energy failed!'"
          ]
        }
      ]
    },
    {
      "cell_type": "code",
      "source": [
        "numpy_solver = NumPyMinimumEigensolver()\n",
        "\n",
        "# Create a ground state eigensolver using the given mapper and Numpy solver.\n",
        "calc = GroundStateEigensolver(mapper, numpy_solver)\n",
        "# Solve the problem to find the ground state energy of the molecule.\n",
        "res = calc.solve(problem)\n",
        "# Output the computed total energy of the molecule's ground state.\n",
        "print(res.total_energies[0])\n"
      ],
      "metadata": {
        "colab": {
          "base_uri": "https://localhost:8080/"
        },
        "id": "gtaZ4ccarSUa",
        "outputId": "328a663e-a3ac-4e3d-9aef-416554aac74f"
      },
      "execution_count": 16,
      "outputs": [
        {
          "output_type": "stream",
          "name": "stdout",
          "text": [
            "-15.594427466321344\n"
          ]
        }
      ]
    },
    {
      "cell_type": "code",
      "source": [
        "# Using the original problem (without reduction) and Numpy solver\n",
        "res = calc.solve(properties)\n",
        "print(res.total_energies[0])"
      ],
      "metadata": {
        "colab": {
          "base_uri": "https://localhost:8080/"
        },
        "id": "GQMUf8qgrnbS",
        "outputId": "85ae44a4-d1f3-4dfc-c838-c5b17d980c16"
      },
      "execution_count": 13,
      "outputs": [
        {
          "output_type": "stream",
          "name": "stdout",
          "text": [
            "-15.594763661655383\n"
          ]
        }
      ]
    },
    {
      "cell_type": "markdown",
      "source": [
        "## USING IBM BACKEND"
      ],
      "metadata": {
        "id": "EkivqgQLtMZ5"
      }
    },
    {
      "cell_type": "code",
      "source": [
        "IBMQ.save_account('')\n",
        "service = QiskitRuntimeService()"
      ],
      "metadata": {
        "id": "ev416OYkX-lP"
      },
      "execution_count": null,
      "outputs": []
    },
    {
      "cell_type": "code",
      "source": [
        "backend = service.backends(simulator=True)[0]\n",
        "noisy_sim = FakeGuadalupe()\n",
        "#for running on real quantum device\n",
        "#backend = 'ibmq_guadalupe'\n",
        "\n",
        "\n",
        "print(backend)"
      ],
      "metadata": {
        "id": "C_z3qNQyYA8Y"
      },
      "execution_count": null,
      "outputs": []
    },
    {
      "cell_type": "code",
      "source": [
        "service = QiskitRuntimeService(\n",
        "    channel='ibm_quantum',\n",
        "    instance='qhack-event/main/level-2-team-1',\n",
        ")"
      ],
      "metadata": {
        "id": "SLXeyX96YDqO"
      },
      "execution_count": null,
      "outputs": []
    },
    {
      "cell_type": "code",
      "source": [
        "noise_model = NoiseModel.from_backend(noisy_sim)\n",
        "\n",
        "options_with_em = Options(\n",
        "    simulator={\n",
        "        \"noise_model\": noise_model,\n",
        "        \"seed_simulator\": 42,\n",
        "    },\n",
        "    resilience_level=1 # You may change the value here. resilience_level = 1 will activate TREX\n",
        ")\n",
        "\n",
        "\n",
        "#for running on real quantum device\n",
        "#options_with_em = Options(resilience_level=1 # You may change the value here. resilience_level = 1 will activate TREX\n",
        "#)"
      ],
      "metadata": {
        "id": "-goTLXDtYIxg"
      },
      "execution_count": null,
      "outputs": []
    },
    {
      "cell_type": "code",
      "source": [
        "%%time\n",
        "from qiskit.utils import algorithm_globals\n",
        "algorithm_globals.random_seed = 1024\n",
        "\n",
        "# Define convergence list\n",
        "convergence = []\n",
        "\n",
        "# Keep track of jobs (Do-not-modify)\n",
        "job_list = []\n",
        "\n",
        "# Initialize estimator object\n",
        "#estimator = Estimator()# Enter your code here\n",
        "\n",
        "# Define evaluate_expectation function\n",
        "def evaluate_expectation(x):\n",
        "    x = list(x)\n",
        "\n",
        "    # Define estimator run parameters\n",
        "    #### enter your code below ####\n",
        "\n",
        "\n",
        "\n",
        "    with Session(service=service, backend=backend):\n",
        "      estimator = Estimator(options=options_with_em)\n",
        "      job = estimator.run(circuits=[ansatz], parameter_values=[x],observables=qubit_op_parity).result()\n",
        "      results = job.values[0]\n",
        "      job_list.append(job)\n",
        "\n",
        "\n",
        "    # Pass results back to callback function\n",
        "    return np.real(results)\n",
        "\n",
        "\n",
        "\n",
        "# Call back function\n",
        "def callback(x,fx,ax,tx,nx):\n",
        "    # Callback function to get a view on internal states and statistics of the optimizer for visualization\n",
        "    convergence.append(evaluate_expectation(fx))\n",
        "\n",
        "np.random.seed(10)\n",
        "\n",
        "# Define initial point. We shall define a random point here based on the number of parameters in our ansatz\n",
        "initial_point = np.random.random(ansatz.num_parameters)\n",
        "\n",
        "#### enter your code below ####\n",
        "# Define optimizer and pass callback function\n",
        "optimizer = SPSA(maxiter = 50, callback=callback) # ----------- Enter your code here\n",
        "\n",
        "# Define minimize function\n",
        "result =  optimizer.minimize(evaluate_expectation, x0=initial_point) # ----------- Enter your code here"
      ],
      "metadata": {
        "id": "XMRWN9QcYZMB"
      },
      "execution_count": null,
      "outputs": []
    },
    {
      "cell_type": "code",
      "source": [
        "Energy_H_t = []\n",
        "for i in range(len(convergence)):\n",
        "    sol = MinimumEigensolverResult()\n",
        "    sol.eigenvalue = convergence[i]\n",
        "    sol = problem_reduced.interpret(sol).total_energies[0]\n",
        "    Energy_H_t.append(sol)\n",
        "print(\"Computed Energy:\", Energy_H_t[-1])"
      ],
      "metadata": {
        "id": "pKkzOnRnZRjZ"
      },
      "execution_count": null,
      "outputs": []
    },
    {
      "cell_type": "code",
      "source": [
        "# The following plot compares the two Estimators - with and without noise\n",
        "\n",
        "plt.rcParams[\"font.size\"] = 14\n",
        "\n",
        "# plot loss and reference value\n",
        "plt.figure(figsize=(12, 6), facecolor='white')\n",
        "plt.plot(Energy_H_t, label=\"Estimator VQE BeH2+NOISY+TREX\")\n",
        "plt.axhline(y=real_solution_t.real, color=\"tab:red\", ls=\"--\", label=\"Target\")\n",
        "\n",
        "plt.legend(loc=\"best\")\n",
        "plt.xlabel(\"Iteration\")\n",
        "plt.ylabel(\"Energy [H]\")\n",
        "plt.title(\"VQE energy\")\n",
        "plt.show()\n",
        "\n",
        "print(Energy_H_t)\n",
        "print(real_solution_t.real)"
      ],
      "metadata": {
        "id": "VHEqVavpZVKO"
      },
      "execution_count": null,
      "outputs": []
    }
  ]
}