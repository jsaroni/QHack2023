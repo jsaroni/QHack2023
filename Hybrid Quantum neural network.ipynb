{
 "cells": [
  {
   "cell_type": "code",
   "execution_count": 10,
   "id": "f42f0e9a-b892-45f5-9461-1b3654bed546",
   "metadata": {},
   "outputs": [
    {
     "name": "stderr",
     "output_type": "stream",
     "text": [
      "ibmqfactory.load_account:WARNING:2023-02-26 23:00:09,324: Credentials are already in use. The existing account in the session will be replaced.\n"
     ]
    }
   ],
   "source": [
    "import numpy as np\n",
    "\n",
    "# Importing standard Qiskit libraries\n",
    "from qiskit import QuantumCircuit, transpile, Aer, IBMQ\n",
    "from qiskit.tools.jupyter import *\n",
    "from qiskit.visualization import *\n",
    "from ibm_quantum_widgets import *\n",
    "from qiskit.providers.aer import QasmSimulator\n",
    "\n",
    "# Loading your IBM Quantum account(s)\n",
    "provider = IBMQ.load_account()"
   ]
  },
  {
   "cell_type": "code",
   "execution_count": 11,
   "id": "4b238ca4-2f4e-4fbe-9c3b-7ae2b7f513d1",
   "metadata": {},
   "outputs": [],
   "source": [
    "import numpy as np\n",
    "from qiskit import QuantumCircuit, Aer\n",
    "from qiskit.circuit import Parameter\n",
    "from qiskit.opflow import StateFn, PauliSumOp\n",
    "from qiskit.utils import QuantumInstance\n",
    "from qiskit.algorithms.optimizers import SPSA\n",
    "from qiskit.algorithms import VQE\n"
   ]
  },
  {
   "cell_type": "code",
   "execution_count": 12,
   "id": "5b889036-f95c-42b2-92a5-92b2bd1b94b6",
   "metadata": {},
   "outputs": [],
   "source": [
    "# Define quantum layer\n",
    "def quantum_layer(x):\n",
    "    circuit = QuantumCircuit(2)\n",
    "    zz_map = ZZFeatureMap(2, reps=1)\n",
    "    zz_map.compose(circuit, inplace=True)\n",
    "    circuit.barrier()\n",
    "    theta = Parameter('theta')\n",
    "    circuit.rx(theta, range(2))\n",
    "    circuit.barrier()\n",
    "    circuit.cx(0, 1)\n",
    "    return circuit\n",
    "\n",
    "# Define PQC\n",
    "def pqc(theta):\n",
    "    circuit = QuantumCircuit(2)\n",
    "    circuit.compose(quantum_layer(0), inplace=True)\n",
    "    circuit.barrier()\n",
    "    circuit = circuit.bind_parameters({theta_i: theta[i] for i, theta_i in enumerate(theta)})\n",
    "    return circuit\n"
   ]
  },
  {
   "cell_type": "code",
   "execution_count": 13,
   "id": "5bbad892-7a1c-469d-9945-6ae0796c61f7",
   "metadata": {},
   "outputs": [],
   "source": [
    "# Define classical layer\n",
    "def classical_layer(x, weights):\n",
    "    layer1 = np.dot(x, weights[0]) + weights[1]\n",
    "    layer1_activation = np.maximum(layer1, 0)\n",
    "    layer2 = np.dot(layer1_activation, weights[2]) + weights[3]\n",
    "    return layer2\n"
   ]
  },
  {
   "cell_type": "code",
   "execution_count": 14,
   "id": "456b725b-f8fe-42e2-8539-a02df465bae2",
   "metadata": {},
   "outputs": [
    {
     "name": "stdout",
     "output_type": "stream",
     "text": [
      "Traceback \u001b[1;36m(most recent call last)\u001b[0m:\n",
      "  Input \u001b[0;32mIn [14]\u001b[0m in \u001b[0;35m<cell line: 7>\u001b[0m\n",
      "    circuit = pqc([bond_length]*3)\n",
      "  Input \u001b[0;32mIn [12]\u001b[0m in \u001b[0;35mpqc\u001b[0m\n",
      "    circuit.compose(quantum_layer(0), inplace=True)\n",
      "\u001b[1;36m  Input \u001b[1;32mIn [12]\u001b[1;36m in \u001b[1;35mquantum_layer\u001b[1;36m\u001b[0m\n",
      "\u001b[1;33m    zz_map = ZZFeatureMap(2, reps=1)\u001b[0m\n",
      "\u001b[1;31mNameError\u001b[0m\u001b[1;31m:\u001b[0m name 'ZZFeatureMap' is not defined\n",
      "\n",
      "Use %tb to get the full traceback.\n"
     ]
    },
    {
     "data": {
      "text/html": [
       "\n",
       "<style>\n",
       ".button {\n",
       "  border: none;\n",
       "  color: white;\n",
       "  padding: 4px 8px;\n",
       "  text-align: center;\n",
       "  text-decoration: none;\n",
       "  display: inline-block;\n",
       "  font-size: 12px;\n",
       "  margin: 4px 2px;\n",
       "  transition-duration: 0.2s;\n",
       "  cursor: pointer;\n",
       "}\n",
       ".iqx-button {\n",
       "  background-color: #0f62fe; \n",
       "  color: white; \n",
       "}\n",
       ".iqx-button:hover {\n",
       "  background-color: #0043ce;\n",
       "  color: white;\n",
       "}\n",
       "</style>\n",
       "<a href=\"https://stackoverflow.com/search?q=NameError: name 'ZZFeatureMap' is not defined\" target='_blank'><button class='button iqx-button'>Search for solution online</button></a>\n"
      ],
      "text/plain": [
       "<IPython.core.display.HTML object>"
      ]
     },
     "metadata": {},
     "output_type": "display_data"
    }
   ],
   "source": [
    "# Perform data encoding\n",
    "bond_length = 1.4\n",
    "\n",
    "backend = Aer.get_backend('statevector_simulator')\n",
    "quantum_instance = QuantumInstance(backend)\n",
    "\n",
    "circuit = pqc([bond_length]*3)\n",
    "psi = StateFn(circuit, is_measurement=True)\n",
    "expect_op = PauliSumOp.from_list([('Z'*2, 1)])\n",
    "expectation = (~psi @ expect_op @ psi).eval().real\n"
   ]
  },
  {
   "cell_type": "code",
   "execution_count": null,
   "id": "8bfba527-0ca4-4b81-83bd-ae68868e8b76",
   "metadata": {},
   "outputs": [],
   "source": [
    "# Define loss function\n",
    "def loss(theta):\n",
    "    circuit = pqc(theta)\n",
    "    psi = StateFn(circuit, is_measurement=True)\n",
    "    expect_op = PauliSumOp.from_list([('Z'*2, 1)])\n",
    "    expectation = (~psi @ expect_op @ psi).eval().real\n",
    "    return expectation\n",
    "\n",
    "# Optimize parameters using classical optimization techniques\n",
    "optimizer = SPSA(maxiter=100)\n",
    "vqe = VQE(expect_op, pqc, optimizer=optimizer, quantum_instance=quantum_instance)\n",
    "vqe_result = vqe.compute_minimum_eigenvalue()\n",
    "print(vqe_result.eigenvalue.real)\n"
   ]
  },
  {
   "cell_type": "code",
   "execution_count": null,
   "id": "0d0fa205-0be6-4684-b5d1-074c13de9dec",
   "metadata": {},
   "outputs": [],
   "source": [
    "!pip install pyscf\n",
    "from pyscf import gto, scf\n",
    "mol = gto.M(atom='Be 0 0 0; H 0 0 1.4', basis='sto3g')\n",
    "mf = scf.RHF(mol)\n",
    "mf_energy = mf.kernel()\n",
    "print(\"HF energy of BeH2 molecule: \", mf_energy)\n"
   ]
  },
  {
   "cell_type": "code",
   "execution_count": null,
   "id": "9d5ca505-d47b-4a64-93a7-74fa77503792",
   "metadata": {},
   "outputs": [],
   "source": [
    "!pip install qiskit_nature\n",
    "from qiskit_nature.drivers import PySCFDriver\n",
    "from qiskit_nature.transformers import ActiveSpaceTransformer\n",
    "from qiskit_nature.problems.second_quantization.electronic import ElectronicStructureProblem\n",
    "from qiskit_nature.converters.second_quantization.qubit_converter import QubitConverter\n",
    "\n",
    "# Define electronic structure problem\n",
    "driver = PySCFDriver(mol)\n",
    "escf = driver.run()\n",
    "problem = ElectronicStructureProblem(driver)\n",
    "\n",
    "# Define active space transformer\n",
    "num_particles = (problem.molecule_data_transformed.num_alpha,\n",
    "                 problem.molecule_data_transformed.num_beta)\n",
    "num_spin_orbitals = 2 * problem.molecule_data_transformed.num_molecular_orbitals\n",
    "remove_list = [i for i in range(num_spin_orbitals) if i not in range(4)]\n",
    "tr1 = ActiveSpaceTransformer(num_particles=num_particles, num_spin_orbitals=num_spin_orbitals, remove_orbitals=remove_list)\n",
    "problem = tr1.transform(problem)\n",
    "\n",
    "# Convert to qubits\n",
    "converter = QubitConverter(mapper_type='JordanWigner')\n",
    "qubit_op = converter.convert(problem.second_q_ops())\n"
   ]
  },
  {
   "cell_type": "code",
   "execution_count": null,
   "id": "b7ec6235-c8a1-4565-890a-d0a678991dfa",
   "metadata": {},
   "outputs": [],
   "source": [
    "# Define VQE algorithm\n",
    "backend = Aer.get_backend('statevector_simulator')\n",
    "quantum_instance = QuantumInstance(backend)\n",
    "\n",
    "optimizer = SPSA(maxiter=100)\n",
    "vqe = VQE(qubit_op, pqc, optimizer=optimizer, quantum_instance=quantum_instance)\n",
    "vqe_result = vqe.compute_minimum_eigenvalue()\n",
    "print(\"Ground state energy of BeH2 molecule: \", vqe_result.eigenvalue.real + mf_energy)\n"
   ]
  },
  {
   "cell_type": "code",
   "execution_count": null,
   "id": "6eac6eff-d1a8-4efe-a572-4f0ca3eb9596",
   "metadata": {},
   "outputs": [],
   "source": [
    "from qiskit.circuit.library import ZZFeatureMap\n",
    "\n",
    "num_qubits = 4\n",
    "reps = 2\n",
    "encoding_circuit = ZZFeatureMap(num_qubits, reps)\n"
   ]
  },
  {
   "cell_type": "code",
   "execution_count": null,
   "id": "77f126c2-16d1-4e21-9f71-50bcc6351e71",
   "metadata": {},
   "outputs": [],
   "source": [
    "from qiskit.circuit.library import RealAmplitudes\n",
    "\n",
    "pqc = RealAmplitudes(num_qubits, reps)\n"
   ]
  },
  {
   "cell_type": "code",
   "execution_count": null,
   "id": "6bcfc492-bcc2-4885-8e56-b0a8ca93cb05",
   "metadata": {},
   "outputs": [],
   "source": [
    "from qiskit.opflow import PauliSumOp, Z, I\n",
    "from qiskit.circuit import Parameter\n",
    "\n",
    "# Define the operator to measure\n",
    "op = PauliSumOp.from_list([(\"Z\" * num_qubits, 1.0)])\n",
    "coeff = Parameter('coeff')\n",
    "meas_op = coeff * op\n",
    "\n",
    "# Connect encoding circuit and PQC with measurements\n",
    "qubits = list(range(num_qubits))\n",
    "meas_circuit = encoding_circuit.bind_parameters({p: [qubits[i], qubits[i+1]] for i in range(num_qubits-1)})\n",
    "meas_circuit.measure_all()\n",
    "meas_pqc = pqc.bind_parameters({p: [qubits[i], qubits[i+1]] for i in range(num_qubits-1)})\n",
    "meas_pqc.measure_all()\n",
    "\n",
    "# Combine the encoding circuit, PQC, and measurement circuit\n",
    "qc = encoding_circuit.combine(meas_pqc).combine(meas_circuit)\n"
   ]
  },
  {
   "cell_type": "code",
   "execution_count": null,
   "id": "574c13ca-4ded-4762-90ee-dc68b73afe95",
   "metadata": {},
   "outputs": [],
   "source": [
    "from qiskit.circuit.library import TwoLayerPerceptron\n",
    "\n",
    "classical_nn = TwoLayerPerceptron(num_input_qubits=num_qubits, num_hidden_neurons=2, num_output_qubits=1, activation='relu')\n"
   ]
  },
  {
   "cell_type": "code",
   "execution_count": null,
   "id": "2736587c-148b-488b-aed3-c8209676e017",
   "metadata": {},
   "outputs": [],
   "source": [
    "from qiskit.opflow import StateFn\n",
    "from qiskit.algorithms.optimizers import GradientDescent\n",
    "\n",
    "# Define the cost function\n",
    "def cost_function(params):\n",
    "    # Update the parameters in the quantum circuit\n",
    "    qc_params = {p:\n"
   ]
  },
  {
   "cell_type": "code",
   "execution_count": null,
   "id": "5140f34f-1aab-4639-b8f9-6967a0c13a74",
   "metadata": {},
   "outputs": [],
   "source": [
    "# Define the molecular Hamiltonian for BeH2 molecule\n",
    "molecule = Molecule(geometry=[('Be', (0, 0, 0)), ('H', (0, 0, 1.6)), ('H', (0, 0, -1.6))], charge=0, multiplicity=1)\n",
    "hamiltonian = molecule.get_molecular_hamiltonian()\n",
    "\n",
    "# Define the VQE algorithm\n",
    "backend = Aer.get_backend('statevector_simulator')\n",
    "optimizer = COBYLA(maxiter=1000)\n",
    "vqe = VQE(ansatz=pqc, optimizer=optimizer, quantum_instance=backend, operator=hamiltonian)\n",
    "\n",
    "# Run the VQE algorithm to estimate the ground-state energy\n",
    "result = vqe.compute_minimum_eigenvalue()\n",
    "\n",
    "# Define the loss function\n",
    "true_energy = result.eigenvalue.real\n",
    "def loss(params):\n",
    "    energy = vqe.get_operator().assign_parameters(params).compute_eigenvalues()[0].real\n",
    "    return (energy - true_energy)**2\n"
   ]
  },
  {
   "cell_type": "code",
   "execution_count": null,
   "id": "7b9817b3-2e7e-47cf-af7e-627bb859ab0c",
   "metadata": {},
   "outputs": [],
   "source": [
    "# Define the initial set of parameters\n",
    "init_params = np.random.rand(pqc.num_parameters)\n",
    "\n",
    "# Optimize the parameters using the L-BFGS-B optimizer\n",
    "optimizer = L_BFGS_B(maxfun=1000)\n",
    "result = optimizer.optimize(num_vars=pqc.num_parameters, objective_function=loss, initial_point=init_params)\n",
    "\n",
    "# Get the optimized parameters and the optimized energy\n",
    "opt_params = result[0]\n",
    "opt_energy = vqe.get_operator().assign_parameters(opt_params).compute_eigenvalues()[0].real\n",
    "\n",
    "# Print the optimized parameters and energy\n",
    "print(\"Optimized parameters:\", opt_params)\n",
    "print(\"Optimized energy:\", opt_energy)\n"
   ]
  },
  {
   "cell_type": "code",
   "execution_count": null,
   "id": "f208907e-445f-42b7-bc88-323d6052c9d8",
   "metadata": {},
   "outputs": [],
   "source": [
    "# Define the Hamiltonian operator for the molecule\n",
    "hamiltonian = MolecularGroundStateEnergy(molecule_transformer, qubit_converter)\n",
    "\n",
    "# Assign the optimized parameters to the PQC\n",
    "pqc.assign_parameters(opt_params)\n",
    "\n",
    "# Create an instance of the StateFn class for the Hamiltonian operator\n",
    "op = hamiltonian.to_op()\n",
    "\n",
    "# Compute the expectation value of the Hamiltonian operator for the given quantum state\n",
    "expectation_value = op.assign_parameters(pqc.parameters).eval()\n",
    "ground_state_energy = expectation_value.real\n",
    "\n",
    "# Print the ground-state energy\n",
    "print(\"Ground-state energy:\", ground_state_energy)\n"
   ]
  },
  {
   "cell_type": "code",
   "execution_count": null,
   "id": "853ea445-f66e-486f-8722-3a46a2d0d9ef",
   "metadata": {},
   "outputs": [],
   "source": [
    "# Define the bond length operator for the molecule\n",
    "bond_length = MolecularBondLength(molecule_transformer, qubit_converter)\n",
    "\n",
    "# Create an instance of the StateFn class for the bond length operator\n",
    "op = bond_length.to_op()\n",
    "\n",
    "# Compute the expectation value of the bond length operator for the given quantum state\n",
    "expectation_value = op.assign_parameters(pqc.parameters).eval()\n",
    "bond_length = expectation_value.real\n",
    "\n",
    "# Print the bond length\n",
    "print(\"Bond length:\", bond_length)\n"
   ]
  },
  {
   "cell_type": "code",
   "execution_count": 16,
   "id": "0972145e-4588-4747-b520-ee7e059a2b77",
   "metadata": {},
   "outputs": [
    {
     "name": "stdout",
     "output_type": "stream",
     "text": [
      "Traceback \u001b[1;36m(most recent call last)\u001b[0m:\n",
      "\u001b[1;36m  Input \u001b[1;32mIn [16]\u001b[1;36m in \u001b[1;35m<cell line: 2>\u001b[1;36m\u001b[0m\n",
      "\u001b[1;33m    vibrational_frequency = MolecularVibrationalFrequency(molecule_transformer, qubit_converter)\u001b[0m\n",
      "\u001b[1;31mNameError\u001b[0m\u001b[1;31m:\u001b[0m name 'MolecularVibrationalFrequency' is not defined\n",
      "\n",
      "Use %tb to get the full traceback.\n"
     ]
    },
    {
     "data": {
      "text/html": [
       "\n",
       "<style>\n",
       ".button {\n",
       "  border: none;\n",
       "  color: white;\n",
       "  padding: 4px 8px;\n",
       "  text-align: center;\n",
       "  text-decoration: none;\n",
       "  display: inline-block;\n",
       "  font-size: 12px;\n",
       "  margin: 4px 2px;\n",
       "  transition-duration: 0.2s;\n",
       "  cursor: pointer;\n",
       "}\n",
       ".iqx-button {\n",
       "  background-color: #0f62fe; \n",
       "  color: white; \n",
       "}\n",
       ".iqx-button:hover {\n",
       "  background-color: #0043ce;\n",
       "  color: white;\n",
       "}\n",
       "</style>\n",
       "<a href=\"https://stackoverflow.com/search?q=NameError: name 'MolecularVibrationalFrequency' is not defined\" target='_blank'><button class='button iqx-button'>Search for solution online</button></a>\n"
      ],
      "text/plain": [
       "<IPython.core.display.HTML object>"
      ]
     },
     "metadata": {},
     "output_type": "display_data"
    }
   ],
   "source": [
    "# Define the vibrational frequency operator for the molecule\n",
    "vibrational_frequency = MolecularVibrationalFrequency(molecule_transformer, qubit_converter)\n",
    "\n",
    "# Create an instance of the StateFn class for the vibrational frequency operator\n",
    "op = vibrational_frequency.to_op()\n",
    "\n",
    "# Compute the expectation value of the vibrational frequency operator for the given quantum state\n",
    "expectation_value = op.assign_parameters(pqc.parameters).eval()\n",
    "vibrational_frequency = expectation_value.real\n",
    "\n",
    "# Print the vibrational frequency\n",
    "print(\"Vibrational frequency:\", vibrational_frequency)\n"
   ]
  },
  {
   "cell_type": "code",
   "execution_count": 15,
   "id": "a7bbd34b-c216-4574-ac2f-3b4833a67b7c",
   "metadata": {},
   "outputs": [
    {
     "name": "stdout",
     "output_type": "stream",
     "text": [
      "Traceback \u001b[1;36m(most recent call last)\u001b[0m:\n",
      "\u001b[1;36m  Input \u001b[1;32mIn [15]\u001b[1;36m in \u001b[1;35m<cell line: 1>\u001b[1;36m\u001b[0m\n",
      "\u001b[1;33m    print(\"Ground state energy: \", result.fun)\u001b[0m\n",
      "\u001b[1;31mNameError\u001b[0m\u001b[1;31m:\u001b[0m name 'result' is not defined\n",
      "\n",
      "Use %tb to get the full traceback.\n"
     ]
    },
    {
     "data": {
      "text/html": [
       "\n",
       "<style>\n",
       ".button {\n",
       "  border: none;\n",
       "  color: white;\n",
       "  padding: 4px 8px;\n",
       "  text-align: center;\n",
       "  text-decoration: none;\n",
       "  display: inline-block;\n",
       "  font-size: 12px;\n",
       "  margin: 4px 2px;\n",
       "  transition-duration: 0.2s;\n",
       "  cursor: pointer;\n",
       "}\n",
       ".iqx-button {\n",
       "  background-color: #0f62fe; \n",
       "  color: white; \n",
       "}\n",
       ".iqx-button:hover {\n",
       "  background-color: #0043ce;\n",
       "  color: white;\n",
       "}\n",
       "</style>\n",
       "<a href=\"https://stackoverflow.com/search?q=NameError: name 'result' is not defined\" target='_blank'><button class='button iqx-button'>Search for solution online</button></a>\n"
      ],
      "text/plain": [
       "<IPython.core.display.HTML object>"
      ]
     },
     "metadata": {},
     "output_type": "display_data"
    }
   ],
   "source": [
    "print(\"Ground state energy: \", result.fun)\n"
   ]
  },
  {
   "cell_type": "code",
   "execution_count": null,
   "id": "02347a3a-b3c5-4ac4-a070-e7eec7d048b3",
   "metadata": {},
   "outputs": [],
   "source": []
  }
 ],
 "metadata": {
  "kernelspec": {
   "display_name": "Python 3 (ipykernel)",
   "language": "python",
   "name": "python3"
  },
  "language_info": {
   "codemirror_mode": {
    "name": "ipython",
    "version": 3
   },
   "file_extension": ".py",
   "mimetype": "text/x-python",
   "name": "python",
   "nbconvert_exporter": "python",
   "pygments_lexer": "ipython3",
   "version": "3.8.15"
  },
  "widgets": {
   "application/vnd.jupyter.widget-state+json": {
    "state": {
     "07c0f266ab5b4f60bd3e23ef02c30e35": {
      "model_module": "@jupyter-widgets/base",
      "model_module_version": "1.2.0",
      "model_name": "LayoutModel",
      "state": {
       "width": "190px"
      }
     },
     "0b4801d4fbe5475ab4cdf739d64a962a": {
      "model_module": "@jupyter-widgets/controls",
      "model_module_version": "1.5.0",
      "model_name": "HTMLModel",
      "state": {
       "layout": "IPY_MODEL_1016be951915411f9dfd0b2b440db35e",
       "style": "IPY_MODEL_377c429b5eed40dc85855b84fd00606d",
       "value": "<h5>Message</h5>"
      }
     },
     "1016be951915411f9dfd0b2b440db35e": {
      "model_module": "@jupyter-widgets/base",
      "model_module_version": "1.2.0",
      "model_name": "LayoutModel",
      "state": {}
     },
     "13ebefa6bfb34434964052ef9cf2cd9d": {
      "model_module": "@jupyter-widgets/controls",
      "model_module_version": "1.5.0",
      "model_name": "HTMLModel",
      "state": {
       "layout": "IPY_MODEL_25badab7951a4ff0a0797a4a34d34c99",
       "style": "IPY_MODEL_6d5148e58a9e4ca58521e5b442d97075",
       "value": "<p style='font-family: IBM Plex Sans, Arial, Helvetica, sans-serif; font-size: 20px; font-weight: medium;'>Circuit Properties</p>"
      }
     },
     "24575f12fdc14a52a7870016463a828a": {
      "model_module": "@jupyter-widgets/controls",
      "model_module_version": "1.5.0",
      "model_name": "DescriptionStyleModel",
      "state": {
       "description_width": ""
      }
     },
     "25badab7951a4ff0a0797a4a34d34c99": {
      "model_module": "@jupyter-widgets/base",
      "model_module_version": "1.2.0",
      "model_name": "LayoutModel",
      "state": {
       "margin": "0px 0px 10px 0px"
      }
     },
     "2c1c70c875fa4da6ae8f02338ca6e986": {
      "model_module": "@jupyter-widgets/base",
      "model_module_version": "1.2.0",
      "model_name": "LayoutModel",
      "state": {
       "width": "145px"
      }
     },
     "30617745f3a84bf7a2181f44560a483b": {
      "model_module": "@jupyter-widgets/base",
      "model_module_version": "1.2.0",
      "model_name": "LayoutModel",
      "state": {
       "margin": "0px 0px 0px 37px",
       "width": "600px"
      }
     },
     "3195f4d3edb243f590a6404146941356": {
      "model_module": "@jupyter-widgets/base",
      "model_module_version": "1.2.0",
      "model_name": "LayoutModel",
      "state": {
       "width": "70px"
      }
     },
     "374b827e45fb4dd184ee2167b941385a": {
      "model_module": "@jupyter-widgets/base",
      "model_module_version": "1.2.0",
      "model_name": "LayoutModel",
      "state": {
       "grid_template_areas": "\n                                       \". . . . right \"\n                                        ",
       "grid_template_columns": "20% 20% 20% 20% 20%",
       "width": "100%"
      }
     },
     "377c429b5eed40dc85855b84fd00606d": {
      "model_module": "@jupyter-widgets/controls",
      "model_module_version": "1.5.0",
      "model_name": "DescriptionStyleModel",
      "state": {
       "description_width": ""
      }
     },
     "52be6f0ea8064a7daad8c082da597b0b": {
      "model_module": "@jupyter-widgets/controls",
      "model_module_version": "1.5.0",
      "model_name": "HTMLModel",
      "state": {
       "layout": "IPY_MODEL_3195f4d3edb243f590a6404146941356",
       "style": "IPY_MODEL_24575f12fdc14a52a7870016463a828a",
       "value": "<h5>Queue</h5>"
      }
     },
     "59aeb8165dbf4767b76be5a42aec50f2": {
      "model_module": "@jupyter-widgets/base",
      "model_module_version": "1.2.0",
      "model_name": "LayoutModel",
      "state": {
       "width": "95px"
      }
     },
     "6d5148e58a9e4ca58521e5b442d97075": {
      "model_module": "@jupyter-widgets/controls",
      "model_module_version": "1.5.0",
      "model_name": "DescriptionStyleModel",
      "state": {
       "description_width": ""
      }
     },
     "7e3262e58759480abd53c4164e59fa24": {
      "model_module": "@jupyter-widgets/controls",
      "model_module_version": "1.5.0",
      "model_name": "ButtonStyleModel",
      "state": {}
     },
     "8f1b1eea260b452bbc10524b9a711b35": {
      "model_module": "@jupyter-widgets/controls",
      "model_module_version": "1.5.0",
      "model_name": "DescriptionStyleModel",
      "state": {
       "description_width": ""
      }
     },
     "946fbd96cd48471ca8f5bfbb055d6f44": {
      "model_module": "@jupyter-widgets/controls",
      "model_module_version": "1.5.0",
      "model_name": "DescriptionStyleModel",
      "state": {
       "description_width": ""
      }
     },
     "a5f43c890c6a49478ad6010a9f7b6f72": {
      "model_module": "@jupyter-widgets/controls",
      "model_module_version": "1.5.0",
      "model_name": "HTMLModel",
      "state": {
       "layout": "IPY_MODEL_59aeb8165dbf4767b76be5a42aec50f2",
       "style": "IPY_MODEL_8f1b1eea260b452bbc10524b9a711b35",
       "value": "<h5>Status</h5>"
      }
     },
     "afaeec35fd6649fc9f21ce55613d7fce": {
      "model_module": "@jupyter-widgets/controls",
      "model_module_version": "1.5.0",
      "model_name": "DescriptionStyleModel",
      "state": {
       "description_width": ""
      }
     },
     "c3bf88ec74b7452fba764ef58b947536": {
      "model_module": "@jupyter-widgets/controls",
      "model_module_version": "1.5.0",
      "model_name": "ButtonModel",
      "state": {
       "button_style": "primary",
       "description": "Clear",
       "layout": "IPY_MODEL_cf12b82348c349619e26506648a9af79",
       "style": "IPY_MODEL_7e3262e58759480abd53c4164e59fa24"
      }
     },
     "cf12b82348c349619e26506648a9af79": {
      "model_module": "@jupyter-widgets/base",
      "model_module_version": "1.2.0",
      "model_name": "LayoutModel",
      "state": {
       "grid_area": "right",
       "padding": "0px 0px 0px 0px",
       "width": "70px"
      }
     },
     "d075098e2d154f2f9126bda91fa9d1c4": {
      "model_module": "@jupyter-widgets/controls",
      "model_module_version": "1.5.0",
      "model_name": "GridBoxModel",
      "state": {
       "children": [
        "IPY_MODEL_c3bf88ec74b7452fba764ef58b947536"
       ],
       "layout": "IPY_MODEL_374b827e45fb4dd184ee2167b941385a"
      }
     },
     "ddbb1c2a1c714274bf3c7108ae746922": {
      "model_module": "@jupyter-widgets/controls",
      "model_module_version": "1.5.0",
      "model_name": "HBoxModel",
      "state": {
       "children": [
        "IPY_MODEL_ff9102f1e9394b7f8ee6c11db7df750a",
        "IPY_MODEL_fb3ffd7068e849248ab16eee8f2c8c92",
        "IPY_MODEL_a5f43c890c6a49478ad6010a9f7b6f72",
        "IPY_MODEL_52be6f0ea8064a7daad8c082da597b0b",
        "IPY_MODEL_0b4801d4fbe5475ab4cdf739d64a962a"
       ],
       "layout": "IPY_MODEL_30617745f3a84bf7a2181f44560a483b"
      }
     },
     "fb3ffd7068e849248ab16eee8f2c8c92": {
      "model_module": "@jupyter-widgets/controls",
      "model_module_version": "1.5.0",
      "model_name": "HTMLModel",
      "state": {
       "layout": "IPY_MODEL_2c1c70c875fa4da6ae8f02338ca6e986",
       "style": "IPY_MODEL_afaeec35fd6649fc9f21ce55613d7fce",
       "value": "<h5>Backend</h5>"
      }
     },
     "ff9102f1e9394b7f8ee6c11db7df750a": {
      "model_module": "@jupyter-widgets/controls",
      "model_module_version": "1.5.0",
      "model_name": "HTMLModel",
      "state": {
       "layout": "IPY_MODEL_07c0f266ab5b4f60bd3e23ef02c30e35",
       "style": "IPY_MODEL_946fbd96cd48471ca8f5bfbb055d6f44",
       "value": "<h5>Job ID</h5>"
      }
     }
    },
    "version_major": 2,
    "version_minor": 0
   }
  }
 },
 "nbformat": 4,
 "nbformat_minor": 5
}
