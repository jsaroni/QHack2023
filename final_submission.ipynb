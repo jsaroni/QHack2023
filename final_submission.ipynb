{
  "cells": [
    {
      "cell_type": "markdown",
      "metadata": {
        "colab_type": "text",
        "id": "view-in-github"
      },
      "source": [
        "<a href=\"https://colab.research.google.com/github/jsaroni/QHack2023_Feynmanprodigies/blob/main/final_submission.ipynb\" target=\"_parent\"><img src=\"https://colab.research.google.com/assets/colab-badge.svg\" alt=\"Open In Colab\"/></a>"
      ]
    },
    {
      "cell_type": "markdown",
      "metadata": {
        "id": "0ov8nlwIjxBB"
      },
      "source": [
        "QHack2022 Open Hackathon - FEYNMAN PRODIGIES TEAM\n",
        "\n",
        "\n",
        "\n",
        "\n",
        "Project Name: Efficient ground state computation methodologies for BeH2\n",
        "\n",
        "\n",
        "\n",
        "\n",
        "In this notebook, we describe the implementation of different methodologies to find the ground state of the molecule BeH2, each with their own merits and drawbacks. The methods used consider only single and double excitations. Some of the methodologies that we implement greatly simplify the model while sacrificing chemical accuracy while others use error mitigation more efficiently through qiskit runtime which works well with hybrid algorithms such as VQE.\n",
        "\n",
        "\n",
        "The first method is based on a crude approximation, restricting the Hilbert space to an active space defined by unbonded electrons within the BeH2 molecule.\n",
        "\n",
        "\n",
        "We are trying to find the ground state of BeH2, so it is worth knowing more on its physical chemistry. Beryllium has chemical formula 1s2 2s2 and the two hydrogens 1s1 in electron configuration notation. When the molecule BeH2 is formed, the s orbitals from the two hydrogens hybridize with the p orbitals from beryllium to form two sp molecular orbital bonds that want to be as far away from each other as possible due to electron repulsion and this results in a linear molecule. We use the sto3g basis to approximate slater type orbitals."
      ]
    },
    {
      "cell_type": "markdown",
      "metadata": {
        "id": "GKqckBHOj3ZR"
      },
      "source": [
        "The following module need installation: \n",
        "qiskit for testing our quantum simulations.\n",
        "pyscf as an open source collection of electronic structure modules.\n",
        "qiskit_nature.\n",
        "qiskit_ibm_runtime."
      ]
    },
    {
      "cell_type": "code",
      "execution_count": null,
      "metadata": {
        "id": "ExG_XkTuXRuu"
      },
      "outputs": [],
      "source": [
        "!pip install qiskit\n",
        "!pip install qiskit_nature\n",
        "!pip install pyscf\n",
        "!pip install qiskit_ibm_runtime"
      ]
    },
    {
      "cell_type": "code",
      "execution_count": null,
      "metadata": {
        "id": "49xYYGg-XxRR"
      },
      "outputs": [],
      "source": [
        "# Import necessary libraries and packages\n",
        "import math\n",
        "import matplotlib.pyplot as plt\n",
        "import numpy as np\n",
        "\n",
        "import warnings\n",
        "warnings.filterwarnings('ignore')\n",
        "from qiskit import Aer, IBMQ, QuantumCircuit\n",
        "from qiskit_ibm_runtime import QiskitRuntimeService, Session, Options, Sampler, Estimator\n",
        "from qiskit.providers.aer import StatevectorSimulator\n",
        "from qiskit.utils import QuantumInstance\n",
        "from qiskit.providers.fake_provider import FakeGuadalupe, FakeManila\n",
        "from qiskit_aer.noise import NoiseModel\n",
        "from qiskit.tools.jupyter import *\n",
        "from qiskit.visualization import *\n",
        "\n",
        "# Import Qiskit libraries for VQE\n",
        "from qiskit.algorithms import MinimumEigensolverResult, VQE\n",
        "from qiskit.algorithms.optimizers import SLSQP, SPSA, COBYLA\n",
        "\n",
        "# Import Qiskit Nature libraries\n",
        "from qiskit_nature.algorithms import GroundStateEigensolver, VQEUCCFactory\n",
        "from qiskit_nature.algorithms.ground_state_solvers.minimum_eigensolver_factories import NumPyMinimumEigensolverFactory\n",
        "from qiskit_nature.circuit.library import UCC, UCCSD\n",
        "from qiskit_nature.drivers import Molecule\n",
        "from qiskit_nature.drivers.second_quantization import ElectronicStructureDriverType, ElectronicStructureMoleculeDriver\n",
        "from qiskit_nature.converters.second_quantization import QubitConverter\n",
        "from qiskit_nature.mappers.second_quantization import BravyiKitaevMapper, JordanWignerMapper, ParityMapper\n",
        "from qiskit_nature.problems.second_quantization.electronic import ElectronicStructureProblem\n",
        "from qiskit_nature.transformers.second_quantization.electronic import ActiveSpaceTransformer\n",
        "\n",
        "# Prototype-zne\n",
        "!pip install prototype-zne --quiet\n",
        "\n",
        "from qiskit_nature.settings import settings\n",
        "\n",
        "settings.dict_aux_operators = True"
      ]
    },
    {
      "cell_type": "markdown",
      "metadata": {
        "id": "U7CpsxQuj_gd"
      },
      "source": [
        "We use the linear geometry of the molecule and set a distance d as rougly the equilibrium distance of the two hydrogen atoms from beryllium which is 1.29 Angstroms."
      ]
    },
    {
      "cell_type": "code",
      "execution_count": null,
      "metadata": {
        "id": "JimUdlD6XzAr"
      },
      "outputs": [],
      "source": [
        "#### Fill in the values below and complete the function to define the Molecule ####\n",
        "d = 1.29\n",
        "# Coordinates are given in Angstrom\n",
        "# Replace hydrogen_t with appropriate molecule\n",
        "hydrogen_t = [[\"Be\", [0, 0.0, 0.0]], # ----------- Enter your code here\n",
        "              [\"H\", [-d, 0.0, 0.0]], # ----------- Enter your code here\n",
        "              [\"H\", [d, 0.0, 0.0]]]\n",
        "                  \n",
        "h3p = Molecule( # Fill up the function below\n",
        "    geometry= hydrogen_t,  # ----------- Enter your code here\n",
        "    multiplicity= 1, # ----------- Enter your code here\n",
        "    charge= 0, # ----------- Enter your code here\n",
        ")\n",
        "\n",
        "driver = ElectronicStructureMoleculeDriver(h3p, basis=\"sto3g\", driver_type=ElectronicStructureDriverType.PYSCF) \n",
        "\n",
        "properties = driver.run()"
      ]
    },
    {
      "cell_type": "markdown",
      "metadata": {
        "id": "2Kdl2oR-kC6u"
      },
      "source": [
        "The number of electrons in the molecule is 6 as expected."
      ]
    },
    {
      "cell_type": "code",
      "execution_count": null,
      "metadata": {
        "id": "yzS_QFBHX0is"
      },
      "outputs": [],
      "source": [
        "num_alpha_electrons = properties.get_property('ParticleNumber').num_alpha\n",
        "num_beta_electrons = properties.get_property('ParticleNumber').num_beta\n",
        "num_spin_orbitals = int(properties.get_property('ParticleNumber').num_spin_orbitals)\n",
        "\n",
        "nuclear_rep_energy = properties.get_property('ElectronicEnergy').nuclear_repulsion_energy\n",
        "print(\"number of alpha electrons: \" , num_alpha_electrons)\n",
        "print(\"number of beta electrons: \" , num_beta_electrons)\n",
        "print(\"number of spin orbitals: \" , num_spin_orbitals)\n",
        "print(\"nuclear repulsion energy: \" , nuclear_rep_energy)"
      ]
    },
    {
      "cell_type": "code",
      "execution_count": null,
      "metadata": {
        "id": "U5DVjM6KX2jU"
      },
      "outputs": [],
      "source": [
        "# Check the occupation of the spin orbitals\n",
        "PN_property = properties.get_property(\"ParticleNumber\")\n",
        "\n",
        "# Define the active space around the Fermi level \n",
        "# (selected automatically around the HOMO and LUMO, ordered by energy)\n",
        "transformer = ActiveSpaceTransformer(\n",
        "    num_electrons=2, # Number of electrons in our active space\n",
        "    num_molecular_orbitals=2, # Number of orbitals in our active space\n",
        ")\n",
        "\n",
        "# Now you can get the reduced electronic structure problem\n",
        "problem_reduced = ElectronicStructureProblem(driver, transformers=[transformer]) \n",
        "\n",
        "# The second quantized Hamiltonian of the reduce problem\n",
        "second_q_ops_reduced = problem_reduced.second_q_ops()"
      ]
    },
    {
      "cell_type": "code",
      "execution_count": null,
      "metadata": {
        "id": "GmPKuVTKX4bG"
      },
      "outputs": [],
      "source": [
        "# Setup the mapper and qubit converter\n",
        "mapper_type = 'ParityMapper'\n",
        "\n",
        "if mapper_type == 'ParityMapper':\n",
        "    mapper = ParityMapper()\n",
        "elif mapper_type == 'JordanWignerMapper':\n",
        "    mapper = JordanWignerMapper()\n",
        "elif mapper_type == 'BravyiKitaevMapper':\n",
        "    mapper = BravyiKitaevMapper()\n",
        "\n",
        "\n",
        "converter = QubitConverter(mapper)\n",
        "\n",
        "qubit_op = converter.convert(second_q_ops_reduced[\"ElectronicEnergy\"])\n",
        "print(qubit_op)"
      ]
    },
    {
      "cell_type": "code",
      "execution_count": null,
      "metadata": {
        "id": "mlTBdoRxX50x"
      },
      "outputs": [],
      "source": [
        "# Set the mapper to qubits\n",
        "parity_mapper = ParityMapper() # This is the example of parity mapping\n",
        "\n",
        "# Set the qubit converter with two qubit reduction to reduce the computational cost \n",
        "parity_converter = QubitConverter(parity_mapper, two_qubit_reduction=True)    \n",
        "\n",
        "# Compute the Hamitonian in qubit form\n",
        "qubit_op_parity = parity_converter.convert(second_q_ops_reduced.get('ElectronicEnergy'), num_particles=problem_reduced.num_particles)\n",
        "\n",
        "print(qubit_op_parity)"
      ]
    },
    {
      "cell_type": "code",
      "execution_count": null,
      "metadata": {
        "id": "2ODCs3dsX7T0"
      },
      "outputs": [],
      "source": [
        "vqe_factory = VQEUCCFactory( # This is an example of UCC\"SD\" ansatz\n",
        "    quantum_instance=Aer.get_backend(\"aer_simulator_statevector\"),\n",
        "    optimizer=SLSQP(),\n",
        "    ansatz=UCC(excitations='sd')\n",
        ") \n",
        "\n",
        "from qiskit.algorithms import NumPyMinimumEigensolver\n",
        "\n",
        "numpy_solver = NumPyMinimumEigensolver()\n",
        "\n",
        "solver = GroundStateEigensolver(parity_converter, vqe_factory)  # Define Numpy\n",
        "real_solution_t = solver.solve(problem_reduced).total_energies[0]    \n",
        "print('Reference energy : ', real_solution_t)"
      ]
    },
    {
      "cell_type": "code",
      "execution_count": null,
      "metadata": {
        "id": "6uHNkb_QX8rE"
      },
      "outputs": [],
      "source": [
        "# Define our 'ansatz' for the problem\n",
        "ansatz = UCC(\n",
        "    qubit_converter=parity_converter,\n",
        "    num_particles=problem_reduced.num_particles, \n",
        "    num_spin_orbitals=problem_reduced.num_spin_orbitals,\n",
        "    excitations='sd'\n",
        ")"
      ]
    },
    {
      "cell_type": "code",
      "execution_count": null,
      "metadata": {
        "id": "ev416OYkX-lP"
      },
      "outputs": [],
      "source": [
        "IBMQ.save_account('1f470c8fb158d77fb7a8082fb0c4e6d289a97765a76aee8b2de5eaf74d7c8839545bed73ded44e885edd5ee98205f244d9d770de26eea55277e2c740e62aa591')\n",
        "service = QiskitRuntimeService()"
      ]
    },
    {
      "cell_type": "code",
      "execution_count": null,
      "metadata": {
        "id": "C_z3qNQyYA8Y"
      },
      "outputs": [],
      "source": [
        "backend = service.backends(simulator=True)[0]\n",
        "noisy_sim = FakeGuadalupe()\n",
        "#for running on real quantum device\n",
        "#backend = 'ibmq_guadalupe'\n",
        "\n",
        "\n",
        "print(backend)"
      ]
    },
    {
      "cell_type": "code",
      "execution_count": null,
      "metadata": {
        "id": "SLXeyX96YDqO"
      },
      "outputs": [],
      "source": [
        "service = QiskitRuntimeService(\n",
        "    channel='ibm_quantum',\n",
        "    instance='qhack-event/main/level-2-team-1',\n",
        ")"
      ]
    },
    {
      "cell_type": "code",
      "execution_count": null,
      "metadata": {
        "id": "-goTLXDtYIxg"
      },
      "outputs": [],
      "source": [
        "noise_model = NoiseModel.from_backend(noisy_sim)\n",
        "\n",
        "options_with_em = Options(\n",
        "    simulator={\n",
        "        \"noise_model\": noise_model,\n",
        "        \"seed_simulator\": 42,\n",
        "    },  \n",
        "    resilience_level=1 # You may change the value here. resilience_level = 1 will activate TREX\n",
        ")\n",
        "\n",
        "\n",
        "#for running on real quantum device\n",
        "#options_with_em = Options(resilience_level=1 # You may change the value here. resilience_level = 1 will activate TREX\n",
        "#)"
      ]
    },
    {
      "cell_type": "code",
      "execution_count": null,
      "metadata": {
        "id": "XMRWN9QcYZMB"
      },
      "outputs": [],
      "source": [
        "%%time\n",
        "from qiskit.utils import algorithm_globals\n",
        "algorithm_globals.random_seed = 1024\n",
        "\n",
        "# Define convergence list\n",
        "convergence = []\n",
        "\n",
        "# Keep track of jobs (Do-not-modify)\n",
        "job_list = []\n",
        "\n",
        "# Initialize estimator object\n",
        "#estimator = Estimator()# Enter your code here\n",
        "\n",
        "# Define evaluate_expectation function\n",
        "def evaluate_expectation(x):\n",
        "    x = list(x)\n",
        "    \n",
        "    # Define estimator run parameters\n",
        "    #### enter your code below ####\n",
        "\n",
        "\n",
        "\n",
        "    with Session(service=service, backend=backend):\n",
        "      estimator = Estimator(options=options_with_em)\n",
        "      job = estimator.run(circuits=[ansatz], parameter_values=[x],observables=qubit_op_parity).result()\n",
        "      results = job.values[0]\n",
        "      job_list.append(job)\n",
        "\n",
        "\n",
        "    # Pass results back to callback function\n",
        "    return np.real(results)\n",
        "\n",
        "\n",
        "\n",
        "# Call back function\n",
        "def callback(x,fx,ax,tx,nx):\n",
        "    # Callback function to get a view on internal states and statistics of the optimizer for visualization\n",
        "    convergence.append(evaluate_expectation(fx))\n",
        "\n",
        "np.random.seed(10)\n",
        "\n",
        "# Define initial point. We shall define a random point here based on the number of parameters in our ansatz\n",
        "initial_point = np.random.random(ansatz.num_parameters)\n",
        "\n",
        "#### enter your code below ####\n",
        "# Define optimizer and pass callback function\n",
        "optimizer = SPSA(maxiter = 50, callback=callback) # ----------- Enter your code here\n",
        "\n",
        "# Define minimize function\n",
        "result =  optimizer.minimize(evaluate_expectation, x0=initial_point) # ----------- Enter your code here"
      ]
    },
    {
      "cell_type": "code",
      "execution_count": null,
      "metadata": {
        "id": "pKkzOnRnZRjZ"
      },
      "outputs": [],
      "source": [
        "Energy_H_t = []\n",
        "for i in range(len(convergence)):\n",
        "    sol = MinimumEigensolverResult()\n",
        "    sol.eigenvalue = convergence[i]\n",
        "    sol = problem_reduced.interpret(sol).total_energies[0]\n",
        "    Energy_H_t.append(sol)\n",
        "print(\"Computed Energy:\", Energy_H_t[-1])"
      ]
    },
    {
      "cell_type": "code",
      "execution_count": null,
      "metadata": {
        "id": "VHEqVavpZVKO"
      },
      "outputs": [],
      "source": [
        "# The following plot compares the two Estimators - with and without noise\n",
        "\n",
        "plt.rcParams[\"font.size\"] = 14\n",
        "\n",
        "# plot loss and reference value\n",
        "plt.figure(figsize=(12, 6), facecolor='white')\n",
        "plt.plot(Energy_H_t, label=\"Estimator VQE BeH2+NOISY+TREX\")\n",
        "plt.axhline(y=real_solution_t.real, color=\"tab:red\", ls=\"--\", label=\"Target\")\n",
        "\n",
        "plt.legend(loc=\"best\")\n",
        "plt.xlabel(\"Iteration\")\n",
        "plt.ylabel(\"Energy [H]\")\n",
        "plt.title(\"VQE energy\")\n",
        "plt.show()\n",
        "\n",
        "print(Energy_H_t)\n",
        "print(real_solution_t.real)"
      ]
    },
    {
      "attachments": {},
      "cell_type": "markdown",
      "metadata": {},
      "source": [
        "This can also be done using estimator from qiskit terra speedily with a noisy backend and zero-noise extrapolation. Additionally we do a classical benchmark of our approximation method of the BeH2 ground state for different distances to compare with experimental results.\n",
        "\n",
        "The second method is based on orbital freezing.\n",
        "\n",
        "\n",
        "The third method is based on the adaptive variational quantum eigensolver with Pennylane.\n",
        "\n",
        "\n",
        "The last method is based on entanglement forging from circuit knitting."
      ]
    },
    {
      "cell_type": "markdown",
      "metadata": {},
      "source": []
    }
  ],
  "metadata": {
    "colab": {
      "authorship_tag": "ABX9TyPHeZH/b2HZwQ7RmG5OBwB/",
      "include_colab_link": true,
      "provenance": []
    },
    "kernelspec": {
      "display_name": "Python 3",
      "name": "python3"
    },
    "language_info": {
      "name": "python"
    }
  },
  "nbformat": 4,
  "nbformat_minor": 0
}
