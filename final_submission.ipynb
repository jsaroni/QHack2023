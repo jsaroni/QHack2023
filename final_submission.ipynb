{
  "cells": [
    {
      "cell_type": "markdown",
      "metadata": {
        "colab_type": "text",
        "id": "view-in-github"
      },
      "source": [
        "<a href=\"https://colab.research.google.com/github/jsaroni/QHack2023_Feynmanprodigies/blob/main/final_submission.ipynb\" target=\"_parent\"><img src=\"https://colab.research.google.com/assets/colab-badge.svg\" alt=\"Open In Colab\"/></a>"
      ]
    },
    {
      "attachments": {},
      "cell_type": "markdown",
      "metadata": {
        "id": "0ov8nlwIjxBB"
      },
      "source": [
        "QHack2022 Open Hackathon - FEYNMAN PRODIGIES TEAM\n",
        "\n",
        "\n",
        "\n",
        "\n",
        "Project Name: Efficient ground state computation methodologies for BeH2\n",
        "\n",
        "\n",
        "\n",
        "\n",
        "In this notebook, we describe the implementation of different methodologies to find the ground state of the molecule BeH2, each with their own merits and drawbacks. The methods used consider only single and double excitations. Some of the methodologies that we implement greatly simplify the model while sacrificing chemical accuracy while others use error mitigation more efficiently through qiskit runtime which works well with hybrid algorithms such as VQE.\n",
        "\n",
        "\n",
        "We are trying to find the ground state of BeH2, so it is worth knowing more on its physical chemistry. Beryllium has chemical formula 1s2 2s2 and the two hydrogens 1s1 in electron configuration notation. When the molecule BeH2 is formed, the s orbitals from the two hydrogens hybridize with the p orbitals from beryllium to form two sp molecular orbital bonds that want to be as far away from each other as possible due to electron repulsion and this results in a linear molecule. We use the sto3g basis to approximate slater type orbitals."
      ]
    },
    {
      "attachments": {},
      "cell_type": "markdown",
      "metadata": {
        "id": "GKqckBHOj3ZR"
      },
      "source": [
        "The following module need installation: qiskit for testing our quantum simulations, pyscf as an open source collection of electronic structure modules, qiskit_nature, and qiskit_ibm_runtime."
      ]
    },
    {
      "cell_type": "code",
      "execution_count": null,
      "metadata": {
        "id": "ExG_XkTuXRuu"
      },
      "outputs": [],
      "source": [
        "#Install the required packages\n",
        "'''\n",
        "!pip install qiskit\n",
        "!pip install pennylane\n",
        "!pip install qiskit_nature\n",
        "!pip install scipy\n",
        "!pip install pyscf\n",
        "!pip install qiskit_ibm_runtime\n",
        "'''\n"
      ]
    },
    {
      "cell_type": "code",
      "execution_count": null,
      "metadata": {},
      "outputs": [],
      "source": [
        "#Load the required packages\n",
        "import pennylane.numpy as np\n",
        "import pennylane as qml\n",
        "import warnings\n",
        "warnings.filterwarnings('ignore')\n",
        "\n",
        "from qiskit import Aer, IBMQ, QuantumCircuit\n",
        "from qiskit.primitives import Estimator, BackendEstimator\n",
        "from qiskit.providers.aer import StatevectorSimulator\n",
        "from qiskit.utils import QuantumInstance\n",
        "\n",
        "from qiskit.tools.jupyter import *\n",
        "from qiskit.visualization import *\n",
        "\n",
        "from qiskit.algorithms import MinimumEigensolverResult, VQE\n",
        "from qiskit.algorithms.optimizers import SLSQP, SPSA\n",
        "\n",
        "\n",
        "from qiskit_nature.algorithms import GroundStateEigensolver, VQEUCCFactory\n",
        "from qiskit_nature.algorithms.ground_state_solvers.minimum_eigensolver_factories import NumPyMinimumEigensolverFactory\n",
        "from qiskit_nature.circuit.library import UCC, UCCSD\n",
        "from qiskit_nature.drivers import Molecule\n",
        "from qiskit_nature.drivers.second_quantization import ElectronicStructureDriverType, ElectronicStructureMoleculeDriver\n",
        "from qiskit_nature.converters.second_quantization import QubitConverter\n",
        "from qiskit_nature.mappers.second_quantization import BravyiKitaevMapper, JordanWignerMapper, ParityMapper\n",
        "from qiskit_nature.problems.second_quantization.electronic import ElectronicStructureProblem\n",
        "from qiskit_nature.transformers.second_quantization.electronic import ActiveSpaceTransformer\n",
        "\n",
        "from qiskit_nature.settings import settings\n",
        "\n",
        "settings.dict_aux_operators = True"
      ]
    },
    {
      "attachments": {},
      "cell_type": "markdown",
      "metadata": {},
      "source": [
        "VQE"
      ]
    },
    {
      "attachments": {},
      "cell_type": "markdown",
      "metadata": {},
      "source": [
        "First we do the usual hybrid VQE algorithm using single and double excitations UCCSD strategy. We use all such excitations to come up with the ground state energy calculation. \n",
        "\n",
        "For this setup we use 4 electrons in 6 orbitals inside the molecule. The pair of electrons in the 1s orbital(core) of Be atom are stable, therefore we don't include them in our active space. We use the sto-3g basis set and two-qubit reduction method using parity mapping to reduce the system size without affecting the calculation due to symmetry. We first find the true ground state energy which we will use throughout the file for reference, as the target. Note that this is calculated using NumpyEigenSolver. \n",
        "\n",
        "We then make a circuit and find the expected value of the hamiltonian using ADAM optimizer. \n",
        "\n",
        "We calculate the time taken for this method, along with the number of CNOT gates that are in the circuit. This number is calculated using the formula 13 x double_excitations + 2 x single_excitations. This is because of the number of CNOT gates using in the ansatz for the respective excitation schemes. Finally we plot the graph of the GS Energy calculation over time."
      ]
    },
    {
      "cell_type": "code",
      "execution_count": null,
      "metadata": {},
      "outputs": [],
      "source": [
        "# Coordinates(val) are given in Angstrom\n",
        "val = 1.291\n",
        "Beh2 = [[\"Be\", [0.0, 0.0, 0.0]],\n",
        "        [\"H\", [-val, 0.0, 0.0]], \n",
        "        [\"H\", [val, 0.0, 0.0]]]\n",
        "#define the molecule using qiskit_nature.drivers        \n",
        "BeH2 = Molecule( \n",
        "    geometry=Beh2 , # The coordinates\n",
        "    multiplicity=1, # 2*S + 1\n",
        "    charge=0,\n",
        ")\n",
        "#define driver using qiskit_nature.drivers.second_quantization\n",
        "driver = ElectronicStructureMoleculeDriver(BeH2, basis=\"sto3g\", driver_type=ElectronicStructureDriverType.PYSCF) \n",
        "\n",
        "properties = driver.run()"
      ]
    },
    {
      "cell_type": "code",
      "execution_count": null,
      "metadata": {},
      "outputs": [],
      "source": [
        "num_alpha_electrons = properties.get_property('ParticleNumber').num_alpha\n",
        "num_beta_electrons = properties.get_property('ParticleNumber').num_beta\n",
        "num_spin_orbitals = int(properties.get_property('ParticleNumber').num_spin_orbitals)\n",
        "\n",
        "nuclear_rep_energy = properties.get_property('ElectronicEnergy').nuclear_repulsion_energy\n",
        "print(\"number of alpha electrons: \" , num_alpha_electrons)\n",
        "print(\"number of beta electrons: \" , num_beta_electrons)\n",
        "print(\"number of spin orbitals: \" , num_spin_orbitals)\n",
        "print(\"nuclear repulsion energy: \" , nuclear_rep_energy)"
      ]
    },
    {
      "cell_type": "code",
      "execution_count": null,
      "metadata": {},
      "outputs": [],
      "source": [
        "# Check the occupation of the spin orbitals\n",
        "PN_property = properties.get_property(\"ParticleNumber\")\n",
        "\n",
        "\n",
        "#Now we remove/freeze the core orbital 1s of Be for the calculations\n",
        "# Define the active space around the Fermi level \n",
        "transformer = ActiveSpaceTransformer(\n",
        "    num_electrons=4, # Number of electrons in our active space\n",
        "    num_molecular_orbitals=6, # Number of orbitals in our active space\n",
        ")\n",
        "\n",
        "# Now we can get the reduced electronic structure problem\n",
        "problem_reduced = ElectronicStructureProblem(driver, transformers=[transformer]) \n",
        "\n",
        "# The second quantized Hamiltonian of the reduce problem\n",
        "second_q_ops_reduced = problem_reduced.second_q_ops()"
      ]
    },
    {
      "cell_type": "code",
      "execution_count": null,
      "metadata": {},
      "outputs": [],
      "source": [
        "#Using paritymapper to take advantage of the Z2 symmetry of the system\n",
        "mapper = ParityMapper()\n",
        "\n",
        "converter = QubitConverter(mapper)\n",
        "\n",
        "qubit_op = converter.convert(second_q_ops_reduced[\"ElectronicEnergy\"])\n",
        "#reduces the qubit number by 2\n",
        "parity_converter = QubitConverter(mapper, two_qubit_reduction=True)    \n",
        "\n",
        "# Compute the Hamitonian in qubit form\n",
        "qubit_op_parity = parity_converter.convert(second_q_ops_reduced.get('ElectronicEnergy'), num_particles=problem_reduced.num_particles)"
      ]
    },
    {
      "cell_type": "code",
      "execution_count": null,
      "metadata": {},
      "outputs": [],
      "source": [
        "#Use UCCSD ansatz to look for single and double excitation on noiseless simulator\n",
        "vqe_factory = VQEUCCFactory( \n",
        "    quantum_instance=Aer.get_backend(\"aer_simulator_statevector\"),\n",
        "    optimizer=SLSQP(maxiter=6,ftol = 1e-4),\n",
        "    ansatz=UCC(excitations='sd')\n",
        ") \n",
        "\n",
        "from qiskit.algorithms import NumPyMinimumEigensolver\n",
        "\n",
        "numpy_solver = NumPyMinimumEigensolver()\n",
        "\n",
        "#Find the real solution using classical method\n",
        "solver = GroundStateEigensolver(parity_converter, vqe_factory) \n",
        "real_solution_t = solver.solve(problem_reduced).total_energies[0]    \n",
        "print('Reference energy : ', real_solution_t)"
      ]
    },
    {
      "cell_type": "code",
      "execution_count": null,
      "metadata": {},
      "outputs": [],
      "source": [
        "symbols = [\"H\",\"Be\",\"H\"]\n",
        "geometry = np.array([ -1.291/0.529, 0.0, 0.0,0.0, 0.0, 0.0, 1.291/0.529, 0.0, 0.0])\n",
        "#define the hamiltonian of the system\n",
        "hamil = qml.qchem.molecular_hamiltonian(symbols,geometry,charge = 0,basis = 'sto-3g', active_electrons=4, active_orbitals=6)[0]\n",
        "#number of qubits\n",
        "n_qubits = len(hamil.wires)\n",
        "\n",
        "#define the hf state\n",
        "hf_state = qml.qchem.hf_state(electrons=4, orbitals=n_qubits)\n",
        "# singles and doubles are used to make the AllSinglesDoubles template\n",
        "singles, doubles = qml.qchem.excitations(4, n_qubits)"
      ]
    },
    {
      "cell_type": "code",
      "execution_count": null,
      "metadata": {},
      "outputs": [],
      "source": [
        "%%time\n",
        "from qiskit.utils import algorithm_globals\n",
        "algorithm_globals.random_seed = 10\n",
        "\n",
        "\n",
        "\n",
        "dev = qml.device(\"default.qubit\", wires=n_qubits)\n",
        "@qml.qnode(dev)\n",
        "\n",
        "\n",
        "def cost(weights):\n",
        "    qml.BasisState(hf_state, wires=list(range(n_qubits)))\n",
        "    for i in range(len(singles)):            \n",
        "        qml.SingleExcitation(weights[i+len(doubles)], wires=singles[i])\n",
        "    for i in range(len(doubles)):\n",
        "        qml.DoubleExcitation(weights[i], wires=doubles[i])        \n",
        "    return qml.expval(hamil)\n",
        "\n",
        "weights =np.zeros(len(doubles + singles), requires_grad=True)\n",
        "opt = qml.AdamOptimizer(stepsize=0.05)\n",
        "i=0\n",
        "iter=[]\n",
        "cost_val=[]\n",
        "Lowest_E=0\n",
        "best_weights=0\n",
        "for _ in range(30):\n",
        "    weights = opt.step(cost, weights)\n",
        "    iter.append(i)\n",
        "    cost_fn=cost(weights)\n",
        "    if Lowest_E>cost_fn:\n",
        "        Lowest_E=cost_fn\n",
        "        best_weights=weights\n",
        "    cost_val.append(cost_fn)\n",
        "    print('iter:',i,' cost_fn:',cost_fn)\n",
        "    i=i+1"
      ]
    },
    {
      "cell_type": "code",
      "execution_count": null,
      "metadata": {},
      "outputs": [],
      "source": [
        "#Total number of 2-qubit (CNOT) gates\n",
        "print(\"Total number of CNOT gates used = \", 13*len(doubles) + 2*len(singles)) "
      ]
    },
    {
      "cell_type": "code",
      "execution_count": null,
      "metadata": {},
      "outputs": [],
      "source": [
        "# The following plot is of full VQE\n",
        "import matplotlib.pyplot as plt\n",
        "plt.rcParams[\"font.size\"] = 14\n",
        "\n",
        "# plot loss and reference value\n",
        "plt.figure(figsize=(12, 6), facecolor='white')\n",
        "plt.plot(cost_val, label=\"Estimator VQE BeH2 IDEAL\")\n",
        "plt.axhline(y=real_solution_t.real, color=\"tab:red\", ls=\"--\", label=\"Target\")\n",
        "\n",
        "plt.legend(loc=\"best\")\n",
        "plt.xlabel(\"Iteration\")\n",
        "plt.ylabel(\"Energy [H]\")\n",
        "plt.title(\"VQE energy\")\n",
        "plt.show()"
      ]
    },
    {
      "attachments": {},
      "cell_type": "markdown",
      "metadata": {},
      "source": [
        "ADAPT_VQE"
      ]
    },
    {
      "attachments": {},
      "cell_type": "markdown",
      "metadata": {},
      "source": [
        "In the previous calculation, we used all the single and double excitations, however, one can reduce their number by looking at the gradient w.r.t. parameters for those schemes. The idea is that if the parameters remain constant, then we can train the schemes where parameters need to change in order to reduce the time as well as the number of gates required.\n",
        "\n",
        "The same is demonstrated using ADAPT_VQE, where we 'ADAPT' to non-vanishing gradients and using a similar ansatz with restricted number of schemes, we get much faster and better results. This is basically due to the classical preprocessing of data.\n",
        "\n",
        "The convergence can be seen after merely 10 iterations and the time taken is less than a minute for optimization. The number of CNOT gates already reduce by a factor of 10."
      ]
    },
    {
      "cell_type": "code",
      "execution_count": null,
      "metadata": {},
      "outputs": [],
      "source": [
        "#We use pennylane for faster computation\n",
        "\n",
        "#Define the symbol and geometry\n",
        "symbols = [\"H\",\"Be\",\"H\"]\n",
        "#Geometry in atomic distance for pennylane\n",
        "geometry = np.array([ -1.291/0.529, 0.0, 0.0,0.0, 0.0, 0.0, 1.291/0.529, 0.0, 0.0])\n",
        "active_electrons = 4\n",
        "H, qubits = qml.qchem.molecular_hamiltonian(\n",
        "    symbols,\n",
        "    geometry,\n",
        "    active_electrons=active_electrons,\n",
        "    active_orbitals=6\n",
        ")\n",
        "\n",
        "print(f\"Total number of excitations = {len(singles) + len(doubles)}\")"
      ]
    },
    {
      "cell_type": "code",
      "execution_count": null,
      "metadata": {},
      "outputs": [],
      "source": [
        "\n",
        "\n",
        "def circuit_1(params, excitations):\n",
        "    qml.BasisState(hf_state, wires=range(qubits))\n",
        "\n",
        "    for i, excitation in enumerate(excitations):\n",
        "        if len(excitation) == 4:\n",
        "            qml.DoubleExcitation(params[i], wires=excitation)\n",
        "        else:\n",
        "            qml.SingleExcitation(params[i], wires=excitation)\n",
        "    return qml.expval(H)\n",
        "dev = qml.device(\"default.qubit\", wires=qubits)\n",
        "cost_fn = qml.QNode(circuit_1, dev)\n",
        "\n",
        "circuit_gradient = qml.grad(cost_fn, argnum=0)\n",
        "\n",
        "params = [0.0] * len(doubles)\n",
        "grads = circuit_gradient(params, excitations=doubles)"
      ]
    },
    {
      "cell_type": "code",
      "execution_count": null,
      "metadata": {},
      "outputs": [],
      "source": [
        "doubles_select = [doubles[i] for i in range(len(doubles)) if abs(grads[i]) > 1.0e-5]"
      ]
    },
    {
      "cell_type": "code",
      "execution_count": null,
      "metadata": {},
      "outputs": [],
      "source": [
        "opt = qml.GradientDescentOptimizer(stepsize=0.5)\n",
        "\n",
        "params_doubles = np.zeros(len(doubles_select), requires_grad=True)\n",
        "\n",
        "for n in range(20):\n",
        "    params_doubles = opt.step(cost_fn, params_doubles, excitations=doubles_select)\n",
        "def circuit_2(params, excitations, gates_select, params_select):\n",
        "    qml.BasisState(hf_state, wires=range(qubits))\n",
        "\n",
        "    for i, gate in enumerate(gates_select):\n",
        "        if len(gate) == 4:\n",
        "            qml.DoubleExcitation(params_select[i], wires=gate)\n",
        "        elif len(gate) == 2:\n",
        "            qml.SingleExcitation(params_select[i], wires=gate)\n",
        "\n",
        "    for i, gate in enumerate(excitations):\n",
        "        if len(gate) == 4:\n",
        "            qml.DoubleExcitation(params[i], wires=gate)\n",
        "        elif len(gate) == 2:\n",
        "            qml.SingleExcitation(params[i], wires=gate)\n",
        "    return qml.expval(H)\n",
        "cost_fn = qml.QNode(circuit_2, dev)\n",
        "circuit_gradient = qml.grad(cost_fn, argnum=0)\n",
        "params = [0.0] * len(singles)\n",
        "\n",
        "grads = circuit_gradient(\n",
        "    params,\n",
        "    excitations=singles,\n",
        "    gates_select=doubles_select,\n",
        "    params_select=params_doubles\n",
        ")"
      ]
    },
    {
      "cell_type": "code",
      "execution_count": null,
      "metadata": {},
      "outputs": [],
      "source": [
        "singles_select = [singles[i] for i in range(len(singles)) if abs(grads[i]) > 1.0e-5 ]"
      ]
    },
    {
      "cell_type": "code",
      "execution_count": null,
      "metadata": {},
      "outputs": [],
      "source": [
        "cost_fn = qml.QNode(circuit_1, dev)\n",
        "\n",
        "params = np.zeros(len(doubles_select + singles_select), requires_grad=True)\n",
        "\n",
        "gates_select = doubles_select + singles_select\n",
        "energy_vals = []\n",
        "import time\n",
        "for n in range(20):\n",
        "    t1 = time.time()\n",
        "    params, energy = opt.step_and_cost(cost_fn, params, excitations=gates_select)\n",
        "    t2 = time.time()\n",
        "    energy_vals.append(energy)\n",
        "    print(\"n = {:},  E = {:.8f} H, t = {:.2f} s\".format(n, energy, t2 - t1))"
      ]
    },
    {
      "cell_type": "code",
      "execution_count": null,
      "metadata": {},
      "outputs": [],
      "source": [
        "#Total number of 2 qubit gates used\n",
        "print('Total number of CNOT qubit gates used =', 13*len(doubles_select) + 2*len(singles_select))"
      ]
    },
    {
      "cell_type": "code",
      "execution_count": null,
      "metadata": {},
      "outputs": [],
      "source": [
        "# The following plot is of ADAPT_VQE\n",
        "import matplotlib.pyplot as plt\n",
        "plt.rcParams[\"font.size\"] = 14\n",
        "\n",
        "# plot loss and reference value\n",
        "plt.figure(figsize=(12, 6), facecolor='white')\n",
        "plt.plot(energy_vals, label=\"ADAPT VQE BeH2 IDEAL\")\n",
        "plt.axhline(y=real_solution_t.real, color=\"tab:red\", ls=\"--\", label=\"Target\")\n",
        "\n",
        "plt.legend(loc=\"best\")\n",
        "plt.xlabel(\"Iteration\")\n",
        "plt.ylabel(\"Energy [H]\")\n",
        "plt.title(\"VQE energy\")\n",
        "plt.show()"
      ]
    },
    {
      "attachments": {},
      "cell_type": "markdown",
      "metadata": {},
      "source": [
        "TETRIS_VQE"
      ]
    },
    {
      "attachments": {},
      "cell_type": "markdown",
      "metadata": {},
      "source": [
        "TETRIS_VQE is a dynamic circuit design based on the idea of ADAPT VQE. \n",
        "\n",
        "Instead of using the same number of gates to begin with, the idea is to keep adding gates until we converge. We start with some scheme with non-zero gradient sorted in an order. We run the optimization method for that fixed circuit and calulcate the GS Energy. After each iteration, we add more schemes from the bigger pool in a constrained manner.\n",
        "\n",
        "In this work, we look at the closeness to the actual solution. By this, we mean that we stop if the GS Energy we get after dynamic addition of schemes to circuits is close to the real energy calculated above. Another method could be to use the different in the energy values and decide convergence on that. \n",
        "\n",
        "This method could be useful for large circuits where the number of schemes is large so that a step by step addition results in a better convergence. \n",
        "\n",
        "In our code, we get the convergence we want, with time and CNOT gates in between VQE and ADAPT VQE."
      ]
    },
    {
      "cell_type": "code",
      "execution_count": null,
      "metadata": {},
      "outputs": [],
      "source": [
        "\n",
        "#Define the symbol and geometry\n",
        "symbols = [\"H\",\"Be\",\"H\"]\n",
        "#Geometry in atomic distance for pennylane\n",
        "geometry = np.array([ -1.291/0.529, 0.0, 0.0,0.0, 0.0, 0.0, 1.291/0.529, 0.0, 0.0])\n",
        "active_electrons = 4\n",
        "H, qubits = qml.qchem.molecular_hamiltonian(\n",
        "    symbols,\n",
        "    geometry,\n",
        "    charge = 0,\n",
        "    active_electrons=active_electrons,\n",
        "    basis = 'sto-3g',\n",
        "    active_orbitals=6\n",
        ")\n",
        "n_qubits = qubits\n",
        "#HF State\n",
        "hf_state= qml.qchem.hf_state(electrons=active_electrons, orbitals=n_qubits)\n",
        "\n",
        "\n",
        "#all the operators together\n",
        "all_operators=singles+doubles\n",
        "\n",
        "params = [0.0] * len(doubles+singles)\n",
        "params=np.array(params )\n",
        "\n",
        "#define the circuit again\n",
        "def circuit_1(params, excitations):\n",
        "        qml.BasisState(hf_state, wires=range(n_qubits))\n",
        "\n",
        "        for i, excitation in enumerate(excitations):\n",
        "            if len(excitation) == 4:\n",
        "                qml.DoubleExcitation(params[i], wires=excitation)\n",
        "            else:\n",
        "                qml.SingleExcitation(params[i], wires=excitation)\n",
        "        return qml.expval(H )\n",
        "\n",
        "    \n",
        "    \n",
        "dev = qml.device(\"default.qubit\", wires=n_qubits)\n",
        "cost_fn = qml.QNode(circuit_1, dev)\n",
        "circuit_gradient = qml.grad(cost_fn, argnum=0)\n",
        "grads = circuit_gradient(params, excitations=doubles+singles)\n",
        "\n",
        "#operators in the opposite manner\n",
        "opposite_pool=doubles+singles\n",
        "\n",
        "#Thresholding the excitations\n",
        "new_opposite_pool=[opposite_pool[idx] for idx in range(len(grads)) if abs(grads[idx]) >1e-5]\n",
        "#gradients for the excitations thresholded\n",
        "new_grads=[grads[idx] for idx in range(len(grads)) if abs(grads[idx]) > 1e-5]\n",
        "   \n",
        "#Now we sort these gradients and we will apply it sequentially\n",
        "indx=np.argsort(np.abs(new_grads))\n",
        "sorted_opposite_pool=[new_opposite_pool[idx] for idx in indx]\n",
        "\n",
        "#For the shallower circuit, we will use this\n",
        "shallow_circuits=[]    \n",
        "while len(sorted_opposite_pool) !=0:\n",
        "    q_layer=[]     \n",
        "    ind_left=[]  \n",
        "    for idx, op in enumerate(sorted_opposite_pool):\n",
        "        if shallow_circuits==[]:\n",
        "            shallow_circuits.append(op)\n",
        "            q_layer=q_layer+op\n",
        "        else:\n",
        "            Stack=True\n",
        "            for k in op:\n",
        "                if k in q_layer:\n",
        "                    Stack=False\n",
        "                    ind_left.append(idx)\n",
        "                    break\n",
        "            if Stack:\n",
        "                shallow_circuits.append(op)\n",
        "                q_layer=q_layer+op\n",
        "    sorted_opposite_pool=[sorted_opposite_pool[idx] for idx in ind_left]\n",
        "\n",
        "params = [0.0] * len(doubles_select+singles_select)\n",
        "params=np.array(params )\n",
        "\n",
        "q_layer=[]\n",
        "time_iterations=20\n",
        "conv_tol=1e-4\n",
        "energy=[]\n",
        "\n",
        "opt = qml.GradientDescentOptimizer(stepsize=0.3) \n",
        "dev = qml.device(\"default.qubit\", wires=n_qubits)\n",
        "\n",
        "cost_fn = qml.QNode(circuit_1, dev, expansion_strategy=\"device\")\n",
        "circuit_gradient = qml.grad(cost_fn, argnum=0) # step 2.\n",
        "\n",
        "energy = [cost_fn(params, shallow_circuits)] # step 2.\n",
        "print(f\"time_iteration = 0,  Energy = {energy[-1]:.8f} Ha\")\n",
        "print(\"Number of gates = {}\\n\".format(len(shallow_circuits)))\n",
        "configs=qml.specs(cost_fn)(params, excitations=shallow_circuits)\n",
        "print(\"Circuit Depth = {}\\n\".format(configs['depth'],))\n",
        "t1 = time.time()\n",
        "for n in range(time_iterations):\n",
        "\n",
        "    Test_set=shallow_circuits+all_operators\n",
        "    Test_parameters=list(params)+[0.0]*len(all_operators)\n",
        "    Test_parameters=np.array(Test_parameters)\n",
        "        \n",
        "    test_grads = circuit_gradient(Test_parameters,Test_set)\n",
        "    test_grads = test_grads[len(params):]\n",
        "\n",
        "    test_sorted_indx=np.argsort(np.abs(test_grads))[::-1]\n",
        "    maxpos=test_sorted_indx[0]\n",
        "    Larger_sorted_indx=[]\n",
        "    for ind in test_sorted_indx:\n",
        "        Larger_sorted_indx.append(ind)\n",
        "\n",
        "    for k,ind in enumerate(Larger_sorted_indx):\n",
        "        op_set=set(all_operators[ind])\n",
        "        q_layer_set=set(q_layer)\n",
        "        if not bool(op_set & q_layer_set):\n",
        "            q_layer=q_layer+all_operators[ind]\n",
        "            shallow_circuits.append(all_operators[ind])\n",
        "            params=np.append(params, 0.0)\n",
        "        if (len(q_layer)>=n_qubits-4): # It is hard to find the operators with non-zero gradient fill all qubit layers.\n",
        "            q_layer=[]                                 # We leave at maximum 4 idle qubits\n",
        "            break\n",
        "\n",
        "\n",
        "    params,_ = opt.step(cost_fn, params, shallow_circuits) # Step 5.\n",
        "    E_val=cost_fn(params, shallow_circuits)\n",
        "    energy.append(E_val)\n",
        "    conv = np.abs(real_solution_t.real - E_val) #step 3.\n",
        "\n",
        "    print(f\"time_iteration = {n+1}, Energy = {energy[-1]:.8f} Ha\")\n",
        "    print(\"Number of gates = {}\\n\".format(len(shallow_circuits)))\n",
        "    configs=qml.specs(cost_fn)(params, excitations=shallow_circuits)\n",
        "    print(\"Circuit Depth = {}\\n\".format(configs['depth'],))\n",
        "    if conv <= conv_tol:\n",
        "        break\n",
        "t2 = time.time()"
      ]
    },
    {
      "cell_type": "code",
      "execution_count": null,
      "metadata": {},
      "outputs": [],
      "source": [
        "# The following plot is of ADAPT_VQE\n",
        "import matplotlib.pyplot as plt\n",
        "plt.rcParams[\"font.size\"] = 14\n",
        "\n",
        "# plot loss and reference value\n",
        "plt.figure(figsize=(12, 6), facecolor='white')\n",
        "plt.plot(energy, label=\"TETRIS ADAPT VQE BeH2 IDEAL\")\n",
        "plt.axhline(y=real_solution_t.real, color=\"tab:red\", ls=\"--\", label=\"Target\")\n",
        "\n",
        "plt.legend(loc=\"best\")\n",
        "plt.xlabel(\"Iteration\")\n",
        "plt.ylabel(\"Energy [H]\")\n",
        "plt.title(\"TETRIS ADAPT VQE energy\")\n",
        "plt.show()"
      ]
    },
    {
      "cell_type": "code",
      "execution_count": null,
      "metadata": {},
      "outputs": [],
      "source": [
        "num_two_gates = 0\n",
        "for ele in shallow_circuits:\n",
        "    if len(ele)==2:\n",
        "        num_two_gates+=2\n",
        "    else:\n",
        "        num_two_gates+=13\n",
        "print('Number of two qubit CNOT gates for TETRIS ADAPT VQE is', num_two_gates)"
      ]
    },
    {
      "cell_type": "code",
      "execution_count": null,
      "metadata": {},
      "outputs": [],
      "source": [
        "print('Time taken =', t2-t1)"
      ]
    },
    {
      "attachments": {},
      "cell_type": "markdown",
      "metadata": {},
      "source": [
        "Plotting the three different techniques overlaid on each other for comparison"
      ]
    },
    {
      "cell_type": "code",
      "execution_count": null,
      "metadata": {},
      "outputs": [],
      "source": [
        "plt.rcParams[\"font.size\"] = 14\n",
        "\n",
        "# plot loss and reference value\n",
        "plt.figure(figsize=(12, 6), facecolor='white')\n",
        "plt.plot(cost_val[:20], label=\"VQE\")\n",
        "plt.plot(energy_vals, label=\"ADAPT_VQE\")\n",
        "plt.plot(energy, label=\"TETRIS_ADAPT_VQE\")\n",
        "plt.axhline(y=real_solution_t.real, color=\"tab:red\", ls=\"--\", label=\"Target\")\n",
        "\n",
        "plt.legend(loc=\"best\")\n",
        "plt.xlabel(\"Iteration\")\n",
        "plt.ylabel(\"Energy [H]\")\n",
        "plt.title(\"VQE energy\")\n",
        "plt.show()"
      ]
    },
    {
      "attachments": {},
      "cell_type": "markdown",
      "metadata": {},
      "source": [
        "So far we used hybrid algorithm VQE with different techniques to get estimates on a noiseless (simulated) quantum backend. However, on real quantum devices, the errors propagate pretty fast. Therefore, we need error mitigation techniques. \n",
        "\n",
        "Furthermore, we need to apply it to systems where the number of two qubit gates (most prone to error after toffoli) are minimized. To resolve this issue, we look at a smaller system"
      ]
    },
    {
      "attachments": {},
      "cell_type": "markdown",
      "metadata": {},
      "source": [
        "Now using error mitigation with qiskit runtime and just VQE. This method is based on a crude approximation, restricting the Hilbert space to an active space of unbonded electrons within the BeH2 molecule.. The circuits take longer to run depending on how available the ibm backend is but achieve error mitigated results."
      ]
    },
    {
      "cell_type": "code",
      "execution_count": null,
      "metadata": {},
      "outputs": [],
      "source": [
        "#Load the required packages\n",
        "import pennylane.numpy as np\n",
        "import pennylane as qml\n",
        "import warnings\n",
        "warnings.filterwarnings('ignore')\n",
        "\n",
        "from qiskit import Aer, IBMQ, QuantumCircuit\n",
        "from qiskit.primitives import Estimator, BackendEstimator\n",
        "from qiskit.providers.aer import StatevectorSimulator\n",
        "from qiskit.utils import QuantumInstance\n",
        "\n",
        "from qiskit.tools.jupyter import *\n",
        "from qiskit.visualization import *\n",
        "\n",
        "from qiskit.algorithms import MinimumEigensolverResult, VQE\n",
        "from qiskit.algorithms.optimizers import SLSQP, SPSA\n",
        "\n",
        "\n",
        "from qiskit_nature.algorithms import GroundStateEigensolver, VQEUCCFactory\n",
        "from qiskit_nature.algorithms.ground_state_solvers.minimum_eigensolver_factories import NumPyMinimumEigensolverFactory\n",
        "from qiskit_nature.circuit.library import UCC, UCCSD\n",
        "from qiskit_nature.drivers import Molecule\n",
        "from qiskit_nature.drivers.second_quantization import ElectronicStructureDriverType, ElectronicStructureMoleculeDriver\n",
        "from qiskit_nature.converters.second_quantization import QubitConverter\n",
        "from qiskit_nature.mappers.second_quantization import BravyiKitaevMapper, JordanWignerMapper, ParityMapper\n",
        "from qiskit_nature.problems.second_quantization.electronic import ElectronicStructureProblem\n",
        "from qiskit_nature.transformers.second_quantization.electronic import ActiveSpaceTransformer\n",
        "\n",
        "from qiskit_nature.settings import settings\n",
        "\n",
        "settings.dict_aux_operators = True"
      ]
    },
    {
      "cell_type": "markdown",
      "metadata": {
        "id": "U7CpsxQuj_gd"
      },
      "source": [
        "We use the linear geometry of the molecule and set a distance d as rougly the equilibrium distance of the two hydrogen atoms from beryllium which is 1.29 Angstroms."
      ]
    },
    {
      "cell_type": "code",
      "execution_count": null,
      "metadata": {
        "id": "JimUdlD6XzAr"
      },
      "outputs": [],
      "source": [
        "#### Fill in the values below and complete the function to define the Molecule ####\n",
        "d = 1.291\n",
        "# Coordinates are given in Angstrom\n",
        "# Replace BeH2 with appropriate molecule\n",
        "beh2 = [[\"Be\", [0, 0.0, 0.0]], \n",
        "              [\"H\", [-d, 0.0, 0.0]],\n",
        "              [\"H\", [d, 0.0, 0.0]]]\n",
        "                  \n",
        "BeH2 = Molecule( \n",
        "    geometry= beh2,  \n",
        "    multiplicity= 1, \n",
        "    charge= 0, \n",
        ")\n",
        "\n",
        "driver = ElectronicStructureMoleculeDriver(BeH2, basis=\"sto3g\", driver_type=ElectronicStructureDriverType.PYSCF) \n",
        "\n",
        "properties = driver.run()"
      ]
    },
    {
      "cell_type": "code",
      "execution_count": null,
      "metadata": {},
      "outputs": [],
      "source": [
        "num_alpha_electrons = properties.get_property('ParticleNumber').num_alpha\n",
        "num_beta_electrons = properties.get_property('ParticleNumber').num_beta\n",
        "num_spin_orbitals = int(properties.get_property('ParticleNumber').num_spin_orbitals)\n",
        "\n",
        "nuclear_rep_energy = properties.get_property('ElectronicEnergy').nuclear_repulsion_energy\n",
        "print(\"number of alpha electrons: \" , num_alpha_electrons)\n",
        "print(\"number of beta electrons: \" , num_beta_electrons)\n",
        "print(\"number of spin orbitals: \" , num_spin_orbitals)\n",
        "print(\"nuclear repulsion energy: \" , nuclear_rep_energy)"
      ]
    },
    {
      "cell_type": "code",
      "execution_count": null,
      "metadata": {},
      "outputs": [],
      "source": [
        "# Check the occupation of the spin orbitals\n",
        "PN_property = properties.get_property(\"ParticleNumber\")\n",
        "\n",
        "# Define the active space around the Fermi level \n",
        "# (selected automatically around the HOMO and LUMO, ordered by energy)\n",
        "transformer = ActiveSpaceTransformer(\n",
        "    num_electrons=2, # Number of electrons in our active space\n",
        "    num_molecular_orbitals=2, # Number of orbitals in our active space\n",
        ")\n",
        "\n",
        "# Now you can get the reduced electronic structure problem\n",
        "problem_reduced = ElectronicStructureProblem(driver, transformers=[transformer]) \n",
        "\n",
        "# The second quantized Hamiltonian of the reduce problem\n",
        "second_q_ops_reduced = problem_reduced.second_q_ops()"
      ]
    },
    {
      "cell_type": "code",
      "execution_count": null,
      "metadata": {},
      "outputs": [],
      "source": [
        "# Setup the mapper and qubit converter\n",
        "mapper_type = 'ParityMapper'\n",
        "\n",
        "if mapper_type == 'ParityMapper':\n",
        "    mapper = ParityMapper()\n",
        "elif mapper_type == 'JordanWignerMapper':\n",
        "    mapper = JordanWignerMapper()\n",
        "elif mapper_type == 'BravyiKitaevMapper':\n",
        "    mapper = BravyiKitaevMapper()\n",
        "\n",
        "\n",
        "converter = QubitConverter(mapper)\n",
        "\n",
        "qubit_op = converter.convert(second_q_ops_reduced[\"ElectronicEnergy\"])"
      ]
    },
    {
      "cell_type": "code",
      "execution_count": null,
      "metadata": {},
      "outputs": [],
      "source": [
        "# Set the mapper to qubits\n",
        "parity_mapper = ParityMapper() \n",
        "\n",
        "# Set the qubit converter with two qubit reduction to reduce the computational cost \n",
        "parity_converter = QubitConverter(parity_mapper, two_qubit_reduction=True)    \n",
        "\n",
        "# Compute the Hamitonian in qubit form\n",
        "qubit_op_parity = parity_converter.convert(second_q_ops_reduced.get('ElectronicEnergy'), num_particles=problem_reduced.num_particles)"
      ]
    },
    {
      "cell_type": "code",
      "execution_count": null,
      "metadata": {},
      "outputs": [],
      "source": [
        "vqe_factory = VQEUCCFactory( # This is an example of UCC\"SD\" ansatz\n",
        "    quantum_instance=Aer.get_backend(\"aer_simulator_statevector\"),\n",
        "    optimizer=SLSQP(),\n",
        "    ansatz=UCC(excitations='sd')\n",
        ") \n",
        "\n",
        "from qiskit.algorithms import NumPyMinimumEigensolver\n",
        "\n",
        "numpy_solver = NumPyMinimumEigensolver()\n",
        "\n",
        "solver = GroundStateEigensolver(parity_converter, vqe_factory)  # Define Numpy\n",
        "real_solution_t = solver.solve(problem_reduced).total_energies[0]    \n",
        "print('Reference energy : ', real_solution_t)"
      ]
    },
    {
      "cell_type": "code",
      "execution_count": null,
      "metadata": {},
      "outputs": [],
      "source": [
        "# Define our 'ansatz' for the problem\n",
        "ansatz = UCC(\n",
        "    qubit_converter=parity_converter,\n",
        "    num_particles=problem_reduced.num_particles, \n",
        "    num_spin_orbitals=problem_reduced.num_spin_orbitals,\n",
        "    excitations='sd'\n",
        ")"
      ]
    },
    {
      "cell_type": "code",
      "execution_count": null,
      "metadata": {},
      "outputs": [],
      "source": [
        "token = '1f470c8fb158d77fb7a8082fb0c4e6d289a97765a76aee8b2de5eaf74d7c8839545bed73ded44e885edd5ee98205f244d9d770de26eea55277e2c740e62aa591'\n",
        "IBMQ.save_account(token)\n",
        "service = QiskitRuntimeService()"
      ]
    },
    {
      "cell_type": "code",
      "execution_count": null,
      "metadata": {},
      "outputs": [],
      "source": [
        "#using qasm simulator\n",
        "backend = service.backends(simulator=True)[0]\n",
        "noisy_sim = FakeManila()\n",
        "#noisy_sim = FakeGuadalupe()\n",
        "#for running on real quantum device\n",
        "#backend = 'ibmq_lima'\n",
        "#backend = 'ibmq_guadalupe'"
      ]
    },
    {
      "cell_type": "code",
      "execution_count": null,
      "metadata": {},
      "outputs": [],
      "source": [
        "service = QiskitRuntimeService(\n",
        "    channel='ibm_quantum',\n",
        "    instance='qhack-event/main/level-2-team-1',\n",
        ")"
      ]
    },
    {
      "cell_type": "code",
      "execution_count": null,
      "metadata": {},
      "outputs": [],
      "source": [
        "#for noisy simulator\n",
        "noise_model = NoiseModel.from_backend(noisy_sim)\n",
        "\n",
        "options_with_em = Options(\n",
        "    simulator={\n",
        "        \"noise_model\": noise_model,\n",
        "        \"seed_simulator\": 42,\n",
        "    },  \n",
        "    resilience_level=1 # You may change the value here. resilience_level = 1 will activate TREX\n",
        ")\n",
        "\n"
      ]
    },
    {
      "cell_type": "code",
      "execution_count": null,
      "metadata": {},
      "outputs": [],
      "source": [
        "%%time\n",
        "from qiskit.utils import algorithm_globals\n",
        "algorithm_globals.random_seed = 1024\n",
        "\n",
        "# Define convergence list\n",
        "convergence = []\n",
        "\n",
        "# Keep track of jobs \n",
        "job_list = []\n",
        "\n",
        "# Initialize estimator object\n",
        "#estimator = Estimator()\n",
        "\n",
        "# Define evaluate_expectation function\n",
        "def evaluate_expectation(x):\n",
        "    x = list(x)\n",
        "    \n",
        "    # Define estimator run parameters\n",
        "\n",
        "    with Session(service=service, backend=backend):\n",
        "      estimator = Estimator(options=options_with_em)\n",
        "      job = estimator.run(circuits=[ansatz], parameter_values=[x],observables=qubit_op_parity).result()\n",
        "      results = job.values[0]\n",
        "      job_list.append(job)\n",
        "\n",
        "\n",
        "    # Pass results back to callback function\n",
        "    return np.real(results)\n",
        "\n",
        "\n",
        "\n",
        "# Call back function\n",
        "def callback(x,fx,ax,tx,nx):\n",
        "    # Callback function to get a view on internal states and statistics of the optimizer for visualization\n",
        "    convergence.append(evaluate_expectation(fx))\n",
        "\n",
        "np.random.seed(10)\n",
        "\n",
        "# Define initial point. We shall define a random point here based on the number of parameters in our ansatz\n",
        "initial_point = np.random.random(ansatz.num_parameters)\n",
        "\n",
        "\n",
        "# Define optimizer and pass callback function\n",
        "optimizer = SPSA(maxiter = 50, callback=callback)\n",
        "\n",
        "# Define minimize function\n",
        "result =  optimizer.minimize(evaluate_expectation, x0=initial_point) "
      ]
    },
    {
      "attachments": {},
      "cell_type": "markdown",
      "metadata": {},
      "source": [
        "The energy is measured in Hartrees."
      ]
    },
    {
      "cell_type": "code",
      "execution_count": null,
      "metadata": {},
      "outputs": [],
      "source": [
        "Energy_H_t = []\n",
        "for i in range(len(convergence)):\n",
        "    sol = MinimumEigensolverResult()\n",
        "    sol.eigenvalue = convergence[i]\n",
        "    sol = problem_reduced.interpret(sol).total_energies[0]\n",
        "    Energy_H_t.append(sol)\n",
        "print(\"Computed Energy:\", Energy_H_t[-1])"
      ]
    },
    {
      "cell_type": "code",
      "execution_count": null,
      "metadata": {},
      "outputs": [],
      "source": [
        "# The following plot compares the two Estimators - with and without noise\n",
        "\n",
        "plt.rcParams[\"font.size\"] = 14\n",
        "\n",
        "# plot loss and reference value\n",
        "plt.figure(figsize=(12, 6), facecolor='white')\n",
        "plt.plot(Energy_H_t, label=\"Estimator VQE BeH2+NOISY+TREX\")\n",
        "plt.axhline(y=real_solution_t.real, color=\"tab:red\", ls=\"--\", label=\"Target\")\n",
        "\n",
        "plt.legend(loc=\"best\")\n",
        "plt.xlabel(\"Iteration\")\n",
        "plt.ylabel(\"Energy [H]\")\n",
        "plt.title(\"VQE energy\")\n",
        "plt.show()\n",
        "\n",
        "print(Energy_H_t)\n",
        "print(real_solution_t.real)"
      ]
    },
    {
      "attachments": {},
      "cell_type": "markdown",
      "metadata": {},
      "source": [
        "The graph below shows the use of Twirled Readout Error eXtinction (TREX) error mitgation with FakeManila. resilience_level=2 uses zero-noise extrapolation (ZNE) and resilience_level=3 probabilistic error cancellation. "
      ]
    },
    {
      "cell_type": "code",
      "execution_count": null,
      "metadata": {},
      "outputs": [],
      "source": [
        "#the list below is obtained from running the above code using FakeManila() backend with TREX\n",
        "\n",
        "Energy = [(-15.308589894649552+0j), (-15.376219303406794+0j), (-15.39387021095869+0j), (-15.41320988016764+0j), (-15.424979665346248+0j), (-15.43005680849908+0j), (-15.458793700847162+0j), (-15.446448283806754+0j), (-15.4898171094885+0j), (-15.476441721587053+0j), (-15.474969955813778+0j), (-15.502844077303289+0j), (-15.497264640785085+0j), (-15.50411400536762+0j), (-15.522390027528557+0j), (-15.511767919548054+0j), (-15.546447335850596+0j), (-15.507244766958324+0j), (-15.514498135878798+0j), (-15.528440541600068+0j), (-15.505466876966013+0j), (-15.534659182874288+0j), (-15.506999906756407+0j), (-15.510933484293696+0j), (-15.523721688697963+0j), (-15.510674314602634+0j), (-15.527421789425498+0j), (-15.533565249430302+0j), (-15.505068081695628+0j), (-15.52178684825123+0j), (-15.517105482753143+0j), (-15.51841838222561+0j), (-15.515969684471115+0j), (-15.52842328809817+0j), (-15.531562898320603+0j), (-15.530992698664287+0j), (-15.551054905020186+0j), (-15.519531658012843+0j), (-15.507667899741014+0j), (-15.515193693691847+0j), (-15.533802941657433+0j), (-15.528088837443674+0j), (-15.504669734193806+0j), (-15.539639668296635+0j), (-15.510747126847535+0j), (-15.513427925056904+0j), (-15.52002162186678+0j), (-15.526629340135559+0j), (-15.516375594669652+0j), (-15.505610970793215+0j)]\n",
        "\n",
        "Target_E = -15.561651427447169\n",
        "\n",
        "E = []\n",
        "for i in range(len(Energy)):\n",
        "    E.append(np.real(Energy[i]))\n",
        "\n"
      ]
    },
    {
      "cell_type": "code",
      "execution_count": null,
      "metadata": {},
      "outputs": [
        {
          "data": {
            "image/png": "[encoded data removed]",
            "text/plain": [
              "<pyolite.display.Image at 0x318af68>"
            ]
          },
          "metadata": {},
          "output_type": "display_data"
        }
      ],
      "source": [
        "plt.rcParams[\"font.size\"] = 14\n",
        "\n",
        "# plot loss and reference value\n",
        "plt.figure(figsize=(12, 6), facecolor='white')\n",
        "plt.plot(E, label=\"Estimator VQE BeH2+NOISY+TREX\")\n",
        "plt.axhline(y=Target_E, color=\"tab:red\", ls=\"--\", label=\"Target, d = 1.291 Angstroms\")\n",
        "\n",
        "plt.legend(loc=\"best\")\n",
        "plt.xlabel(\"Iteration\")\n",
        "plt.ylabel(\"Energy [H]\")\n",
        "plt.title(\"VQE energy\")\n",
        "plt.show()"
      ]
    },
    {
      "cell_type": "markdown",
      "metadata": {},
      "source": []
    },
    {
      "attachments": {},
      "cell_type": "markdown",
      "metadata": {},
      "source": [
        "Additionally we have error mitigated results from the real backend ibmq_lima using TREX and ZNE. While TREX results show monotonic convergence to the ground state, we show ZNE results."
      ]
    },
    {
      "cell_type": "code",
      "execution_count": null,
      "metadata": {},
      "outputs": [],
      "source": [
        "backend = 'ibmq_lima'"
      ]
    },
    {
      "cell_type": "code",
      "execution_count": null,
      "metadata": {},
      "outputs": [],
      "source": [
        "service = QiskitRuntimeService(\n",
        "    channel='ibm_quantum',\n",
        "    instance='qhack-event/main/level-2-team-1',\n",
        ")"
      ]
    },
    {
      "cell_type": "code",
      "execution_count": null,
      "metadata": {},
      "outputs": [],
      "source": [
        "options_with_em = Options(resilience_level=2 # You may change the value here. resilience_level = 1 will activate TREX\n",
        ")"
      ]
    },
    {
      "cell_type": "code",
      "execution_count": null,
      "metadata": {},
      "outputs": [],
      "source": [
        "%%time\n",
        "from qiskit.utils import algorithm_globals\n",
        "algorithm_globals.random_seed = 1024\n",
        "\n",
        "# Define convergence list\n",
        "convergence = []\n",
        "\n",
        "# Keep track of jobs (Do-not-modify)\n",
        "job_list = []\n",
        "\n",
        "# Initialize estimator object\n",
        "#estimator = Estimator()# Enter your code here\n",
        "\n",
        "# Define evaluate_expectation function\n",
        "def evaluate_expectation(x):\n",
        "    x = list(x)\n",
        "    \n",
        "    # Define estimator run parameters\n",
        "    #### enter your code below ####\n",
        "\n",
        "\n",
        "\n",
        "    with Session(service=service, backend=backend):\n",
        "      estimator = Estimator(options=options_with_em)\n",
        "      job = estimator.run(circuits=[ansatz], parameter_values=[x],observables=qubit_op_parity).result()\n",
        "      results = job.values[0]\n",
        "      job_list.append(job)\n",
        "\n",
        "\n",
        "    # Pass results back to callback function\n",
        "    return np.real(results)\n",
        "\n",
        "\n",
        "\n",
        "# Call back function\n",
        "def callback(x,fx,ax,tx,nx):\n",
        "    # Callback function to get a view on internal states and statistics of the optimizer for visualization\n",
        "    convergence.append(evaluate_expectation(fx))\n",
        "\n",
        "np.random.seed(10)\n",
        "\n",
        "# Define initial point. We shall define a random point here based on the number of parameters in our ansatz\n",
        "initial_point = np.random.random(ansatz.num_parameters)\n",
        "\n",
        "#### enter your code below ####\n",
        "# Define optimizer and pass callback function\n",
        "optimizer = SPSA(maxiter = 50, callback=callback) # ----------- Enter your code here\n",
        "\n",
        "# Define minimize function\n",
        "result =  optimizer.minimize(evaluate_expectation, x0=initial_point) # ----------- Enter your code here"
      ]
    },
    {
      "cell_type": "code",
      "execution_count": null,
      "metadata": {},
      "outputs": [],
      "source": [
        "Energy_H_t = []\n",
        "for i in range(len(convergence)):\n",
        "    sol = MinimumEigensolverResult()\n",
        "    sol.eigenvalue = convergence[i]\n",
        "    sol = problem_reduced.interpret(sol).total_energies[0]\n",
        "    Energy_H_t.append(sol)\n",
        "print(\"Computed Energy:\", Energy_H_t[-1])"
      ]
    },
    {
      "cell_type": "code",
      "execution_count": null,
      "metadata": {},
      "outputs": [],
      "source": [
        "#the list below is obtained from running the above code using ibmq_lima backend with ZNE.\n",
        "\n",
        "Energy = [(-15.299725496726987+0j), (-15.404457371901044+0j), (-15.432048634488877+0j), (-15.479413567324093+0j), (-15.484154453097942+0j), (-15.498274731551897+0j), (-15.502134849652316+0j), (-15.501013354303835+0j), (-15.519383560872486+0j), (-15.525552730938573+0j), (-15.554337105185438+0j), (-15.554400483338556+0j), (-15.551891864562178+0j), (-15.545635016923596+0j), (-15.555698525879142+0j), (-15.551595355187027+0j), (-15.550354849219326+0j), (-15.551810351294685+0j), (-15.551651191275324+0j), (-15.54715839405482+0j), (-15.551579926022692+0j), (-15.549270670410346+0j), (-15.550742270040319+0j), (-15.558344780907598+0j), (-15.549046655882846+0j), (-15.554513011088916+0j), (-15.552365255003002+0j), (-15.552115439722515+0j), (-15.552561179281044+0j), (-15.548556478987896+0j), (-15.548150337736507+0j), (-15.550477227254524+0j), (-15.552545202356784+0j), (-15.549357297389344+0j), (-15.553080711408695+0j), (-15.553468837096995+0j), (-15.550786010522367+0j), (-15.550639970088818+0j), (-15.551100054992032+0j), (-15.551329759565471+0j), (-15.547600770146323+0j), (-15.5489985182846+0j), (-15.55645182159987+0j), (-15.55738365191599+0j), (-15.551482890586493+0j), (-15.551267266507073+0j), (-15.553622111797393+0j), (-15.553782805606561+0j), (-15.55176306113025+0j), (-15.550018243753359+0j)]\n",
        "\n",
        "Target_E = -15.561651427447183\n",
        "\n",
        "E = []\n",
        "for i in range(len(Energy)):\n",
        "    E.append(np.real(Energy[i]))\n"
      ]
    },
    {
      "cell_type": "code",
      "execution_count": null,
      "metadata": {},
      "outputs": [
        {
          "data": {
            "image/png": "[encoded data removed]",
            "text/plain": [
              "<pyolite.display.Image at 0x3894850>"
            ]
          },
          "metadata": {},
          "output_type": "display_data"
        }
      ],
      "source": [
        "plt.rcParams[\"font.size\"] = 14\n",
        "\n",
        "# plot loss and reference value\n",
        "plt.figure(figsize=(12, 6), facecolor='white')\n",
        "plt.plot(E, label=\"Estimator VQE BeH2+ibmq_lima+ZNE\")\n",
        "plt.axhline(y=Target_E, color=\"tab:red\", ls=\"--\", label=\"Target d = 1.291 Angstroms\")\n",
        "\n",
        "plt.legend(loc=\"best\")\n",
        "plt.xlabel(\"Iteration\")\n",
        "plt.ylabel(\"Energy [H]\")\n",
        "plt.title(\"VQE energy\")\n",
        "plt.show()"
      ]
    },
    {
      "attachments": {},
      "cell_type": "markdown",
      "metadata": {},
      "source": [
        "The results show that the qiskit runtime error mitigation works quite well."
      ]
    },
    {
      "attachments": {},
      "cell_type": "markdown",
      "metadata": {},
      "source": [
        "We also use entanglement forging from circuit knitting toolbox to reduce the complexity of the problem while sacrificing chemical accuracy."
      ]
    },
    {
      "cell_type": "code",
      "execution_count": null,
      "metadata": {},
      "outputs": [],
      "source": [
        "from qiskit_nature.drivers import Molecule\n",
        "from qiskit_nature.drivers.second_quantization import PySCFDriver\n",
        "from qiskit_nature.problems.second_quantization import ElectronicStructureProblem\n",
        "from qiskit_nature.transformers.second_quantization.electronic import ActiveSpaceTransformer\n",
        "molecule = Molecule(\n",
        "    geometry=[\n",
        "        (\"Be\",[0.0,0.0,0.0]),\n",
        "        (\"H\", [0.0, 0.0, -1.3]),\n",
        "        (\"H\", [0.0, 0.0, 1.3]),\n",
        "    ],\n",
        "    charge=0,\n",
        "    multiplicity=1,\n",
        ")\n",
        "driver = PySCFDriver.from_molecule(molecule=molecule, basis=\"sto3g\")\n",
        "\n",
        "\n",
        "transformer = ActiveSpaceTransformer(\n",
        "    num_electrons=6, # Number of electrons in our active space\n",
        "    num_molecular_orbitals=2, # Number of orbitals in our active space\n",
        ")\n",
        "problem = ElectronicStructureProblem(\n",
        "        driver,\n",
        "        [transformer])"
      ]
    },
    {
      "cell_type": "code",
      "execution_count": null,
      "metadata": {},
      "outputs": [],
      "source": [
        "from circuit_knitting_toolbox.entanglement_forging import EntanglementForgingAnsatz\n",
        "from qiskit.circuit.library import TwoLocal\n",
        "\n",
        "ansatz = EntanglementForgingAnsatz(\n",
        "    circuit_u=TwoLocal(2, [], \"cry\", [[0, 1], [1,0]], reps=1),\n",
        "    bitstrings_u=[(0,1),(1,0)],\n",
        ")\n",
        "\n",
        "ansatz.circuit_u.draw()"
      ]
    },
    {
      "cell_type": "code",
      "execution_count": null,
      "metadata": {},
      "outputs": [],
      "source": [
        "from qiskit_ibm_runtime import QiskitRuntimeService, Options\n",
        "\n",
        "# By default, use a local simulator to implement the Qiskit Runtime Primitives\n",
        "service = None\n",
        "\n",
        "# Uncomment the following line to instead use the Qiskit Runtime Service.\n",
        "# service = QiskitRuntimeService(channel=\"ibm_quantum\")\n",
        "\n",
        "backend_names = [\"ibmq_qasm_simulator\"] * 4\n",
        "\n",
        "# If a single set of options are passed, it will be applied to all backends\n",
        "options = [Options(execution={\"shots\": 1000}), Options(execution={\"shots\": 2000}), Options(execution={\"shots\":2000}),Options(execution={\"shots\":1000})]\n",
        "import numpy as np"
      ]
    },
    {
      "cell_type": "code",
      "execution_count": null,
      "metadata": {},
      "outputs": [],
      "source": [
        "import numpy as np\n",
        "from qiskit.algorithms.optimizers import COBYLA\n",
        "from circuit_knitting_toolbox.entanglement_forging import (\n",
        "    EntanglementForgingGroundStateSolver,\n",
        ")\n",
        "\n",
        "optimizer = COBYLA(maxiter=50,tol = 1e-5)\n",
        "\n",
        "solver = EntanglementForgingGroundStateSolver(\n",
        "    ansatz=ansatz,\n",
        "    optimizer=optimizer,\n",
        "    service=service,\n",
        "    backend_names=backend_names,\n",
        "    options=options,\n",
        "    initial_point=[0.0, np.pi / 2],\n",
        ")"
      ]
    },
    {
      "cell_type": "code",
      "execution_count": null,
      "metadata": {},
      "outputs": [],
      "source": [
        "%%capture\n",
        "\n",
        "results = solver.solve(problem)"
      ]
    },
    {
      "attachments": {},
      "cell_type": "markdown",
      "metadata": {},
      "source": [
        "The following results are obtained from running the above code. We also explored applying entanglement forging differently by a different choice of used bitstrings. The procedure is explained here. https://github.com/qiskit-community/prototype-entanglement-forging/blob/main/docs/3-explanatory_material/explanatory_material.md#picking-the-bitstrings"
      ]
    },
    {
      "cell_type": "code",
      "execution_count": null,
      "metadata": {},
      "outputs": [],
      "source": [
        "eigenvalue = [-15.067677961867169, -14.43349358705019, -16.850469941463, -17.35366210680921, -15.923394623984477, -17.39183988919921, -15.819941135220622, -17.66749851343628, -16.604922689851417, -17.666004725250048, -16.603020233190847, -17.29859516235202, -17.72566408267279, -17.69888982692018, -17.725690220806747, -17.69877309532289, -17.707285219181852, -17.72692685156067, -17.72285154687804, -17.72692548497306, -17.722851428629223, -17.725553090234015, -17.727115720551243, -17.726972567291043, -17.72711573111239, -17.72697242358583, -17.72706287631097, -17.727111031352962, -17.727110299209098, -17.7271157340197, -17.72711597275354, -17.727114147285853, -17.72711598580272, -17.72711650046225, -17.727115718768687, -17.72711627160566, -17.727116501379225, -17.727116401603, -17.72711642982655, -17.727116506819804, -17.72711649203592, -17.727116506782636, -17.727116492007838, -17.727116501944796, -17.72711650735905, -17.72711650663199, -17.727116507358662, -17.727116506631813, -17.727116507025464]\n"
      ]
    },
    {
      "cell_type": "code",
      "execution_count": null,
      "metadata": {},
      "outputs": [
        {
          "name": "stdout",
          "output_type": "stream",
          "text": [
            "Energy:\n"
          ]
        },
        {
          "data": {
            "image/png": "[encoded data removed]",
            "text/plain": [
              "<pyolite.display.Image at 0xc289e0>"
            ]
          },
          "metadata": {},
          "output_type": "display_data"
        }
      ],
      "source": [
        "import matplotlib.pyplot as plt\n",
        "\n",
        "print(\"Energy:\")\n",
        "plt.plot(eigenvalue)\n",
        "plt.xlabel(\"Iterations\")\n",
        "plt.ylabel(\"Energy (Hartrees)\")\n",
        "plt.show()\n"
      ]
    },
    {
      "attachments": {},
      "cell_type": "markdown",
      "metadata": {},
      "source": [
        "We also used orbital freezing through the following from IBM, problem = ElectronicStructureProblem(driver,[FreezeCoreTransformer(freeze_core=True, remove_orbitals=[-3,-2, -1])]) where we checked that excluding the orbitals we listed did not influence the chemical accuracy as much as excluding more orbitals. \n"
      ]
    }
  ],
  "metadata": {
    "colab": {
      "authorship_tag": "ABX9TyPHeZH/b2HZwQ7RmG5OBwB/",
      "include_colab_link": true,
      "provenance": []
    },
    "kernelspec": {
      "display_name": "Python 3",
      "name": "python3"
    },
    "language_info": {
      "name": "python"
    }
  },
  "nbformat": 4,
  "nbformat_minor": 0
}
