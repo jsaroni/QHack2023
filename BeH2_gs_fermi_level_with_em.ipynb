{
  "nbformat": 4,
  "nbformat_minor": 0,
  "metadata": {
    "colab": {
      "provenance": [],
      "authorship_tag": "ABX9TyNLA27UDMoXsWvuuVHFmRvc",
      "include_colab_link": true
    },
    "kernelspec": {
      "name": "python3",
      "display_name": "Python 3"
    },
    "language_info": {
      "name": "python"
    }
  },
  "cells": [
    {
      "cell_type": "markdown",
      "metadata": {
        "id": "view-in-github",
        "colab_type": "text"
      },
      "source": [
        "<a href=\"https://colab.research.google.com/github/jsaroni/QHack2023_Feynmanprodigies/blob/main/BeH2_gs_fermi_level_with_em.ipynb\" target=\"_parent\"><img src=\"https://colab.research.google.com/assets/colab-badge.svg\" alt=\"Open In Colab\"/></a>"
      ]
    },
    {
      "cell_type": "code",
      "execution_count": null,
      "metadata": {
        "id": "ExG_XkTuXRuu"
      },
      "outputs": [],
      "source": [
        "!pip install qiskit\n",
        "!pip install qiskit_nature\n",
        "!pip install pyscf\n",
        "!pip install qiskit_ibm_runtime"
      ]
    },
    {
      "cell_type": "code",
      "source": [
        "# Import necessary libraries and packages\n",
        "import math\n",
        "import matplotlib.pyplot as plt\n",
        "import numpy as np\n",
        "\n",
        "import warnings\n",
        "warnings.filterwarnings('ignore')\n",
        "from qiskit import Aer, IBMQ, QuantumCircuit\n",
        "from qiskit_ibm_runtime import QiskitRuntimeService, Session, Options, Sampler, Estimator\n",
        "from qiskit.providers.aer import StatevectorSimulator\n",
        "from qiskit.utils import QuantumInstance\n",
        "from qiskit.providers.fake_provider import FakeGuadalupe, FakeManila\n",
        "from qiskit_aer.noise import NoiseModel\n",
        "from qiskit.tools.jupyter import *\n",
        "from qiskit.visualization import *\n",
        "\n",
        "# Import Qiskit libraries for VQE\n",
        "from qiskit.algorithms import MinimumEigensolverResult, VQE\n",
        "from qiskit.algorithms.optimizers import SLSQP, SPSA, COBYLA\n",
        "\n",
        "# Import Qiskit Nature libraries\n",
        "from qiskit_nature.algorithms import GroundStateEigensolver, VQEUCCFactory\n",
        "from qiskit_nature.algorithms.ground_state_solvers.minimum_eigensolver_factories import NumPyMinimumEigensolverFactory\n",
        "from qiskit_nature.circuit.library import UCC, UCCSD\n",
        "from qiskit_nature.drivers import Molecule\n",
        "from qiskit_nature.drivers.second_quantization import ElectronicStructureDriverType, ElectronicStructureMoleculeDriver\n",
        "from qiskit_nature.converters.second_quantization import QubitConverter\n",
        "from qiskit_nature.mappers.second_quantization import BravyiKitaevMapper, JordanWignerMapper, ParityMapper\n",
        "from qiskit_nature.problems.second_quantization.electronic import ElectronicStructureProblem\n",
        "from qiskit_nature.transformers.second_quantization.electronic import ActiveSpaceTransformer\n",
        "\n",
        "# Prototype-zne\n",
        "!pip install prototype-zne --quiet\n",
        "\n",
        "from qiskit_nature.settings import settings\n",
        "\n",
        "settings.dict_aux_operators = True"
      ],
      "metadata": {
        "id": "49xYYGg-XxRR"
      },
      "execution_count": null,
      "outputs": []
    },
    {
      "cell_type": "code",
      "source": [
        "#### Fill in the values below and complete the function to define the Molecule ####\n",
        "d = 1.29\n",
        "# Coordinates are given in Angstrom\n",
        "# Replace hydrogen_t with appropriate molecule\n",
        "hydrogen_t = [[\"Be\", [0, 0.0, 0.0]], # ----------- Enter your code here\n",
        "              [\"H\", [-d, 0.0, 0.0]], # ----------- Enter your code here\n",
        "              [\"H\", [d, 0.0, 0.0]]]\n",
        "                  \n",
        "h3p = Molecule( # Fill up the function below\n",
        "    geometry= hydrogen_t,  # ----------- Enter your code here\n",
        "    multiplicity= 1, # ----------- Enter your code here\n",
        "    charge= 0, # ----------- Enter your code here\n",
        ")\n",
        "\n",
        "driver = ElectronicStructureMoleculeDriver(h3p, basis=\"sto3g\", driver_type=ElectronicStructureDriverType.PYSCF) \n",
        "\n",
        "properties = driver.run()"
      ],
      "metadata": {
        "id": "JimUdlD6XzAr"
      },
      "execution_count": null,
      "outputs": []
    },
    {
      "cell_type": "code",
      "source": [
        "num_alpha_electrons = properties.get_property('ParticleNumber').num_alpha\n",
        "num_beta_electrons = properties.get_property('ParticleNumber').num_beta\n",
        "num_spin_orbitals = int(properties.get_property('ParticleNumber').num_spin_orbitals)\n",
        "\n",
        "nuclear_rep_energy = properties.get_property('ElectronicEnergy').nuclear_repulsion_energy\n",
        "print(\"number of alpha electrons: \" , num_alpha_electrons)\n",
        "print(\"number of beta electrons: \" , num_beta_electrons)\n",
        "print(\"number of spin orbitals: \" , num_spin_orbitals)\n",
        "print(\"nuclear repulsion energy: \" , nuclear_rep_energy)"
      ],
      "metadata": {
        "id": "yzS_QFBHX0is"
      },
      "execution_count": null,
      "outputs": []
    },
    {
      "cell_type": "code",
      "source": [
        "# Check the occupation of the spin orbitals\n",
        "PN_property = properties.get_property(\"ParticleNumber\")\n",
        "\n",
        "# Define the active space around the Fermi level \n",
        "# (selected automatically around the HOMO and LUMO, ordered by energy)\n",
        "transformer = ActiveSpaceTransformer(\n",
        "    num_electrons=2, # Number of electrons in our active space\n",
        "    num_molecular_orbitals=2, # Number of orbitals in our active space\n",
        ")\n",
        "\n",
        "# Now you can get the reduced electronic structure problem\n",
        "problem_reduced = ElectronicStructureProblem(driver, transformers=[transformer]) \n",
        "\n",
        "# The second quantized Hamiltonian of the reduce problem\n",
        "second_q_ops_reduced = problem_reduced.second_q_ops()"
      ],
      "metadata": {
        "id": "U5DVjM6KX2jU"
      },
      "execution_count": null,
      "outputs": []
    },
    {
      "cell_type": "code",
      "source": [
        "# Setup the mapper and qubit converter\n",
        "mapper_type = 'ParityMapper'\n",
        "\n",
        "if mapper_type == 'ParityMapper':\n",
        "    mapper = ParityMapper()\n",
        "elif mapper_type == 'JordanWignerMapper':\n",
        "    mapper = JordanWignerMapper()\n",
        "elif mapper_type == 'BravyiKitaevMapper':\n",
        "    mapper = BravyiKitaevMapper()\n",
        "\n",
        "\n",
        "converter = QubitConverter(mapper)\n",
        "\n",
        "qubit_op = converter.convert(second_q_ops_reduced[\"ElectronicEnergy\"])\n",
        "print(qubit_op)"
      ],
      "metadata": {
        "id": "GmPKuVTKX4bG"
      },
      "execution_count": null,
      "outputs": []
    },
    {
      "cell_type": "code",
      "source": [
        "# Set the mapper to qubits\n",
        "parity_mapper = ParityMapper() # This is the example of parity mapping\n",
        "\n",
        "# Set the qubit converter with two qubit reduction to reduce the computational cost \n",
        "parity_converter = QubitConverter(parity_mapper, two_qubit_reduction=True)    \n",
        "\n",
        "# Compute the Hamitonian in qubit form\n",
        "qubit_op_parity = parity_converter.convert(second_q_ops_reduced.get('ElectronicEnergy'), num_particles=problem_reduced.num_particles)\n",
        "\n",
        "print(qubit_op_parity)"
      ],
      "metadata": {
        "id": "mlTBdoRxX50x"
      },
      "execution_count": null,
      "outputs": []
    },
    {
      "cell_type": "code",
      "source": [
        "vqe_factory = VQEUCCFactory( # This is an example of UCC\"SD\" ansatz\n",
        "    quantum_instance=Aer.get_backend(\"aer_simulator_statevector\"),\n",
        "    optimizer=SLSQP(),\n",
        "    ansatz=UCC(excitations='sd')\n",
        ") \n",
        "\n",
        "from qiskit.algorithms import NumPyMinimumEigensolver\n",
        "\n",
        "numpy_solver = NumPyMinimumEigensolver()\n",
        "\n",
        "solver = GroundStateEigensolver(parity_converter, vqe_factory)  # Define Numpy\n",
        "real_solution_t = solver.solve(problem_reduced).total_energies[0]    \n",
        "print('Reference energy : ', real_solution_t)"
      ],
      "metadata": {
        "id": "2ODCs3dsX7T0"
      },
      "execution_count": null,
      "outputs": []
    },
    {
      "cell_type": "code",
      "source": [
        "# Define our 'ansatz' for the problem\n",
        "ansatz = UCC(\n",
        "    qubit_converter=parity_converter,\n",
        "    num_particles=problem_reduced.num_particles, \n",
        "    num_spin_orbitals=problem_reduced.num_spin_orbitals,\n",
        "    excitations='sd'\n",
        ")"
      ],
      "metadata": {
        "id": "6uHNkb_QX8rE"
      },
      "execution_count": null,
      "outputs": []
    },
    {
      "cell_type": "code",
      "source": [
        "IBMQ.save_account('')\n",
        "service = QiskitRuntimeService()"
      ],
      "metadata": {
        "id": "ev416OYkX-lP"
      },
      "execution_count": null,
      "outputs": []
    },
    {
      "cell_type": "code",
      "source": [
        "backend = service.backends(simulator=True)[0]\n",
        "noisy_sim = FakeGuadalupe()\n",
        "#for running on real quantum device\n",
        "#backend = 'ibmq_guadalupe'\n",
        "\n",
        "\n",
        "print(backend)"
      ],
      "metadata": {
        "id": "C_z3qNQyYA8Y"
      },
      "execution_count": null,
      "outputs": []
    },
    {
      "cell_type": "code",
      "source": [
        "service = QiskitRuntimeService(\n",
        "    channel='ibm_quantum',\n",
        "    instance='qhack-event/main/level-2-team-1',\n",
        ")"
      ],
      "metadata": {
        "id": "SLXeyX96YDqO"
      },
      "execution_count": null,
      "outputs": []
    },
    {
      "cell_type": "code",
      "source": [
        "noise_model = NoiseModel.from_backend(noisy_sim)\n",
        "\n",
        "options_with_em = Options(\n",
        "    simulator={\n",
        "        \"noise_model\": noise_model,\n",
        "        \"seed_simulator\": 42,\n",
        "    },  \n",
        "    resilience_level=1 # You may change the value here. resilience_level = 1 will activate TREX\n",
        ")\n",
        "\n",
        "\n",
        "#for running on real quantum device\n",
        "#options_with_em = Options(resilience_level=1 # You may change the value here. resilience_level = 1 will activate TREX\n",
        "#)"
      ],
      "metadata": {
        "id": "-goTLXDtYIxg"
      },
      "execution_count": null,
      "outputs": []
    },
    {
      "cell_type": "code",
      "source": [
        "%%time\n",
        "from qiskit.utils import algorithm_globals\n",
        "algorithm_globals.random_seed = 1024\n",
        "\n",
        "# Define convergence list\n",
        "convergence = []\n",
        "\n",
        "# Keep track of jobs (Do-not-modify)\n",
        "job_list = []\n",
        "\n",
        "# Initialize estimator object\n",
        "#estimator = Estimator()# Enter your code here\n",
        "\n",
        "# Define evaluate_expectation function\n",
        "def evaluate_expectation(x):\n",
        "    x = list(x)\n",
        "    \n",
        "    # Define estimator run parameters\n",
        "    #### enter your code below ####\n",
        "\n",
        "\n",
        "\n",
        "    with Session(service=service, backend=backend):\n",
        "      estimator = Estimator(options=options_with_em)\n",
        "      job = estimator.run(circuits=[ansatz], parameter_values=[x],observables=qubit_op_parity).result()\n",
        "      results = job.values[0]\n",
        "      job_list.append(job)\n",
        "\n",
        "\n",
        "    # Pass results back to callback function\n",
        "    return np.real(results)\n",
        "\n",
        "\n",
        "\n",
        "# Call back function\n",
        "def callback(x,fx,ax,tx,nx):\n",
        "    # Callback function to get a view on internal states and statistics of the optimizer for visualization\n",
        "    convergence.append(evaluate_expectation(fx))\n",
        "\n",
        "np.random.seed(10)\n",
        "\n",
        "# Define initial point. We shall define a random point here based on the number of parameters in our ansatz\n",
        "initial_point = np.random.random(ansatz.num_parameters)\n",
        "\n",
        "#### enter your code below ####\n",
        "# Define optimizer and pass callback function\n",
        "optimizer = SPSA(maxiter = 50, callback=callback) # ----------- Enter your code here\n",
        "\n",
        "# Define minimize function\n",
        "result =  optimizer.minimize(evaluate_expectation, x0=initial_point) # ----------- Enter your code here"
      ],
      "metadata": {
        "id": "XMRWN9QcYZMB"
      },
      "execution_count": null,
      "outputs": []
    },
    {
      "cell_type": "code",
      "source": [
        "Energy_H_t = []\n",
        "for i in range(len(convergence)):\n",
        "    sol = MinimumEigensolverResult()\n",
        "    sol.eigenvalue = convergence[i]\n",
        "    sol = problem_reduced.interpret(sol).total_energies[0]\n",
        "    Energy_H_t.append(sol)\n",
        "print(\"Computed Energy:\", Energy_H_t[-1])"
      ],
      "metadata": {
        "id": "pKkzOnRnZRjZ"
      },
      "execution_count": null,
      "outputs": []
    },
    {
      "cell_type": "code",
      "source": [
        "# The following plot compares the two Estimators - with and without noise\n",
        "\n",
        "plt.rcParams[\"font.size\"] = 14\n",
        "\n",
        "# plot loss and reference value\n",
        "plt.figure(figsize=(12, 6), facecolor='white')\n",
        "plt.plot(Energy_H_t, label=\"Estimator VQE BeH2+NOISY+TREX\")\n",
        "plt.axhline(y=real_solution_t.real, color=\"tab:red\", ls=\"--\", label=\"Target\")\n",
        "\n",
        "plt.legend(loc=\"best\")\n",
        "plt.xlabel(\"Iteration\")\n",
        "plt.ylabel(\"Energy [H]\")\n",
        "plt.title(\"VQE energy\")\n",
        "plt.show()\n",
        "\n",
        "print(Energy_H_t)\n",
        "print(real_solution_t.real)"
      ],
      "metadata": {
        "id": "VHEqVavpZVKO"
      },
      "execution_count": null,
      "outputs": []
    }
  ]
}
