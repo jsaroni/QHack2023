{
 "cells": [
  {
   "cell_type": "code",
   "execution_count": null,
   "metadata": {
    "collapsed": true
   },
   "outputs": [],
   "source": [
    "pip install . "
   ]
  },
  {
   "cell_type": "code",
   "execution_count": null,
   "metadata": {
    "collapsed": true
   },
   "outputs": [],
   "source": [
    "pip install -e ."
   ]
  },
  {
   "cell_type": "code",
   "execution_count": null,
   "metadata": {
    "collapsed": true
   },
   "outputs": [],
   "source": [
    ">>> from hqca.operators import *\n",
    ">>> A = Operator()\n",
    ">>> A+= PauliString('XX',0.5j)\n",
    ">>> A+= PauliString('YY',+0.5j)"
   ]
  },
  {
   "cell_type": "code",
   "execution_count": null,
   "metadata": {
    "collapsed": true
   },
   "outputs": [],
   "source": [
    ">>> Af = Operator()\n",
    ">>> Af+= FermiString(coeff=1,indices=[0,3,2,0],ops='++--',N=4)\n",
    ">>> print(Af)\n",
    "pi-+: -1"
   ]
  },
  {
   "cell_type": "code",
   "execution_count": null,
   "metadata": {
    "collapsed": true
   },
   "outputs": [],
   "source": [
    ">>> from hqca.transforms import *\n",
    ">>> print(Af.transform(JordanWigner))\n",
    "IIYX: +0.12500000j\n",
    "ZIYX: -0.12500000j\n",
    "IIXX: 0.12500000\n",
    "ZIXX: -0.12500000\n",
    "IIYY: 0.12500000\n",
    "ZIYY: -0.12500000\n",
    "IIXY: -0.12500000j\n",
    "ZIXY: +0.12500000j"
   ]
  },
  {
   "cell_type": "code",
   "execution_count": null,
   "metadata": {
    "collapsed": true
   },
   "outputs": [],
   "source": [
    "geometry = [('Be', (0.0, 0.0, 0.0)),\n",
    "            ('H', (0.0, 0.0, 1.3)),\n",
    "            ('H', (0.0, 0.0, -1.3))]\n"
   ]
  },
  {
   "cell_type": "code",
   "execution_count": null,
   "metadata": {
    "collapsed": true
   },
   "outputs": [],
   "source": [
    "basis = 'sto-3g'\n"
   ]
  },
  {
   "cell_type": "code",
   "execution_count": null,
   "metadata": {
    "collapsed": true
   },
   "outputs": [],
   "source": [
    "from hqca.hamiltonian import *\n",
    "hamiltonian = Hamiltonian(geometry,basis)\n"
   ]
  },
  {
   "cell_type": "code",
   "execution_count": null,
   "metadata": {
    "collapsed": true
   },
   "outputs": [],
   "source": [
    "from hqca.vqe import *\n",
    "from hqca.transforms import *\n",
    "from hqca.acse import *\n",
    "\n",
    "ansatz = PauliSetTransform(N_qubits=hamiltonian.n_qubits)\n",
    "ansatz += PauliString('X 0 Y 1')+PauliString('Y 0 X 1')\n",
    "vqe = VQE(hamiltonian,ansatz,COBYLA())\n"
   ]
  },
  {
   "cell_type": "code",
   "execution_count": null,
   "metadata": {
    "collapsed": true
   },
   "outputs": [],
   "source": [
    "energy, wavefunction = vqe.minimize()\n"
   ]
  },
  {
   "cell_type": "code",
   "execution_count": null,
   "metadata": {
    "collapsed": true
   },
   "outputs": [],
   "source": [
    "print('Ground state energy:', energy)\n",
    "print('Ground state wavefunction:\\n', wavefunction)\n"
   ]
  }
 ],
 "metadata": {
  "anaconda-cloud": {},
  "kernelspec": {
   "display_name": "Python [default]",
   "language": "python",
   "name": "python3"
  },
  "language_info": {
   "codemirror_mode": {
    "name": "ipython",
    "version": 3
   },
   "file_extension": ".py",
   "mimetype": "text/x-python",
   "name": "python",
   "nbconvert_exporter": "python",
   "pygments_lexer": "ipython3",
   "version": "3.5.2"
  }
 },
 "nbformat": 4,
 "nbformat_minor": 1
}
