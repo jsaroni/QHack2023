{
 "cells": [
  {
   "cell_type": "code",
   "execution_count": 24,
   "id": "d84a32f9-83db-48af-ade2-446393f09dd4",
   "metadata": {},
   "outputs": [],
   "source": [
    "import pennylane as qml\n",
    "from pennylane import qchem\n",
    "from pennylane import numpy as np\n",
    "\n",
    "symbols = [ \"H\",\"Be\", \"H\"]\n",
    "coordinates = np.array([ 0.0,0.0,-1.29,0.0,0.0,0.0, 0.0,0.0,1.29])\n",
    "basis_set = \"sto-3g\"\n",
    "\n",
    "\n",
    "H, qubits = qchem.molecular_hamiltonian(\n",
    "    symbols,\n",
    "    coordinates,\n",
    "    active_electrons=4,\n",
    "    active_orbitals=6\n",
    ")"
   ]
  },
  {
   "cell_type": "code",
   "execution_count": 25,
   "id": "5dfc70ff-88bd-4628-bd8f-093036ec1c40",
   "metadata": {},
   "outputs": [
    {
     "name": "stdout",
     "output_type": "stream",
     "text": [
      "Total number of excitations = 92\n"
     ]
    }
   ],
   "source": [
    "singles, doubles = qchem.excitations(electrons=4, orbitals=qubits)\n",
    "print(f\"Total number of excitations = {len(singles) + len(doubles)}\")"
   ]
  },
  {
   "cell_type": "code",
   "execution_count": 26,
   "id": "e8029a22-95a6-4bd1-8cdd-ead5d272171f",
   "metadata": {
    "scrolled": true,
    "tags": []
   },
   "outputs": [],
   "source": [
    "hf = qchem.hf_state(4, qubits)"
   ]
  },
  {
   "cell_type": "code",
   "execution_count": 27,
   "id": "70e31e68-5c30-4e7c-b572-ace5a8d8b9f5",
   "metadata": {},
   "outputs": [],
   "source": [
    "\n",
    "\n",
    "num_theta = len(singles) + len(doubles)\n",
    "\n",
    "def circuit_VQE(params,expectations ):\n",
    "    qml.AllSinglesDoubles(\n",
    "        weights = params,\n",
    "        wires = range(qubits),\n",
    "        hf_state = hf,\n",
    "        singles = expectations[0],\n",
    "        doubles = expectations[1])\n",
    "    return qml.expval(H)"
   ]
  },
  {
   "cell_type": "code",
   "execution_count": null,
   "id": "8104b3cb-e74c-4e2c-a152-07c96ed65431",
   "metadata": {},
   "outputs": [],
   "source": []
  },
  {
   "cell_type": "code",
   "execution_count": 28,
   "id": "aeb540c6-2323-4872-a19e-1d07e1229a5b",
   "metadata": {
    "collapsed": true,
    "jupyter": {
     "outputs_hidden": true
    },
    "scrolled": true,
    "tags": []
   },
   "outputs": [
    {
     "name": "stdout",
     "output_type": "stream",
     "text": [
      "Gradient: 0.0\n",
      "Gradient: 0.0\n",
      "Gradient: 0.0\n",
      "Gradient: -1.7863965862119358e-10\n",
      "Gradient: 0.0\n",
      "Gradient: 0.0\n",
      "Gradient: 0.0\n",
      "Gradient: 1.7863960311004234e-10\n",
      "Gradient: 0.0\n",
      "Gradient: 0.0\n",
      "Gradient: 3.0811462409241486e-10\n",
      "Gradient: 0.0\n",
      "Gradient: 0.0\n",
      "Gradient: 0.0\n",
      "Gradient: -3.081145061312185e-10\n",
      "Gradient: 0.0\n",
      "Gradient: -0.020670475965201416\n",
      "Gradient: 0.0\n",
      "Gradient: 0.0\n",
      "Gradient: 0.0\n",
      "Gradient: 0.0\n",
      "Gradient: 0.0\n",
      "Gradient: 0.0\n",
      "Gradient: -0.02067047596520534\n",
      "Gradient: 0.0\n",
      "Gradient: 0.0\n",
      "Gradient: 0.0\n",
      "Gradient: 0.0\n",
      "Gradient: -0.10182127165190102\n",
      "Gradient: 0.0\n",
      "Gradient: 0.0\n",
      "Gradient: -0.08210828451383691\n",
      "Gradient: 0.0\n",
      "Gradient: 0.0\n",
      "Gradient: 0.0\n",
      "Gradient: 0.0\n",
      "Gradient: 0.0\n",
      "Gradient: -0.005001773293946419\n",
      "Gradient: 0.0\n",
      "Gradient: 0.0\n",
      "Gradient: 0.0\n",
      "Gradient: 0.0\n",
      "Gradient: 0.0\n",
      "Gradient: 0.0\n",
      "Gradient: 0.0\n",
      "Gradient: 0.0\n",
      "Gradient: 0.0\n",
      "Gradient: 0.0\n",
      "Gradient: 0.0\n",
      "Gradient: 0.0\n",
      "Gradient: 0.0\n",
      "Gradient: -0.0653745040480538\n",
      "Gradient: 0.07037627734200014\n",
      "Gradient: 0.0\n",
      "Gradient: 0.0\n",
      "Gradient: 0.0\n",
      "Gradient: 0.0\n",
      "Gradient: 0.0\n",
      "Gradient: 0.0\n",
      "Gradient: 0.0\n",
      "Gradient: 0.0\n",
      "Gradient: 0.0\n",
      "Gradient: 0.0\n",
      "Gradient: 0.0\n",
      "Gradient: 0.0\n",
      "Gradient: 0.0\n",
      "Gradient: 0.0\n",
      "Gradient: 0.07037627734200014\n",
      "Gradient: -0.0653745040480538\n",
      "Gradient: 0.0\n",
      "Gradient: 0.0\n",
      "Gradient: 0.0\n",
      "Gradient: 0.0\n",
      "Gradient: 0.0\n",
      "Gradient: 0.0\n",
      "Gradient: -0.005001773293946419\n",
      "Gradient: -0.06718200764709316\n",
      "Gradient: 0.0\n",
      "Gradient: 0.0\n",
      "Gradient: 0.0\n",
      "Gradient: 0.0\n",
      "Gradient: 0.0\n",
      "Gradient: 0.0\n",
      "Gradient: -0.06718200764710597\n",
      "Gradient: 0.0\n",
      "Gradient: 0.0\n",
      "Gradient: 0.0\n",
      "Gradient: 0.0\n",
      "Gradient: -0.07163002072037582\n",
      "Gradient: 0.0\n",
      "Gradient: 0.0\n",
      "Gradient: -0.05200978251728884\n"
     ]
    }
   ],
   "source": [
    "dev = qml.device(\"default.qubit\", wires=qubits)\n",
    "cost_fn = qml.QNode(circuit_VQE, dev)\n",
    "\n",
    "circuit_gradient = qml.grad(cost_fn, argnum=0)\n",
    "n=len(doubles)+ len(singles)\n",
    "params = [0.0] * n\n",
    "expectations = [singles,doubles]\n",
    "grads = circuit_gradient(params, expectations)\n",
    "\n",
    "for i in range(n):\n",
    "    print(f\"Gradient: {grads[i]}\")"
   ]
  },
  {
   "cell_type": "code",
   "execution_count": 29,
   "id": "083e7d18-03f7-4877-95ad-814b06b64b4e",
   "metadata": {},
   "outputs": [],
   "source": [
    "single_select = [singles[i] for i in range(len(singles)) if abs(grads[i])>2e-10]"
   ]
  },
  {
   "cell_type": "code",
   "execution_count": 30,
   "id": "d99d2b2b-d2d6-4b98-bfca-68d3fe0e11d8",
   "metadata": {},
   "outputs": [],
   "source": [
    "n_s = len(singles)\n",
    "double_select = [doubles[i] for i in range(len(doubles)) if abs(grads[n_s+i])>1e-4]"
   ]
  },
  {
   "cell_type": "code",
   "execution_count": 31,
   "id": "986a7fc7-782a-4144-b9a4-e10dfc553dce",
   "metadata": {
    "tags": []
   },
   "outputs": [
    {
     "name": "stdout",
     "output_type": "stream",
     "text": [
      "n = 0,  E = -14.77344237 H, t = 1.94 s\n",
      "n = 1,  E = -14.78991989 H, t = 2.10 s\n",
      "n = 2,  E = -14.79582241 H, t = 2.00 s\n",
      "n = 3,  E = -14.79863957 H, t = 2.10 s\n",
      "n = 4,  E = -14.80020550 H, t = 2.10 s\n",
      "n = 5,  E = -14.80116394 H, t = 2.10 s\n",
      "n = 6,  E = -14.80178956 H, t = 2.00 s\n",
      "n = 7,  E = -14.80221576 H, t = 2.10 s\n",
      "n = 8,  E = -14.80251435 H, t = 1.80 s\n",
      "n = 9,  E = -14.80272740 H, t = 2.10 s\n",
      "n = 10,  E = -14.80288132 H, t = 2.10 s\n",
      "n = 11,  E = -14.80299347 H, t = 2.20 s\n",
      "n = 12,  E = -14.80307573 H, t = 2.00 s\n",
      "n = 13,  E = -14.80313637 H, t = 2.10 s\n",
      "n = 14,  E = -14.80318125 H, t = 2.10 s\n",
      "n = 15,  E = -14.80321459 H, t = 2.20 s\n",
      "n = 16,  E = -14.80323942 H, t = 1.90 s\n",
      "n = 17,  E = -14.80325798 H, t = 2.10 s\n",
      "n = 18,  E = -14.80327187 H, t = 2.00 s\n",
      "n = 19,  E = -14.80328229 H, t = 2.10 s\n"
     ]
    }
   ],
   "source": [
    "import pennylane as qml\n",
    "from pennylane import qchem\n",
    "from pennylane import numpy as np\n",
    "import time\n",
    "cost_fn = qml.QNode(circuit_VQE, dev)\n",
    "stepsize = 0.4\n",
    "opt = qml.GradientDescentOptimizer(stepsize=stepsize)\n",
    "params = np.zeros(len(double_select + single_select), requires_grad=True)\n",
    "\n",
    "gates_select =  [single_select,double_select]\n",
    "\n",
    "for n in range(20):\n",
    "    t1 = time.time()\n",
    "    params, energy = opt.step_and_cost(cost_fn, params, expectations=gates_select)\n",
    "    t2 = time.time()\n",
    "    print(\"n = {:},  E = {:.8f} H, t = {:.2f} s\".format(n, energy, t2 - t1))"
   ]
  },
  {
   "cell_type": "code",
   "execution_count": null,
   "id": "9940cfb4-308f-4a61-bd51-8f805bc48b70",
   "metadata": {},
   "outputs": [],
   "source": []
  },
  {
   "cell_type": "code",
   "execution_count": null,
   "id": "1c52be14-a67d-4888-b867-33285074f545",
   "metadata": {},
   "outputs": [],
   "source": []
  },
  {
   "cell_type": "code",
   "execution_count": null,
   "id": "4d32ec58-c7a5-4047-8a76-61e5f026cd4b",
   "metadata": {},
   "outputs": [],
   "source": []
  },
  {
   "cell_type": "code",
   "execution_count": null,
   "id": "c4a51d6d-2346-4d9d-840f-2ad672abde11",
   "metadata": {
    "scrolled": true,
    "tags": []
   },
   "outputs": [],
   "source": []
  },
  {
   "cell_type": "code",
   "execution_count": 3,
   "id": "1c5f672b-a9de-40dc-9183-7800a383ab19",
   "metadata": {
    "tags": []
   },
   "outputs": [
    {
     "name": "stderr",
     "output_type": "stream",
     "text": [
      "/tmp/ipykernel_557/4124333501.py:2: NatureDeprecationWarning: The qiskit_nature.algorithms.excited_state_solvers package is deprecated as of version 0.5.0 and will be removed no sooner than 3 months after the release. Instead use the qiskit_nature.second_q.algorithms.excited_state_solvers package.\n",
      "  from qiskit_nature.algorithms import (GroundStateEigensolver,\n",
      "/tmp/ipykernel_557/4124333501.py:2: NatureDeprecationWarning: The qiskit_nature.algorithms.pes_sampler package is deprecated as of version 0.5.0 and will be removed no sooner than 3 months after the release . Please refer to 'https://github.com/Qiskit/qiskit-nature/issues/750' for additional information regarding 'extrapolators'.\n",
      "  from qiskit_nature.algorithms import (GroundStateEigensolver,\n",
      "/opt/conda/envs/pennylane/lib/python3.9/site-packages/IPython/core/interactiveshell.py:3553: ListAuxOpsDeprecationWarning: List-based `aux_operators` are deprecated as of version 0.3.0 and support for them will be removed no sooner than 3 months after the release. Instead, use dict-based `aux_operators`. You can switch to the dict-based interface immediately, by setting `qiskit_nature.settings.dict_aux_operators` to `True`.\n",
      "  exec(code_obj, self.user_global_ns, self.user_ns)\n"
     ]
    }
   ],
   "source": [
    "from qiskit.algorithms import VQE\n",
    "from qiskit_nature.algorithms import (GroundStateEigensolver,\n",
    "                                      NumPyMinimumEigensolverFactory)\n",
    "from qiskit_nature.drivers import Molecule\n",
    "from qiskit_nature.drivers.second_quantization import (\n",
    "    ElectronicStructureMoleculeDriver, ElectronicStructureDriverType)\n",
    "from qiskit_nature.transformers.second_quantization.electronic import FreezeCoreTransformer\n",
    "from qiskit_nature.problems.second_quantization import ElectronicStructureProblem\n",
    "from qiskit_nature.converters.second_quantization import QubitConverter\n",
    "from qiskit_nature.mappers.second_quantization import ParityMapper\n",
    "# pylint: enable=line-too-long\n",
    "\n",
    "import matplotlib.pyplot as plt\n",
    "import numpy as np\n",
    "from qiskit_nature.circuit.library import UCCSD, HartreeFock\n",
    "from qiskit.circuit.library import EfficientSU2\n",
    "from qiskit.algorithms.optimizers import COBYLA, SPSA, SLSQP\n",
    "from qiskit.opflow import TwoQubitReduction\n",
    "from qiskit import BasicAer, Aer\n",
    "from qiskit.utils import QuantumInstance\n",
    "from qiskit.utils.mitigation import CompleteMeasFitter\n",
    "from qiskit.providers.aer.noise import NoiseModel\n",
    "from qiskit_nature.settings import settings\n",
    "settings.dict_aux_operators = False\n",
    "#from  qiskit_nature.second_q.algorithms.ground_state_solvers import GroundStateEigensolver"
   ]
  },
  {
   "cell_type": "code",
   "execution_count": 11,
   "id": "668e733d-2355-4fce-832d-5efefffc8df9",
   "metadata": {
    "scrolled": true,
    "tags": []
   },
   "outputs": [],
   "source": [
    "def get_qubit_op(dist):\n",
    "    # Define Molecule\n",
    "    molecule = Molecule(\n",
    "        # Coordinates in Angstrom\n",
    "        geometry=[\n",
    "            [\"Be\", [0.0, 0.0, 0.0]],\n",
    "            [\"H\", [-dist, 0.0, 0.0]],\n",
    "            [\"H\", [dist, 0.0, 0.0]]\n",
    "        ],\n",
    "        multiplicity=1,  # = 2*spin + 1\n",
    "        charge=0,\n",
    "    )\n",
    "    \n",
    "\n",
    "    driver = ElectronicStructureMoleculeDriver(\n",
    "         molecule=molecule,\n",
    "         basis=\"sto3g\",\n",
    "        driver_type=ElectronicStructureDriverType.PYSCF)\n",
    "    \n",
    "    # Define Problem, Use freeze core approximation, remove orbitals.\n",
    "    problem = ElectronicStructureProblem(\n",
    "        driver,\n",
    "        [FreezeCoreTransformer(freeze_core=True,\n",
    "                               remove_orbitals=[-2,-1])])\n",
    "\n",
    "    second_q_ops = problem.second_q_ops()  # Get 2nd Quant OP\n",
    "    num_spin_orbitals = problem.num_spin_orbitals\n",
    "    num_particles = problem.num_particles\n",
    "    print(num_spin_orbitals,num_particles)\n",
    "    mapper = ParityMapper()  # Set Mapper\n",
    "    hamiltonian = second_q_ops[0]  # Set Hamiltonian\n",
    "    # Do two qubit reduction\n",
    "    converter = QubitConverter(mapper,two_qubit_reduction=True)\n",
    "    reducer = TwoQubitReduction(num_particles)\n",
    "    qubit_op = converter.convert(hamiltonian)\n",
    "    qubit_op = reducer.convert(qubit_op)\n",
    "\n",
    "    return qubit_op, num_particles, num_spin_orbitals, problem, converter"
   ]
  },
  {
   "cell_type": "code",
   "execution_count": 12,
   "id": "c10cd6b3-b222-4fa6-935f-07c8cb9eb09f",
   "metadata": {
    "tags": []
   },
   "outputs": [
    {
     "name": "stdout",
     "output_type": "stream",
     "text": [
      "12 (2, 2)\n"
     ]
    },
    {
     "name": "stderr",
     "output_type": "stream",
     "text": [
      "/tmp/ipykernel_326/885534758.py:3: NatureDeprecationWarning: The qiskit_nature.algorithms.ground_state_solvers.GroundStateEigensolver class is deprecated as of version 0.5.0 and will be removed no sooner than 3 months after the release. Instead use the qiskit_nature.second_q.algorithms.ground_state_solvers.GroundStateEigensolver class.\n",
      "  calc = GroundStateEigensolver(converter, solver)\n"
     ]
    },
    {
     "name": "stdout",
     "output_type": "stream",
     "text": [
      "1\n",
      "2\n",
      "Interatomic Distance: 1.29 VQE Result: -15.59408 Exact Energy: -15.59443\n",
      "All energies have been calculated\n"
     ]
    }
   ],
   "source": [
    "def exact_solver(problem, converter):\n",
    "    solver = NumPyMinimumEigensolverFactory()\n",
    "    calc = GroundStateEigensolver(converter, solver)\n",
    "    result = calc.solve(problem)\n",
    "    return result\n",
    "\n",
    "backend = BasicAer.get_backend(\"statevector_simulator\")\n",
    "exact_energies = []\n",
    "vqe_energies = []\n",
    "optimizer = SLSQP(maxiter=5)\n",
    "\n",
    "# pylint: disable=undefined-loop-variable\n",
    "\n",
    "\n",
    "dist = 1.291\n",
    "(qubit_op, num_particles, num_spin_orbitals,\n",
    "                            problem, converter) = get_qubit_op(dist)\n",
    "result = exact_solver(problem,converter)\n",
    "exact_energies.append(result.total_energies[0].real)\n",
    "init_state = HartreeFock(num_spin_orbitals, num_particles, converter)\n",
    "var_form = UCCSD(converter,\n",
    "                    num_particles,\n",
    "                    num_spin_orbitals,\n",
    "                    initial_state=init_state)\n",
    "vqe = VQE(var_form, optimizer, quantum_instance=backend)\n",
    "print('1')\n",
    "vqe_calc = vqe.compute_minimum_eigenvalue(qubit_op)\n",
    "print('2')\n",
    "vqe_result = problem.interpret(vqe_calc).total_energies[0].real\n",
    "vqe_energies.append(vqe_result)\n",
    "print(f\"Interatomic Distance: {np.round(dist, 2)}\",\n",
    "        f\"VQE Result: {vqe_result:.5f}\",\n",
    "        f\"Exact Energy: {exact_energies[-1]:.5f}\")\n",
    "\n",
    "print(\"All energies have been calculated\")"
   ]
  },
  {
   "cell_type": "code",
   "execution_count": 6,
   "id": "2e25a463-6af7-4f84-8870-a883bc9f270a",
   "metadata": {},
   "outputs": [],
   "source": []
  },
  {
   "cell_type": "code",
   "execution_count": null,
   "id": "6ac0972c-e7a8-4056-a9e8-850f84794675",
   "metadata": {},
   "outputs": [],
   "source": []
  },
  {
   "cell_type": "code",
   "execution_count": null,
   "id": "dc93b5af-9a58-4e06-a7d0-653ad20939f4",
   "metadata": {},
   "outputs": [],
   "source": []
  },
  {
   "cell_type": "code",
   "execution_count": null,
   "id": "6bd37175-0c90-48ec-8e5e-bcb93454936b",
   "metadata": {},
   "outputs": [],
   "source": []
  }
 ],
 "metadata": {
  "kernelspec": {
   "display_name": "PennyLane",
   "language": "python",
   "name": "pennylane"
  },
  "language_info": {
   "codemirror_mode": {
    "name": "ipython",
    "version": 3
   },
   "file_extension": ".py",
   "mimetype": "text/x-python",
   "name": "python",
   "nbconvert_exporter": "python",
   "pygments_lexer": "ipython3",
   "version": "3.9.15"
  }
 },
 "nbformat": 4,
 "nbformat_minor": 5
}
