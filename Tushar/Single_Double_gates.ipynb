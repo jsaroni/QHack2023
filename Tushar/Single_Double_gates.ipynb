{
 "cells": [
  {
   "cell_type": "code",
   "execution_count": null,
   "id": "c2a8fe5b-488d-4194-89db-3f8397031f1e",
   "metadata": {},
   "outputs": [],
   "source": [
    "import pennylane as qml\n",
    "from pennylane import qchem\n",
    "from pennylane import numpy as np\n",
    "import time\n",
    "\n",
    "symbols = [\"H\",\"Be\",\"H\"]\n",
    "geometry = np.array([ -1.3, 0.0, 0.0,0.0, 0.0, 0.0, 1.3, 0.0, 0.0])"
   ]
  },
  {
   "cell_type": "code",
   "execution_count": null,
   "id": "b47e0168-8166-4d20-8be9-61c846d396be",
   "metadata": {},
   "outputs": [
    {
     "name": "stdout",
     "output_type": "stream",
     "text": [
      "Total number of excitations = 92\n"
     ]
    }
   ],
   "source": [
    "H, qubits = qchem.molecular_hamiltonian(\n",
    "    symbols,\n",
    "    geometry,\n",
    "    active_electrons=4,\n",
    "    active_orbitals=6\n",
    ")\n",
    "\n",
    "active_electrons = 4\n",
    "\n",
    "singles, doubles = qchem.excitations(active_electrons, qubits)\n",
    "\n",
    "print(f\"Total number of excitations = {len(singles) + len(doubles)}\")"
   ]
  },
  {
   "cell_type": "code",
   "execution_count": null,
   "id": "35020e1e-0235-4df6-8562-d6a0645ba59e",
   "metadata": {},
   "outputs": [],
   "source": []
  },
  {
   "cell_type": "code",
   "execution_count": null,
   "id": "3d261a54-8800-4c3b-9da3-e2ae90a148c1",
   "metadata": {},
   "outputs": [],
   "source": [
    "hf_state = qchem.hf_state(active_electrons, qubits)\n",
    "\n",
    "\n",
    "def circuit_1(params, excitations):\n",
    "    qml.BasisState(hf_state, wires=range(qubits))\n",
    "\n",
    "    for i, excitation in enumerate(excitations):\n",
    "        if len(excitation) == 4:\n",
    "            qml.DoubleExcitation(params[i], wires=excitation)\n",
    "        else:\n",
    "            qml.SingleExcitation(params[i], wires=excitation)\n",
    "    return qml.expval(H)"
   ]
  },
  {
   "cell_type": "code",
   "execution_count": null,
   "id": "2747f59d-b74c-4e69-a35d-c2a7329e48f7",
   "metadata": {
    "collapsed": true,
    "jupyter": {
     "outputs_hidden": true
    },
    "scrolled": true,
    "tags": []
   },
   "outputs": [
    {
     "name": "stdout",
     "output_type": "stream",
     "text": [
      "Excitation : [0, 1, 4, 5], Gradient: -0.0206386612660292\n",
      "Excitation : [0, 1, 4, 7], Gradient: 0.0\n",
      "Excitation : [0, 1, 4, 9], Gradient: 0.0\n",
      "Excitation : [0, 1, 4, 11], Gradient: 0.0\n",
      "Excitation : [0, 1, 5, 6], Gradient: 0.0\n",
      "Excitation : [0, 1, 5, 8], Gradient: 0.0\n",
      "Excitation : [0, 1, 5, 10], Gradient: 0.0\n",
      "Excitation : [0, 1, 6, 7], Gradient: -0.020638661266030648\n",
      "Excitation : [0, 1, 6, 9], Gradient: 0.0\n",
      "Excitation : [0, 1, 6, 11], Gradient: 0.0\n",
      "Excitation : [0, 1, 7, 8], Gradient: 0.0\n",
      "Excitation : [0, 1, 7, 10], Gradient: 0.0\n",
      "Excitation : [0, 1, 8, 9], Gradient: -0.10141705820985372\n",
      "Excitation : [0, 1, 8, 11], Gradient: 0.0\n",
      "Excitation : [0, 1, 9, 10], Gradient: 0.0\n",
      "Excitation : [0, 1, 10, 11], Gradient: -0.08163119957412635\n",
      "Excitation : [0, 2, 4, 6], Gradient: 0.0\n",
      "Excitation : [0, 2, 4, 8], Gradient: 0.0\n",
      "Excitation : [0, 2, 4, 10], Gradient: 0.0\n",
      "Excitation : [0, 2, 6, 8], Gradient: 0.0\n",
      "Excitation : [0, 2, 6, 10], Gradient: 0.0\n",
      "Excitation : [0, 2, 8, 10], Gradient: 0.004556396761732119\n",
      "Excitation : [0, 3, 4, 5], Gradient: 0.0\n",
      "Excitation : [0, 3, 4, 7], Gradient: 0.0\n",
      "Excitation : [0, 3, 4, 9], Gradient: 0.0\n",
      "Excitation : [0, 3, 4, 11], Gradient: 0.0\n",
      "Excitation : [0, 3, 5, 6], Gradient: 0.0\n",
      "Excitation : [0, 3, 5, 8], Gradient: 0.0\n",
      "Excitation : [0, 3, 5, 10], Gradient: 0.0\n",
      "Excitation : [0, 3, 6, 7], Gradient: 0.0\n",
      "Excitation : [0, 3, 6, 9], Gradient: 0.0\n",
      "Excitation : [0, 3, 6, 11], Gradient: 0.0\n",
      "Excitation : [0, 3, 7, 8], Gradient: 0.0\n",
      "Excitation : [0, 3, 7, 10], Gradient: 0.0\n",
      "Excitation : [0, 3, 8, 9], Gradient: 0.0\n",
      "Excitation : [0, 3, 8, 11], Gradient: 0.06558611080532556\n",
      "Excitation : [0, 3, 9, 10], Gradient: -0.07014250756705766\n",
      "Excitation : [0, 3, 10, 11], Gradient: 0.0\n",
      "Excitation : [1, 2, 4, 5], Gradient: 0.0\n",
      "Excitation : [1, 2, 4, 7], Gradient: 0.0\n",
      "Excitation : [1, 2, 4, 9], Gradient: 0.0\n",
      "Excitation : [1, 2, 4, 11], Gradient: 0.0\n",
      "Excitation : [1, 2, 5, 6], Gradient: 0.0\n",
      "Excitation : [1, 2, 5, 8], Gradient: 0.0\n",
      "Excitation : [1, 2, 5, 10], Gradient: 0.0\n",
      "Excitation : [1, 2, 6, 7], Gradient: 0.0\n",
      "Excitation : [1, 2, 6, 9], Gradient: 0.0\n",
      "Excitation : [1, 2, 6, 11], Gradient: 0.0\n",
      "Excitation : [1, 2, 7, 8], Gradient: 0.0\n",
      "Excitation : [1, 2, 7, 10], Gradient: 0.0\n",
      "Excitation : [1, 2, 8, 9], Gradient: 0.0\n",
      "Excitation : [1, 2, 8, 11], Gradient: -0.07014250756705766\n",
      "Excitation : [1, 2, 9, 10], Gradient: 0.06558611080532556\n",
      "Excitation : [1, 2, 10, 11], Gradient: 0.0\n",
      "Excitation : [1, 3, 5, 7], Gradient: 0.0\n",
      "Excitation : [1, 3, 5, 9], Gradient: 0.0\n",
      "Excitation : [1, 3, 5, 11], Gradient: 0.0\n",
      "Excitation : [1, 3, 7, 9], Gradient: 0.0\n",
      "Excitation : [1, 3, 7, 11], Gradient: 0.0\n",
      "Excitation : [1, 3, 9, 11], Gradient: 0.004556396761732119\n",
      "Excitation : [2, 3, 4, 5], Gradient: -0.06686196704677393\n",
      "Excitation : [2, 3, 4, 7], Gradient: 0.0\n",
      "Excitation : [2, 3, 4, 9], Gradient: 0.0\n",
      "Excitation : [2, 3, 4, 11], Gradient: 0.0\n",
      "Excitation : [2, 3, 5, 6], Gradient: 0.0\n",
      "Excitation : [2, 3, 5, 8], Gradient: 0.0\n",
      "Excitation : [2, 3, 5, 10], Gradient: 0.0\n",
      "Excitation : [2, 3, 6, 7], Gradient: -0.0668619670467786\n",
      "Excitation : [2, 3, 6, 9], Gradient: 0.0\n",
      "Excitation : [2, 3, 6, 11], Gradient: 0.0\n",
      "Excitation : [2, 3, 7, 8], Gradient: 0.0\n",
      "Excitation : [2, 3, 7, 10], Gradient: 0.0\n",
      "Excitation : [2, 3, 8, 9], Gradient: -0.07148850363475706\n",
      "Excitation : [2, 3, 8, 11], Gradient: 0.0\n",
      "Excitation : [2, 3, 9, 10], Gradient: 0.0\n",
      "Excitation : [2, 3, 10, 11], Gradient: -0.052420589247020435\n"
     ]
    }
   ],
   "source": [
    "dev = qml.device(\"default.qubit\", wires=qubits)\n",
    "cost_fn = qml.QNode(circuit_1, dev)\n",
    "\n",
    "circuit_gradient = qml.grad(cost_fn, argnum=0)\n",
    "\n",
    "params = [0.0] * len(doubles)\n",
    "grads = circuit_gradient(params, excitations=doubles)\n",
    "\n",
    "for i in range(len(doubles)):\n",
    "    print(f\"Excitation : {doubles[i]}, Gradient: {grads[i]}\")"
   ]
  },
  {
   "cell_type": "code",
   "execution_count": null,
   "id": "0f94d16d-0ee8-4feb-b7ba-50ed38707304",
   "metadata": {
    "collapsed": true,
    "jupyter": {
     "outputs_hidden": true
    },
    "scrolled": true,
    "tags": []
   },
   "outputs": [
    {
     "data": {
      "text/plain": [
       "[[0, 1, 4, 5],\n",
       " [0, 1, 6, 7],\n",
       " [0, 1, 8, 9],\n",
       " [0, 1, 10, 11],\n",
       " [0, 2, 8, 10],\n",
       " [0, 3, 8, 11],\n",
       " [0, 3, 9, 10],\n",
       " [1, 2, 8, 11],\n",
       " [1, 2, 9, 10],\n",
       " [1, 3, 9, 11],\n",
       " [2, 3, 4, 5],\n",
       " [2, 3, 6, 7],\n",
       " [2, 3, 8, 9],\n",
       " [2, 3, 10, 11]]"
      ]
     },
     "execution_count": 45,
     "metadata": {},
     "output_type": "execute_result"
    }
   ],
   "source": [
    "doubles_select = [doubles[i] for i in range(len(doubles)) if abs(grads[i]) > 1.0e-5]\n",
    "doubles_select"
   ]
  },
  {
   "cell_type": "code",
   "execution_count": null,
   "id": "0088162a-779a-41e3-842f-32139c15b2a3",
   "metadata": {},
   "outputs": [],
   "source": [
    "opt = qml.GradientDescentOptimizer(stepsize=0.5)\n",
    "\n",
    "params_doubles = np.zeros(len(doubles_select), requires_grad=True)\n",
    "\n",
    "for n in range(20):\n",
    "    params_doubles = opt.step(cost_fn, params_doubles, excitations=doubles_select)"
   ]
  },
  {
   "cell_type": "code",
   "execution_count": null,
   "id": "7e8344fd-145d-484b-bd66-ae92e1f078d4",
   "metadata": {},
   "outputs": [],
   "source": [
    "def circuit_2(params, excitations, gates_select, params_select):\n",
    "    qml.BasisState(hf_state, wires=range(qubits))\n",
    "\n",
    "    for i, gate in enumerate(gates_select):\n",
    "        if len(gate) == 4:\n",
    "            qml.DoubleExcitation(params_select[i], wires=gate)\n",
    "        elif len(gate) == 2:\n",
    "            qml.SingleExcitation(params_select[i], wires=gate)\n",
    "\n",
    "    for i, gate in enumerate(excitations):\n",
    "        if len(gate) == 4:\n",
    "            qml.DoubleExcitation(params[i], wires=gate)\n",
    "        elif len(gate) == 2:\n",
    "            qml.SingleExcitation(params[i], wires=gate)\n",
    "    return qml.expval(H)"
   ]
  },
  {
   "cell_type": "code",
   "execution_count": null,
   "id": "345a2f9b-8853-4936-8a5a-030648f685e2",
   "metadata": {
    "collapsed": true,
    "jupyter": {
     "outputs_hidden": true
    },
    "scrolled": true,
    "tags": []
   },
   "outputs": [
    {
     "name": "stdout",
     "output_type": "stream",
     "text": [
      "Excitation : [0, 4], Gradient: 0.0\n",
      "Excitation : [0, 6], Gradient: 0.0\n",
      "Excitation : [0, 8], Gradient: 0.0\n",
      "Excitation : [0, 10], Gradient: 0.005543526715525948\n",
      "Excitation : [1, 5], Gradient: 0.0\n",
      "Excitation : [1, 7], Gradient: 0.0\n",
      "Excitation : [1, 9], Gradient: 0.0\n",
      "Excitation : [1, 11], Gradient: -0.005543526989549823\n",
      "Excitation : [2, 4], Gradient: 0.0\n",
      "Excitation : [2, 6], Gradient: 0.0\n",
      "Excitation : [2, 8], Gradient: 0.0086222030057358\n",
      "Excitation : [2, 10], Gradient: 0.0\n",
      "Excitation : [3, 5], Gradient: 0.0\n",
      "Excitation : [3, 7], Gradient: 0.0\n",
      "Excitation : [3, 9], Gradient: -0.008622203274572896\n",
      "Excitation : [3, 11], Gradient: 0.0\n"
     ]
    }
   ],
   "source": [
    "cost_fn = qml.QNode(circuit_2, dev)\n",
    "circuit_gradient = qml.grad(cost_fn, argnum=0)\n",
    "params = [0.0] * len(singles)\n",
    "\n",
    "grads = circuit_gradient(\n",
    "    params,\n",
    "    excitations=singles,\n",
    "    gates_select=doubles_select,\n",
    "    params_select=params_doubles\n",
    ")\n",
    "\n",
    "for i in range(len(singles)):\n",
    "    print(f\"Excitation : {singles[i]}, Gradient: {grads[i]}\")"
   ]
  },
  {
   "cell_type": "code",
   "execution_count": null,
   "id": "680a58d5-53b9-4cbc-85de-1d2c82743022",
   "metadata": {},
   "outputs": [
    {
     "data": {
      "text/plain": [
       "[[0, 10], [1, 11], [2, 8], [3, 9]]"
      ]
     },
     "execution_count": 49,
     "metadata": {},
     "output_type": "execute_result"
    }
   ],
   "source": [
    "singles_select = [singles[i] for i in range(len(singles)) if abs(grads[i]) > 1.0e-5 ]\n",
    "singles_select"
   ]
  },
  {
   "cell_type": "code",
   "execution_count": null,
   "id": "cdbdcc79-ce38-4ea0-a6ec-5f49f99320ce",
   "metadata": {
    "collapsed": true,
    "jupyter": {
     "outputs_hidden": true
    },
    "scrolled": true,
    "tags": []
   },
   "outputs": [
    {
     "name": "stdout",
     "output_type": "stream",
     "text": [
      "n = 0,  E = -14.79471419 H, t = 5.89 s\n",
      "n = 1,  E = -14.81367955 H, t = 8.70 s\n",
      "n = 2,  E = -14.81889393 H, t = 3.20 s\n",
      "n = 3,  E = -14.82117026 H, t = 9.00 s\n",
      "n = 4,  E = -14.82236977 H, t = 3.50 s\n",
      "n = 5,  E = -14.82307415 H, t = 3.10 s\n",
      "n = 6,  E = -14.82351465 H, t = 3.20 s\n",
      "n = 7,  E = -14.82380014 H, t = 10.80 s\n",
      "n = 8,  E = -14.82398910 H, t = 3.10 s\n",
      "n = 9,  E = -14.82411586 H, t = 9.40 s\n",
      "n = 10,  E = -14.82420171 H, t = 3.20 s\n",
      "n = 11,  E = -14.82426026 H, t = 3.60 s\n",
      "n = 12,  E = -14.82430044 H, t = 3.10 s\n",
      "n = 13,  E = -14.82432814 H, t = 10.60 s\n",
      "n = 14,  E = -14.82434732 H, t = 3.71 s\n",
      "n = 15,  E = -14.82436064 H, t = 8.39 s\n",
      "n = 16,  E = -14.82436992 H, t = 4.61 s\n",
      "n = 17,  E = -14.82437640 H, t = 3.10 s\n",
      "n = 18,  E = -14.82438094 H, t = 3.10 s\n",
      "n = 19,  E = -14.82438412 H, t = 8.29 s\n"
     ]
    }
   ],
   "source": [
    "cost_fn = qml.QNode(circuit_1, dev)\n",
    "\n",
    "params = np.zeros(len(doubles_select + singles_select), requires_grad=True)\n",
    "\n",
    "gates_select = doubles_select + singles_select\n",
    "\n",
    "for n in range(20):\n",
    "    t1 = time.time()\n",
    "    params, energy = opt.step_and_cost(cost_fn, params, excitations=gates_select)\n",
    "    t2 = time.time()\n",
    "    print(\"n = {:},  E = {:.8f} H, t = {:.2f} s\".format(n, energy, t2 - t1))"
   ]
  },
  {
   "cell_type": "code",
   "execution_count": null,
   "id": "c1eaa6a5-61c3-403c-8462-816b13074ec0",
   "metadata": {},
   "outputs": [],
   "source": []
  },
  {
   "cell_type": "code",
   "execution_count": null,
   "id": "e03ef3ad-29d2-4f9b-af62-785179125859",
   "metadata": {},
   "outputs": [],
   "source": []
  },
  {
   "cell_type": "code",
   "execution_count": null,
   "id": "13b3ea8a-0619-4044-9153-a0448aacaf17",
   "metadata": {},
   "outputs": [],
   "source": []
  },
  {
   "cell_type": "code",
   "execution_count": null,
   "id": "21c23845-adcc-4dad-a684-f457b49de946",
   "metadata": {},
   "outputs": [],
   "source": []
  },
  {
   "cell_type": "markdown",
   "id": "ebf7e8df-40f2-4a17-a8af-954592fbf1fc",
   "metadata": {},
   "source": [
    "ANOTHER APPROACH"
   ]
  },
  {
   "cell_type": "code",
   "execution_count": null,
   "id": "3eab776f-b60a-4dfa-a8a4-58eb21f12b74",
   "metadata": {},
   "outputs": [],
   "source": [
    "# pylint: disable=missing-function-docstring\n",
    "import numpy as np\n",
    "np.random.seed(999999)\n",
    "p0 = np.random.random()\n",
    "target_distr = {0: p0, 1: 1-p0}"
   ]
  },
  {
   "cell_type": "code",
   "execution_count": null,
   "id": "b89e6821-5ee6-4792-86a8-58ad31b80c36",
   "metadata": {},
   "outputs": [],
   "source": []
  },
  {
   "cell_type": "code",
   "execution_count": null,
   "id": "27ba21ad-7668-411e-9d91-b49ef3f5162b",
   "metadata": {},
   "outputs": [],
   "source": []
  },
  {
   "cell_type": "code",
   "execution_count": null,
   "id": "ed7c6457-e543-45d4-8eff-afb72c3441b5",
   "metadata": {},
   "outputs": [],
   "source": []
  },
  {
   "cell_type": "code",
   "execution_count": null,
   "id": "dd9ecea9-cde7-4a20-983f-63a91320635f",
   "metadata": {},
   "outputs": [],
   "source": []
  },
  {
   "cell_type": "code",
   "execution_count": 2,
   "id": "9e69ffe3-5bf6-4506-afdc-1f3c3ff21e58",
   "metadata": {},
   "outputs": [],
   "source": [
    "from qiskit.algorithms import VQE\n",
    "from qiskit_nature.algorithms import (GroundStateEigensolver,\n",
    "                                      NumPyMinimumEigensolverFactory)\n",
    "from qiskit_nature.drivers import Molecule\n",
    "from qiskit_nature.drivers.second_quantization import (\n",
    "    ElectronicStructureMoleculeDriver, ElectronicStructureDriverType)\n",
    "from qiskit_nature.transformers.second_quantization.electronic import FreezeCoreTransformer\n",
    "from qiskit_nature.problems.second_quantization import ElectronicStructureProblem\n",
    "from qiskit_nature.converters.second_quantization import QubitConverter\n",
    "from qiskit_nature.mappers.second_quantization import ParityMapper\n",
    "# pylint: enable=line-too-long\n",
    "\n",
    "import matplotlib.pyplot as plt\n",
    "import numpy as np\n",
    "from qiskit_nature.circuit.library import UCCSD, HartreeFock\n",
    "from qiskit.circuit.library import EfficientSU2\n",
    "from qiskit.algorithms.optimizers import COBYLA, SPSA, SLSQP, ADAM\n",
    "from qiskit.opflow import TwoQubitReduction\n",
    "from qiskit import BasicAer, Aer\n",
    "from qiskit.utils import QuantumInstance\n",
    "from qiskit_nature.transformers.second_quantization.electronic import ActiveSpaceTransformer\n",
    "from qiskit.utils.mitigation import CompleteMeasFitter\n",
    "from qiskit.providers.aer.noise import NoiseModel\n",
    "from qiskit_nature.settings import settings\n",
    "settings.dict_aux_operators = False"
   ]
  },
  {
   "cell_type": "code",
   "execution_count": 1,
   "id": "b0156e4e-1e71-46ad-8dc1-845584af0adf",
   "metadata": {},
   "outputs": [],
   "source": [
    "def get_qubit_op(dist):\n",
    "    # Define Molecule\n",
    "    molecule = Molecule(\n",
    "        # Coordinates in Angstrom\n",
    "        geometry=[\n",
    "            [\"Be\", [0.0, 0.0, 0.0]],\n",
    "            [\"H\", [-dist, 0.0, 0.0]],\n",
    "            [\"H\", [dist, 0.0, 0.0]]\n",
    "        ],\n",
    "        multiplicity=1,  # = 2*spin + 1\n",
    "        charge=0,\n",
    "    )\n",
    "    \n",
    "\n",
    "    driver = ElectronicStructureMoleculeDriver(\n",
    "         molecule=molecule,\n",
    "         basis=\"sto3g\",\n",
    "        driver_type=ElectronicStructureDriverType.PYSCF)\n",
    "\n",
    "    \n",
    "    transformer = ActiveSpaceTransformer(\n",
    "        num_electrons=2, # Number of electrons in our active space\n",
    "        num_molecular_orbitals=3, # Number of orbitals in our active space\n",
    "    )\n",
    "    # Define Problem, Use freeze core approximation, remove orbitals.\n",
    "    problem = ElectronicStructureProblem(\n",
    "        driver,\n",
    "        [transformer])\n",
    "    \n",
    "    second_q_ops = problem.second_q_ops()  # Get 2nd Quant OP\n",
    "    num_spin_orbitals = problem.num_spin_orbitals\n",
    "    num_particles = problem.num_particles\n",
    "\n",
    "    mapper = ParityMapper()  # Set Mapper\n",
    "    hamiltonian = second_q_ops[0]  # Set Hamiltonian\n",
    "    # Do two qubit reduction\n",
    "    converter = QubitConverter(mapper,two_qubit_reduction=True)\n",
    "    reducer = TwoQubitReduction(num_particles)\n",
    "    qubit_op = converter.convert(hamiltonian)\n",
    "    qubit_op = reducer.convert(qubit_op)\n",
    "\n",
    "    return qubit_op, num_particles, num_spin_orbitals, problem, converter"
   ]
  },
  {
   "cell_type": "code",
   "execution_count": null,
   "id": "bb1cefb8-0184-44ae-b8a1-cd1f6768e9a0",
   "metadata": {},
   "outputs": [],
   "source": []
  },
  {
   "cell_type": "code",
   "execution_count": null,
   "id": "ec316b98-c317-4140-9d07-92b045614ba4",
   "metadata": {},
   "outputs": [],
   "source": []
  },
  {
   "cell_type": "code",
   "execution_count": null,
   "id": "580e1592-b8e1-4ead-85de-8da5a972a5aa",
   "metadata": {},
   "outputs": [],
   "source": []
  },
  {
   "cell_type": "code",
   "execution_count": null,
   "id": "021eaee0-9314-4954-84e6-b167f2c121dd",
   "metadata": {},
   "outputs": [],
   "source": []
  },
  {
   "cell_type": "code",
   "execution_count": null,
   "id": "0129f2d9-b674-4eee-b740-2cc6ef944f85",
   "metadata": {
    "tags": []
   },
   "outputs": [],
   "source": []
  },
  {
   "cell_type": "code",
   "execution_count": null,
   "id": "02c9dbb6-7557-4db5-8f38-1ce123b41f47",
   "metadata": {},
   "outputs": [],
   "source": []
  },
  {
   "cell_type": "code",
   "execution_count": 3,
   "id": "46ad8a0b-8ef8-4d6c-9f06-63286793ab3a",
   "metadata": {},
   "outputs": [],
   "source": [
    "from qiskit.providers.fake_provider import FakeMelbourneV2, FakeGuadalupe, FakeLagos\n",
    "#backend = Aer.get_backend('aer_simulator')\n",
    "backend = FakeLagos()"
   ]
  },
  {
   "cell_type": "code",
   "execution_count": 4,
   "id": "93aed1f1-2edb-4292-aad1-d37c8c6111f7",
   "metadata": {},
   "outputs": [
    {
     "name": "stdout",
     "output_type": "stream",
     "text": [
      "Interatomic Distance: 1.29 VQE Result: -14.82566 Exact Energy: -15.56193\n",
      "Total time: 520.7222278118134\n",
      "All energies have been calculated\n"
     ]
    }
   ],
   "source": [
    "def exact_solver(problem, converter):\n",
    "    solver = NumPyMinimumEigensolverFactory()\n",
    "    calc = GroundStateEigensolver(converter, solver)\n",
    "    result = calc.solve(problem)\n",
    "    return result\n",
    "\n",
    "#backend = BasicAer.get_backend(\"statevector_simulator\")\n",
    "#distances = np.arange(0.7, 4.0, 0.2)\n",
    "exact_energies = []\n",
    "vqe_energies = []\n",
    "optimizer = SLSQP(maxiter=5)\n",
    "\n",
    "# pylint: disable=undefined-loop-variable\n",
    "\n",
    "\n",
    "dist = 1.291\n",
    "(qubit_op, num_particles, num_spin_orbitals,\n",
    "                            problem, converter) = get_qubit_op(dist)\n",
    "result = exact_solver(problem,converter)\n",
    "exact_energies.append(result.total_energies[0].real)\n",
    "init_state = HartreeFock(num_spin_orbitals, num_particles, converter)\n",
    "var_form = UCCSD(converter,\n",
    "                    num_particles,\n",
    "                    num_spin_orbitals,\n",
    "                    initial_state=init_state)\n",
    "import time\n",
    "t1 = time.time()\n",
    "vqe = VQE(var_form, optimizer, quantum_instance=backend)\n",
    "vqe_calc = vqe.compute_minimum_eigenvalue(qubit_op)\n",
    "t2 = time.time()\n",
    "vqe_result = problem.interpret(vqe_calc).total_energies[0].real\n",
    "vqe_energies.append(vqe_result)\n",
    "print(f\"Interatomic Distance: {np.round(dist, 2)}\",\n",
    "        f\"VQE Result: {vqe_result:.5f}\",\n",
    "        f\"Exact Energy: {exact_energies[-1]:.5f}\")\n",
    "print(\"Total time:\", t2-t1)\n",
    "print(\"All energies have been calculated\")"
   ]
  },
  {
   "cell_type": "code",
   "execution_count": null,
   "id": "11f96311-8c69-4c37-a677-e5e7655754ac",
   "metadata": {},
   "outputs": [],
   "source": []
  },
  {
   "cell_type": "code",
   "execution_count": null,
   "id": "726a009b-33f9-43c5-b310-fc9f1e18c83e",
   "metadata": {},
   "outputs": [],
   "source": []
  }
 ],
 "metadata": {
  "kernelspec": {
   "display_name": "PennyLane",
   "language": "python",
   "name": "pennylane"
  },
  "language_info": {
   "codemirror_mode": {
    "name": "ipython",
    "version": 3
   },
   "file_extension": ".py",
   "mimetype": "text/x-python",
   "name": "python",
   "nbconvert_exporter": "python",
   "pygments_lexer": "ipython3",
   "version": "3.9.15"
  }
 },
 "nbformat": 4,
 "nbformat_minor": 5
}
