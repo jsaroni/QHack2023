{
 "cells": [
  {
   "cell_type": "code",
   "execution_count": 1,
   "id": "c2a8fe5b-488d-4194-89db-3f8397031f1e",
   "metadata": {},
   "outputs": [],
   "source": [
    "import pennylane as qml\n",
    "from pennylane import qchem\n",
    "from pennylane import numpy as np\n",
    "import time\n",
    "\n",
    "symbols = [\"H\",\"Be\",\"H\"]\n",
    "geometry = np.array([ -1.3/0.529, 0.0, 0.0,0.0, 0.0, 0.0, 1.3/0.529, 0.0, 0.0])"
   ]
  },
  {
   "cell_type": "code",
   "execution_count": 2,
   "id": "b47e0168-8166-4d20-8be9-61c846d396be",
   "metadata": {},
   "outputs": [
    {
     "name": "stdout",
     "output_type": "stream",
     "text": [
      "Total number of excitations = 92\n"
     ]
    }
   ],
   "source": [
    "H, qubits = qchem.molecular_hamiltonian(\n",
    "    symbols,\n",
    "    geometry,\n",
    "    active_electrons=4,\n",
    "    active_orbitals=6\n",
    ")\n",
    "\n",
    "active_electrons = 4\n",
    "\n",
    "singles, doubles = qchem.excitations(active_electrons, qubits)\n",
    "\n",
    "print(f\"Total number of excitations = {len(singles) + len(doubles)}\")"
   ]
  },
  {
   "cell_type": "code",
   "execution_count": null,
   "id": "35020e1e-0235-4df6-8562-d6a0645ba59e",
   "metadata": {},
   "outputs": [],
   "source": []
  },
  {
   "cell_type": "code",
   "execution_count": 3,
   "id": "3d261a54-8800-4c3b-9da3-e2ae90a148c1",
   "metadata": {},
   "outputs": [],
   "source": [
    "hf_state = qchem.hf_state(active_electrons, qubits)\n",
    "\n",
    "\n",
    "def circuit_1(params, excitations):\n",
    "    qml.BasisState(hf_state, wires=range(qubits))\n",
    "\n",
    "    for i, excitation in enumerate(excitations):\n",
    "        if len(excitation) == 4:\n",
    "            qml.DoubleExcitation(params[i], wires=excitation)\n",
    "        else:\n",
    "            qml.SingleExcitation(params[i], wires=excitation)\n",
    "    return qml.expval(H)"
   ]
  },
  {
   "cell_type": "code",
   "execution_count": 4,
   "id": "2747f59d-b74c-4e69-a35d-c2a7329e48f7",
   "metadata": {
    "collapsed": true,
    "jupyter": {
     "outputs_hidden": true
    },
    "scrolled": true,
    "tags": []
   },
   "outputs": [
    {
     "name": "stdout",
     "output_type": "stream",
     "text": [
      "Excitation : [0, 1, 4, 5], Gradient: -0.04979644496335472\n",
      "Excitation : [0, 1, 4, 7], Gradient: 0.0\n",
      "Excitation : [0, 1, 4, 9], Gradient: 0.0\n",
      "Excitation : [0, 1, 4, 11], Gradient: 0.0\n",
      "Excitation : [0, 1, 5, 6], Gradient: 0.0\n",
      "Excitation : [0, 1, 5, 8], Gradient: 0.0\n",
      "Excitation : [0, 1, 5, 10], Gradient: 0.0\n",
      "Excitation : [0, 1, 6, 7], Gradient: -0.049796444963360664\n",
      "Excitation : [0, 1, 6, 9], Gradient: 0.0\n",
      "Excitation : [0, 1, 6, 11], Gradient: 0.0\n",
      "Excitation : [0, 1, 7, 8], Gradient: 0.0\n",
      "Excitation : [0, 1, 7, 10], Gradient: 0.0\n",
      "Excitation : [0, 1, 8, 9], Gradient: -0.07705748458142693\n",
      "Excitation : [0, 1, 8, 11], Gradient: 0.0\n",
      "Excitation : [0, 1, 9, 10], Gradient: 0.0\n",
      "Excitation : [0, 1, 10, 11], Gradient: -0.056547514341893534\n",
      "Excitation : [0, 2, 4, 6], Gradient: 0.0\n",
      "Excitation : [0, 2, 4, 8], Gradient: 0.0\n",
      "Excitation : [0, 2, 4, 10], Gradient: 0.0\n",
      "Excitation : [0, 2, 6, 8], Gradient: 0.0\n",
      "Excitation : [0, 2, 6, 10], Gradient: 0.0\n",
      "Excitation : [0, 2, 8, 10], Gradient: 0.011171951276909516\n",
      "Excitation : [0, 3, 4, 5], Gradient: 0.0\n",
      "Excitation : [0, 3, 4, 7], Gradient: 0.0\n",
      "Excitation : [0, 3, 4, 9], Gradient: 0.0\n",
      "Excitation : [0, 3, 4, 11], Gradient: 0.0\n",
      "Excitation : [0, 3, 5, 6], Gradient: 0.0\n",
      "Excitation : [0, 3, 5, 8], Gradient: 0.0\n",
      "Excitation : [0, 3, 5, 10], Gradient: 0.0\n",
      "Excitation : [0, 3, 6, 7], Gradient: 0.0\n",
      "Excitation : [0, 3, 6, 9], Gradient: 0.0\n",
      "Excitation : [0, 3, 6, 11], Gradient: 0.0\n",
      "Excitation : [0, 3, 7, 8], Gradient: 0.0\n",
      "Excitation : [0, 3, 7, 10], Gradient: 0.0\n",
      "Excitation : [0, 3, 8, 9], Gradient: 0.0\n",
      "Excitation : [0, 3, 8, 11], Gradient: -0.07231124289066217\n",
      "Excitation : [0, 3, 9, 10], Gradient: 0.06113929161375266\n",
      "Excitation : [0, 3, 10, 11], Gradient: 0.0\n",
      "Excitation : [1, 2, 4, 5], Gradient: 0.0\n",
      "Excitation : [1, 2, 4, 7], Gradient: 0.0\n",
      "Excitation : [1, 2, 4, 9], Gradient: 0.0\n",
      "Excitation : [1, 2, 4, 11], Gradient: 0.0\n",
      "Excitation : [1, 2, 5, 6], Gradient: 0.0\n",
      "Excitation : [1, 2, 5, 8], Gradient: 0.0\n",
      "Excitation : [1, 2, 5, 10], Gradient: 0.0\n",
      "Excitation : [1, 2, 6, 7], Gradient: 0.0\n",
      "Excitation : [1, 2, 6, 9], Gradient: 0.0\n",
      "Excitation : [1, 2, 6, 11], Gradient: 0.0\n",
      "Excitation : [1, 2, 7, 8], Gradient: 0.0\n",
      "Excitation : [1, 2, 7, 10], Gradient: 0.0\n",
      "Excitation : [1, 2, 8, 9], Gradient: 0.0\n",
      "Excitation : [1, 2, 8, 11], Gradient: 0.06113929161375266\n",
      "Excitation : [1, 2, 9, 10], Gradient: -0.07231124289066217\n",
      "Excitation : [1, 2, 10, 11], Gradient: 0.0\n",
      "Excitation : [1, 3, 5, 7], Gradient: 0.0\n",
      "Excitation : [1, 3, 5, 9], Gradient: 0.0\n",
      "Excitation : [1, 3, 5, 11], Gradient: 0.0\n",
      "Excitation : [1, 3, 7, 9], Gradient: 0.0\n",
      "Excitation : [1, 3, 7, 11], Gradient: 0.0\n",
      "Excitation : [1, 3, 9, 11], Gradient: 0.011171951276909516\n",
      "Excitation : [2, 3, 4, 5], Gradient: -0.014964491019557309\n",
      "Excitation : [2, 3, 4, 7], Gradient: 0.0\n",
      "Excitation : [2, 3, 4, 9], Gradient: 0.0\n",
      "Excitation : [2, 3, 4, 11], Gradient: 0.0\n",
      "Excitation : [2, 3, 5, 6], Gradient: 0.0\n",
      "Excitation : [2, 3, 5, 8], Gradient: 0.0\n",
      "Excitation : [2, 3, 5, 10], Gradient: 0.0\n",
      "Excitation : [2, 3, 6, 7], Gradient: -0.014964491019559103\n",
      "Excitation : [2, 3, 6, 9], Gradient: 0.0\n",
      "Excitation : [2, 3, 6, 11], Gradient: 0.0\n",
      "Excitation : [2, 3, 7, 8], Gradient: 0.0\n",
      "Excitation : [2, 3, 7, 10], Gradient: 0.0\n",
      "Excitation : [2, 3, 8, 9], Gradient: -0.083266866832693\n",
      "Excitation : [2, 3, 8, 11], Gradient: 0.0\n",
      "Excitation : [2, 3, 9, 10], Gradient: 0.0\n",
      "Excitation : [2, 3, 10, 11], Gradient: -0.08179843027365234\n"
     ]
    }
   ],
   "source": [
    "dev = qml.device(\"default.qubit\", wires=qubits)\n",
    "cost_fn = qml.QNode(circuit_1, dev)\n",
    "\n",
    "circuit_gradient = qml.grad(cost_fn, argnum=0)\n",
    "\n",
    "params = [0.0] * len(doubles)\n",
    "grads = circuit_gradient(params, excitations=doubles)\n",
    "\n",
    "for i in range(len(doubles)):\n",
    "    print(f\"Excitation : {doubles[i]}, Gradient: {grads[i]}\")"
   ]
  },
  {
   "cell_type": "code",
   "execution_count": 5,
   "id": "0f94d16d-0ee8-4feb-b7ba-50ed38707304",
   "metadata": {
    "collapsed": true,
    "jupyter": {
     "outputs_hidden": true
    },
    "scrolled": true,
    "tags": []
   },
   "outputs": [
    {
     "data": {
      "text/plain": [
       "[[0, 1, 4, 5],\n",
       " [0, 1, 6, 7],\n",
       " [0, 1, 8, 9],\n",
       " [0, 1, 10, 11],\n",
       " [0, 2, 8, 10],\n",
       " [0, 3, 8, 11],\n",
       " [0, 3, 9, 10],\n",
       " [1, 2, 8, 11],\n",
       " [1, 2, 9, 10],\n",
       " [1, 3, 9, 11],\n",
       " [2, 3, 4, 5],\n",
       " [2, 3, 6, 7],\n",
       " [2, 3, 8, 9],\n",
       " [2, 3, 10, 11]]"
      ]
     },
     "execution_count": 5,
     "metadata": {},
     "output_type": "execute_result"
    }
   ],
   "source": [
    "doubles_select = [doubles[i] for i in range(len(doubles)) if abs(grads[i]) > 1.0e-5]\n",
    "doubles_select"
   ]
  },
  {
   "cell_type": "code",
   "execution_count": 6,
   "id": "0088162a-779a-41e3-842f-32139c15b2a3",
   "metadata": {},
   "outputs": [],
   "source": [
    "opt = qml.GradientDescentOptimizer(stepsize=0.5)\n",
    "\n",
    "params_doubles = np.zeros(len(doubles_select), requires_grad=True)\n",
    "\n",
    "for n in range(20):\n",
    "    params_doubles = opt.step(cost_fn, params_doubles, excitations=doubles_select)"
   ]
  },
  {
   "cell_type": "code",
   "execution_count": 7,
   "id": "7e8344fd-145d-484b-bd66-ae92e1f078d4",
   "metadata": {},
   "outputs": [],
   "source": [
    "def circuit_2(params, excitations, gates_select, params_select):\n",
    "    qml.BasisState(hf_state, wires=range(qubits))\n",
    "\n",
    "    for i, gate in enumerate(gates_select):\n",
    "        if len(gate) == 4:\n",
    "            qml.DoubleExcitation(params_select[i], wires=gate)\n",
    "        elif len(gate) == 2:\n",
    "            qml.SingleExcitation(params_select[i], wires=gate)\n",
    "\n",
    "    for i, gate in enumerate(excitations):\n",
    "        if len(gate) == 4:\n",
    "            qml.DoubleExcitation(params[i], wires=gate)\n",
    "        elif len(gate) == 2:\n",
    "            qml.SingleExcitation(params[i], wires=gate)\n",
    "    return qml.expval(H)"
   ]
  },
  {
   "cell_type": "code",
   "execution_count": 8,
   "id": "345a2f9b-8853-4936-8a5a-030648f685e2",
   "metadata": {
    "scrolled": true,
    "tags": []
   },
   "outputs": [
    {
     "name": "stdout",
     "output_type": "stream",
     "text": [
      "Excitation : [0, 4], Gradient: 0.0\n",
      "Excitation : [0, 6], Gradient: 0.0\n",
      "Excitation : [0, 8], Gradient: -0.0065945351897329745\n",
      "Excitation : [0, 10], Gradient: 0.0\n",
      "Excitation : [1, 5], Gradient: 0.0\n",
      "Excitation : [1, 7], Gradient: 0.0\n",
      "Excitation : [1, 9], Gradient: 0.006594533076260982\n",
      "Excitation : [1, 11], Gradient: 0.0\n",
      "Excitation : [2, 4], Gradient: 0.0\n",
      "Excitation : [2, 6], Gradient: 0.0\n",
      "Excitation : [2, 8], Gradient: 0.0\n",
      "Excitation : [2, 10], Gradient: 0.004283344654791644\n",
      "Excitation : [3, 5], Gradient: 0.0\n",
      "Excitation : [3, 7], Gradient: 0.0\n",
      "Excitation : [3, 9], Gradient: 0.0\n",
      "Excitation : [3, 11], Gradient: -0.004283340181110242\n"
     ]
    }
   ],
   "source": [
    "cost_fn = qml.QNode(circuit_2, dev)\n",
    "circuit_gradient = qml.grad(cost_fn, argnum=0)\n",
    "params = [0.0] * len(singles)\n",
    "\n",
    "grads = circuit_gradient(\n",
    "    params,\n",
    "    excitations=singles,\n",
    "    gates_select=doubles_select,\n",
    "    params_select=params_doubles\n",
    ")\n",
    "\n",
    "for i in range(len(singles)):\n",
    "    print(f\"Excitation : {singles[i]}, Gradient: {grads[i]}\")"
   ]
  },
  {
   "cell_type": "code",
   "execution_count": 9,
   "id": "680a58d5-53b9-4cbc-85de-1d2c82743022",
   "metadata": {},
   "outputs": [
    {
     "data": {
      "text/plain": [
       "[[0, 8], [1, 9], [2, 10], [3, 11]]"
      ]
     },
     "execution_count": 9,
     "metadata": {},
     "output_type": "execute_result"
    }
   ],
   "source": [
    "singles_select = [singles[i] for i in range(len(singles)) if abs(grads[i]) > 1.0e-5 ]\n",
    "singles_select"
   ]
  },
  {
   "cell_type": "code",
   "execution_count": 10,
   "id": "cdbdcc79-ce38-4ea0-a6ec-5f49f99320ce",
   "metadata": {
    "scrolled": true,
    "tags": []
   },
   "outputs": [
    {
     "name": "stdout",
     "output_type": "stream",
     "text": [
      "n = 0,  E = -15.56127101 H, t = 2.01 s\n",
      "n = 1,  E = -15.58015548 H, t = 2.00 s\n",
      "n = 2,  E = -15.58786899 H, t = 2.10 s\n",
      "n = 3,  E = -15.59121019 H, t = 2.10 s\n",
      "n = 4,  E = -15.59273697 H, t = 2.00 s\n",
      "n = 5,  E = -15.59347197 H, t = 2.10 s\n",
      "n = 6,  E = -15.59384534 H, t = 2.10 s\n",
      "n = 7,  E = -15.59404600 H, t = 2.00 s\n",
      "n = 8,  E = -15.59416023 H, t = 2.10 s\n",
      "n = 9,  E = -15.59422896 H, t = 2.00 s\n",
      "n = 10,  E = -15.59427241 H, t = 2.10 s\n",
      "n = 11,  E = -15.59430103 H, t = 2.00 s\n",
      "n = 12,  E = -15.59432049 H, t = 2.10 s\n",
      "n = 13,  E = -15.59433405 H, t = 2.00 s\n",
      "n = 14,  E = -15.59434365 H, t = 2.00 s\n",
      "n = 15,  E = -15.59435053 H, t = 2.10 s\n",
      "n = 16,  E = -15.59435551 H, t = 2.00 s\n",
      "n = 17,  E = -15.59435913 H, t = 2.10 s\n",
      "n = 18,  E = -15.59436177 H, t = 2.00 s\n",
      "n = 19,  E = -15.59436371 H, t = 2.10 s\n"
     ]
    }
   ],
   "source": [
    "cost_fn = qml.QNode(circuit_1, dev)\n",
    "\n",
    "params = np.zeros(len(doubles_select + singles_select), requires_grad=True)\n",
    "\n",
    "gates_select = doubles_select + singles_select\n",
    "\n",
    "for n in range(20):\n",
    "    t1 = time.time()\n",
    "    params, energy = opt.step_and_cost(cost_fn, params, excitations=gates_select)\n",
    "    t2 = time.time()\n",
    "    print(\"n = {:},  E = {:.8f} H, t = {:.2f} s\".format(n, energy, t2 - t1))"
   ]
  },
  {
   "cell_type": "code",
   "execution_count": null,
   "id": "c1eaa6a5-61c3-403c-8462-816b13074ec0",
   "metadata": {},
   "outputs": [],
   "source": []
  },
  {
   "cell_type": "code",
   "execution_count": null,
   "id": "e03ef3ad-29d2-4f9b-af62-785179125859",
   "metadata": {},
   "outputs": [],
   "source": []
  }
 ],
 "metadata": {
  "kernelspec": {
   "display_name": "PennyLane",
   "language": "python",
   "name": "pennylane"
  },
  "language_info": {
   "codemirror_mode": {
    "name": "ipython",
    "version": 3
   },
   "file_extension": ".py",
   "mimetype": "text/x-python",
   "name": "python",
   "nbconvert_exporter": "python",
   "pygments_lexer": "ipython3",
   "version": "3.9.15"
  }
 },
 "nbformat": 4,
 "nbformat_minor": 5
}
