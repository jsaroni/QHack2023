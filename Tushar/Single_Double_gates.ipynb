{
 "cells": [
  {
   "cell_type": "code",
   "execution_count": null,
   "id": "c2a8fe5b-488d-4194-89db-3f8397031f1e",
   "metadata": {},
   "outputs": [],
   "source": [
    "import pennylane as qml\n",
    "from pennylane import qchem\n",
    "from pennylane import numpy as np\n",
    "import time\n",
    "\n",
    "symbols = [\"H\",\"Be\",\"H\"]\n",
    "geometry = np.array([ -1.3, 0.0, 0.0,0.0, 0.0, 0.0, 1.3, 0.0, 0.0])"
   ]
  },
  {
   "cell_type": "code",
   "execution_count": null,
   "id": "b47e0168-8166-4d20-8be9-61c846d396be",
   "metadata": {},
   "outputs": [
    {
     "name": "stdout",
     "output_type": "stream",
     "text": [
      "Total number of excitations = 92\n"
     ]
    }
   ],
   "source": [
    "H, qubits = qchem.molecular_hamiltonian(\n",
    "    symbols,\n",
    "    geometry,\n",
    "    active_electrons=4,\n",
    "    active_orbitals=6\n",
    ")\n",
    "\n",
    "active_electrons = 4\n",
    "\n",
    "singles, doubles = qchem.excitations(active_electrons, qubits)\n",
    "\n",
    "print(f\"Total number of excitations = {len(singles) + len(doubles)}\")"
   ]
  },
  {
   "cell_type": "code",
   "execution_count": null,
   "id": "35020e1e-0235-4df6-8562-d6a0645ba59e",
   "metadata": {},
   "outputs": [],
   "source": []
  },
  {
   "cell_type": "code",
   "execution_count": null,
   "id": "3d261a54-8800-4c3b-9da3-e2ae90a148c1",
   "metadata": {},
   "outputs": [],
   "source": [
    "hf_state = qchem.hf_state(active_electrons, qubits)\n",
    "\n",
    "\n",
    "def circuit_1(params, excitations):\n",
    "    qml.BasisState(hf_state, wires=range(qubits))\n",
    "\n",
    "    for i, excitation in enumerate(excitations):\n",
    "        if len(excitation) == 4:\n",
    "            qml.DoubleExcitation(params[i], wires=excitation)\n",
    "        else:\n",
    "            qml.SingleExcitation(params[i], wires=excitation)\n",
    "    return qml.expval(H)"
   ]
  },
  {
   "cell_type": "code",
   "execution_count": null,
   "id": "2747f59d-b74c-4e69-a35d-c2a7329e48f7",
   "metadata": {
    "collapsed": true,
    "jupyter": {
     "outputs_hidden": true
    },
    "scrolled": true,
    "tags": []
   },
   "outputs": [
    {
     "name": "stdout",
     "output_type": "stream",
     "text": [
      "Excitation : [0, 1, 4, 5], Gradient: -0.0206386612660292\n",
      "Excitation : [0, 1, 4, 7], Gradient: 0.0\n",
      "Excitation : [0, 1, 4, 9], Gradient: 0.0\n",
      "Excitation : [0, 1, 4, 11], Gradient: 0.0\n",
      "Excitation : [0, 1, 5, 6], Gradient: 0.0\n",
      "Excitation : [0, 1, 5, 8], Gradient: 0.0\n",
      "Excitation : [0, 1, 5, 10], Gradient: 0.0\n",
      "Excitation : [0, 1, 6, 7], Gradient: -0.020638661266030648\n",
      "Excitation : [0, 1, 6, 9], Gradient: 0.0\n",
      "Excitation : [0, 1, 6, 11], Gradient: 0.0\n",
      "Excitation : [0, 1, 7, 8], Gradient: 0.0\n",
      "Excitation : [0, 1, 7, 10], Gradient: 0.0\n",
      "Excitation : [0, 1, 8, 9], Gradient: -0.10141705820985372\n",
      "Excitation : [0, 1, 8, 11], Gradient: 0.0\n",
      "Excitation : [0, 1, 9, 10], Gradient: 0.0\n",
      "Excitation : [0, 1, 10, 11], Gradient: -0.08163119957412635\n",
      "Excitation : [0, 2, 4, 6], Gradient: 0.0\n",
      "Excitation : [0, 2, 4, 8], Gradient: 0.0\n",
      "Excitation : [0, 2, 4, 10], Gradient: 0.0\n",
      "Excitation : [0, 2, 6, 8], Gradient: 0.0\n",
      "Excitation : [0, 2, 6, 10], Gradient: 0.0\n",
      "Excitation : [0, 2, 8, 10], Gradient: 0.004556396761732119\n",
      "Excitation : [0, 3, 4, 5], Gradient: 0.0\n",
      "Excitation : [0, 3, 4, 7], Gradient: 0.0\n",
      "Excitation : [0, 3, 4, 9], Gradient: 0.0\n",
      "Excitation : [0, 3, 4, 11], Gradient: 0.0\n",
      "Excitation : [0, 3, 5, 6], Gradient: 0.0\n",
      "Excitation : [0, 3, 5, 8], Gradient: 0.0\n",
      "Excitation : [0, 3, 5, 10], Gradient: 0.0\n",
      "Excitation : [0, 3, 6, 7], Gradient: 0.0\n",
      "Excitation : [0, 3, 6, 9], Gradient: 0.0\n",
      "Excitation : [0, 3, 6, 11], Gradient: 0.0\n",
      "Excitation : [0, 3, 7, 8], Gradient: 0.0\n",
      "Excitation : [0, 3, 7, 10], Gradient: 0.0\n",
      "Excitation : [0, 3, 8, 9], Gradient: 0.0\n",
      "Excitation : [0, 3, 8, 11], Gradient: 0.06558611080532556\n",
      "Excitation : [0, 3, 9, 10], Gradient: -0.07014250756705766\n",
      "Excitation : [0, 3, 10, 11], Gradient: 0.0\n",
      "Excitation : [1, 2, 4, 5], Gradient: 0.0\n",
      "Excitation : [1, 2, 4, 7], Gradient: 0.0\n",
      "Excitation : [1, 2, 4, 9], Gradient: 0.0\n",
      "Excitation : [1, 2, 4, 11], Gradient: 0.0\n",
      "Excitation : [1, 2, 5, 6], Gradient: 0.0\n",
      "Excitation : [1, 2, 5, 8], Gradient: 0.0\n",
      "Excitation : [1, 2, 5, 10], Gradient: 0.0\n",
      "Excitation : [1, 2, 6, 7], Gradient: 0.0\n",
      "Excitation : [1, 2, 6, 9], Gradient: 0.0\n",
      "Excitation : [1, 2, 6, 11], Gradient: 0.0\n",
      "Excitation : [1, 2, 7, 8], Gradient: 0.0\n",
      "Excitation : [1, 2, 7, 10], Gradient: 0.0\n",
      "Excitation : [1, 2, 8, 9], Gradient: 0.0\n",
      "Excitation : [1, 2, 8, 11], Gradient: -0.07014250756705766\n",
      "Excitation : [1, 2, 9, 10], Gradient: 0.06558611080532556\n",
      "Excitation : [1, 2, 10, 11], Gradient: 0.0\n",
      "Excitation : [1, 3, 5, 7], Gradient: 0.0\n",
      "Excitation : [1, 3, 5, 9], Gradient: 0.0\n",
      "Excitation : [1, 3, 5, 11], Gradient: 0.0\n",
      "Excitation : [1, 3, 7, 9], Gradient: 0.0\n",
      "Excitation : [1, 3, 7, 11], Gradient: 0.0\n",
      "Excitation : [1, 3, 9, 11], Gradient: 0.004556396761732119\n",
      "Excitation : [2, 3, 4, 5], Gradient: -0.06686196704677393\n",
      "Excitation : [2, 3, 4, 7], Gradient: 0.0\n",
      "Excitation : [2, 3, 4, 9], Gradient: 0.0\n",
      "Excitation : [2, 3, 4, 11], Gradient: 0.0\n",
      "Excitation : [2, 3, 5, 6], Gradient: 0.0\n",
      "Excitation : [2, 3, 5, 8], Gradient: 0.0\n",
      "Excitation : [2, 3, 5, 10], Gradient: 0.0\n",
      "Excitation : [2, 3, 6, 7], Gradient: -0.0668619670467786\n",
      "Excitation : [2, 3, 6, 9], Gradient: 0.0\n",
      "Excitation : [2, 3, 6, 11], Gradient: 0.0\n",
      "Excitation : [2, 3, 7, 8], Gradient: 0.0\n",
      "Excitation : [2, 3, 7, 10], Gradient: 0.0\n",
      "Excitation : [2, 3, 8, 9], Gradient: -0.07148850363475706\n",
      "Excitation : [2, 3, 8, 11], Gradient: 0.0\n",
      "Excitation : [2, 3, 9, 10], Gradient: 0.0\n",
      "Excitation : [2, 3, 10, 11], Gradient: -0.052420589247020435\n"
     ]
    }
   ],
   "source": [
    "dev = qml.device(\"default.qubit\", wires=qubits)\n",
    "cost_fn = qml.QNode(circuit_1, dev)\n",
    "\n",
    "circuit_gradient = qml.grad(cost_fn, argnum=0)\n",
    "\n",
    "params = [0.0] * len(doubles)\n",
    "grads = circuit_gradient(params, excitations=doubles)\n",
    "\n",
    "for i in range(len(doubles)):\n",
    "    print(f\"Excitation : {doubles[i]}, Gradient: {grads[i]}\")"
   ]
  },
  {
   "cell_type": "code",
   "execution_count": null,
   "id": "0f94d16d-0ee8-4feb-b7ba-50ed38707304",
   "metadata": {
    "collapsed": true,
    "jupyter": {
     "outputs_hidden": true
    },
    "scrolled": true,
    "tags": []
   },
   "outputs": [
    {
     "data": {
      "text/plain": [
       "[[0, 1, 4, 5],\n",
       " [0, 1, 6, 7],\n",
       " [0, 1, 8, 9],\n",
       " [0, 1, 10, 11],\n",
       " [0, 2, 8, 10],\n",
       " [0, 3, 8, 11],\n",
       " [0, 3, 9, 10],\n",
       " [1, 2, 8, 11],\n",
       " [1, 2, 9, 10],\n",
       " [1, 3, 9, 11],\n",
       " [2, 3, 4, 5],\n",
       " [2, 3, 6, 7],\n",
       " [2, 3, 8, 9],\n",
       " [2, 3, 10, 11]]"
      ]
     },
     "execution_count": 45,
     "metadata": {},
     "output_type": "execute_result"
    }
   ],
   "source": [
    "doubles_select = [doubles[i] for i in range(len(doubles)) if abs(grads[i]) > 1.0e-5]\n",
    "doubles_select"
   ]
  },
  {
   "cell_type": "code",
   "execution_count": null,
   "id": "0088162a-779a-41e3-842f-32139c15b2a3",
   "metadata": {},
   "outputs": [],
   "source": [
    "opt = qml.GradientDescentOptimizer(stepsize=0.5)\n",
    "\n",
    "params_doubles = np.zeros(len(doubles_select), requires_grad=True)\n",
    "\n",
    "for n in range(20):\n",
    "    params_doubles = opt.step(cost_fn, params_doubles, excitations=doubles_select)"
   ]
  },
  {
   "cell_type": "code",
   "execution_count": null,
   "id": "7e8344fd-145d-484b-bd66-ae92e1f078d4",
   "metadata": {},
   "outputs": [],
   "source": [
    "def circuit_2(params, excitations, gates_select, params_select):\n",
    "    qml.BasisState(hf_state, wires=range(qubits))\n",
    "\n",
    "    for i, gate in enumerate(gates_select):\n",
    "        if len(gate) == 4:\n",
    "            qml.DoubleExcitation(params_select[i], wires=gate)\n",
    "        elif len(gate) == 2:\n",
    "            qml.SingleExcitation(params_select[i], wires=gate)\n",
    "\n",
    "    for i, gate in enumerate(excitations):\n",
    "        if len(gate) == 4:\n",
    "            qml.DoubleExcitation(params[i], wires=gate)\n",
    "        elif len(gate) == 2:\n",
    "            qml.SingleExcitation(params[i], wires=gate)\n",
    "    return qml.expval(H)"
   ]
  },
  {
   "cell_type": "code",
   "execution_count": null,
   "id": "345a2f9b-8853-4936-8a5a-030648f685e2",
   "metadata": {
    "collapsed": true,
    "jupyter": {
     "outputs_hidden": true
    },
    "scrolled": true,
    "tags": []
   },
   "outputs": [
    {
     "name": "stdout",
     "output_type": "stream",
     "text": [
      "Excitation : [0, 4], Gradient: 0.0\n",
      "Excitation : [0, 6], Gradient: 0.0\n",
      "Excitation : [0, 8], Gradient: 0.0\n",
      "Excitation : [0, 10], Gradient: 0.005543526715525948\n",
      "Excitation : [1, 5], Gradient: 0.0\n",
      "Excitation : [1, 7], Gradient: 0.0\n",
      "Excitation : [1, 9], Gradient: 0.0\n",
      "Excitation : [1, 11], Gradient: -0.005543526989549823\n",
      "Excitation : [2, 4], Gradient: 0.0\n",
      "Excitation : [2, 6], Gradient: 0.0\n",
      "Excitation : [2, 8], Gradient: 0.0086222030057358\n",
      "Excitation : [2, 10], Gradient: 0.0\n",
      "Excitation : [3, 5], Gradient: 0.0\n",
      "Excitation : [3, 7], Gradient: 0.0\n",
      "Excitation : [3, 9], Gradient: -0.008622203274572896\n",
      "Excitation : [3, 11], Gradient: 0.0\n"
     ]
    }
   ],
   "source": [
    "cost_fn = qml.QNode(circuit_2, dev)\n",
    "circuit_gradient = qml.grad(cost_fn, argnum=0)\n",
    "params = [0.0] * len(singles)\n",
    "\n",
    "grads = circuit_gradient(\n",
    "    params,\n",
    "    excitations=singles,\n",
    "    gates_select=doubles_select,\n",
    "    params_select=params_doubles\n",
    ")\n",
    "\n",
    "for i in range(len(singles)):\n",
    "    print(f\"Excitation : {singles[i]}, Gradient: {grads[i]}\")"
   ]
  },
  {
   "cell_type": "code",
   "execution_count": null,
   "id": "680a58d5-53b9-4cbc-85de-1d2c82743022",
   "metadata": {},
   "outputs": [
    {
     "data": {
      "text/plain": [
       "[[0, 10], [1, 11], [2, 8], [3, 9]]"
      ]
     },
     "execution_count": 49,
     "metadata": {},
     "output_type": "execute_result"
    }
   ],
   "source": [
    "singles_select = [singles[i] for i in range(len(singles)) if abs(grads[i]) > 1.0e-5 ]\n",
    "singles_select"
   ]
  },
  {
   "cell_type": "code",
   "execution_count": null,
   "id": "cdbdcc79-ce38-4ea0-a6ec-5f49f99320ce",
   "metadata": {
    "collapsed": true,
    "jupyter": {
     "outputs_hidden": true
    },
    "scrolled": true,
    "tags": []
   },
   "outputs": [
    {
     "name": "stdout",
     "output_type": "stream",
     "text": [
      "n = 0,  E = -14.79471419 H, t = 5.89 s\n",
      "n = 1,  E = -14.81367955 H, t = 8.70 s\n",
      "n = 2,  E = -14.81889393 H, t = 3.20 s\n",
      "n = 3,  E = -14.82117026 H, t = 9.00 s\n",
      "n = 4,  E = -14.82236977 H, t = 3.50 s\n",
      "n = 5,  E = -14.82307415 H, t = 3.10 s\n",
      "n = 6,  E = -14.82351465 H, t = 3.20 s\n",
      "n = 7,  E = -14.82380014 H, t = 10.80 s\n",
      "n = 8,  E = -14.82398910 H, t = 3.10 s\n",
      "n = 9,  E = -14.82411586 H, t = 9.40 s\n",
      "n = 10,  E = -14.82420171 H, t = 3.20 s\n",
      "n = 11,  E = -14.82426026 H, t = 3.60 s\n",
      "n = 12,  E = -14.82430044 H, t = 3.10 s\n",
      "n = 13,  E = -14.82432814 H, t = 10.60 s\n",
      "n = 14,  E = -14.82434732 H, t = 3.71 s\n",
      "n = 15,  E = -14.82436064 H, t = 8.39 s\n",
      "n = 16,  E = -14.82436992 H, t = 4.61 s\n",
      "n = 17,  E = -14.82437640 H, t = 3.10 s\n",
      "n = 18,  E = -14.82438094 H, t = 3.10 s\n",
      "n = 19,  E = -14.82438412 H, t = 8.29 s\n"
     ]
    }
   ],
   "source": [
    "cost_fn = qml.QNode(circuit_1, dev)\n",
    "\n",
    "params = np.zeros(len(doubles_select + singles_select), requires_grad=True)\n",
    "\n",
    "gates_select = doubles_select + singles_select\n",
    "\n",
    "for n in range(20):\n",
    "    t1 = time.time()\n",
    "    params, energy = opt.step_and_cost(cost_fn, params, excitations=gates_select)\n",
    "    t2 = time.time()\n",
    "    print(\"n = {:},  E = {:.8f} H, t = {:.2f} s\".format(n, energy, t2 - t1))"
   ]
  },
  {
   "cell_type": "code",
   "execution_count": null,
   "id": "c1eaa6a5-61c3-403c-8462-816b13074ec0",
   "metadata": {},
   "outputs": [],
   "source": []
  },
  {
   "cell_type": "code",
   "execution_count": null,
   "id": "e03ef3ad-29d2-4f9b-af62-785179125859",
   "metadata": {},
   "outputs": [],
   "source": []
  }
 ],
 "metadata": {
  "kernelspec": {
   "display_name": "PennyLane",
   "language": "python",
   "name": "pennylane"
  },
  "language_info": {
   "codemirror_mode": {
    "name": "ipython",
    "version": 3
   },
   "file_extension": ".py",
   "mimetype": "text/x-python",
   "name": "python",
   "nbconvert_exporter": "python",
   "pygments_lexer": "ipython3",
   "version": "3.9.15"
  }
 },
 "nbformat": 4,
 "nbformat_minor": 5
}
