{
 "cells": [
  {
   "cell_type": "code",
   "execution_count": 2,
   "metadata": {
    "collapsed": false
   },
   "outputs": [
    {
     "ename": "ImportError",
     "evalue": "No module named 'paddle'",
     "output_type": "error",
     "traceback": [
      "\u001b[0;31m---------------------------------------------------------------------------\u001b[0m",
      "\u001b[0;31mImportError\u001b[0m                               Traceback (most recent call last)",
      "\u001b[0;32m<ipython-input-2-b96769778dfa>\u001b[0m in \u001b[0;36m<module>\u001b[0;34m()\u001b[0m\n\u001b[0;32m----> 1\u001b[0;31m \u001b[1;32mimport\u001b[0m \u001b[0mpaddle\u001b[0m\u001b[1;33m\u001b[0m\u001b[0m\n\u001b[0m\u001b[1;32m      2\u001b[0m \u001b[1;32mimport\u001b[0m \u001b[0mpaddle_quantum\u001b[0m\u001b[1;33m.\u001b[0m\u001b[0mqchem\u001b[0m \u001b[1;32mas\u001b[0m \u001b[0mqchem\u001b[0m\u001b[1;33m\u001b[0m\u001b[0m\n\u001b[1;32m      3\u001b[0m \u001b[1;32mfrom\u001b[0m \u001b[0mpaddle_quantum\u001b[0m\u001b[1;33m.\u001b[0m\u001b[0mloss\u001b[0m \u001b[1;32mimport\u001b[0m \u001b[0mExpecVal\u001b[0m\u001b[1;33m\u001b[0m\u001b[0m\n\u001b[1;32m      4\u001b[0m \u001b[1;32mfrom\u001b[0m \u001b[0mpaddle_quantum\u001b[0m \u001b[1;32mimport\u001b[0m \u001b[0mHamiltonian\u001b[0m\u001b[1;33m\u001b[0m\u001b[0m\n\u001b[1;32m      5\u001b[0m \u001b[1;32mfrom\u001b[0m \u001b[0mpaddle_quantum\u001b[0m\u001b[1;33m.\u001b[0m\u001b[0mstate\u001b[0m \u001b[1;32mimport\u001b[0m \u001b[0mzero_state\u001b[0m\u001b[1;33m,\u001b[0m \u001b[0mState\u001b[0m\u001b[1;33m\u001b[0m\u001b[0m\n",
      "\u001b[0;31mImportError\u001b[0m: No module named 'paddle'"
     ]
    }
   ],
   "source": [
    "import paddle\n",
    "import paddle_quantum.qchem as qchem\n",
    "from paddle_quantum.loss import ExpecVal\n",
    "from paddle_quantum import Hamiltonian\n",
    "from paddle_quantum.state import zero_state, State\n",
    "from paddle_quantum.ansatz import Circuit\n",
    "from paddle_quantum.linalg import dagger\n",
    "from paddle_quantum import Backend\n",
    "\n",
    "import os\n",
    "import matplotlib.pyplot as plt\n",
    "\n",
    "import numpy\n",
    "from numpy import pi as PI\n",
    "from numpy import savez, zeros\n",
    "\n",
    "# Eliminate noisy python warnings\n",
    "import warnings\n",
    "warnings.filterwarnings(\"ignore\")\n",
    "\n",
    "# Define the molecule using its geometry, basis set, multiplicity, and charge\n",
    "mol = qchem.Molecule(\n",
    "    geometry=[('Be', [0., 0., 0.]), ('H', [0., 0., 1.25]), ('H', [0., 0., -1.25])],   # Molecular geometry\n",
    "    basis=\"sto-3g\",                                             # Basis set\n",
    "    multiplicity=1,                                             # Spin multiplicity\n",
    "    charge=0,                                                   # Total charge\n",
    "    driver=qchem.PySCFDriver()                                  # Quantum chemistry engine\n",
    ")\n",
    "\n",
    "# Extract the molecular Hamiltonian\n",
    "molecular_hamiltonian = mol.get_molecular_hamiltonian()\n",
    "\n",
    "# Define the quantum neural network (QNN)\n",
    "def U_theta(num_qubits: int, depth: int) -> Circuit:\n",
    "    \"\"\"\n",
    "    Quantum Neural Network\n",
    "    \"\"\"\n",
    "    \n",
    "    # Initialize the quantum neural network according to the number of qubits N\n",
    "    cir = Circuit(num_qubits)\n",
    "    \n",
    "    # Built-in {R_y + CNOT} circuit template\n",
    "    cir.real_entangled_layer(depth = depth)\n",
    "    \n",
    "    # Lay R_y gates in the last row\n",
    "    cir.ry()\n",
    "        \n",
    "    return cir\n",
    "\n",
    "# Define the loss function and model\n",
    "class StateNet(paddle.nn.Layer):\n",
    "    \"\"\"\n",
    "    Construct the model net\n",
    "    \"\"\"\n",
    "\n",
    "    def __init__(self, num_qubits: int, depth: int):\n",
    "        super(StateNet, self).__init__()\n",
    "        \n",
    "        self.depth = depth\n",
    "        self.num_qubits = num_qubits\n",
    "        self.cir = U_theta(self.num_qubits, self.depth)\n",
    "        \n",
    "    # Define loss function and forward propagation mechanism\n",
    "    def forward(self):\n",
    "        \n",
    "        # Run circuit\n",
    "        state = self.cir(init_state)\n",
    "\n",
    "        # Calculate loss function/expected value\n",
    "        loss = loss_func(state)     \n",
    "\n",
    "        return loss, self.cir\n",
    "\n",
    "# Set hyperparameters\n",
    "ITR = 80  # Set the number of optimization iterations\n",
    "LR = 0.4   # Set the learning rate\n",
    "D = 2      # Set the depth of the repetitive calculation module in QNN\n",
    "N = molecular_hamiltonian.n_qubits # Set number of qubits\n",
    "\n",
    "# Convert data into\n"
   ]
  },
  {
   "cell_type": "code",
   "execution_count": null,
   "metadata": {
    "collapsed": true
   },
   "outputs": [],
   "source": [
    "!pip install pyscf\n"
   ]
  },
  {
   "cell_type": "code",
   "execution_count": null,
   "metadata": {
    "collapsed": true
   },
   "outputs": [],
   "source": [
    "import pyscf\n",
    "\n",
    "# Set up the molecule\n",
    "mol = pyscf.gto.Mole()\n",
    "mol.atom = '''\n",
    "Be 0.0 0.0 0.0\n",
    "H 0.0 0.0 1.32\n",
    "H 0.0 0.0 -1.32\n",
    "'''\n",
    "mol.basis = 'sto-3g'\n",
    "mol.build()\n",
    "\n",
    "# Run the calculation\n",
    "mf = pyscf.scf.RHF(mol)\n",
    "mf.kernel()\n",
    "print('Ground state energy of BeH2:', mf.e_tot)\n"
   ]
  },
  {
   "cell_type": "code",
   "execution_count": null,
   "metadata": {
    "collapsed": false
   },
   "outputs": [],
   "source": [
    "Ground state energy of BeH2: -14.58094202750012\n"
   ]
  }
 ],
 "metadata": {
  "anaconda-cloud": {},
  "kernelspec": {
   "display_name": "Python [default]",
   "language": "python",
   "name": "python3"
  },
  "language_info": {
   "codemirror_mode": {
    "name": "ipython",
    "version": 3
   },
   "file_extension": ".py",
   "mimetype": "text/x-python",
   "name": "python",
   "nbconvert_exporter": "python",
   "pygments_lexer": "ipython3",
   "version": "3.5.2"
  }
 },
 "nbformat": 4,
 "nbformat_minor": 1
}
