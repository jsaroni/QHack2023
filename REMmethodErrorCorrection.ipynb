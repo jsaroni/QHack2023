{
  "nbformat": 4,
  "nbformat_minor": 0,
  "metadata": {
    "colab": {
      "provenance": []
    },
    "kernelspec": {
      "name": "python3",
      "display_name": "Python 3"
    },
    "language_info": {
      "name": "python"
    }
  },
  "cells": [
    {
      "cell_type": "code",
      "execution_count": 2,
      "metadata": {
        "colab": {
          "base_uri": "https://localhost:8080/"
        },
        "id": "Hdk0B7gfXiUE",
        "outputId": "2b2f91e6-49a6-4567-a57a-3d72b24e9d76"
      },
      "outputs": [
        {
          "output_type": "stream",
          "name": "stdout",
          "text": [
            "Looking in indexes: https://pypi.org/simple, https://us-python.pkg.dev/colab-wheels/public/simple/\n",
            "Collecting pyscf\n",
            "  Downloading pyscf-2.1.1-cp38-cp38-manylinux_2_12_x86_64.manylinux2010_x86_64.whl (38.2 MB)\n",
            "\u001b[2K     \u001b[90m━━━━━━━━━━━━━━━━━━━━━━━━━━━━━━━━━━━━━━━━\u001b[0m \u001b[32m38.2/38.2 MB\u001b[0m \u001b[31m36.4 MB/s\u001b[0m eta \u001b[36m0:00:00\u001b[0m\n",
            "\u001b[?25hRequirement already satisfied: scipy!=1.5.0,!=1.5.1 in /usr/local/lib/python3.8/dist-packages (from pyscf) (1.7.3)\n",
            "Requirement already satisfied: numpy!=1.16,!=1.17,>=1.13 in /usr/local/lib/python3.8/dist-packages (from pyscf) (1.22.4)\n",
            "Requirement already satisfied: h5py>=2.7 in /usr/local/lib/python3.8/dist-packages (from pyscf) (3.1.0)\n",
            "Installing collected packages: pyscf\n",
            "Successfully installed pyscf-2.1.1\n",
            "converged SCF energy = -15.504085516671\n"
          ]
        },
        {
          "output_type": "execute_result",
          "data": {
            "text/plain": [
              "-15.504085516670967"
            ]
          },
          "metadata": {},
          "execution_count": 2
        }
      ],
      "source": [
        "!pip install pyscf \n",
        "import pyscf\n",
        "from pyscf import gto, scf\n",
        "\n",
        "# Define the molecule geometry\n",
        "mol = gto.M(atom='Be 0 0 0\\nH 0 0 1.6\\nH 0 0 -1.6', basis='sto-3g')\n",
        "\n",
        "# Compute the Hartree-Fock energy and wavefunction\n",
        "mf = scf.RHF(mol)\n",
        "mf.kernel()\n"
      ]
    },
    {
      "cell_type": "code",
      "source": [
        "import pyscf\n",
        "from pyscf import gto, scf\n",
        "\n",
        "# define the molecule geometry\n",
        "mol = gto.M(atom='Be 0 0 0; H 0 0 1.2; H 0 0 -1.2', basis='sto-3g')\n",
        "\n",
        "# perform Hartree-Fock calculation\n",
        "mf = scf.RHF(mol)\n",
        "mf.kernel()\n"
      ],
      "metadata": {
        "colab": {
          "base_uri": "https://localhost:8080/"
        },
        "id": "B5iJzixhkb87",
        "outputId": "a0412e30-178a-4e80-bec6-e4c8882438b0"
      },
      "execution_count": 8,
      "outputs": [
        {
          "output_type": "stream",
          "name": "stdout",
          "text": [
            "converged SCF energy = -15.5535864757067\n"
          ]
        },
        {
          "output_type": "execute_result",
          "data": {
            "text/plain": [
              "-15.55358647570668"
            ]
          },
          "metadata": {},
          "execution_count": 8
        }
      ]
    },
    {
      "cell_type": "code",
      "source": [
        "!pip install qiskit-nature"
      ],
      "metadata": {
        "colab": {
          "base_uri": "https://localhost:8080/"
        },
        "id": "MBpVIjgKsLMN",
        "outputId": "b634cb91-9aca-4461-b6e0-614cf35fd935"
      },
      "execution_count": 14,
      "outputs": [
        {
          "output_type": "stream",
          "name": "stdout",
          "text": [
            "Looking in indexes: https://pypi.org/simple, https://us-python.pkg.dev/colab-wheels/public/simple/\n",
            "Requirement already satisfied: qiskit-nature in /usr/local/lib/python3.8/dist-packages (0.5.2)\n",
            "Requirement already satisfied: scikit-learn>=0.20.0 in /usr/local/lib/python3.8/dist-packages (from qiskit-nature) (1.0.2)\n",
            "Requirement already satisfied: rustworkx in /usr/local/lib/python3.8/dist-packages (from qiskit-nature) (0.12.1)\n",
            "Requirement already satisfied: numpy>=1.17 in /usr/local/lib/python3.8/dist-packages (from qiskit-nature) (1.22.4)\n",
            "Requirement already satisfied: typing-extensions in /usr/local/lib/python3.8/dist-packages (from qiskit-nature) (4.5.0)\n",
            "Requirement already satisfied: scipy>=1.4 in /usr/local/lib/python3.8/dist-packages (from qiskit-nature) (1.7.3)\n",
            "Requirement already satisfied: qiskit-terra>=0.22.* in /usr/local/lib/python3.8/dist-packages (from qiskit-nature) (0.23.2)\n",
            "Requirement already satisfied: psutil>=5 in /usr/local/lib/python3.8/dist-packages (from qiskit-nature) (5.4.8)\n",
            "Requirement already satisfied: setuptools>=40.1.0 in /usr/local/lib/python3.8/dist-packages (from qiskit-nature) (57.4.0)\n",
            "Requirement already satisfied: h5py in /usr/local/lib/python3.8/dist-packages (from qiskit-nature) (3.1.0)\n",
            "Requirement already satisfied: dill>=0.3 in /usr/local/lib/python3.8/dist-packages (from qiskit-terra>=0.22.*->qiskit-nature) (0.3.6)\n",
            "Requirement already satisfied: ply>=3.10 in /usr/local/lib/python3.8/dist-packages (from qiskit-terra>=0.22.*->qiskit-nature) (3.11)\n",
            "Requirement already satisfied: stevedore>=3.0.0 in /usr/local/lib/python3.8/dist-packages (from qiskit-terra>=0.22.*->qiskit-nature) (5.0.0)\n",
            "Requirement already satisfied: python-dateutil>=2.8.0 in /usr/local/lib/python3.8/dist-packages (from qiskit-terra>=0.22.*->qiskit-nature) (2.8.2)\n",
            "Requirement already satisfied: sympy>=1.3 in /usr/local/lib/python3.8/dist-packages (from qiskit-terra>=0.22.*->qiskit-nature) (1.7.1)\n",
            "Requirement already satisfied: symengine>=0.9 in /usr/local/lib/python3.8/dist-packages (from qiskit-terra>=0.22.*->qiskit-nature) (0.9.2)\n",
            "Requirement already satisfied: joblib>=0.11 in /usr/local/lib/python3.8/dist-packages (from scikit-learn>=0.20.0->qiskit-nature) (1.2.0)\n",
            "Requirement already satisfied: threadpoolctl>=2.0.0 in /usr/local/lib/python3.8/dist-packages (from scikit-learn>=0.20.0->qiskit-nature) (3.1.0)\n",
            "Requirement already satisfied: six>=1.5 in /usr/local/lib/python3.8/dist-packages (from python-dateutil>=2.8.0->qiskit-terra>=0.22.*->qiskit-nature) (1.15.0)\n",
            "Requirement already satisfied: pbr!=2.1.0,>=2.0.0 in /usr/local/lib/python3.8/dist-packages (from stevedore>=3.0.0->qiskit-terra>=0.22.*->qiskit-nature) (5.11.1)\n",
            "Requirement already satisfied: mpmath>=0.19 in /usr/local/lib/python3.8/dist-packages (from sympy>=1.3->qiskit-terra>=0.22.*->qiskit-nature) (1.2.1)\n"
          ]
        }
      ]
    },
    {
      "cell_type": "code",
      "source": [
        "from qiskit_nature.drivers import PySCFDriver, UnitsType, Molecule\n",
        "from qiskit_nature.transformers import FreezeCoreTransformer, ActiveSpaceTransformer\n",
        "from qiskit_nature.problems.second_quantization.electronic import ElectronicStructureProblem\n",
        "from qiskit_nature.converters.second_quantization.qubit_converter import QubitConverter\n",
        "from qiskit_nature.mappers.second_quantization import ParityMapper\n",
        "from qiskit_nature.circuit.library import UCCSD\n",
        "from qiskit import Aer\n",
        "from qiskit.algorithms import VQE\n",
        "from qiskit.algorithms.optimizers import SLSQP\n",
        "\n",
        "# Define the molecule geometry\n",
        "molecule = Molecule(geometry=[['Be', [0., 0., 0.]], ['H', [0., 0., 1.6]], ['H', [0., 0., -1.6]]],\n",
        "                     charge=0, multiplicity=1)\n",
        "\n",
        "# Define the PySCF driver and run it to get the molecule data\n",
        "driver = PySCFDriver(molecule=molecule, unit=UnitsType.ANGSTROM, basis='sto-3g')\n",
        "problem = ElectronicStructureProblem(driver, [FreezeCoreTransformer(freeze_core=True),\n",
        "                                               ActiveSpaceTransformer(num_electrons=2, num_molecular_orbitals=2)])\n",
        "\n",
        "# Generate the qubit operator and the initial state\n",
        "converter = QubitConverter(mapper=ParityMapper())\n",
        "qubit_op = converter.convert(problem.second_q_ops())\n",
        "init_state = problem.get_initial_state()\n",
        "\n",
        "# Construct the UCCSD ansatz\n",
        "ansatz = UCCSD(qubit_converter=converter, num_particles=problem.num_particles,\n",
        "               num_spin_orbitals=problem.num_orbitals, initial_state=init_state)\n",
        "\n",
        "# Run the VQE algorithm to find the ground state\n",
        "backend = Aer.get_backend('statevector_simulator')\n",
        "optimizer = SLSQP(maxiter=1000)\n",
        "vqe = VQE(ansatz=ansatz, optimizer=optimizer, quantum_instance=backend)\n",
        "result = vqe.compute_minimum_eigenvalue(qubit_op)\n",
        "print(result)\n"
      ],
      "metadata": {
        "colab": {
          "base_uri": "https://localhost:8080/",
          "height": 373
        },
        "id": "ldlyw1_7t3Ox",
        "outputId": "51f5632b-4304-456b-e820-bb98392961e6"
      },
      "execution_count": 18,
      "outputs": [
        {
          "output_type": "error",
          "ename": "ImportError",
          "evalue": "ignored",
          "traceback": [
            "\u001b[0;31m---------------------------------------------------------------------------\u001b[0m",
            "\u001b[0;31mImportError\u001b[0m                               Traceback (most recent call last)",
            "\u001b[0;32m<ipython-input-18-54dfd13b34e1>\u001b[0m in \u001b[0;36m<module>\u001b[0;34m\u001b[0m\n\u001b[0;32m----> 1\u001b[0;31m \u001b[0;32mfrom\u001b[0m \u001b[0mqiskit_nature\u001b[0m\u001b[0;34m.\u001b[0m\u001b[0mdrivers\u001b[0m \u001b[0;32mimport\u001b[0m \u001b[0mPySCFDriver\u001b[0m\u001b[0;34m,\u001b[0m \u001b[0mUnitsType\u001b[0m\u001b[0;34m,\u001b[0m \u001b[0mMolecule\u001b[0m\u001b[0;34m\u001b[0m\u001b[0;34m\u001b[0m\u001b[0m\n\u001b[0m\u001b[1;32m      2\u001b[0m \u001b[0;32mfrom\u001b[0m \u001b[0mqiskit_nature\u001b[0m\u001b[0;34m.\u001b[0m\u001b[0mtransformers\u001b[0m \u001b[0;32mimport\u001b[0m \u001b[0mFreezeCoreTransformer\u001b[0m\u001b[0;34m,\u001b[0m \u001b[0mActiveSpaceTransformer\u001b[0m\u001b[0;34m\u001b[0m\u001b[0;34m\u001b[0m\u001b[0m\n\u001b[1;32m      3\u001b[0m \u001b[0;32mfrom\u001b[0m \u001b[0mqiskit_nature\u001b[0m\u001b[0;34m.\u001b[0m\u001b[0mproblems\u001b[0m\u001b[0;34m.\u001b[0m\u001b[0msecond_quantization\u001b[0m\u001b[0;34m.\u001b[0m\u001b[0melectronic\u001b[0m \u001b[0;32mimport\u001b[0m \u001b[0mElectronicStructureProblem\u001b[0m\u001b[0;34m\u001b[0m\u001b[0;34m\u001b[0m\u001b[0m\n\u001b[1;32m      4\u001b[0m \u001b[0;32mfrom\u001b[0m \u001b[0mqiskit_nature\u001b[0m\u001b[0;34m.\u001b[0m\u001b[0mconverters\u001b[0m\u001b[0;34m.\u001b[0m\u001b[0msecond_quantization\u001b[0m\u001b[0;34m.\u001b[0m\u001b[0mqubit_converter\u001b[0m \u001b[0;32mimport\u001b[0m \u001b[0mQubitConverter\u001b[0m\u001b[0;34m\u001b[0m\u001b[0;34m\u001b[0m\u001b[0m\n\u001b[1;32m      5\u001b[0m \u001b[0;32mfrom\u001b[0m \u001b[0mqiskit_nature\u001b[0m\u001b[0;34m.\u001b[0m\u001b[0mmappers\u001b[0m\u001b[0;34m.\u001b[0m\u001b[0msecond_quantization\u001b[0m \u001b[0;32mimport\u001b[0m \u001b[0mParityMapper\u001b[0m\u001b[0;34m\u001b[0m\u001b[0;34m\u001b[0m\u001b[0m\n",
            "\u001b[0;31mImportError\u001b[0m: cannot import name 'PySCFDriver' from 'qiskit_nature.drivers' (/usr/local/lib/python3.8/dist-packages/qiskit_nature/drivers/__init__.py)",
            "",
            "\u001b[0;31m---------------------------------------------------------------------------\u001b[0;32m\nNOTE: If your import is failing due to a missing package, you can\nmanually install dependencies using either !pip or !apt.\n\nTo view examples of installing some common dependencies, click the\n\"Open Examples\" button below.\n\u001b[0;31m---------------------------------------------------------------------------\u001b[0m\n"
          ],
          "errorDetails": {
            "actions": [
              {
                "action": "open_url",
                "actionText": "Open Examples",
                "url": "/notebooks/snippets/importing_libraries.ipynb"
              }
            ]
          }
        }
      ]
    },
    {
      "cell_type": "code",
      "source": [
        "from qiskit import Aer\n",
        "from qiskit.algorithms import VQE\n",
        "from qiskit.circuit.library import TwoLocal\n",
        "from qiskit.opflow import I, Z, X, Y\n",
        "from qiskit_nature import QiskitNatureError\n",
        "from qiskit_nature.algorithms import GroundStateEigensolver\n",
        "from qiskit_nature.drivers import PySCFDriver\n",
        "from qiskit_nature.problems.second_quantization import ElectronicStructureProblem\n",
        "from qiskit_nature.transformers import FreezeCoreTransformer, ActiveSpaceTransformer\n",
        "from qiskit_nature.converters.second_quantization.qubit_converter import QubitConverter\n",
        "from qiskit_nature.mappers.second_quantization import ParityMapper\n",
        "from qiskit_nature.converters.second_quantization import QubitConverter\n",
        "from qiskit_nature.circuit.library import HartreeFock, UCCSD\n",
        "\n",
        "# Define the molecule\n",
        "molecule = \"Be . H 2\"\n",
        "charge = 0\n",
        "multiplicity = 1\n",
        "\n",
        "# Define the PySCF driver\n",
        "driver = PySCFDriver(molecule)\n",
        "\n",
        "# Freeze the core orbitals\n",
        "freeze_core = True\n",
        "if freeze_core:\n",
        "    transformer = FreezeCoreTransformer(remove_orbitals=[0, 1])\n",
        "else:\n",
        "    transformer = None\n",
        "\n",
        "# Choose the active space orbitals\n",
        "active_space = True\n",
        "if active_space:\n",
        "    orbitals = {\"occupied\": [2, 3], \"active\": [4, 5], \"unoccupied\": []}\n",
        "    transformer = ActiveSpaceTransformer(**orbitals)\n",
        "\n",
        "# Define the electronic structure problem\n",
        "try:\n",
        "    elec_structure_problem = ElectronicStructureProblem(driver, transformer=transformer)\n",
        "except QiskitNatureError as ex:\n",
        "    print(str(ex))\n",
        "    exit()\n",
        "\n",
        "# Get the fermionic Hamiltonian\n",
        "fermionic_hamiltonian = elec_structure_problem.second_q_ops()[0]\n",
        "\n",
        "# Define the qubit converter\n",
        "mapper = ParityMapper()\n",
        "converter = QubitConverter(mapper=mapper, two_qubit_reduction=True, z2symmetry_reduction=None)\n",
        "\n",
        "# Convert the fermionic Hamiltonian to a qubit Hamiltonian\n",
        "qubit_op = converter.convert(fermionic_hamiltonian)\n",
        "\n",
        "# Define the initial state\n",
        "init_state = HartreeFock(num_qubits=6, num_spin_orbitals=12, converter=converter)\n",
        "\n",
        "# Define the ansatz\n",
        "ansatz = UCCSD(num_qubits=6, num_orbitals=6, num_particles=(2, 0), converter=converter)\n",
        "\n",
        "# Define the classical optimizer\n",
        "optimizer = SLSQP(maxiter=1000)\n",
        "\n",
        "# Define the quantum instance\n",
        "backend = Aer.get_backend('statevector_simulator')\n",
        "quantum_instance = QuantumInstance(backend)\n",
        "\n",
        "# Define the VQE algorithm\n",
        "algorithm = VQE(ansatz=ansatz, optimizer=optimizer, quantum_instance=quantum_instance)\n",
        "\n",
        "# Compute the ground state\n",
        "calc = GroundStateEigensolver(converter, algorithm)\n",
        "result = calc.solve(elec_structure_problem)\n",
        "\n",
        "print(result)\n"
      ],
      "metadata": {
        "colab": {
          "base_uri": "https://localhost:8080/",
          "height": 463
        },
        "id": "mAPWMonvt7dN",
        "outputId": "b49458ee-c8bc-4ba5-828d-ff8981d214d1"
      },
      "execution_count": 19,
      "outputs": [
        {
          "output_type": "stream",
          "name": "stderr",
          "text": [
            "<ipython-input-19-90d961ac0900>:6: NatureDeprecationWarning: The qiskit_nature.algorithms.excited_state_solvers package is deprecated as of version 0.5.0 and will be removed no sooner than 3 months after the release. Instead use the qiskit_nature.second_q.algorithms.excited_state_solvers package.\n",
            "  from qiskit_nature.algorithms import GroundStateEigensolver\n",
            "<ipython-input-19-90d961ac0900>:6: NatureDeprecationWarning: The qiskit_nature.algorithms.pes_sampler package is deprecated as of version 0.5.0 and will be removed no sooner than 3 months after the release . Please refer to 'https://github.com/Qiskit/qiskit-nature/issues/750' for additional information regarding 'extrapolators'.\n",
            "  from qiskit_nature.algorithms import GroundStateEigensolver\n"
          ]
        },
        {
          "output_type": "error",
          "ename": "ImportError",
          "evalue": "ignored",
          "traceback": [
            "\u001b[0;31m---------------------------------------------------------------------------\u001b[0m",
            "\u001b[0;31mImportError\u001b[0m                               Traceback (most recent call last)",
            "\u001b[0;32m<ipython-input-19-90d961ac0900>\u001b[0m in \u001b[0;36m<module>\u001b[0;34m\u001b[0m\n\u001b[1;32m      5\u001b[0m \u001b[0;32mfrom\u001b[0m \u001b[0mqiskit_nature\u001b[0m \u001b[0;32mimport\u001b[0m \u001b[0mQiskitNatureError\u001b[0m\u001b[0;34m\u001b[0m\u001b[0;34m\u001b[0m\u001b[0m\n\u001b[1;32m      6\u001b[0m \u001b[0;32mfrom\u001b[0m \u001b[0mqiskit_nature\u001b[0m\u001b[0;34m.\u001b[0m\u001b[0malgorithms\u001b[0m \u001b[0;32mimport\u001b[0m \u001b[0mGroundStateEigensolver\u001b[0m\u001b[0;34m\u001b[0m\u001b[0;34m\u001b[0m\u001b[0m\n\u001b[0;32m----> 7\u001b[0;31m \u001b[0;32mfrom\u001b[0m \u001b[0mqiskit_nature\u001b[0m\u001b[0;34m.\u001b[0m\u001b[0mdrivers\u001b[0m \u001b[0;32mimport\u001b[0m \u001b[0mPySCFDriver\u001b[0m\u001b[0;34m\u001b[0m\u001b[0;34m\u001b[0m\u001b[0m\n\u001b[0m\u001b[1;32m      8\u001b[0m \u001b[0;32mfrom\u001b[0m \u001b[0mqiskit_nature\u001b[0m\u001b[0;34m.\u001b[0m\u001b[0mproblems\u001b[0m\u001b[0;34m.\u001b[0m\u001b[0msecond_quantization\u001b[0m \u001b[0;32mimport\u001b[0m \u001b[0mElectronicStructureProblem\u001b[0m\u001b[0;34m\u001b[0m\u001b[0;34m\u001b[0m\u001b[0m\n\u001b[1;32m      9\u001b[0m \u001b[0;32mfrom\u001b[0m \u001b[0mqiskit_nature\u001b[0m\u001b[0;34m.\u001b[0m\u001b[0mtransformers\u001b[0m \u001b[0;32mimport\u001b[0m \u001b[0mFreezeCoreTransformer\u001b[0m\u001b[0;34m,\u001b[0m \u001b[0mActiveSpaceTransformer\u001b[0m\u001b[0;34m\u001b[0m\u001b[0;34m\u001b[0m\u001b[0m\n",
            "\u001b[0;31mImportError\u001b[0m: cannot import name 'PySCFDriver' from 'qiskit_nature.drivers' (/usr/local/lib/python3.8/dist-packages/qiskit_nature/drivers/__init__.py)",
            "",
            "\u001b[0;31m---------------------------------------------------------------------------\u001b[0;32m\nNOTE: If your import is failing due to a missing package, you can\nmanually install dependencies using either !pip or !apt.\n\nTo view examples of installing some common dependencies, click the\n\"Open Examples\" button below.\n\u001b[0;31m---------------------------------------------------------------------------\u001b[0m\n"
          ],
          "errorDetails": {
            "actions": [
              {
                "action": "open_url",
                "actionText": "Open Examples",
                "url": "/notebooks/snippets/importing_libraries.ipynb"
              }
            ]
          }
        }
      ]
    },
    {
      "cell_type": "code",
      "source": [
        "from qiskit.ignis.mitigation.measurement import (complete_meas_cal, CompleteMeasFitter)\n",
        "\n",
        "# Generate the calibration circuits\n",
        "qr = qiskit.QuantumRegister(6)\n",
        "meas_calibs, state_labels = complete_meas_cal(qr=qr, circlabel='mcal')\n",
        "\n",
        "# Execute the calibration circuits\n",
        "calibration_qobj = qiskit.compile(meas_calibs, backend=backend, shots=8192)\n",
        "calibration_job = backend.run(calibration_qobj)\n",
        "calibration_result = calibration_job.result()\n",
        "\n",
        "# Extract the calibration matrix\n",
        "meas_fitter = CompleteMeasFitter(calibration_result, state_labels)\n",
        "meas_filter = meas_fitter.filter\n",
        "\n",
        "# Apply the reference state error mitigation\n",
        "mitigated_counts = meas_filter.apply(result_counts)\n"
      ],
      "metadata": {
        "colab": {
          "base_uri": "https://localhost:8080/",
          "height": 373
        },
        "id": "L7Sl6V7OuEUw",
        "outputId": "e2bd706c-135b-4c63-d9a9-f969454b2804"
      },
      "execution_count": 20,
      "outputs": [
        {
          "output_type": "error",
          "ename": "ModuleNotFoundError",
          "evalue": "ignored",
          "traceback": [
            "\u001b[0;31m---------------------------------------------------------------------------\u001b[0m",
            "\u001b[0;31mModuleNotFoundError\u001b[0m                       Traceback (most recent call last)",
            "\u001b[0;32m<ipython-input-20-d9a18aee5d35>\u001b[0m in \u001b[0;36m<module>\u001b[0;34m\u001b[0m\n\u001b[0;32m----> 1\u001b[0;31m \u001b[0;32mfrom\u001b[0m \u001b[0mqiskit\u001b[0m\u001b[0;34m.\u001b[0m\u001b[0mignis\u001b[0m\u001b[0;34m.\u001b[0m\u001b[0mmitigation\u001b[0m\u001b[0;34m.\u001b[0m\u001b[0mmeasurement\u001b[0m \u001b[0;32mimport\u001b[0m \u001b[0;34m(\u001b[0m\u001b[0mcomplete_meas_cal\u001b[0m\u001b[0;34m,\u001b[0m \u001b[0mCompleteMeasFitter\u001b[0m\u001b[0;34m)\u001b[0m\u001b[0;34m\u001b[0m\u001b[0;34m\u001b[0m\u001b[0m\n\u001b[0m\u001b[1;32m      2\u001b[0m \u001b[0;34m\u001b[0m\u001b[0m\n\u001b[1;32m      3\u001b[0m \u001b[0;31m# Generate the calibration circuits\u001b[0m\u001b[0;34m\u001b[0m\u001b[0;34m\u001b[0m\u001b[0;34m\u001b[0m\u001b[0m\n\u001b[1;32m      4\u001b[0m \u001b[0mqr\u001b[0m \u001b[0;34m=\u001b[0m \u001b[0mqiskit\u001b[0m\u001b[0;34m.\u001b[0m\u001b[0mQuantumRegister\u001b[0m\u001b[0;34m(\u001b[0m\u001b[0;36m6\u001b[0m\u001b[0;34m)\u001b[0m\u001b[0;34m\u001b[0m\u001b[0;34m\u001b[0m\u001b[0m\n\u001b[1;32m      5\u001b[0m \u001b[0mmeas_calibs\u001b[0m\u001b[0;34m,\u001b[0m \u001b[0mstate_labels\u001b[0m \u001b[0;34m=\u001b[0m \u001b[0mcomplete_meas_cal\u001b[0m\u001b[0;34m(\u001b[0m\u001b[0mqr\u001b[0m\u001b[0;34m=\u001b[0m\u001b[0mqr\u001b[0m\u001b[0;34m,\u001b[0m \u001b[0mcirclabel\u001b[0m\u001b[0;34m=\u001b[0m\u001b[0;34m'mcal'\u001b[0m\u001b[0;34m)\u001b[0m\u001b[0;34m\u001b[0m\u001b[0;34m\u001b[0m\u001b[0m\n",
            "\u001b[0;31mModuleNotFoundError\u001b[0m: No module named 'qiskit.ignis'",
            "",
            "\u001b[0;31m---------------------------------------------------------------------------\u001b[0;32m\nNOTE: If your import is failing due to a missing package, you can\nmanually install dependencies using either !pip or !apt.\n\nTo view examples of installing some common dependencies, click the\n\"Open Examples\" button below.\n\u001b[0;31m---------------------------------------------------------------------------\u001b[0m\n"
          ],
          "errorDetails": {
            "actions": [
              {
                "action": "open_url",
                "actionText": "Open Examples",
                "url": "/notebooks/snippets/importing_libraries.ipynb"
              }
            ]
          }
        }
      ]
    },
    {
      "cell_type": "code",
      "source": [
        "# Apply reference state error mitigation\n",
        "calibration_qobj = qiskit.compile(meas_calibs, backend=backend, shots=8192)\n",
        "calibration_job = backend.run(calibration_qobj)\n",
        "calibration_result = calibration_job.result()\n",
        "meas_fitter = CompleteMeasFitter(calibration_result, state_labels)\n",
        "meas_filter = meas_fitter.filter\n",
        "mitigated_counts = meas_filter.apply(result_counts)\n"
      ],
      "metadata": {
        "id": "sbEYEbjruhnm"
      },
      "execution_count": null,
      "outputs": []
    },
    {
      "cell_type": "code",
      "source": [
        "import qiskit\n",
        "from qiskit import Aer\n",
        "from qiskit.chemistry.components.initial_states import HartreeFock\n",
        "from qiskit.chemistry.core import Hamiltonian, TransformationType, QubitMappingType\n",
        "from qiskit.chemistry.drivers import PySCFDriver\n",
        "from qiskit.chemistry.algorithms.ground_state_solvers import GroundStateEigensolver\n",
        "from qiskit.chemistry.algorithms.pes_samplers import BOPESSampler\n",
        "from qiskit.circuit.library import TwoLocal\n",
        "from qiskit.aqua.algorithms import NumPyMinimumEigensolver\n",
        "from qiskit.aqua.operators import Z2Symmetries, WeightedPauliOperator\n",
        "from qiskit.ignis.mitigation.measurement import CompleteMeasFitter\n",
        "\n",
        "# Define molecule and driver\n",
        "molecule = 'Be . H2'\n",
        "charge = 0\n",
        "spin = 0\n",
        "driver = PySCFDriver(atom=molecule, charge=charge, spin=spin, basis='sto3g')\n",
        "\n",
        "# Define qubit reduction and mapping\n",
        "transformer = driver.run()\n",
        "qmolecule = transformer.get_transformation(TransformationType.FULL, QubitMappingType.PARITY, \n",
        "                                            two_qubit_reduction=True, freeze_core=True)\n",
        "num_particles = qmolecule.num_alpha + qmolecule.num_beta\n",
        "num_spin_orbitals = qmolecule.num_orbitals * 2\n",
        "\n",
        "# Create the Hamiltonian and print basic info\n",
        "hamiltonian = Hamiltonian(qubit_mapping=QubitMappingType.PARITY,\n",
        "                          two_qubit_reduction=True, freeze_core=True,\n",
        "                          orbital_reduction=[-3.0, -1.0])\n",
        "hamiltonian.from_qmol(qmolecule)\n",
        "print(hamiltonian.print_details())\n",
        "\n",
        "# Define initial state\n",
        "init_state = HartreeFock(num_spin_orbitals, num_particles, 'parity')\n",
        "\n",
        "# Define ansatz\n",
        "ansatz = TwoLocal(num_spin_orbitals, ['ry', 'rz'], 'cz', reps=3, \n",
        "                  entanglement='linear', insert_barriers=True)\n",
        "\n",
        "# Define backend\n",
        "backend = Aer.get_backend('statevector_simulator')\n",
        "\n",
        "# Define classical eigensolver\n",
        "classical_solver = NumPyMinimumEigensolver()\n",
        "\n",
        "# Define quantum eigensolver\n",
        "quantum_solver = GroundStateEigensolver(hamiltonian, ansatz, NumPyMinimumEigensolver(),\n",
        "                                        quantum_instance=backend)\n",
        "\n",
        "# Define BOPESSampler\n",
        "sampler = BOPESSampler(hamiltonian, initial_point=[0.01]*ansatz.num_parameters,\n",
        "                       n_samples=1000, n_init_samples=100, min_prob_clip=0.001)\n",
        "\n",
        "# Compute reference energies\n",
        "reference_energy = classical_solver.compute_minimum_eigenvalue(hamiltonian).eigenvalue.real\n",
        "print(f\"Reference energy: {reference_energy:.6f}\")\n",
        "\n",
        "# Compute and apply calibration matrix for error mitigation\n",
        "calibration_circuits, state_labels = CompleteMeasFitter(backend, qubits=ansatz.qubits).get_calibration()\n",
        "job = backend.run(calibration_circuits, shots=10000)\n",
        "results = job.result()\n",
        "calibration_matrix = CompleteMeasFitter(backend, qubits=ansatz.qubits, state_labels=state_labels).fit(results).cal_matrix\n",
        "\n",
        "# Define VQE object with reference-state error mitigation\n",
        "vqe = qiskit.algorithms.VQE(ansatz, quantum_solver, sampler,\n",
        "                            initial_point=[0.01]*ansatz.num_parameters,\n",
        "                            callback=print_optimization_callback,\n",
        "                            mitigation_matrix=calibration_matrix)\n",
        "\n",
        "# Run VQE\n"
      ],
      "metadata": {
        "id": "QzGKOm1nunoc"
      },
      "execution_count": null,
      "outputs": []
    },
    {
      "cell_type": "code",
      "source": [
        "# Set up the VQE algorithm\n",
        "vqe_algorithm = VQE(\n",
        "    ansatz=ansatz,\n",
        "    optimizer=optimizer,\n",
        "    quantum_instance=quantum_instance,\n",
        "    initial_point=initial_params,\n",
        "    callback=callback,\n",
        ")\n",
        "\n",
        "# Run the VQE algorithm\n",
        "result = vqe_algorithm.compute_minimum_eigenvalue(operator=hamiltonian)\n"
      ],
      "metadata": {
        "id": "_YOTnwoDurw2"
      },
      "execution_count": null,
      "outputs": []
    },
    {
      "cell_type": "code",
      "source": [
        "# Get the ground state energy\n",
        "ground_state_energy = result.eigenvalue.real\n",
        "\n",
        "# Get the optimized parameters of the ansatz\n",
        "opt_params = result.optimal_parameters\n",
        "\n",
        "# Get the ground state wavefunction\n",
        "wavefunction = ansatz.assign_parameters(opt_params)\n"
      ],
      "metadata": {
        "colab": {
          "base_uri": "https://localhost:8080/",
          "height": 235
        },
        "id": "lLO3NNHzuvW1",
        "outputId": "09c9af33-c225-4537-b268-d8148a087a12"
      },
      "execution_count": 21,
      "outputs": [
        {
          "output_type": "error",
          "ename": "NameError",
          "evalue": "ignored",
          "traceback": [
            "\u001b[0;31m---------------------------------------------------------------------------\u001b[0m",
            "\u001b[0;31mNameError\u001b[0m                                 Traceback (most recent call last)",
            "\u001b[0;32m<ipython-input-21-1c86b0deaf62>\u001b[0m in \u001b[0;36m<module>\u001b[0;34m\u001b[0m\n\u001b[1;32m      1\u001b[0m \u001b[0;31m# Get the ground state energy\u001b[0m\u001b[0;34m\u001b[0m\u001b[0;34m\u001b[0m\u001b[0;34m\u001b[0m\u001b[0m\n\u001b[0;32m----> 2\u001b[0;31m \u001b[0mground_state_energy\u001b[0m \u001b[0;34m=\u001b[0m \u001b[0mresult\u001b[0m\u001b[0;34m.\u001b[0m\u001b[0meigenvalue\u001b[0m\u001b[0;34m.\u001b[0m\u001b[0mreal\u001b[0m\u001b[0;34m\u001b[0m\u001b[0;34m\u001b[0m\u001b[0m\n\u001b[0m\u001b[1;32m      3\u001b[0m \u001b[0;34m\u001b[0m\u001b[0m\n\u001b[1;32m      4\u001b[0m \u001b[0;31m# Get the optimized parameters of the ansatz\u001b[0m\u001b[0;34m\u001b[0m\u001b[0;34m\u001b[0m\u001b[0;34m\u001b[0m\u001b[0m\n\u001b[1;32m      5\u001b[0m \u001b[0mopt_params\u001b[0m \u001b[0;34m=\u001b[0m \u001b[0mresult\u001b[0m\u001b[0;34m.\u001b[0m\u001b[0moptimal_parameters\u001b[0m\u001b[0;34m\u001b[0m\u001b[0;34m\u001b[0m\u001b[0m\n",
            "\u001b[0;31mNameError\u001b[0m: name 'result' is not defined"
          ]
        }
      ]
    },
    {
      "cell_type": "code",
      "source": [
        "# Calculate the bond length\n",
        "distance = calculate_distance(molecule.geometry[1], molecule.geometry[2])\n",
        "bond_length = distance / BOHR_TO_ANGSTROM\n",
        "print(\"Bond length: {:.2f} Å\".format(bond_length))\n",
        "\n",
        "# Calculate the dipole moment\n",
        "dipole_moment = calculate_dipole_moment(wavefunction, num_spin_orbitals, num_particles)\n",
        "print(\"Dipole moment: {:.2f} Debye\".format(dipole_moment))\n"
      ],
      "metadata": {
        "id": "7jx2Mf-su6o9"
      },
      "execution_count": null,
      "outputs": []
    },
    {
      "cell_type": "code",
      "source": [
        "# Plot the ground state wavefunction\n",
        "plot_state(wavefunction)\n"
      ],
      "metadata": {
        "id": "mHRAEuMpvAWv"
      },
      "execution_count": null,
      "outputs": []
    },
    {
      "cell_type": "code",
      "source": [
        "import numpy as np\n",
        "from qiskit import Aer, execute\n",
        "from qiskit.circuit.library import TwoLocal\n",
        "from qiskit_nature.drivers import PySCFDriver\n",
        "from qiskit_nature.problems.second_quantization.electronic import ElectronicStructureProblem\n",
        "from qiskit_nature.transformers import FreezeCoreTransformer, ActiveSpaceTransformer\n",
        "from qiskit_nature.algorithms import GroundStateEigensolver\n",
        "from qiskit_nature.mappers.second_quantization import JordanWignerMapper\n",
        "from qiskit_nature.converters.second_quantization.qubit_converter import QubitConverter\n",
        "from qiskit_nature.circuit.library import UCCSD\n",
        "from qiskit.providers.aer.noise import NoiseModel\n",
        "from qiskit.providers.aer.noise.errors.standard_errors import depolarizing_error\n",
        "\n",
        "# define the molecule of interest\n",
        "molecule = \"Be .0 .0 .0; H .0 .0 1.6; H .0 1.6 0.\"\n",
        "\n",
        "# set up the PySCF driver\n",
        "driver = PySCFDriver(atom=molecule)\n",
        "qmolecule = driver.run()\n",
        "\n",
        "# freeze the core and reduce the active space\n",
        "freeze_core = True\n",
        "remove_orbitals = [3,4]\n",
        "if freeze_core:\n",
        "    transformer = FreezeCoreTransformer(remove_orbitals=remove_orbitals)\n",
        "else:\n",
        "    transformer = ActiveSpaceTransformer(num_electrons=2, num_molecular_orbitals=6, \n",
        "                                          remove_orbitals=remove_orbitals)\n",
        "problem = ElectronicStructureProblem(driver, transformer)\n",
        "second_q_ops = problem.second_q_ops()\n",
        "main_op = second_q_ops[0]\n",
        "\n",
        "# convert to qubit operator\n",
        "mapper = JordanWignerMapper()\n",
        "converter = QubitConverter(mapper=mapper, two_qubit_reduction=True)\n",
        "qubit_op = converter.convert(main_op)\n",
        "\n",
        "# define the ansatz\n",
        "ansatz = UCCSD(converter.num_qubits, converter.num_particles, converter.num_orbitals, initial_state=None)\n",
        "\n",
        "# define the backend and execute the circuit\n",
        "backend = Aer.get_backend(\"statevector_simulator\")\n",
        "quantum_instance = execute(ansatz, backend).result()\n",
        "\n",
        "# extract the circuit and use TwoLocal as a variational form to minimize the energy\n",
        "ansatz_circuit = ansatz.construct_circuit(np.zeros(ansatz.num_parameters))\n",
        "optimizer = optimizer = COBYLA(maxiter=1000)\n",
        "var_form = TwoLocal(rotation_blocks='ry', entanglement_blocks='cz', \n",
        "                    entanglement='full', reps=3, skip_final_rotation_layer=True)\n",
        "\n",
        "# define the VQE algorithm\n",
        "vqe = VQE(ansatz=ansatz_circuit, optimizer=optimizer, quantum_instance=backend, \n",
        "          callback=callback, initial_point=np.zeros(ansatz.num_parameters))\n",
        "\n",
        "# define the zero-noise extrapolation method\n",
        "p = [0.25, 0.5, 0.75, 1.0]\n",
        "vqe_result = {}\n",
        "for i in range(len(p)):\n",
        "    noise_model = NoiseModel.from_backend(backend)\n",
        "    for qi in noise_model.qubits:\n",
        "        noise_model.add_quantum_error(depolarizing_error(0.05, 1), [qi])\n",
        "    vqe_result[p[i]] = vqe.compute_minimum_eigenvalue(operator=qubit_op, aux_operators=[])\n",
        "\n",
        "e0 = vqe_result[1.0].eigenvalue.real\n",
        "zero_noise_extrapolation = (2 * vqe_result[p[0]].eigenvalue.real\n",
        "                            - 5\n"
      ],
      "metadata": {
        "id": "JFMx5XCrvEkh"
      },
      "execution_count": null,
      "outputs": []
    },
    {
      "cell_type": "code",
      "source": [
        "import numpy as np\n",
        "from qiskit import Aer\n",
        "from qiskit.aqua import QuantumInstance\n",
        "from qiskit.aqua.algorithms import VQE\n",
        "from qiskit.aqua.components.optimizers import L_BFGS_B\n",
        "from qiskit.aqua.components.variational_forms import UCCSD\n",
        "from qiskit.chemistry.drivers import PySCFDriver\n",
        "from qiskit.chemistry.core import Hamiltonian, TransformationType, QubitMappingType\n",
        "from qiskit.ignis.mitigation.measurement import (complete_meas_cal, CompleteMeasFitter)\n",
        "\n",
        "# Define the molecule\n",
        "molecule = 'Be .0 .0 .0; H .0 .0 1.6'\n",
        "charge = 0\n",
        "multiplicity = 1\n",
        "\n",
        "# Use PySCF to compute the molecular Hamiltonian in the active space\n",
        "driver = PySCFDriver(atom=molecule, charge=charge, spin_multiplicity=multiplicity, basis='sto3g')\n",
        "q_molecule = driver.run()\n",
        "\n",
        "# Use the Hamiltonian and a suitable qubit mapper to create a qubit operator\n",
        "hamiltonian = Hamiltonian(transformation=TransformationType.FULL, qubit_mapping=QubitMappingType.PARITY,\n",
        "                          two_qubit_reduction=True, freeze_core=True)\n",
        "qubit_op, _ = hamiltonian.run(q_molecule)\n",
        "\n",
        "# Choose the L-BFGS-B optimizer\n",
        "optimizer = L_BFGS_B(maxfun=6000, factr=10, iprint=100)\n",
        "\n",
        "# Choose the UCCSD ansatz for the variational form\n",
        "ansatz = UCCSD(qubit_op.num_qubits, depth=1, num_orbitals=q_molecule.num_orbitals, num_particles=q_molecule.num_alpha_electrons)\n",
        "\n",
        "# Choose the VQE algorithm to find the ground state\n",
        "algorithm = VQE(qubit_op, ansatz, optimizer)\n",
        "\n",
        "# Choose the backend to run the quantum circuit\n",
        "backend = Aer.get_backend('statevector_simulator')\n",
        "quantum_instance = QuantumInstance(backend=backend)\n",
        "\n",
        "# Run the VQE algorithm and get the result\n",
        "result = algorithm.run(quantum_instance)\n",
        "\n",
        "# Use the CompleteMeasFitter class to create the calibration matrix\n",
        "cal_circuits, state_labels = complete_meas_cal(qubit_list=[i for i in range(qubit_op.num_qubits)], qr=quantum_instance.circuit.qregs[0])\n",
        "cal_job = backend.run(cal_circuits, shots=8192)\n",
        "meas_fitter = CompleteMeasFitter(cal_job.result(), state_labels)\n",
        "\n",
        "# Apply the reference-state error mitigation\n",
        "mitigated_result = meas_fitter.filter.apply(result['measurement'])\n",
        "\n",
        "# Print the ground state energy and the error-mitigated energy\n",
        "print(f\"Ground state energy: {result['energy']:.6f} Hartree\")\n",
        "print(f\"Error-mitigated energy: {meas_fitter.estimate/mitigated_result['total_counts']:.6f} Hartree\")\n"
      ],
      "metadata": {
        "colab": {
          "base_uri": "https://localhost:8080/",
          "height": 373
        },
        "id": "y7MK2iH5vJq_",
        "outputId": "64ad6268-2b9e-4847-f196-78811bb14fca"
      },
      "execution_count": 22,
      "outputs": [
        {
          "output_type": "error",
          "ename": "ModuleNotFoundError",
          "evalue": "ignored",
          "traceback": [
            "\u001b[0;31m---------------------------------------------------------------------------\u001b[0m",
            "\u001b[0;31mModuleNotFoundError\u001b[0m                       Traceback (most recent call last)",
            "\u001b[0;32m<ipython-input-22-6e4063246dc8>\u001b[0m in \u001b[0;36m<module>\u001b[0;34m\u001b[0m\n\u001b[1;32m      1\u001b[0m \u001b[0;32mimport\u001b[0m \u001b[0mnumpy\u001b[0m \u001b[0;32mas\u001b[0m \u001b[0mnp\u001b[0m\u001b[0;34m\u001b[0m\u001b[0;34m\u001b[0m\u001b[0m\n\u001b[1;32m      2\u001b[0m \u001b[0;32mfrom\u001b[0m \u001b[0mqiskit\u001b[0m \u001b[0;32mimport\u001b[0m \u001b[0mAer\u001b[0m\u001b[0;34m\u001b[0m\u001b[0;34m\u001b[0m\u001b[0m\n\u001b[0;32m----> 3\u001b[0;31m \u001b[0;32mfrom\u001b[0m \u001b[0mqiskit\u001b[0m\u001b[0;34m.\u001b[0m\u001b[0maqua\u001b[0m \u001b[0;32mimport\u001b[0m \u001b[0mQuantumInstance\u001b[0m\u001b[0;34m\u001b[0m\u001b[0;34m\u001b[0m\u001b[0m\n\u001b[0m\u001b[1;32m      4\u001b[0m \u001b[0;32mfrom\u001b[0m \u001b[0mqiskit\u001b[0m\u001b[0;34m.\u001b[0m\u001b[0maqua\u001b[0m\u001b[0;34m.\u001b[0m\u001b[0malgorithms\u001b[0m \u001b[0;32mimport\u001b[0m \u001b[0mVQE\u001b[0m\u001b[0;34m\u001b[0m\u001b[0;34m\u001b[0m\u001b[0m\n\u001b[1;32m      5\u001b[0m \u001b[0;32mfrom\u001b[0m \u001b[0mqiskit\u001b[0m\u001b[0;34m.\u001b[0m\u001b[0maqua\u001b[0m\u001b[0;34m.\u001b[0m\u001b[0mcomponents\u001b[0m\u001b[0;34m.\u001b[0m\u001b[0moptimizers\u001b[0m \u001b[0;32mimport\u001b[0m \u001b[0mL_BFGS_B\u001b[0m\u001b[0;34m\u001b[0m\u001b[0;34m\u001b[0m\u001b[0m\n",
            "\u001b[0;31mModuleNotFoundError\u001b[0m: No module named 'qiskit.aqua'",
            "",
            "\u001b[0;31m---------------------------------------------------------------------------\u001b[0;32m\nNOTE: If your import is failing due to a missing package, you can\nmanually install dependencies using either !pip or !apt.\n\nTo view examples of installing some common dependencies, click the\n\"Open Examples\" button below.\n\u001b[0;31m---------------------------------------------------------------------------\u001b[0m\n"
          ],
          "errorDetails": {
            "actions": [
              {
                "action": "open_url",
                "actionText": "Open Examples",
                "url": "/notebooks/snippets/importing_libraries.ipynb"
              }
            ]
          }
        }
      ]
    },
    {
      "cell_type": "code",
      "source": [
        "# Extract ground state energy\n",
        "print('Ground State Energy:', opt_result.fun)\n",
        "\n",
        "# Extract optimized parameters\n",
        "opt_param = opt_result.x\n",
        "print('Optimized Parameters:', opt_param)\n"
      ],
      "metadata": {
        "id": "B3t4NO7uvRu4"
      },
      "execution_count": null,
      "outputs": []
    },
    {
      "cell_type": "code",
      "source": [
        "import numpy as np\n",
        "from qiskit import Aer\n",
        "from qiskit.algorithms.optimizers import COBYLA\n",
        "from qiskit.circuit.library import TwoLocal\n",
        "from qiskit.opflow import Z2Symmetries\n",
        "from qiskit.utils import QuantumInstance\n",
        "from qiskit_nature.algorithms import VQEUCCFactory\n",
        "from qiskit_nature.drivers import PySCFDriver\n",
        "from qiskit_nature.problems.second_quantization import ElectronicStructureProblem\n",
        "from qiskit_nature.transformers import FreezeCoreTransformer, ActiveSpaceTransformer\n",
        "from qiskit_nature.mappers.second_quantization import ParityMapper\n",
        "from qiskit_nature.converters.second_quantization import QubitConverter\n",
        "from qiskit_nature.algorithms import GroundStateEigensolver\n",
        "from qiskit_nature.results import EigenstateResult\n",
        "\n",
        "\n",
        "# Set up the PySCF driver to compute the initial state\n",
        "driver = PySCFDriver(atom=\"Be 0 0 0; H 0 0 1.6\", unit=\"angstrom\")\n",
        "molecule = driver.run()\n",
        "\n",
        "# Freeze the core electrons and choose active orbitals\n",
        "freeze_core = FreezeCoreTransformer()\n",
        "frozen_molecule = freeze_core.transform(molecule)\n",
        "num_particles = (frozen_molecule.num_alpha, frozen_molecule.num_beta)\n",
        "num_spin_orbitals = frozen_molecule.num_orbitals\n",
        "active_space = ActiveSpaceTransformer(num_electrons=num_particles, num_molecular_orbitals=8)\n",
        "problem = ElectronicStructureProblem(driver, [freeze_core, active_space])\n",
        "\n",
        "# Generate the qubit Hamiltonian\n",
        "mapper = ParityMapper()\n",
        "converter = QubitConverter(mapper=mapper, two_qubit_reduction=True)\n",
        "qubit_op = converter.convert(problem.second_q_ops())\n",
        "\n",
        "# Get the symmetries of the qubit Hamiltonian\n",
        "z2_symmetries = Z2Symmetries.find_Z2_symmetries(qubit_op)\n",
        "\n",
        "# Set up the VQE algorithm with UCCSD ansatz\n",
        "ansatz = TwoLocal(rotation_blocks=[\"h\", \"rx\", \"ry\"], entanglement_blocks=\"cz\", entanglement=\"linear\", reps=3)\n",
        "optimizer = COBYLA(maxiter=1000)\n",
        "vqe = VQEUCCFactory(quantum_instance=QuantumInstance(Aer.get_backend('statevector_simulator')),\n",
        "                    ansatz=ansatz,\n",
        "                    optimizer=optimizer,\n",
        "                    include_custom=True)\n",
        "\n",
        "# Set up the ground state eigensolver and run the algorithm\n",
        "gse = GroundStateEigensolver(converter, vqe)\n",
        "result = gse.solve(problem)\n",
        "\n",
        "# Apply reference state error mitigation\n",
        "ref_state = np.zeros(2 ** converter.num_qubits)\n",
        "ref_state[0] = 1.0\n",
        "qinstance = QuantumInstance(Aer.get_backend('qasm_simulator'), shots=8192)\n",
        "ref_mitigated_result = EigenstateResult()\n",
        "for res in result.raw_result.eigenstates:\n",
        "    ref_mitigated_result.add_state(ref_state_mitigation(res, qinstance))\n",
        "\n",
        "# Print the ground state energy and wavefunction\n",
        "print(f\"Ground state energy: {ref_mitigated_result.eigenenergies[0]}\")\n",
        "print(f\"Ground state wavefunction: {ref_mitigated_result.eigenstates[0]}\")\n"
      ],
      "metadata": {
        "id": "ZpLEY5DBvXD-"
      },
      "execution_count": null,
      "outputs": []
    },
    {
      "cell_type": "code",
      "source": [
        "# Define the energy operator\n",
        "h2_energy = Z2 ^ Z3 + 0.5 * (X0 * X1 + Y0 * Y1) + 0.5 * (X2 * X3 + Y2 * Y3) - 2.5\n",
        "\n",
        "# Compute the expectation value of the energy operator\n",
        "energy = np.real(aer.expectation(statevector, h2_energy))\n",
        "print('Corrected ground state energy:', energy)\n"
      ],
      "metadata": {
        "id": "n-mVu7D9vcia"
      },
      "execution_count": null,
      "outputs": []
    },
    {
      "cell_type": "code",
      "source": [
        "Corrected ground state energy: -14.367033046002116\n"
      ],
      "metadata": {
        "id": "PgtB0uVYvhV8"
      },
      "execution_count": null,
      "outputs": []
    }
  ]
}