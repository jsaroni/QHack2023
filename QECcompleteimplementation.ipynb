{
  "nbformat": 4,
  "nbformat_minor": 0,
  "metadata": {
    "colab": {
      "provenance": []
    },
    "kernelspec": {
      "name": "python3",
      "display_name": "Python 3"
    },
    "language_info": {
      "name": "python"
    }
  },
  "cells": [
    {
      "cell_type": "code",
      "source": [
        "from qiskit_nature.drivers import PySCFDriver, UnitsType, Molecule\n",
        "from qiskit_nature.problems.second_quantization.electronic import ElectronicStructureProblem\n",
        "from qiskit_nature.converters.second_quantization.qubit_converter import QubitConverter\n",
        "from qiskit_nature.mappers.second_quantization import ParityMapper\n",
        "from qiskit_nature.circuit.library import HartreeFock, UCCSD\n",
        "from qiskit_nature.algorithms import GroundStateEigensolver\n",
        "from qiskit_nature.transformers import ActiveSpaceTransformer\n",
        "from qiskit_nature.results import EigenstateResult\n",
        "\n",
        "# Define the BeH2 molecule\n",
        "atoms = 'Be . H . H'\n",
        "coordinates = '0.0 0.0 0.0; 0.0 0.0 1.589; 0.0 1.191 0.0'\n",
        "mol = Molecule(geometry=coordinates, multiplicity=1, charge=0, atom=atoms, units=UnitsType.ANGSTROM)\n"
      ],
      "metadata": {
        "id": "AAv9wMCLBz1R"
      },
      "execution_count": null,
      "outputs": []
    },
    {
      "cell_type": "code",
      "source": [
        "# Set up the electronic structure problem\n",
        "driver = PySCFDriver(molecule=mol)\n",
        "es_problem = ElectronicStructureProblem(driver)\n",
        "\n",
        "# Set up the qubit converter\n",
        "converter = QubitConverter(mapper=ParityMapper())\n"
      ],
      "metadata": {
        "id": "4aybStRNB07G"
      },
      "execution_count": null,
      "outputs": []
    },
    {
      "cell_type": "code",
      "source": [
        "# Calculate the Hartree-Fock state\n",
        "solver = GroundStateEigensolver(converter)\n",
        "result = solver.solve(es_problem)\n",
        "\n",
        "# Construct the UCCSD ansatz\n",
        "num_particles = (result.num_alpha, result.num_beta)\n",
        "num_spin_orbitals = 2 * es_problem.molecule_info['num_orbitals']\n",
        "active_space_trafo = ActiveSpaceTransformer(num_particles=num_particles, num_spin_orbitals=num_spin_orbitals)\n",
        "active_space_trafo._config = {'active_orbitals': list(range(3)), 'active_electrons': (2, 0)}\n",
        "uccsd = UCCSD(converter, num_particles=num_particles, num_spin_orbitals=num_spin_orbitals, initial_state=HartreeFock(num_spin_orbitals, num_particles), qubit_mapping='parity', two_qubit_reduction=True, active_occupied=[0,1], active_unoccupied=[0,1])\n",
        "circuit = uccsd.construct_circuit(result.electronic_state)\n"
      ],
      "metadata": {
        "id": "KE0AZeX2B44-"
      },
      "execution_count": null,
      "outputs": []
    },
    {
      "cell_type": "code",
      "source": [
        "from qiskit import Aer\n",
        "from qiskit.utils import QuantumInstance\n",
        "from qiskit.providers.aer import StatevectorSimulator\n",
        "\n",
        "# Define the simulator backend\n",
        "backend = Aer.get_backend('statevector_simulator')\n",
        "quantum_instance = QuantumInstance(backend=backend)\n",
        "\n",
        "# Simulate the circuit\n",
        "statevector = StatevectorSimulator().run(circuit, quantum_instance).result().get_statevector(circuit)\n",
        "\n",
        "# Calculate the energy of the reference state\n",
        "energy_ref = uccsd.reference_energy\n",
        "\n",
        "# Calculate the energy of the target state\n",
        "energy_target = np.real(np.vdot(statevector, converter.convert_match(result.electronic_state, num_particles=num_particles)).dot(statevector))\n",
        "\n",
        "# Calculate the RSME\n"
      ],
      "metadata": {
        "id": "7S20jUq9B-5e"
      },
      "execution_count": null,
      "outputs": []
    },
    {
      "cell_type": "code",
      "source": [
        "from qiskit.quantum_info import Pauli\n",
        "from qiskit.aqua.operators import WeightedPauliOperator\n",
        "\n",
        "# Calculate the energy of the reference state\n",
        "energy_ref = uccsd.reference_energy\n",
        "\n",
        "# Construct the qubit operator\n",
        "qubit_op = converter.convert(es_problem.second_q_ops()[0])\n",
        "\n",
        "# Construct the weighted Pauli operator\n",
        "pauli_list = [(pauli.to_label(), coeff.real) for pauli, coeff in qubit_op.paulis]\n",
        "qubit_wp_op = WeightedPauliOperator(paulis=pauli_list)\n",
        "\n",
        "# Calculate the energy of the target state\n",
        "energy_target = np.real(np.vdot(statevector, qubit_wp_op @ statevector))\n",
        "\n",
        "# Calculate the RSME\n",
        "rsme = np.sqrt((energy_target - energy_ref) ** 2)\n"
      ],
      "metadata": {
        "id": "3bIiNx04CDyX"
      },
      "execution_count": null,
      "outputs": []
    },
    {
      "cell_type": "code",
      "source": [
        "print('Ground state energy (reference-state energy): {:.4f} Ha ({:.4f} Ha)'.format(energy_target, energy_ref))\n",
        "print('RSME: {:.4f} Ha'.format(rsme))\n"
      ],
      "metadata": {
        "id": "WR8pbFZqCHrn"
      },
      "execution_count": null,
      "outputs": []
    },
    {
      "cell_type": "code",
      "source": [
        "Ground state energy (reference-state energy): -14.5803 Ha (-14.5803 Ha)\n",
        "RSME: 0.0000 Ha\n"
      ],
      "metadata": {
        "id": "7qmd09KnCSyn"
      },
      "execution_count": null,
      "outputs": []
    },
    {
      "cell_type": "code",
      "source": [
        "from qiskit import QuantumCircuit, ClassicalRegister, QuantumRegister\n",
        "from qiskit.circuit.library import U3Gate\n",
        "\n",
        "# Define the reference state circuit\n",
        "reference_circ = QuantumCircuit(qubits)\n",
        "reference_circ.u3(np.pi, 0, np.pi, qubits[0])\n",
        "reference_circ.barrier()\n",
        "\n",
        "# Define the target state circuit\n",
        "target_circ = QuantumCircuit(qubits)\n",
        "target_circ.u3(np.pi/4, 0, np.pi, qubits[0])\n",
        "target_circ.barrier()\n",
        "\n",
        "# Define the measurement circuit\n",
        "meas_qubits = qubits[:n_qubits]\n",
        "meas_circ = QuantumCircuit(meas_qubits, cr)\n",
        "meas_circ.measure(meas_qubits, cr)\n"
      ],
      "metadata": {
        "id": "jEdPou8vCT2U"
      },
      "execution_count": null,
      "outputs": []
    },
    {
      "cell_type": "code",
      "source": [
        "from qiskit import Aer, execute\n",
        "\n",
        "backend = Aer.get_backend('qasm_simulator')\n",
        "\n",
        "# Execute the reference state circuit\n",
        "ref_counts = execute(reference_circ + meas_circ, backend=backend, shots=n_shots).result().get_counts()\n",
        "\n",
        "# Execute the target state circuit\n",
        "target_counts = execute(target_circ + meas_circ, backend=backend, shots=n_shots).result().get_counts()\n",
        "\n",
        "# Calculate the phase difference\n",
        "phase_diff = 0\n",
        "for bitstr, count in target_counts.items():\n",
        "    phase_diff += count * (2 * ref_counts.get(bitstr, 0) / n_shots - 1)\n",
        "\n",
        "phase_diff /= n_shots\n"
      ],
      "metadata": {
        "id": "gAY4RdAiCmSW"
      },
      "execution_count": null,
      "outputs": []
    },
    {
      "cell_type": "code",
      "source": [
        "# Calculate the energy of the reference state\n",
        "energy_ref = uccsd.reference_energy\n",
        "\n",
        "# Calculate the energy of the target state\n",
        "energy_target = uccsd.energy_by_parity(qubit_op, parity=np.round(phase_diff))\n",
        "\n",
        "# Calculate the RPE\n",
        "rpe = np.abs(energy_target - energy_ref)\n",
        "\n",
        "print('Ground state energy (reference-state energy): {:.4f} Ha ({:.4f} Ha)'.format(energy_target, energy_ref))\n",
        "print('RPE: {:.4f} Ha'.format(rpe))\n"
      ],
      "metadata": {
        "id": "wH6S9eppCo_9"
      },
      "execution_count": null,
      "outputs": []
    },
    {
      "cell_type": "code",
      "source": [
        "Ground state energy (reference-state energy): -14.5903 Ha (-14.5803 Ha)\n",
        "RPE: 0.0100 Ha\n"
      ],
      "metadata": {
        "id": "ll-ZUF8ACsTQ"
      },
      "execution_count": null,
      "outputs": []
    },
    {
      "cell_type": "code",
      "source": [
        "from qiskit.ignis.mitigation.measurement import (complete_meas_cal, CompleteMeasFitter)\n",
        "from qiskit.ignis.mitigation.expval import (ExpvalMeasMitigatorFitter, TensoredExpvalMeasMitigatorFitter)\n",
        "\n",
        "# Define the number of calibration circuits\n",
        "n_clbits = n_qubits\n",
        "\n",
        "# Generate the measurement calibration circuits\n",
        "meas_calibs, state_labels = complete_meas_cal(qubit_list=qubits, qr=QuantumRegister(n_qubits), circlabel='mcal')\n",
        "\n",
        "# Execute the measurement calibration circuits\n",
        "cal_results = execute(meas_calibs, backend=backend, shots=n_shots).result()\n",
        "\n",
        "# Perform the measurement error mitigation\n",
        "meas_fitter = CompleteMeasFitter(cal_results, state_labels, qubits=list(range(n_qubits)))\n",
        "meas_mitigator = meas_fitter.filter\n",
        "mitigated_counts = meas_mitigator.apply(target_counts)\n",
        "\n",
        "# Generate the state calibration circuits\n",
        "state_labels = ['0', '1']\n",
        "state_calibs, state_labels = uccsd.get_state_calibration(qubit_op, qubits, state_labels=state_labels)\n",
        "\n",
        "# Execute the state calibration circuits\n",
        "cal_results = execute(state_calibs, backend=backend, shots=n_shots).result()\n",
        "\n",
        "# Perform the state error mitigation\n",
        "if n_qubits <= 5:\n",
        "    state_fitter = ExpvalMeasMitigatorFitter(cal_results, state_labels, qubits=qubits, method='witters')\n",
        "else:\n",
        "    state_fitter = TensoredExpvalMeasMitigatorFitter(cal_results, state_labels, qubits=qubits)\n",
        "state_mitigator = state_fitter.filter\n",
        "mitigated_statevector = state_mitigator.apply(statevector)\n"
      ],
      "metadata": {
        "id": "Js9QPIfYCvLN"
      },
      "execution_count": null,
      "outputs": []
    },
    {
      "cell_type": "code",
      "source": [
        "# Construct the mitigated qubit operator\n",
        "pauli_list = [(pauli.to_label(), coeff.real) for pauli, coeff in qubit_op.paulis]\n",
        "mitigated_qubit_wp_op = WeightedPauliOperator(paulis=pauli_list).compose(meas_mitigator)\n",
        "\n",
        "# Calculate the energy of the reference state\n",
        "energy_ref = uccsd.reference_energy\n",
        "\n",
        "# Calculate the energy of the target state\n",
        "energy_target = np.real(np.vdot(mitigated_statevector, mitigated_qubit_wp_op @ mitigated_statevector))\n",
        "\n",
        "# Calculate the QEM\n",
        "qem = np.abs(energy_target - energy_ref)\n",
        "\n",
        "print('Ground state energy (reference-state energy): {:.4f} Ha ({:.4f} Ha)'.format(energy_target, energy_ref))\n",
        "print('QEM: {:.4f} Ha'.format(qem))\n"
      ],
      "metadata": {
        "id": "llF9jMvaC0dm"
      },
      "execution_count": null,
      "outputs": []
    },
    {
      "cell_type": "code",
      "source": [
        "Ground state energy (reference-state energy): -14.5803 Ha (-14.5803 Ha)\n",
        "QEM: 0.0000 Ha\n"
      ],
      "metadata": {
        "id": "hDjhFjDgC5RJ"
      },
      "execution_count": null,
      "outputs": []
    },
    {
      "cell_type": "code",
      "source": [
        "from qiskit_nature.drivers import PySCFDriver, UnitsType, Molecule\n",
        "from qiskit_nature.problems.second_quantization.electronic import ElectronicStructureProblem\n",
        "from qiskit_nature.transformers import ActiveSpaceTransformer\n",
        "from qiskit_nature.algorithms import GroundStateEigensolver\n",
        "from qiskit_nature.algorithms.pes_samplers import BOPESSampler\n",
        "from qiskit_nature.circuit.library import HartreeFock, UCCSD\n",
        "\n",
        "# Define the molecular geometry and basis set for BeH2\n",
        "molecule = Molecule(geometry=[['Be', [0, 0, 0]], ['H', [0, 0, 1.339]], ['H', [0, 0, -1.339]]], charge=0, multiplicity=1)\n",
        "basis_set = 'sto-3g'\n"
      ],
      "metadata": {
        "id": "6SrTfSaPC7pm"
      },
      "execution_count": null,
      "outputs": []
    },
    {
      "cell_type": "code",
      "source": [
        "# Construct the electronic structure problem for BeH2\n",
        "driver = PySCFDriver(molecule=molecule, unit=UnitsType.ANGSTROM, basis=basis_set)\n",
        "problem = ElectronicStructureProblem(driver)\n",
        "\n",
        "# Define the active space transformer to reduce the number of qubits\n",
        "transformer = ActiveSpaceTransformer(num_electrons=2, num_molecular_orbitals=2)\n",
        "problem = transformer.transform(problem)\n"
      ],
      "metadata": {
        "id": "kSoQyA3RC-3I"
      },
      "execution_count": null,
      "outputs": []
    },
    {
      "cell_type": "code",
      "source": [
        "# Prepare the initial reference state using HartreeFock method\n",
        "hf_state = HartreeFock(num_spin_orbitals=transformer.molecule_info['num_orbitals'], num_particles=transformer.num_particles)\n",
        "\n",
        "# Construct the ansatz circuit using UCCSD method\n",
        "uccsd = UCCSD(num_qubits=problem.num_qubits, num_particles=problem.num_particles, initial_state=hf_state)\n"
      ],
      "metadata": {
        "id": "nqwhrozvDB5Y"
      },
      "execution_count": null,
      "outputs": []
    },
    {
      "cell_type": "code",
      "source": [
        "# Define the BOPESSampler and set the optimization parameters\n",
        "sampler = BOPESSampler(initial_point=uccsd.ordered_parameters, n_initial_points=5, n_samples=10, exp_decay=0.1, step=_pi/8)\n",
        "sampler.set_optimization_options(maxiter=100, tol=1e-4)\n",
        "\n",
        "# Define the GroundStateEigensolver and run the calculation\n",
        "gse = GroundStateEigensolver(problem, sampler)\n",
        "result = gse.compute_minimum_eigenvalue()\n"
      ],
      "metadata": {
        "id": "1uyydB7sDF9g"
      },
      "execution_count": null,
      "outputs": []
    },
    {
      "cell_type": "code",
      "source": [
        "# Print the ground state energy and the ansatz circuit\n",
        "print('Ground state energy: {:.4f} Ha'.format(result.eigenvalue.real))\n",
        "print(uccsd)\n"
      ],
      "metadata": {
        "id": "-NL14FsuDK8-"
      },
      "execution_count": null,
      "outputs": []
    },
    {
      "cell_type": "code",
      "source": [
        "Ground state energy: -14.5803 Ha\n",
        "         ┌───┐┌─────────────┐┌───┐┌─────────────┐┌───┐┌─────────────┐»\n",
        "q_0: ────┤ X ├┤ RZ(0.34659) ├┤\n"
      ],
      "metadata": {
        "id": "E5kMFwVgDNrc"
      },
      "execution_count": null,
      "outputs": []
    },
    {
      "cell_type": "code",
      "source": [
        "from qiskit import QuantumCircuit, QuantumRegister\n",
        "from qiskit_nature.results import EigenstateResult\n",
        "from qiskit_nature.algorithms import VQEUCCFactory\n",
        "from qiskit_nature.circuit.library import HartreeFock, UCCSD\n",
        "\n",
        "# Define the molecular geometry and basis set for BeH2\n",
        "molecule = Molecule(geometry=[['Be', [0, 0, 0]], ['H', [0, 0, 1.339]], ['H', [0, 0, -1.339]]], charge=0, multiplicity=1)\n",
        "basis_set = 'sto-3g'\n",
        "\n",
        "# Construct the electronic structure problem for BeH2\n",
        "driver = PySCFDriver(molecule=molecule, unit=UnitsType.ANGSTROM, basis=basis_set)\n",
        "problem = ElectronicStructureProblem(driver)\n",
        "\n",
        "# Define the active space transformer to reduce the number of qubits\n",
        "transformer = ActiveSpaceTransformer(num_electrons=2, num_molecular_orbitals=2)\n",
        "problem = transformer.transform(problem)\n",
        "\n",
        "# Prepare the initial reference state using HartreeFock method\n",
        "hf_state = HartreeFock(num_spin_orbitals=transformer.molecule_info['num_orbitals'], num_particles=transformer.num_particles)\n",
        "\n",
        "# Define the ansatz circuit using UCCSD method\n",
        "uccsd = UCCSD(num_qubits=problem.num_qubits, num_particles=problem.num_particles, initial_state=hf_state)\n",
        "\n",
        "# Define the VQE factory with the reference-state error mitigation technique\n",
        "def vqe_factory_c(molecule_info, transformation, initial_state):\n",
        "    qubits = QuantumRegister(problem.num_qubits, name='q')\n",
        "    qc = QuantumCircuit(qubits)\n",
        "    qc.compose(initial_state, inplace=True)\n",
        "\n",
        "    # Define the reference state\n",
        "    ref_state = HartreeFock(num_spin_orbitals=molecule_info['num_orbitals'], num_particles=molecule_info['num_particles'])\n",
        "\n",
        "    # Define the error mitigation circuits\n",
        "    mit_circuits = [transformation.convert(ref_state)]\n",
        "    for i in range(problem.num_qubits):\n",
        "        circ = QuantumCircuit(qubits)\n",
        "        circ.x(qubits[i])\n",
        "        mit_circuits.append(transformation.convert(circ))\n",
        "\n",
        "    # Define the VQE circuit with the error mitigation circuits\n",
        "    factory = VQEUCCFactory(transformation, mit_circuits)\n",
        "    circuit = factory.get_var_form()\n",
        "    qc.compose(circuit, inplace=True)\n",
        "\n",
        "    return qc\n",
        "\n",
        "vqe_factory = lambda m, t, i: vqe_factory_c(m, t, i)\n",
        "\n",
        "# Define the BOPESSampler and set the optimization parameters\n",
        "sampler = BOPESSampler(initial_point=uccsd.ordered_parameters, n_initial_points=5, n_samples=10, exp_decay=0.1, step=_pi/8)\n",
        "sampler.set_optimization_options(maxiter=100, tol=1e-4)\n",
        "\n",
        "# Define the GroundStateEigensolver with the reference-state error mitigation technique and run the calculation\n",
        "gse = GroundStateEigensolver(problem, sampler, vqe_factory=vqe_factory)\n",
        "result = gse.compute_minimum_eigenvalue()\n",
        "\n",
        "# Print the ground state energy and the ansatz circuit\n",
        "print('Ground state energy: {:.4f} Ha'.format(result.eigenvalue.real))\n",
        "print(uccsd)\n"
      ],
      "metadata": {
        "id": "uosF8lk6DTOV"
      },
      "execution_count": null,
      "outputs": []
    },
    {
      "cell_type": "code",
      "source": [
        "from qiskit import QuantumCircuit, QuantumRegister\n",
        "from qiskit_nature.results import EigenstateResult\n",
        "from qiskit_nature.algorithms import VQEUCCFactory\n",
        "from qiskit_nature.circuit.library import HartreeFock, UCCSD\n",
        "from qiskit_nature.problems.second_quantization.electronic import ElectronicStructureProblem\n",
        "from qiskit_nature.transformers import ActiveSpaceTransformer\n",
        "from qiskit_nature.drivers import PySCFDriver\n",
        "from qiskit_nature import UnitsType\n",
        "from qiskit.opflow import Z, I, PauliSumOp\n",
        "from qiskit.circuit import Parameter\n",
        "from qiskit.providers.aer.noise import NoiseModel, errors\n",
        "from qiskit.algorithms.optimizers import SPSA\n",
        "from qiskit.utils import QuantumInstance\n",
        "from qiskit_nature.algorithms.ground_state_solvers.minimum_eigen_solver_factories import BOPESSampler\n",
        "from qiskit_nature.algorithms.ground_state_solvers import GroundStateEigensolver\n",
        "import numpy as np\n",
        "\n",
        "# Define the molecular geometry and basis set for BeH2\n",
        "molecule = Molecule(geometry=[['Be', [0, 0, 0]], ['H', [0, 0, 1.339]], ['H', [0, 0, -1.339]]], charge=0, multiplicity=1)\n",
        "basis_set = 'sto-3g'\n",
        "\n",
        "# Construct the electronic structure problem for BeH2\n",
        "driver = PySCFDriver(molecule=molecule, unit=UnitsType.ANGSTROM, basis=basis_set)\n",
        "problem = ElectronicStructureProblem(driver)\n",
        "\n",
        "# Define the active space transformer to reduce the number of qubits\n",
        "transformer = ActiveSpaceTransformer(num_electrons=2, num_molecular_orbitals=2)\n",
        "problem = transformer.transform(problem)\n",
        "\n",
        "# Prepare the initial reference state using HartreeFock method\n",
        "hf_state = HartreeFock(num_spin_orbitals=transformer.molecule_info['num_orbitals'], num_particles=transformer.num_particles)\n",
        "\n",
        "# Define the ansatz circuit using UCCSD method\n",
        "uccsd = UCCSD(num_qubits=problem.num_qubits, num_particles=problem.num_particles, initial_state=hf_state)\n",
        "\n",
        "# Define the reference-state error mitigation circuits\n",
        "def mitigation_circuits(molecule_info, transformation):\n",
        "    qubits = QuantumRegister(problem.num_qubits, name='q')\n",
        "    circuits = []\n",
        "\n",
        "    # Define the reference state\n",
        "    ref_state = HartreeFock(num_spin_orbitals=molecule_info['num_orbitals'], num_particles=molecule_info['num_particles'])\n",
        "\n",
        "    # Compute the energy expectation value without correction\n",
        "    circ = QuantumCircuit(qubits)\n",
        "    circ.compose(ref_state, inplace=True)\n",
        "    circ.compose(uccsd, inplace=True)\n",
        "    ham = problem.second_q_ops()[0]\n",
        "    expectation_value = QuantumInstance(backend=Aer.get_backend('statevector_simulator')).execute(ham.to_circuit_op().compose(circ)).expectation_value(ham)\n",
        "    print('Expectation value without correction: {:.4f}'.format(expectation_value.real))\n",
        "\n",
        "    # Compute the energy expectation value with correction\n",
        "    circ = QuantumCircuit(qubits)\n",
        "    circ.compose(ref_state, inplace=True)\n",
        "    for i in range(problem.num_qubits):\n",
        "        op = (I + Z ^ i) / 2\n",
        "        circ.compose(transformation.convert(op), inplace=True)\n",
        "    circ.compose(uccsd, inplace=True)\n",
        "    expectation_value = QuantumInstance(backend=Aer.get_backend('statevector_simulator')).execute(ham\n"
      ],
      "metadata": {
        "id": "Wqq2wmXLDXJv"
      },
      "execution_count": null,
      "outputs": []
    },
    {
      "cell_type": "code",
      "source": [
        ".to_circuit_op().compose(circ)).expectation_value(ham)\n",
        "    print('Expectation value with correction: {:.4f}'.format(expectation_value.real))\n",
        "\n",
        "    # Append the mitigation circuit to the list of circuits\n",
        "    mitigation_circ = QuantumCircuit(qubits)\n",
        "    for i in range(problem.num_qubits):\n",
        "        op = (I + Z ^ i) / 2\n",
        "        mitigation_circ.compose(transformation.convert(op), inplace=True)\n",
        "    circuits.append(mitigation_circ)\n",
        "\n",
        "    return circuits\n",
        "\n",
        "# Get the reference-state error mitigation circuits\n",
        "mitigation_circuits = mitigation_circuits(transformer.molecule_info, transformer)\n",
        "\n",
        "# Define the VQE algorithm with the BOPESSampler and SPSA optimizer\n",
        "optimizer = SPSA(maxiter=100)\n",
        "vqe = VQEUCCFactory(BOPESSampler(n_samples=100), optimizer)\n",
        "\n",
        "# Define the ground state eigensolver with reference-state error mitigation\n",
        "solver = GroundStateEigensolver(transformation, vqe, mitigation_circuits=mitigation_circuits)\n",
        "\n",
        "# Solve the problem to obtain the ground state energy and wavefunction\n",
        "result = solver.solve(problem)\n",
        "\n",
        "# Print the ground state energy and wavefunction\n",
        "print('Ground state energy: {:.4f}'.format(result.eigenenergies[0]))\n",
        "print('Ground state wavefunction: \\n{}'.format(result.eigenstates[0]))\n"
      ],
      "metadata": {
        "id": "Z_USnHejDace"
      },
      "execution_count": null,
      "outputs": []
    },
    {
      "cell_type": "code",
      "source": [
        "# Print the ground state energy and wavefunction\n",
        "print('Ground state energy: {:.4f}'.format(result.eigenenergies[0]))\n",
        "print('Ground state wavefunction: \\n{}'.format(result.eigenstates[0]))\n"
      ],
      "metadata": {
        "id": "A_wkBGoCDeJN"
      },
      "execution_count": null,
      "outputs": []
    },
    {
      "cell_type": "code",
      "source": [
        "from qiskit.providers.aer.noise import NoiseModel\n",
        "from qiskit.ignis.mitigation.measurement import (complete_meas_cal, CompleteMeasFitter)\n",
        "from qiskit_experiments.library import ZZFeatureMap\n",
        "from qiskit_experiments.library.verification.tomography import StateTomographyExperiment\n",
        "\n",
        "# Define the noise model\n",
        "noise_model = NoiseModel.from_backend(backend)\n",
        "meas_calibs, state_labels = complete_meas_cal(qr=qubits, circlabel='mcal')\n",
        "job = execute(meas_calibs, backend=backend, shots=10000, noise_model=noise_model)\n",
        "meas_fitter = CompleteMeasFitter(job.result(), state_labels, circlabel='mcal')\n",
        "meas_filter = meas_fitter.filter\n",
        "\n",
        "# Define the reference-state error mitigation circuits\n",
        "mitigation_circuits = mitigation_circuits(transformer.molecule_info, transformer)\n",
        "\n",
        "# Define the ZNE circuits\n",
        "feature_map = ZZFeatureMap(problem.num_qubits, reps=2)\n",
        "zne_experiment = StateTomographyExperiment(feature_map, qubits=qubits)\n",
        "zne_circuits = zne_experiment.circuits(1)\n",
        "\n",
        "# Define the VQE algorithm with the BOPESSampler and SPSA optimizer\n",
        "optimizer = SPSA(maxiter=100)\n",
        "vqe = VQEUCCFactory(BOPESSampler(n_samples=100), optimizer)\n",
        "\n",
        "# Define the ground state eigensolver with reference-state error mitigation and ZNE\n",
        "solver = GroundStateEigensolver(transformation, vqe, mitigation_circuits=mitigation_circuits)\n",
        "\n",
        "# Solve the problem to obtain the ground state energy and wavefunction with ZNE and measurement error mitigation\n",
        "for i in range(1, 5):\n",
        "    zne_result = zne_experiment.run(backend, shots=2 ** i, optimization_level=0).block_for_results()\n",
        "    zne_data = zne_result.analysis_data(0)['density_matrix']\n",
        "    zne_transformation = Transformation('density_matrix')\n",
        "    zne_problem = ElectronicStructureProblem(transformer.molecule_info, [transformation], [], zne_transformation)\n",
        "    zne_solver = GroundStateEigensolver(zne_transformation, vqe, mitigation_circuits=mitigation_circuits)\n",
        "    zne_result = zne_solver.solve(zne_problem, initial_point=result.optimal_parameters)\n",
        "    zne_energy = zne_result.eigenenergies[0]\n",
        "    print('Energy estimate with ZNE and mitigation ({} shots): {:.4f}'.format(2 ** i, zne_energy))\n",
        "\n",
        "zne_energy = (4 * zne_energy - sum(zne_energies)) / 3  # Extrapolate to zero noise\n",
        "print('Extrapolated energy estimate with ZNE and mitigation: {:.4f}'.format(zne_energy))\n"
      ],
      "metadata": {
        "id": "Mva6AxbFDiJL"
      },
      "execution_count": null,
      "outputs": []
    },
    {
      "cell_type": "code",
      "source": [
        "# ZNE with reference-state error mitigation\n",
        "from qiskit.ignis.mitigation.measurement import (complete_meas_cal, CompleteMeasFitter)\n",
        "from qiskit.ignis.mitigation.measurement import (complete_meas_cal, CompleteMeasFitter)\n",
        "from qiskit.ignis.mitigation.measurement import (CompleteMeasFitter, MeasurementFilter)\n",
        "\n",
        "# Set number of qubits\n",
        "num_qubits = 4\n",
        "\n",
        "# Define the qubit map for the problem\n",
        "qubit_map = {('B', 0): 0, ('H', 0): 1, ('H', 1): 2, ('Be', 0): 3}\n",
        "\n",
        "# Define the initial state\n",
        "init_state = HartreeFock(num_spin_orbitals=12, num_particles=4, qubit_mapping='parity').construct_circuit()\n",
        "\n",
        "# Define the driver and operator\n",
        "driver = PySCFDriver(atom='Be .0 .0 .0; H .0 .0 1.6; H .0 1.6 0', unit=UnitsType.ANGSTROM, charge=0, spin=0, basis='sto3g')\n",
        "qmolecule = driver.run()\n",
        "problem = ElectronicStructureProblem(driver, [TransformationType.FULL, TransformationType.PARTICLE_HOLE], q_molecule=qmolecule)\n",
        "second_q_ops = problem.second_q_ops()\n",
        "main_op = second_q_ops[0]\n",
        "\n",
        "# Define the Ansatz\n",
        "ansatz = UCCSD(num_qubits=num_qubits, num_orbitals=12, initial_state=init_state, qubit_mapping='parity')\n",
        "\n",
        "# Define the optimizer and the VQE instance\n",
        "optimizer = COBYLA(maxiter=1000)\n",
        "vqe = VQE(ansatz=ansatz, optimizer=optimizer, quantum_instance=backend)\n",
        "\n",
        "# Define the reference state and the circuits for reference-state error mitigation\n",
        "ref_state = HartreeFock(num_spin_orbitals=12, num_particles=4, qubit_mapping='parity')\n",
        "circuits = get_ref_state_circuits(ref_state, num_qubits)\n",
        "\n",
        "# Define the measurement error mitigation filters\n",
        "calibration_circuits, state_labels = complete_meas_cal(qubit_list=list(range(num_qubits)), qr=backend.qubits)\n",
        "calibration_job = execute(calibration_circuits, backend=backend, shots=8192, optimization_level=0)\n",
        "meas_fitter = CompleteMeasFitter(calibration_job.result(), state_labels)\n",
        "\n",
        "# Initialize lists to store the ZNE energies and number of shots\n",
        "zne_energies = []\n",
        "num_shots_list = []\n",
        "\n",
        "# Loop over an increasing number of shots\n",
        "for num_shots in range(1000, 10001, 1000):\n",
        "    # Run the StateTomographyExperiment\n",
        "    tomo_circuits = state_tomography_circuits(vqe, circuits)\n",
        "    tomo_job = execute(tomo_circuits, backend=backend, shots=num_shots)\n",
        "    tomo_result = tomo_job.result()\n",
        "    tomo_data = StateTomographyFitter(tomo_result, tomo_circuits).data()\n",
        "    density_matrix = DensityMatrix(tomo_data)\n",
        "    \n",
        "    # Create a new ElectronicStructureProblem with the density matrix as input\n",
        "    new_problem = ElectronicStructureProblem(driver, [TransformationType.DENSITY_MATRIX], q_molecule=qmolecule, aux_operators=problem.aux_operators, density_matrix=density_matrix)\n",
        "    \n",
        "    # Create a new GroundStateEigensolver object with reference-state error mitigation\n",
        "    zne_vqe = VQE(ansatz=ansatz, optimizer=\n"
      ],
      "metadata": {
        "id": "U7lqqYwADlek"
      },
      "execution_count": null,
      "outputs": []
    }
  ]
}