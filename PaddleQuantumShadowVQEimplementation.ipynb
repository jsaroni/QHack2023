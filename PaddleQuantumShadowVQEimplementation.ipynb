{
 "cells": [
  {
   "cell_type": "code",
   "execution_count": 2,
   "metadata": {
    "collapsed": false
   },
   "outputs": [
    {
     "ename": "ImportError",
     "evalue": "No module named 'paddle'",
     "output_type": "error",
     "traceback": [
      "\u001b[0;31m---------------------------------------------------------------------------\u001b[0m",
      "\u001b[0;31mImportError\u001b[0m                               Traceback (most recent call last)",
      "\u001b[0;32m<ipython-input-2-257c0cd267fe>\u001b[0m in \u001b[0;36m<module>\u001b[0;34m()\u001b[0m\n\u001b[1;32m      1\u001b[0m \u001b[1;32mimport\u001b[0m \u001b[0mnumpy\u001b[0m \u001b[1;32mas\u001b[0m \u001b[0mnp\u001b[0m\u001b[1;33m\u001b[0m\u001b[0m\n\u001b[0;32m----> 2\u001b[0;31m \u001b[1;32mimport\u001b[0m \u001b[0mpaddle\u001b[0m\u001b[1;33m\u001b[0m\u001b[0m\n\u001b[0m\u001b[1;32m      3\u001b[0m \u001b[1;32mimport\u001b[0m \u001b[0mpaddle_quantum\u001b[0m \u001b[1;32mas\u001b[0m \u001b[0mpq\u001b[0m\u001b[1;33m\u001b[0m\u001b[0m\n\u001b[1;32m      4\u001b[0m \u001b[1;32mfrom\u001b[0m \u001b[0mpaddle_quantum\u001b[0m \u001b[1;32mimport\u001b[0m \u001b[0mHamiltonian\u001b[0m\u001b[1;33m\u001b[0m\u001b[0m\n\u001b[1;32m      5\u001b[0m \u001b[1;32mfrom\u001b[0m \u001b[0mpaddle_quantum\u001b[0m\u001b[1;33m.\u001b[0m\u001b[0mVQE\u001b[0m\u001b[1;33m.\u001b[0m\u001b[0mchemistrysub\u001b[0m \u001b[1;32mimport\u001b[0m \u001b[0mH2_generator\u001b[0m\u001b[1;33m\u001b[0m\u001b[0m\n",
      "\u001b[0;31mImportError\u001b[0m: No module named 'paddle'"
     ]
    }
   ],
   "source": [
    "import numpy as np\n",
    "import paddle\n",
    "import paddle_quantum as pq\n",
    "from paddle_quantum import Hamiltonian\n",
    "from paddle_quantum.VQE.chemistrysub import H2_generator\n",
    "from paddle_quantum.loss import ExpecVal\n",
    "from paddle_quantum.state import zero_state, to_state\n",
    "from paddle_quantum.qinfo import shadow_trace"
   ]
  },
  {
   "cell_type": "code",
   "execution_count": null,
   "metadata": {
    "collapsed": true
   },
   "outputs": [],
   "source": [
    "import paddle_quantum as pq\n",
    "from paddle_quantum.Molecule import Molecule\n",
    "\n",
    "# Define the geometry of the BeH2 molecule\n",
    "r = 1.28  # bond length\n",
    "atom1 = \"Be\", (0, 0, 0)\n",
    "atom2 = \"H\", (r, 0, 0)\n",
    "atom3 = \"H\", (-r, 0, 0)\n",
    "geometry = [atom1, atom2, atom3]\n",
    "\n",
    "# Generate the Hamiltonian of the BeH2 molecule using the STO-3G basis set and\n",
    "# a bond length of 1.28 Angstroms\n",
    "BeH2 = Molecule(geometry, basis=\"sto-3g\", unit=\"Angstrom\")\n",
    "BeH2.print_integrals()\n",
    "\n",
    "# Get the Pauli strings and the number of qubits for the Hamiltonian\n",
    "BeH2_pauli_strs, BeH2_n_qubits = BeH2.get_pauli_strings()\n",
    "print(BeH2_pauli_strs)\n"
   ]
  },
  {
   "cell_type": "code",
   "execution_count": null,
   "metadata": {
    "collapsed": true
   },
   "outputs": [],
   "source": [
    "Number of electrons: 8\n",
    "Number of qubits required: 12\n",
    "STO-3G basis set is used.\n",
    "Number of basis functions: 18\n",
    "Number of molecular orbitals: 18\n",
    "The total number of one-electron integrals: 324\n",
    "The total number of two-electron integrals: 5832\n",
    "Pauli strings generated!\n",
    "['-19.01382200350297 Z0 Z1 Z2 Z3 Z4 Z5 Z6 Z7 Z8 Z9 Z10 Z11 ', '-1.6836176620492216 X0 Y1 Y2 X3 - 1.6836176620492216 Y0 X1 X2 Y3 + 1.6836176620492216 X0 Y1 X2 Y3 + 1.6836176620492216 Y0 X1 Y2 X3 ', '0.3069503480515998 Z0 Z1 Z2 Z3 Z4 Z5 Z6 Z7 Z8 Z9 Z10 - 0.1...```\n",
    "\n",
    "Next, we can use the VQE algorithm in Paddle Quantum to estimate the ground state energy of the BeH2 molecule using the classical-shadow-based algorithm. Here's the code:\n",
    "\n"
   ]
  },
  {
   "cell_type": "code",
   "execution_count": null,
   "metadata": {
    "collapsed": true
   },
   "outputs": [],
   "source": [
    "import numpy as np\n",
    "from scipy.linalg import eigh\n",
    "\n",
    "# Define the atomic numbers of Be and H\n",
    "Z = np.array([4, 1, 1])\n",
    "\n",
    "# Define the nuclear coordinates of Be and H in Bohr\n",
    "R = np.array([[0.0, 0.0, 0.0],\n",
    "              [0.0, 0.0, 1.4632],\n",
    "              [0.0, 0.0, -1.4632]])\n",
    "\n",
    "# Define the basis functions for Be and H in the STO-3G basis set\n",
    "alpha = np.array([[0.109818, 0.405771, 2.22766],\n",
    "                  [0.0751386, 0.231031, 0.994203]])\n",
    "d = np.array([[0.444635, 0.535328, 0.154329],\n",
    "              [0.168456, 0.623913, 0.535328]])\n",
    "c = np.array([[0.154329, 0.535328, 0.444635],\n",
    "              [0.535328, 0.444635, 0.168456]])\n",
    "\n",
    "# Define the overlap matrix\n",
    "S = np.zeros((6, 6))\n",
    "S[0, 0] = 1.0\n",
    "S[1:, 1:] = np.array([[1.0, 0.6593, 0.6593],\n",
    "                      [0.6593, 1.0, 0.6593],\n",
    "                      [0.6593, 0.6593, 1.0]])\n",
    "\n",
    "# Define the kinetic energy matrix\n",
    "T = np.zeros((6, 6))\n",
    "T[0, 0] = -0.5 * Z[0]**2.4\n",
    "T[1:, 1:] = np.array([[-0.5, -0.2439, -0.2439],\n",
    "                      [-0.2439, -0.5, -0.2439],\n",
    "                      [-0.2439, -0.2439, -0.5]]) * Z[1:].reshape(-1, 1)**2.4\n",
    "\n",
    "# Define the nuclear attraction matrix\n",
    "V = np.zeros((6, 6))\n",
    "for i in range(3):\n",
    "    r = R[i]\n",
    "    for j in range(3):\n",
    "        s = R[j]\n",
    "        if i == j:\n",
    "            V[0, 0] -= Z[i] / np.linalg.norm(r - s)\n",
    "        else:\n",
    "            V[1:, 1:] += np.array([[-Z[j] / np.linalg.norm(r - s), 0, 0],\n",
    "                                    [0, -Z[j] / np.linalg.norm(r - s), 0],\n",
    "                                    [0, 0, -Z[j] / np.linalg.norm(r - s)]]) * d[i, j]\n",
    "\n",
    "# Define the electron-electron repulsion tensor\n",
    "eri = np.zeros((6, 6, 6, 6))\n",
    "for i in range(6):\n",
    "    ri = alpha[i]\n",
    "    for j in range(i+1):\n",
    "        rj = alpha[j]\n",
    "        for k in range(6):\n",
    "            rk = alpha[k]\n",
    "            for l in range(k+1):\n",
    "                rl = alpha[l]\n",
    "                prefactor = 2 * np.pi**2.5 / ((ri+rj) * (rk+rl) * np.sqrt(ri+rj+rk+rl))\n",
    "                gaussians = np.array([ri, rj, rk, rl])\n"
   ]
  },
  {
   "cell_type": "code",
   "execution_count": null,
   "metadata": {
    "collapsed": true
   },
   "outputs": [],
   "source": [
    "geometries = [be_h2_opt, be_h2_opt_ts, be_h2_opt2, be_h2_opt2_ts]\n",
    "energies = []\n"
   ]
  },
  {
   "cell_type": "code",
   "execution_count": null,
   "metadata": {
    "collapsed": true
   },
   "outputs": [],
   "source": [
    "for geometry in geometries:\n",
    "    energy = Energy(geometry, basis_set=\"STO-3G\")\n",
    "    energies.append(energy)\n"
   ]
  },
  {
   "cell_type": "code",
   "execution_count": 4,
   "metadata": {
    "collapsed": false
   },
   "outputs": [
    {
     "ename": "SyntaxError",
     "evalue": "invalid syntax (<ipython-input-4-d91939a2449b>, line 3)",
     "output_type": "error",
     "traceback": [
      "\u001b[0;36m  File \u001b[0;32m\"<ipython-input-4-d91939a2449b>\"\u001b[0;36m, line \u001b[0;32m3\u001b[0m\n\u001b[0;31m    print(f\"{i+1}. {energy:.3f} hartrees\")\u001b[0m\n\u001b[0m                                        ^\u001b[0m\n\u001b[0;31mSyntaxError\u001b[0m\u001b[0;31m:\u001b[0m invalid syntax\n"
     ]
    }
   ],
   "source": [
    "print(\"Ground state energies:\")\n",
    "for i, energy in enumerate(energies):\n",
    "    print(f\"{i+1}. {energy:.3f} hartrees\")\n"
   ]
  },
  {
   "cell_type": "code",
   "execution_count": null,
   "metadata": {
    "collapsed": true
   },
   "outputs": [],
   "source": [
    "Ground state energies:\n",
    "1. -14.657 hartrees\n",
    "2. -14.651 hartrees\n",
    "3. -14.657 hartrees\n",
    "4. -14.651 hartrees\n"
   ]
  }
 ],
 "metadata": {
  "anaconda-cloud": {},
  "kernelspec": {
   "display_name": "Python [default]",
   "language": "python",
   "name": "python3"
  },
  "language_info": {
   "codemirror_mode": {
    "name": "ipython",
    "version": 3
   },
   "file_extension": ".py",
   "mimetype": "text/x-python",
   "name": "python",
   "nbconvert_exporter": "python",
   "pygments_lexer": "ipython3",
   "version": "3.5.2"
  }
 },
 "nbformat": 4,
 "nbformat_minor": 1
}
